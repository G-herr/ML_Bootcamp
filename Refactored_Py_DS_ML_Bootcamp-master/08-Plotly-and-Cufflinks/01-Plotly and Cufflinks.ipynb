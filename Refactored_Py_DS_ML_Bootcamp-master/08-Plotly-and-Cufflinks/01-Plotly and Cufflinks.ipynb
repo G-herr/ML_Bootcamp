{
 "cells": [
  {
   "cell_type": "markdown",
   "metadata": {},
   "source": [
    "___\n",
    "\n",
    "<a href='http://www.pieriandata.com'> <img src='../Pierian_Data_Logo.png' /></a>\n",
    "___\n",
    "# Plotly and Cufflinks"
   ]
  },
  {
   "cell_type": "markdown",
   "metadata": {},
   "source": [
    "Plotly is a library that allows you to create interactive plots that you can use in dashboards or websites (you can save them as html files or static images).\n",
    "\n",
    "## Installation\n",
    "\n",
    "In order for this all to work, you'll need to install plotly and cufflinks to call plots directly off of a pandas dataframe. These libraries are not currently available through **conda** but are available through **pip**. Install the libraries at your command line/terminal using:\n",
    "\n",
    "    pip install plotly\n",
    "    pip install cufflinks\n",
    "\n",
    "** NOTE: Make sure you only have one installation of Python on your computer when you do this, otherwise the installation may not work. **\n",
    "\n",
    "## Imports and Set-up"
   ]
  },
  {
   "cell_type": "code",
   "execution_count": 1,
   "metadata": {},
   "outputs": [],
   "source": [
    "import pandas as pd\n",
    "import numpy as np\n",
    "%matplotlib inline"
   ]
  },
  {
   "cell_type": "code",
   "execution_count": 2,
   "metadata": {},
   "outputs": [
    {
     "name": "stdout",
     "output_type": "stream",
     "text": [
      "5.9.0\n"
     ]
    }
   ],
   "source": [
    "from plotly import __version__\n",
    "from plotly.offline import download_plotlyjs, init_notebook_mode, plot, iplot\n",
    "import chart_studio.plotly as py\n",
    "\n",
    "print(__version__) # requires version >= 1.9.0"
   ]
  },
  {
   "cell_type": "code",
   "execution_count": 3,
   "metadata": {},
   "outputs": [],
   "source": [
    "import cufflinks as cf"
   ]
  },
  {
   "cell_type": "code",
   "execution_count": 4,
   "metadata": {},
   "outputs": [
    {
     "data": {
      "text/html": [
       "        <script type=\"text/javascript\">\n",
       "        window.PlotlyConfig = {MathJaxConfig: 'local'};\n",
       "        if (window.MathJax && window.MathJax.Hub && window.MathJax.Hub.Config) {window.MathJax.Hub.Config({SVG: {font: \"STIX-Web\"}});}\n",
       "        if (typeof require !== 'undefined') {\n",
       "        require.undef(\"plotly\");\n",
       "        requirejs.config({\n",
       "            paths: {\n",
       "                'plotly': ['https://cdn.plot.ly/plotly-2.12.1.min']\n",
       "            }\n",
       "        });\n",
       "        require(['plotly'], function(Plotly) {\n",
       "            window._Plotly = Plotly;\n",
       "        });\n",
       "        }\n",
       "        </script>\n",
       "        "
      ]
     },
     "metadata": {},
     "output_type": "display_data"
    }
   ],
   "source": [
    "# For Notebooks\n",
    "init_notebook_mode(connected=True)"
   ]
  },
  {
   "cell_type": "code",
   "execution_count": 5,
   "metadata": {},
   "outputs": [
    {
     "data": {
      "text/html": [
       "        <script type=\"text/javascript\">\n",
       "        window.PlotlyConfig = {MathJaxConfig: 'local'};\n",
       "        if (window.MathJax && window.MathJax.Hub && window.MathJax.Hub.Config) {window.MathJax.Hub.Config({SVG: {font: \"STIX-Web\"}});}\n",
       "        if (typeof require !== 'undefined') {\n",
       "        require.undef(\"plotly\");\n",
       "        requirejs.config({\n",
       "            paths: {\n",
       "                'plotly': ['https://cdn.plot.ly/plotly-2.12.1.min']\n",
       "            }\n",
       "        });\n",
       "        require(['plotly'], function(Plotly) {\n",
       "            window._Plotly = Plotly;\n",
       "        });\n",
       "        }\n",
       "        </script>\n",
       "        "
      ]
     },
     "metadata": {},
     "output_type": "display_data"
    }
   ],
   "source": [
    "# For offline use\n",
    "cf.go_offline()"
   ]
  },
  {
   "cell_type": "markdown",
   "metadata": {},
   "source": [
    "### Fake Data"
   ]
  },
  {
   "cell_type": "code",
   "execution_count": 6,
   "metadata": {},
   "outputs": [],
   "source": [
    "df = pd.DataFrame(np.random.randn(100,4),columns='A B C D'.split())"
   ]
  },
  {
   "cell_type": "code",
   "execution_count": 7,
   "metadata": {},
   "outputs": [
    {
     "data": {
      "text/html": [
       "<div>\n",
       "<style scoped>\n",
       "    .dataframe tbody tr th:only-of-type {\n",
       "        vertical-align: middle;\n",
       "    }\n",
       "\n",
       "    .dataframe tbody tr th {\n",
       "        vertical-align: top;\n",
       "    }\n",
       "\n",
       "    .dataframe thead th {\n",
       "        text-align: right;\n",
       "    }\n",
       "</style>\n",
       "<table border=\"1\" class=\"dataframe\">\n",
       "  <thead>\n",
       "    <tr style=\"text-align: right;\">\n",
       "      <th></th>\n",
       "      <th>A</th>\n",
       "      <th>B</th>\n",
       "      <th>C</th>\n",
       "      <th>D</th>\n",
       "    </tr>\n",
       "  </thead>\n",
       "  <tbody>\n",
       "    <tr>\n",
       "      <th>0</th>\n",
       "      <td>-0.761539</td>\n",
       "      <td>2.021249</td>\n",
       "      <td>0.869920</td>\n",
       "      <td>-1.482484</td>\n",
       "    </tr>\n",
       "    <tr>\n",
       "      <th>1</th>\n",
       "      <td>-0.709588</td>\n",
       "      <td>0.758310</td>\n",
       "      <td>0.191953</td>\n",
       "      <td>-1.637876</td>\n",
       "    </tr>\n",
       "    <tr>\n",
       "      <th>2</th>\n",
       "      <td>-1.875425</td>\n",
       "      <td>0.690456</td>\n",
       "      <td>0.309397</td>\n",
       "      <td>-0.732685</td>\n",
       "    </tr>\n",
       "    <tr>\n",
       "      <th>3</th>\n",
       "      <td>-0.506502</td>\n",
       "      <td>-0.533625</td>\n",
       "      <td>-2.192430</td>\n",
       "      <td>-0.105508</td>\n",
       "    </tr>\n",
       "    <tr>\n",
       "      <th>4</th>\n",
       "      <td>1.354963</td>\n",
       "      <td>-0.344445</td>\n",
       "      <td>-0.094046</td>\n",
       "      <td>-0.069914</td>\n",
       "    </tr>\n",
       "  </tbody>\n",
       "</table>\n",
       "</div>"
      ],
      "text/plain": [
       "          A         B         C         D\n",
       "0 -0.761539  2.021249  0.869920 -1.482484\n",
       "1 -0.709588  0.758310  0.191953 -1.637876\n",
       "2 -1.875425  0.690456  0.309397 -0.732685\n",
       "3 -0.506502 -0.533625 -2.192430 -0.105508\n",
       "4  1.354963 -0.344445 -0.094046 -0.069914"
      ]
     },
     "execution_count": 7,
     "metadata": {},
     "output_type": "execute_result"
    }
   ],
   "source": [
    "df.head()"
   ]
  },
  {
   "cell_type": "code",
   "execution_count": 8,
   "metadata": {},
   "outputs": [],
   "source": [
    "df2 = pd.DataFrame({'Category':['A','B','C'],'Values':[32,43,50]})"
   ]
  },
  {
   "cell_type": "code",
   "execution_count": 9,
   "metadata": {},
   "outputs": [
    {
     "data": {
      "text/html": [
       "<div>\n",
       "<style scoped>\n",
       "    .dataframe tbody tr th:only-of-type {\n",
       "        vertical-align: middle;\n",
       "    }\n",
       "\n",
       "    .dataframe tbody tr th {\n",
       "        vertical-align: top;\n",
       "    }\n",
       "\n",
       "    .dataframe thead th {\n",
       "        text-align: right;\n",
       "    }\n",
       "</style>\n",
       "<table border=\"1\" class=\"dataframe\">\n",
       "  <thead>\n",
       "    <tr style=\"text-align: right;\">\n",
       "      <th></th>\n",
       "      <th>Category</th>\n",
       "      <th>Values</th>\n",
       "    </tr>\n",
       "  </thead>\n",
       "  <tbody>\n",
       "    <tr>\n",
       "      <th>0</th>\n",
       "      <td>A</td>\n",
       "      <td>32</td>\n",
       "    </tr>\n",
       "    <tr>\n",
       "      <th>1</th>\n",
       "      <td>B</td>\n",
       "      <td>43</td>\n",
       "    </tr>\n",
       "    <tr>\n",
       "      <th>2</th>\n",
       "      <td>C</td>\n",
       "      <td>50</td>\n",
       "    </tr>\n",
       "  </tbody>\n",
       "</table>\n",
       "</div>"
      ],
      "text/plain": [
       "  Category  Values\n",
       "0        A      32\n",
       "1        B      43\n",
       "2        C      50"
      ]
     },
     "execution_count": 9,
     "metadata": {},
     "output_type": "execute_result"
    }
   ],
   "source": [
    "df2.head()"
   ]
  },
  {
   "cell_type": "markdown",
   "metadata": {},
   "source": [
    "## Using Cufflinks and iplot()\n",
    "\n",
    "* scatter\n",
    "* bar\n",
    "* box\n",
    "* spread\n",
    "* ratio\n",
    "* heatmap\n",
    "* surface\n",
    "* histogram\n",
    "* bubble"
   ]
  },
  {
   "cell_type": "markdown",
   "metadata": {},
   "source": [
    "## Scatter"
   ]
  },
  {
   "cell_type": "code",
   "execution_count": 10,
   "metadata": {},
   "outputs": [
    {
     "data": {
      "application/vnd.plotly.v1+json": {
       "config": {
        "linkText": "Export to plot.ly",
        "plotlyServerURL": "https://plot.ly",
        "showLink": true
       },
       "data": [
        {
         "line": {
          "color": "rgba(255, 153, 51, 1.0)",
          "dash": "solid",
          "shape": "linear",
          "width": 1.3
         },
         "marker": {
          "size": 10,
          "symbol": "circle"
         },
         "mode": "markers",
         "name": "B",
         "text": "",
         "type": "scatter",
         "x": [
          -0.761538621205789,
          -0.7095884634062892,
          -1.87542527271739,
          -0.5065020746548108,
          1.35496259011185,
          -0.026882085442824027,
          0.3970926315800366,
          0.07930693556886965,
          -0.41651464393472665,
          -2.1276514696138085,
          0.7820816143304232,
          -0.46474335159908536,
          -1.9107278629738271,
          -0.5851839091377247,
          -0.6977177817635527,
          -2.4805654165741604,
          0.30130380247970456,
          -1.2057408655541713,
          0.975851335324599,
          0.935008023807403,
          0.6521460449304588,
          -0.16948993321802375,
          -0.6290415454217887,
          1.8582365753048842,
          0.519562575788573,
          0.21804135002318595,
          -0.6493577537881481,
          -0.911446297830199,
          -0.21094657901329192,
          1.925812415310548,
          -0.8602460299440234,
          0.5127438996267528,
          0.8813742038543424,
          -0.13573916517822807,
          -0.9270599803167954,
          1.0650535344599334,
          -0.5460679312679347,
          1.0117070089099622,
          -0.9777694153477007,
          0.35845385850155465,
          -0.6132408377130129,
          0.10871499849728981,
          0.40127567610710363,
          -0.6487046715630305,
          -0.8973289755839094,
          -0.4771539232923262,
          1.4138765300447418,
          0.044259693659036675,
          1.2456282221444395,
          0.6788475597193058,
          -0.9965791035290003,
          0.1608038512426127,
          -1.7273251122882962,
          0.9478549448318161,
          0.1957383843350601,
          0.20494952842470757,
          0.8557551042032416,
          1.2239513555987374,
          -0.8418915016769701,
          -0.7584061431982285,
          1.038055563573445,
          -1.2160740963752874,
          -0.4973699854095074,
          -0.9284199605478466,
          -0.5289637024381451,
          0.6079527884027386,
          -1.281229580560239,
          -0.09569023796817881,
          0.4651359310332824,
          0.35533232231510486,
          0.7261215905295191,
          -1.0520852792461017,
          2.6876313437622183,
          -1.717725205859949,
          -0.9111405606483214,
          -0.29153549489613173,
          -0.5701590060528048,
          0.05584067025163339,
          -1.1098732423331124,
          -0.9036945129123467,
          0.4501068865111808,
          0.825544257138231,
          0.4653860586330535,
          -1.1603307220031898,
          2.2810419206827284,
          0.11951586146702434,
          -0.2861420901734789,
          -1.3116881377337695,
          -0.32994936800329144,
          0.6197776617277426,
          0.2583173154079452,
          -0.4729733090730053,
          -0.07433117747413986,
          0.6221367200900845,
          -0.6301195699345721,
          -1.05620362506392,
          -1.0813433380501374,
          -0.6526823581710206,
          -0.40308048066321017,
          -0.19307390859447687
         ],
         "y": [
          2.0212488155738875,
          0.7583096657857158,
          0.690456279047033,
          -0.5336253666583853,
          -0.3444448261782787,
          -1.5007167350721706,
          1.47417272332828,
          0.7224922054456843,
          -0.9523322732880294,
          -1.2007521411285247,
          0.17977885829835624,
          -0.3993877007738916,
          -0.03594024055892166,
          0.43672348288119245,
          -0.40696742781349027,
          0.2134293668056055,
          1.7803668779864803,
          -0.39022504742482833,
          -1.6383548443486666,
          -2.285357617815566,
          0.44741158825359245,
          -0.2927635506639341,
          0.4136368844636603,
          0.8078711083943342,
          0.2884092876798255,
          0.4949136350960853,
          0.7503925352077869,
          -0.8731681678867933,
          0.8061604124757041,
          0.27710798744893084,
          -0.1582208416581821,
          -0.9856087371450262,
          -0.11527233251929478,
          0.40375922576565254,
          0.06448225213737395,
          -1.335774942121669,
          -0.11807724370888023,
          -0.9794050934152908,
          -0.5149681326578647,
          0.8063573557471728,
          0.9979072896721226,
          0.7147261302748834,
          -0.5182821264572214,
          -3.1376785914728136,
          1.0311784055004873,
          -0.8132771291058926,
          0.18432068082792719,
          0.9237360904499204,
          0.30599407158319486,
          0.33507477440349753,
          0.07919280617985913,
          -0.4232933611080333,
          0.3558176377425486,
          -0.9263390939314984,
          -0.7665872434389798,
          0.725052038268612,
          1.1164035544920263,
          0.18244465783419295,
          -0.2816778377621261,
          -0.38687777851277577,
          0.7727005377999372,
          0.06711665722470082,
          0.6742548227152336,
          0.9763233892497046,
          0.8214369752267061,
          0.8494264109004337,
          -0.3878781331543912,
          -0.6514852554195295,
          -1.8920663607417647,
          -0.8653341210591329,
          1.3075581912669738,
          0.7810217429948401,
          -0.7057405243063345,
          0.9652829915392097,
          0.21573636864042325,
          -0.3421430578373146,
          1.8610130200091133,
          -1.8794998483938055,
          0.7943304837877205,
          -0.053051118459419344,
          0.22410566547086927,
          0.07216085006027313,
          -0.2754955239090127,
          1.2590849074647348,
          1.0139736758249545,
          0.05570390346374175,
          -0.7690113262533337,
          2.1803261836384222,
          -0.7940812816209243,
          -1.1111128259709735,
          -0.3106265064956946,
          -0.026017216185092323,
          0.08661658866512632,
          -0.4717446856472977,
          0.0449965557198526,
          0.6638303748533824,
          0.25766663740266194,
          -0.6957389173560475,
          1.5120781751025285,
          0.6983516103179237
         ]
        }
       ],
       "layout": {
        "legend": {
         "bgcolor": "#F5F6F9",
         "font": {
          "color": "#4D5663"
         }
        },
        "paper_bgcolor": "#F5F6F9",
        "plot_bgcolor": "#F5F6F9",
        "template": {
         "data": {
          "bar": [
           {
            "error_x": {
             "color": "#2a3f5f"
            },
            "error_y": {
             "color": "#2a3f5f"
            },
            "marker": {
             "line": {
              "color": "#E5ECF6",
              "width": 0.5
             },
             "pattern": {
              "fillmode": "overlay",
              "size": 10,
              "solidity": 0.2
             }
            },
            "type": "bar"
           }
          ],
          "barpolar": [
           {
            "marker": {
             "line": {
              "color": "#E5ECF6",
              "width": 0.5
             },
             "pattern": {
              "fillmode": "overlay",
              "size": 10,
              "solidity": 0.2
             }
            },
            "type": "barpolar"
           }
          ],
          "carpet": [
           {
            "aaxis": {
             "endlinecolor": "#2a3f5f",
             "gridcolor": "white",
             "linecolor": "white",
             "minorgridcolor": "white",
             "startlinecolor": "#2a3f5f"
            },
            "baxis": {
             "endlinecolor": "#2a3f5f",
             "gridcolor": "white",
             "linecolor": "white",
             "minorgridcolor": "white",
             "startlinecolor": "#2a3f5f"
            },
            "type": "carpet"
           }
          ],
          "choropleth": [
           {
            "colorbar": {
             "outlinewidth": 0,
             "ticks": ""
            },
            "type": "choropleth"
           }
          ],
          "contour": [
           {
            "colorbar": {
             "outlinewidth": 0,
             "ticks": ""
            },
            "colorscale": [
             [
              0,
              "#0d0887"
             ],
             [
              0.1111111111111111,
              "#46039f"
             ],
             [
              0.2222222222222222,
              "#7201a8"
             ],
             [
              0.3333333333333333,
              "#9c179e"
             ],
             [
              0.4444444444444444,
              "#bd3786"
             ],
             [
              0.5555555555555556,
              "#d8576b"
             ],
             [
              0.6666666666666666,
              "#ed7953"
             ],
             [
              0.7777777777777778,
              "#fb9f3a"
             ],
             [
              0.8888888888888888,
              "#fdca26"
             ],
             [
              1,
              "#f0f921"
             ]
            ],
            "type": "contour"
           }
          ],
          "contourcarpet": [
           {
            "colorbar": {
             "outlinewidth": 0,
             "ticks": ""
            },
            "type": "contourcarpet"
           }
          ],
          "heatmap": [
           {
            "colorbar": {
             "outlinewidth": 0,
             "ticks": ""
            },
            "colorscale": [
             [
              0,
              "#0d0887"
             ],
             [
              0.1111111111111111,
              "#46039f"
             ],
             [
              0.2222222222222222,
              "#7201a8"
             ],
             [
              0.3333333333333333,
              "#9c179e"
             ],
             [
              0.4444444444444444,
              "#bd3786"
             ],
             [
              0.5555555555555556,
              "#d8576b"
             ],
             [
              0.6666666666666666,
              "#ed7953"
             ],
             [
              0.7777777777777778,
              "#fb9f3a"
             ],
             [
              0.8888888888888888,
              "#fdca26"
             ],
             [
              1,
              "#f0f921"
             ]
            ],
            "type": "heatmap"
           }
          ],
          "heatmapgl": [
           {
            "colorbar": {
             "outlinewidth": 0,
             "ticks": ""
            },
            "colorscale": [
             [
              0,
              "#0d0887"
             ],
             [
              0.1111111111111111,
              "#46039f"
             ],
             [
              0.2222222222222222,
              "#7201a8"
             ],
             [
              0.3333333333333333,
              "#9c179e"
             ],
             [
              0.4444444444444444,
              "#bd3786"
             ],
             [
              0.5555555555555556,
              "#d8576b"
             ],
             [
              0.6666666666666666,
              "#ed7953"
             ],
             [
              0.7777777777777778,
              "#fb9f3a"
             ],
             [
              0.8888888888888888,
              "#fdca26"
             ],
             [
              1,
              "#f0f921"
             ]
            ],
            "type": "heatmapgl"
           }
          ],
          "histogram": [
           {
            "marker": {
             "pattern": {
              "fillmode": "overlay",
              "size": 10,
              "solidity": 0.2
             }
            },
            "type": "histogram"
           }
          ],
          "histogram2d": [
           {
            "colorbar": {
             "outlinewidth": 0,
             "ticks": ""
            },
            "colorscale": [
             [
              0,
              "#0d0887"
             ],
             [
              0.1111111111111111,
              "#46039f"
             ],
             [
              0.2222222222222222,
              "#7201a8"
             ],
             [
              0.3333333333333333,
              "#9c179e"
             ],
             [
              0.4444444444444444,
              "#bd3786"
             ],
             [
              0.5555555555555556,
              "#d8576b"
             ],
             [
              0.6666666666666666,
              "#ed7953"
             ],
             [
              0.7777777777777778,
              "#fb9f3a"
             ],
             [
              0.8888888888888888,
              "#fdca26"
             ],
             [
              1,
              "#f0f921"
             ]
            ],
            "type": "histogram2d"
           }
          ],
          "histogram2dcontour": [
           {
            "colorbar": {
             "outlinewidth": 0,
             "ticks": ""
            },
            "colorscale": [
             [
              0,
              "#0d0887"
             ],
             [
              0.1111111111111111,
              "#46039f"
             ],
             [
              0.2222222222222222,
              "#7201a8"
             ],
             [
              0.3333333333333333,
              "#9c179e"
             ],
             [
              0.4444444444444444,
              "#bd3786"
             ],
             [
              0.5555555555555556,
              "#d8576b"
             ],
             [
              0.6666666666666666,
              "#ed7953"
             ],
             [
              0.7777777777777778,
              "#fb9f3a"
             ],
             [
              0.8888888888888888,
              "#fdca26"
             ],
             [
              1,
              "#f0f921"
             ]
            ],
            "type": "histogram2dcontour"
           }
          ],
          "mesh3d": [
           {
            "colorbar": {
             "outlinewidth": 0,
             "ticks": ""
            },
            "type": "mesh3d"
           }
          ],
          "parcoords": [
           {
            "line": {
             "colorbar": {
              "outlinewidth": 0,
              "ticks": ""
             }
            },
            "type": "parcoords"
           }
          ],
          "pie": [
           {
            "automargin": true,
            "type": "pie"
           }
          ],
          "scatter": [
           {
            "fillpattern": {
             "fillmode": "overlay",
             "size": 10,
             "solidity": 0.2
            },
            "type": "scatter"
           }
          ],
          "scatter3d": [
           {
            "line": {
             "colorbar": {
              "outlinewidth": 0,
              "ticks": ""
             }
            },
            "marker": {
             "colorbar": {
              "outlinewidth": 0,
              "ticks": ""
             }
            },
            "type": "scatter3d"
           }
          ],
          "scattercarpet": [
           {
            "marker": {
             "colorbar": {
              "outlinewidth": 0,
              "ticks": ""
             }
            },
            "type": "scattercarpet"
           }
          ],
          "scattergeo": [
           {
            "marker": {
             "colorbar": {
              "outlinewidth": 0,
              "ticks": ""
             }
            },
            "type": "scattergeo"
           }
          ],
          "scattergl": [
           {
            "marker": {
             "colorbar": {
              "outlinewidth": 0,
              "ticks": ""
             }
            },
            "type": "scattergl"
           }
          ],
          "scattermapbox": [
           {
            "marker": {
             "colorbar": {
              "outlinewidth": 0,
              "ticks": ""
             }
            },
            "type": "scattermapbox"
           }
          ],
          "scatterpolar": [
           {
            "marker": {
             "colorbar": {
              "outlinewidth": 0,
              "ticks": ""
             }
            },
            "type": "scatterpolar"
           }
          ],
          "scatterpolargl": [
           {
            "marker": {
             "colorbar": {
              "outlinewidth": 0,
              "ticks": ""
             }
            },
            "type": "scatterpolargl"
           }
          ],
          "scatterternary": [
           {
            "marker": {
             "colorbar": {
              "outlinewidth": 0,
              "ticks": ""
             }
            },
            "type": "scatterternary"
           }
          ],
          "surface": [
           {
            "colorbar": {
             "outlinewidth": 0,
             "ticks": ""
            },
            "colorscale": [
             [
              0,
              "#0d0887"
             ],
             [
              0.1111111111111111,
              "#46039f"
             ],
             [
              0.2222222222222222,
              "#7201a8"
             ],
             [
              0.3333333333333333,
              "#9c179e"
             ],
             [
              0.4444444444444444,
              "#bd3786"
             ],
             [
              0.5555555555555556,
              "#d8576b"
             ],
             [
              0.6666666666666666,
              "#ed7953"
             ],
             [
              0.7777777777777778,
              "#fb9f3a"
             ],
             [
              0.8888888888888888,
              "#fdca26"
             ],
             [
              1,
              "#f0f921"
             ]
            ],
            "type": "surface"
           }
          ],
          "table": [
           {
            "cells": {
             "fill": {
              "color": "#EBF0F8"
             },
             "line": {
              "color": "white"
             }
            },
            "header": {
             "fill": {
              "color": "#C8D4E3"
             },
             "line": {
              "color": "white"
             }
            },
            "type": "table"
           }
          ]
         },
         "layout": {
          "annotationdefaults": {
           "arrowcolor": "#2a3f5f",
           "arrowhead": 0,
           "arrowwidth": 1
          },
          "autotypenumbers": "strict",
          "coloraxis": {
           "colorbar": {
            "outlinewidth": 0,
            "ticks": ""
           }
          },
          "colorscale": {
           "diverging": [
            [
             0,
             "#8e0152"
            ],
            [
             0.1,
             "#c51b7d"
            ],
            [
             0.2,
             "#de77ae"
            ],
            [
             0.3,
             "#f1b6da"
            ],
            [
             0.4,
             "#fde0ef"
            ],
            [
             0.5,
             "#f7f7f7"
            ],
            [
             0.6,
             "#e6f5d0"
            ],
            [
             0.7,
             "#b8e186"
            ],
            [
             0.8,
             "#7fbc41"
            ],
            [
             0.9,
             "#4d9221"
            ],
            [
             1,
             "#276419"
            ]
           ],
           "sequential": [
            [
             0,
             "#0d0887"
            ],
            [
             0.1111111111111111,
             "#46039f"
            ],
            [
             0.2222222222222222,
             "#7201a8"
            ],
            [
             0.3333333333333333,
             "#9c179e"
            ],
            [
             0.4444444444444444,
             "#bd3786"
            ],
            [
             0.5555555555555556,
             "#d8576b"
            ],
            [
             0.6666666666666666,
             "#ed7953"
            ],
            [
             0.7777777777777778,
             "#fb9f3a"
            ],
            [
             0.8888888888888888,
             "#fdca26"
            ],
            [
             1,
             "#f0f921"
            ]
           ],
           "sequentialminus": [
            [
             0,
             "#0d0887"
            ],
            [
             0.1111111111111111,
             "#46039f"
            ],
            [
             0.2222222222222222,
             "#7201a8"
            ],
            [
             0.3333333333333333,
             "#9c179e"
            ],
            [
             0.4444444444444444,
             "#bd3786"
            ],
            [
             0.5555555555555556,
             "#d8576b"
            ],
            [
             0.6666666666666666,
             "#ed7953"
            ],
            [
             0.7777777777777778,
             "#fb9f3a"
            ],
            [
             0.8888888888888888,
             "#fdca26"
            ],
            [
             1,
             "#f0f921"
            ]
           ]
          },
          "colorway": [
           "#636efa",
           "#EF553B",
           "#00cc96",
           "#ab63fa",
           "#FFA15A",
           "#19d3f3",
           "#FF6692",
           "#B6E880",
           "#FF97FF",
           "#FECB52"
          ],
          "font": {
           "color": "#2a3f5f"
          },
          "geo": {
           "bgcolor": "white",
           "lakecolor": "white",
           "landcolor": "#E5ECF6",
           "showlakes": true,
           "showland": true,
           "subunitcolor": "white"
          },
          "hoverlabel": {
           "align": "left"
          },
          "hovermode": "closest",
          "mapbox": {
           "style": "light"
          },
          "paper_bgcolor": "white",
          "plot_bgcolor": "#E5ECF6",
          "polar": {
           "angularaxis": {
            "gridcolor": "white",
            "linecolor": "white",
            "ticks": ""
           },
           "bgcolor": "#E5ECF6",
           "radialaxis": {
            "gridcolor": "white",
            "linecolor": "white",
            "ticks": ""
           }
          },
          "scene": {
           "xaxis": {
            "backgroundcolor": "#E5ECF6",
            "gridcolor": "white",
            "gridwidth": 2,
            "linecolor": "white",
            "showbackground": true,
            "ticks": "",
            "zerolinecolor": "white"
           },
           "yaxis": {
            "backgroundcolor": "#E5ECF6",
            "gridcolor": "white",
            "gridwidth": 2,
            "linecolor": "white",
            "showbackground": true,
            "ticks": "",
            "zerolinecolor": "white"
           },
           "zaxis": {
            "backgroundcolor": "#E5ECF6",
            "gridcolor": "white",
            "gridwidth": 2,
            "linecolor": "white",
            "showbackground": true,
            "ticks": "",
            "zerolinecolor": "white"
           }
          },
          "shapedefaults": {
           "line": {
            "color": "#2a3f5f"
           }
          },
          "ternary": {
           "aaxis": {
            "gridcolor": "white",
            "linecolor": "white",
            "ticks": ""
           },
           "baxis": {
            "gridcolor": "white",
            "linecolor": "white",
            "ticks": ""
           },
           "bgcolor": "#E5ECF6",
           "caxis": {
            "gridcolor": "white",
            "linecolor": "white",
            "ticks": ""
           }
          },
          "title": {
           "x": 0.05
          },
          "xaxis": {
           "automargin": true,
           "gridcolor": "white",
           "linecolor": "white",
           "ticks": "",
           "title": {
            "standoff": 15
           },
           "zerolinecolor": "white",
           "zerolinewidth": 2
          },
          "yaxis": {
           "automargin": true,
           "gridcolor": "white",
           "linecolor": "white",
           "ticks": "",
           "title": {
            "standoff": 15
           },
           "zerolinecolor": "white",
           "zerolinewidth": 2
          }
         }
        },
        "title": {
         "font": {
          "color": "#4D5663"
         }
        },
        "xaxis": {
         "gridcolor": "#E1E5ED",
         "showgrid": true,
         "tickfont": {
          "color": "#4D5663"
         },
         "title": {
          "font": {
           "color": "#4D5663"
          },
          "text": ""
         },
         "zerolinecolor": "#E1E5ED"
        },
        "yaxis": {
         "gridcolor": "#E1E5ED",
         "showgrid": true,
         "tickfont": {
          "color": "#4D5663"
         },
         "title": {
          "font": {
           "color": "#4D5663"
          },
          "text": ""
         },
         "zerolinecolor": "#E1E5ED"
        }
       }
      },
      "text/html": [
       "<div>                            <div id=\"5f298515-7d60-42c7-a677-d40046ef3b05\" class=\"plotly-graph-div\" style=\"height:525px; width:100%;\"></div>            <script type=\"text/javascript\">                require([\"plotly\"], function(Plotly) {                    window.PLOTLYENV=window.PLOTLYENV || {};\n",
       "                    window.PLOTLYENV.BASE_URL='https://plot.ly';                                    if (document.getElementById(\"5f298515-7d60-42c7-a677-d40046ef3b05\")) {                    Plotly.newPlot(                        \"5f298515-7d60-42c7-a677-d40046ef3b05\",                        [{\"line\":{\"color\":\"rgba(255, 153, 51, 1.0)\",\"dash\":\"solid\",\"shape\":\"linear\",\"width\":1.3},\"marker\":{\"size\":10,\"symbol\":\"circle\"},\"mode\":\"markers\",\"name\":\"B\",\"text\":\"\",\"x\":[-0.761538621205789,-0.7095884634062892,-1.87542527271739,-0.5065020746548108,1.35496259011185,-0.026882085442824027,0.3970926315800366,0.07930693556886965,-0.41651464393472665,-2.1276514696138085,0.7820816143304232,-0.46474335159908536,-1.9107278629738271,-0.5851839091377247,-0.6977177817635527,-2.4805654165741604,0.30130380247970456,-1.2057408655541713,0.975851335324599,0.935008023807403,0.6521460449304588,-0.16948993321802375,-0.6290415454217887,1.8582365753048842,0.519562575788573,0.21804135002318595,-0.6493577537881481,-0.911446297830199,-0.21094657901329192,1.925812415310548,-0.8602460299440234,0.5127438996267528,0.8813742038543424,-0.13573916517822807,-0.9270599803167954,1.0650535344599334,-0.5460679312679347,1.0117070089099622,-0.9777694153477007,0.35845385850155465,-0.6132408377130129,0.10871499849728981,0.40127567610710363,-0.6487046715630305,-0.8973289755839094,-0.4771539232923262,1.4138765300447418,0.044259693659036675,1.2456282221444395,0.6788475597193058,-0.9965791035290003,0.1608038512426127,-1.7273251122882962,0.9478549448318161,0.1957383843350601,0.20494952842470757,0.8557551042032416,1.2239513555987374,-0.8418915016769701,-0.7584061431982285,1.038055563573445,-1.2160740963752874,-0.4973699854095074,-0.9284199605478466,-0.5289637024381451,0.6079527884027386,-1.281229580560239,-0.09569023796817881,0.4651359310332824,0.35533232231510486,0.7261215905295191,-1.0520852792461017,2.6876313437622183,-1.717725205859949,-0.9111405606483214,-0.29153549489613173,-0.5701590060528048,0.05584067025163339,-1.1098732423331124,-0.9036945129123467,0.4501068865111808,0.825544257138231,0.4653860586330535,-1.1603307220031898,2.2810419206827284,0.11951586146702434,-0.2861420901734789,-1.3116881377337695,-0.32994936800329144,0.6197776617277426,0.2583173154079452,-0.4729733090730053,-0.07433117747413986,0.6221367200900845,-0.6301195699345721,-1.05620362506392,-1.0813433380501374,-0.6526823581710206,-0.40308048066321017,-0.19307390859447687],\"y\":[2.0212488155738875,0.7583096657857158,0.690456279047033,-0.5336253666583853,-0.3444448261782787,-1.5007167350721706,1.47417272332828,0.7224922054456843,-0.9523322732880294,-1.2007521411285247,0.17977885829835624,-0.3993877007738916,-0.03594024055892166,0.43672348288119245,-0.40696742781349027,0.2134293668056055,1.7803668779864803,-0.39022504742482833,-1.6383548443486666,-2.285357617815566,0.44741158825359245,-0.2927635506639341,0.4136368844636603,0.8078711083943342,0.2884092876798255,0.4949136350960853,0.7503925352077869,-0.8731681678867933,0.8061604124757041,0.27710798744893084,-0.1582208416581821,-0.9856087371450262,-0.11527233251929478,0.40375922576565254,0.06448225213737395,-1.335774942121669,-0.11807724370888023,-0.9794050934152908,-0.5149681326578647,0.8063573557471728,0.9979072896721226,0.7147261302748834,-0.5182821264572214,-3.1376785914728136,1.0311784055004873,-0.8132771291058926,0.18432068082792719,0.9237360904499204,0.30599407158319486,0.33507477440349753,0.07919280617985913,-0.4232933611080333,0.3558176377425486,-0.9263390939314984,-0.7665872434389798,0.725052038268612,1.1164035544920263,0.18244465783419295,-0.2816778377621261,-0.38687777851277577,0.7727005377999372,0.06711665722470082,0.6742548227152336,0.9763233892497046,0.8214369752267061,0.8494264109004337,-0.3878781331543912,-0.6514852554195295,-1.8920663607417647,-0.8653341210591329,1.3075581912669738,0.7810217429948401,-0.7057405243063345,0.9652829915392097,0.21573636864042325,-0.3421430578373146,1.8610130200091133,-1.8794998483938055,0.7943304837877205,-0.053051118459419344,0.22410566547086927,0.07216085006027313,-0.2754955239090127,1.2590849074647348,1.0139736758249545,0.05570390346374175,-0.7690113262533337,2.1803261836384222,-0.7940812816209243,-1.1111128259709735,-0.3106265064956946,-0.026017216185092323,0.08661658866512632,-0.4717446856472977,0.0449965557198526,0.6638303748533824,0.25766663740266194,-0.6957389173560475,1.5120781751025285,0.6983516103179237],\"type\":\"scatter\"}],                        {\"legend\":{\"bgcolor\":\"#F5F6F9\",\"font\":{\"color\":\"#4D5663\"}},\"paper_bgcolor\":\"#F5F6F9\",\"plot_bgcolor\":\"#F5F6F9\",\"template\":{\"data\":{\"barpolar\":[{\"marker\":{\"line\":{\"color\":\"#E5ECF6\",\"width\":0.5},\"pattern\":{\"fillmode\":\"overlay\",\"size\":10,\"solidity\":0.2}},\"type\":\"barpolar\"}],\"bar\":[{\"error_x\":{\"color\":\"#2a3f5f\"},\"error_y\":{\"color\":\"#2a3f5f\"},\"marker\":{\"line\":{\"color\":\"#E5ECF6\",\"width\":0.5},\"pattern\":{\"fillmode\":\"overlay\",\"size\":10,\"solidity\":0.2}},\"type\":\"bar\"}],\"carpet\":[{\"aaxis\":{\"endlinecolor\":\"#2a3f5f\",\"gridcolor\":\"white\",\"linecolor\":\"white\",\"minorgridcolor\":\"white\",\"startlinecolor\":\"#2a3f5f\"},\"baxis\":{\"endlinecolor\":\"#2a3f5f\",\"gridcolor\":\"white\",\"linecolor\":\"white\",\"minorgridcolor\":\"white\",\"startlinecolor\":\"#2a3f5f\"},\"type\":\"carpet\"}],\"choropleth\":[{\"colorbar\":{\"outlinewidth\":0,\"ticks\":\"\"},\"type\":\"choropleth\"}],\"contourcarpet\":[{\"colorbar\":{\"outlinewidth\":0,\"ticks\":\"\"},\"type\":\"contourcarpet\"}],\"contour\":[{\"colorbar\":{\"outlinewidth\":0,\"ticks\":\"\"},\"colorscale\":[[0.0,\"#0d0887\"],[0.1111111111111111,\"#46039f\"],[0.2222222222222222,\"#7201a8\"],[0.3333333333333333,\"#9c179e\"],[0.4444444444444444,\"#bd3786\"],[0.5555555555555556,\"#d8576b\"],[0.6666666666666666,\"#ed7953\"],[0.7777777777777778,\"#fb9f3a\"],[0.8888888888888888,\"#fdca26\"],[1.0,\"#f0f921\"]],\"type\":\"contour\"}],\"heatmapgl\":[{\"colorbar\":{\"outlinewidth\":0,\"ticks\":\"\"},\"colorscale\":[[0.0,\"#0d0887\"],[0.1111111111111111,\"#46039f\"],[0.2222222222222222,\"#7201a8\"],[0.3333333333333333,\"#9c179e\"],[0.4444444444444444,\"#bd3786\"],[0.5555555555555556,\"#d8576b\"],[0.6666666666666666,\"#ed7953\"],[0.7777777777777778,\"#fb9f3a\"],[0.8888888888888888,\"#fdca26\"],[1.0,\"#f0f921\"]],\"type\":\"heatmapgl\"}],\"heatmap\":[{\"colorbar\":{\"outlinewidth\":0,\"ticks\":\"\"},\"colorscale\":[[0.0,\"#0d0887\"],[0.1111111111111111,\"#46039f\"],[0.2222222222222222,\"#7201a8\"],[0.3333333333333333,\"#9c179e\"],[0.4444444444444444,\"#bd3786\"],[0.5555555555555556,\"#d8576b\"],[0.6666666666666666,\"#ed7953\"],[0.7777777777777778,\"#fb9f3a\"],[0.8888888888888888,\"#fdca26\"],[1.0,\"#f0f921\"]],\"type\":\"heatmap\"}],\"histogram2dcontour\":[{\"colorbar\":{\"outlinewidth\":0,\"ticks\":\"\"},\"colorscale\":[[0.0,\"#0d0887\"],[0.1111111111111111,\"#46039f\"],[0.2222222222222222,\"#7201a8\"],[0.3333333333333333,\"#9c179e\"],[0.4444444444444444,\"#bd3786\"],[0.5555555555555556,\"#d8576b\"],[0.6666666666666666,\"#ed7953\"],[0.7777777777777778,\"#fb9f3a\"],[0.8888888888888888,\"#fdca26\"],[1.0,\"#f0f921\"]],\"type\":\"histogram2dcontour\"}],\"histogram2d\":[{\"colorbar\":{\"outlinewidth\":0,\"ticks\":\"\"},\"colorscale\":[[0.0,\"#0d0887\"],[0.1111111111111111,\"#46039f\"],[0.2222222222222222,\"#7201a8\"],[0.3333333333333333,\"#9c179e\"],[0.4444444444444444,\"#bd3786\"],[0.5555555555555556,\"#d8576b\"],[0.6666666666666666,\"#ed7953\"],[0.7777777777777778,\"#fb9f3a\"],[0.8888888888888888,\"#fdca26\"],[1.0,\"#f0f921\"]],\"type\":\"histogram2d\"}],\"histogram\":[{\"marker\":{\"pattern\":{\"fillmode\":\"overlay\",\"size\":10,\"solidity\":0.2}},\"type\":\"histogram\"}],\"mesh3d\":[{\"colorbar\":{\"outlinewidth\":0,\"ticks\":\"\"},\"type\":\"mesh3d\"}],\"parcoords\":[{\"line\":{\"colorbar\":{\"outlinewidth\":0,\"ticks\":\"\"}},\"type\":\"parcoords\"}],\"pie\":[{\"automargin\":true,\"type\":\"pie\"}],\"scatter3d\":[{\"line\":{\"colorbar\":{\"outlinewidth\":0,\"ticks\":\"\"}},\"marker\":{\"colorbar\":{\"outlinewidth\":0,\"ticks\":\"\"}},\"type\":\"scatter3d\"}],\"scattercarpet\":[{\"marker\":{\"colorbar\":{\"outlinewidth\":0,\"ticks\":\"\"}},\"type\":\"scattercarpet\"}],\"scattergeo\":[{\"marker\":{\"colorbar\":{\"outlinewidth\":0,\"ticks\":\"\"}},\"type\":\"scattergeo\"}],\"scattergl\":[{\"marker\":{\"colorbar\":{\"outlinewidth\":0,\"ticks\":\"\"}},\"type\":\"scattergl\"}],\"scattermapbox\":[{\"marker\":{\"colorbar\":{\"outlinewidth\":0,\"ticks\":\"\"}},\"type\":\"scattermapbox\"}],\"scatterpolargl\":[{\"marker\":{\"colorbar\":{\"outlinewidth\":0,\"ticks\":\"\"}},\"type\":\"scatterpolargl\"}],\"scatterpolar\":[{\"marker\":{\"colorbar\":{\"outlinewidth\":0,\"ticks\":\"\"}},\"type\":\"scatterpolar\"}],\"scatter\":[{\"fillpattern\":{\"fillmode\":\"overlay\",\"size\":10,\"solidity\":0.2},\"type\":\"scatter\"}],\"scatterternary\":[{\"marker\":{\"colorbar\":{\"outlinewidth\":0,\"ticks\":\"\"}},\"type\":\"scatterternary\"}],\"surface\":[{\"colorbar\":{\"outlinewidth\":0,\"ticks\":\"\"},\"colorscale\":[[0.0,\"#0d0887\"],[0.1111111111111111,\"#46039f\"],[0.2222222222222222,\"#7201a8\"],[0.3333333333333333,\"#9c179e\"],[0.4444444444444444,\"#bd3786\"],[0.5555555555555556,\"#d8576b\"],[0.6666666666666666,\"#ed7953\"],[0.7777777777777778,\"#fb9f3a\"],[0.8888888888888888,\"#fdca26\"],[1.0,\"#f0f921\"]],\"type\":\"surface\"}],\"table\":[{\"cells\":{\"fill\":{\"color\":\"#EBF0F8\"},\"line\":{\"color\":\"white\"}},\"header\":{\"fill\":{\"color\":\"#C8D4E3\"},\"line\":{\"color\":\"white\"}},\"type\":\"table\"}]},\"layout\":{\"annotationdefaults\":{\"arrowcolor\":\"#2a3f5f\",\"arrowhead\":0,\"arrowwidth\":1},\"autotypenumbers\":\"strict\",\"coloraxis\":{\"colorbar\":{\"outlinewidth\":0,\"ticks\":\"\"}},\"colorscale\":{\"diverging\":[[0,\"#8e0152\"],[0.1,\"#c51b7d\"],[0.2,\"#de77ae\"],[0.3,\"#f1b6da\"],[0.4,\"#fde0ef\"],[0.5,\"#f7f7f7\"],[0.6,\"#e6f5d0\"],[0.7,\"#b8e186\"],[0.8,\"#7fbc41\"],[0.9,\"#4d9221\"],[1,\"#276419\"]],\"sequential\":[[0.0,\"#0d0887\"],[0.1111111111111111,\"#46039f\"],[0.2222222222222222,\"#7201a8\"],[0.3333333333333333,\"#9c179e\"],[0.4444444444444444,\"#bd3786\"],[0.5555555555555556,\"#d8576b\"],[0.6666666666666666,\"#ed7953\"],[0.7777777777777778,\"#fb9f3a\"],[0.8888888888888888,\"#fdca26\"],[1.0,\"#f0f921\"]],\"sequentialminus\":[[0.0,\"#0d0887\"],[0.1111111111111111,\"#46039f\"],[0.2222222222222222,\"#7201a8\"],[0.3333333333333333,\"#9c179e\"],[0.4444444444444444,\"#bd3786\"],[0.5555555555555556,\"#d8576b\"],[0.6666666666666666,\"#ed7953\"],[0.7777777777777778,\"#fb9f3a\"],[0.8888888888888888,\"#fdca26\"],[1.0,\"#f0f921\"]]},\"colorway\":[\"#636efa\",\"#EF553B\",\"#00cc96\",\"#ab63fa\",\"#FFA15A\",\"#19d3f3\",\"#FF6692\",\"#B6E880\",\"#FF97FF\",\"#FECB52\"],\"font\":{\"color\":\"#2a3f5f\"},\"geo\":{\"bgcolor\":\"white\",\"lakecolor\":\"white\",\"landcolor\":\"#E5ECF6\",\"showlakes\":true,\"showland\":true,\"subunitcolor\":\"white\"},\"hoverlabel\":{\"align\":\"left\"},\"hovermode\":\"closest\",\"mapbox\":{\"style\":\"light\"},\"paper_bgcolor\":\"white\",\"plot_bgcolor\":\"#E5ECF6\",\"polar\":{\"angularaxis\":{\"gridcolor\":\"white\",\"linecolor\":\"white\",\"ticks\":\"\"},\"bgcolor\":\"#E5ECF6\",\"radialaxis\":{\"gridcolor\":\"white\",\"linecolor\":\"white\",\"ticks\":\"\"}},\"scene\":{\"xaxis\":{\"backgroundcolor\":\"#E5ECF6\",\"gridcolor\":\"white\",\"gridwidth\":2,\"linecolor\":\"white\",\"showbackground\":true,\"ticks\":\"\",\"zerolinecolor\":\"white\"},\"yaxis\":{\"backgroundcolor\":\"#E5ECF6\",\"gridcolor\":\"white\",\"gridwidth\":2,\"linecolor\":\"white\",\"showbackground\":true,\"ticks\":\"\",\"zerolinecolor\":\"white\"},\"zaxis\":{\"backgroundcolor\":\"#E5ECF6\",\"gridcolor\":\"white\",\"gridwidth\":2,\"linecolor\":\"white\",\"showbackground\":true,\"ticks\":\"\",\"zerolinecolor\":\"white\"}},\"shapedefaults\":{\"line\":{\"color\":\"#2a3f5f\"}},\"ternary\":{\"aaxis\":{\"gridcolor\":\"white\",\"linecolor\":\"white\",\"ticks\":\"\"},\"baxis\":{\"gridcolor\":\"white\",\"linecolor\":\"white\",\"ticks\":\"\"},\"bgcolor\":\"#E5ECF6\",\"caxis\":{\"gridcolor\":\"white\",\"linecolor\":\"white\",\"ticks\":\"\"}},\"title\":{\"x\":0.05},\"xaxis\":{\"automargin\":true,\"gridcolor\":\"white\",\"linecolor\":\"white\",\"ticks\":\"\",\"title\":{\"standoff\":15},\"zerolinecolor\":\"white\",\"zerolinewidth\":2},\"yaxis\":{\"automargin\":true,\"gridcolor\":\"white\",\"linecolor\":\"white\",\"ticks\":\"\",\"title\":{\"standoff\":15},\"zerolinecolor\":\"white\",\"zerolinewidth\":2}}},\"title\":{\"font\":{\"color\":\"#4D5663\"}},\"xaxis\":{\"gridcolor\":\"#E1E5ED\",\"showgrid\":true,\"tickfont\":{\"color\":\"#4D5663\"},\"title\":{\"font\":{\"color\":\"#4D5663\"},\"text\":\"\"},\"zerolinecolor\":\"#E1E5ED\"},\"yaxis\":{\"gridcolor\":\"#E1E5ED\",\"showgrid\":true,\"tickfont\":{\"color\":\"#4D5663\"},\"title\":{\"font\":{\"color\":\"#4D5663\"},\"text\":\"\"},\"zerolinecolor\":\"#E1E5ED\"}},                        {\"showLink\": true, \"linkText\": \"Export to plot.ly\", \"plotlyServerURL\": \"https://plot.ly\", \"responsive\": true}                    ).then(function(){\n",
       "                            \n",
       "var gd = document.getElementById('5f298515-7d60-42c7-a677-d40046ef3b05');\n",
       "var x = new MutationObserver(function (mutations, observer) {{\n",
       "        var display = window.getComputedStyle(gd).display;\n",
       "        if (!display || display === 'none') {{\n",
       "            console.log([gd, 'removed!']);\n",
       "            Plotly.purge(gd);\n",
       "            observer.disconnect();\n",
       "        }}\n",
       "}});\n",
       "\n",
       "// Listen for the removal of the full notebook cells\n",
       "var notebookContainer = gd.closest('#notebook-container');\n",
       "if (notebookContainer) {{\n",
       "    x.observe(notebookContainer, {childList: true});\n",
       "}}\n",
       "\n",
       "// Listen for the clearing of the current output cell\n",
       "var outputEl = gd.closest('.output');\n",
       "if (outputEl) {{\n",
       "    x.observe(outputEl, {childList: true});\n",
       "}}\n",
       "\n",
       "                        })                };                });            </script>        </div>"
      ]
     },
     "metadata": {},
     "output_type": "display_data"
    }
   ],
   "source": [
    "df.iplot(kind='scatter',x='A',y='B',mode='markers',size=10)"
   ]
  },
  {
   "cell_type": "markdown",
   "metadata": {},
   "source": [
    "## Bar Plots"
   ]
  },
  {
   "cell_type": "code",
   "execution_count": 11,
   "metadata": {},
   "outputs": [
    {
     "data": {
      "application/vnd.plotly.v1+json": {
       "config": {
        "linkText": "Export to plot.ly",
        "plotlyServerURL": "https://plot.ly",
        "showLink": true
       },
       "data": [
        {
         "marker": {
          "color": "rgba(255, 153, 51, 0.6)",
          "line": {
           "color": "rgba(255, 153, 51, 1.0)",
           "width": 1
          }
         },
         "name": "Values",
         "orientation": "v",
         "text": "",
         "type": "bar",
         "x": [
          "A",
          "B",
          "C"
         ],
         "y": [
          32,
          43,
          50
         ]
        }
       ],
       "layout": {
        "legend": {
         "bgcolor": "#F5F6F9",
         "font": {
          "color": "#4D5663"
         }
        },
        "paper_bgcolor": "#F5F6F9",
        "plot_bgcolor": "#F5F6F9",
        "template": {
         "data": {
          "bar": [
           {
            "error_x": {
             "color": "#2a3f5f"
            },
            "error_y": {
             "color": "#2a3f5f"
            },
            "marker": {
             "line": {
              "color": "#E5ECF6",
              "width": 0.5
             },
             "pattern": {
              "fillmode": "overlay",
              "size": 10,
              "solidity": 0.2
             }
            },
            "type": "bar"
           }
          ],
          "barpolar": [
           {
            "marker": {
             "line": {
              "color": "#E5ECF6",
              "width": 0.5
             },
             "pattern": {
              "fillmode": "overlay",
              "size": 10,
              "solidity": 0.2
             }
            },
            "type": "barpolar"
           }
          ],
          "carpet": [
           {
            "aaxis": {
             "endlinecolor": "#2a3f5f",
             "gridcolor": "white",
             "linecolor": "white",
             "minorgridcolor": "white",
             "startlinecolor": "#2a3f5f"
            },
            "baxis": {
             "endlinecolor": "#2a3f5f",
             "gridcolor": "white",
             "linecolor": "white",
             "minorgridcolor": "white",
             "startlinecolor": "#2a3f5f"
            },
            "type": "carpet"
           }
          ],
          "choropleth": [
           {
            "colorbar": {
             "outlinewidth": 0,
             "ticks": ""
            },
            "type": "choropleth"
           }
          ],
          "contour": [
           {
            "colorbar": {
             "outlinewidth": 0,
             "ticks": ""
            },
            "colorscale": [
             [
              0,
              "#0d0887"
             ],
             [
              0.1111111111111111,
              "#46039f"
             ],
             [
              0.2222222222222222,
              "#7201a8"
             ],
             [
              0.3333333333333333,
              "#9c179e"
             ],
             [
              0.4444444444444444,
              "#bd3786"
             ],
             [
              0.5555555555555556,
              "#d8576b"
             ],
             [
              0.6666666666666666,
              "#ed7953"
             ],
             [
              0.7777777777777778,
              "#fb9f3a"
             ],
             [
              0.8888888888888888,
              "#fdca26"
             ],
             [
              1,
              "#f0f921"
             ]
            ],
            "type": "contour"
           }
          ],
          "contourcarpet": [
           {
            "colorbar": {
             "outlinewidth": 0,
             "ticks": ""
            },
            "type": "contourcarpet"
           }
          ],
          "heatmap": [
           {
            "colorbar": {
             "outlinewidth": 0,
             "ticks": ""
            },
            "colorscale": [
             [
              0,
              "#0d0887"
             ],
             [
              0.1111111111111111,
              "#46039f"
             ],
             [
              0.2222222222222222,
              "#7201a8"
             ],
             [
              0.3333333333333333,
              "#9c179e"
             ],
             [
              0.4444444444444444,
              "#bd3786"
             ],
             [
              0.5555555555555556,
              "#d8576b"
             ],
             [
              0.6666666666666666,
              "#ed7953"
             ],
             [
              0.7777777777777778,
              "#fb9f3a"
             ],
             [
              0.8888888888888888,
              "#fdca26"
             ],
             [
              1,
              "#f0f921"
             ]
            ],
            "type": "heatmap"
           }
          ],
          "heatmapgl": [
           {
            "colorbar": {
             "outlinewidth": 0,
             "ticks": ""
            },
            "colorscale": [
             [
              0,
              "#0d0887"
             ],
             [
              0.1111111111111111,
              "#46039f"
             ],
             [
              0.2222222222222222,
              "#7201a8"
             ],
             [
              0.3333333333333333,
              "#9c179e"
             ],
             [
              0.4444444444444444,
              "#bd3786"
             ],
             [
              0.5555555555555556,
              "#d8576b"
             ],
             [
              0.6666666666666666,
              "#ed7953"
             ],
             [
              0.7777777777777778,
              "#fb9f3a"
             ],
             [
              0.8888888888888888,
              "#fdca26"
             ],
             [
              1,
              "#f0f921"
             ]
            ],
            "type": "heatmapgl"
           }
          ],
          "histogram": [
           {
            "marker": {
             "pattern": {
              "fillmode": "overlay",
              "size": 10,
              "solidity": 0.2
             }
            },
            "type": "histogram"
           }
          ],
          "histogram2d": [
           {
            "colorbar": {
             "outlinewidth": 0,
             "ticks": ""
            },
            "colorscale": [
             [
              0,
              "#0d0887"
             ],
             [
              0.1111111111111111,
              "#46039f"
             ],
             [
              0.2222222222222222,
              "#7201a8"
             ],
             [
              0.3333333333333333,
              "#9c179e"
             ],
             [
              0.4444444444444444,
              "#bd3786"
             ],
             [
              0.5555555555555556,
              "#d8576b"
             ],
             [
              0.6666666666666666,
              "#ed7953"
             ],
             [
              0.7777777777777778,
              "#fb9f3a"
             ],
             [
              0.8888888888888888,
              "#fdca26"
             ],
             [
              1,
              "#f0f921"
             ]
            ],
            "type": "histogram2d"
           }
          ],
          "histogram2dcontour": [
           {
            "colorbar": {
             "outlinewidth": 0,
             "ticks": ""
            },
            "colorscale": [
             [
              0,
              "#0d0887"
             ],
             [
              0.1111111111111111,
              "#46039f"
             ],
             [
              0.2222222222222222,
              "#7201a8"
             ],
             [
              0.3333333333333333,
              "#9c179e"
             ],
             [
              0.4444444444444444,
              "#bd3786"
             ],
             [
              0.5555555555555556,
              "#d8576b"
             ],
             [
              0.6666666666666666,
              "#ed7953"
             ],
             [
              0.7777777777777778,
              "#fb9f3a"
             ],
             [
              0.8888888888888888,
              "#fdca26"
             ],
             [
              1,
              "#f0f921"
             ]
            ],
            "type": "histogram2dcontour"
           }
          ],
          "mesh3d": [
           {
            "colorbar": {
             "outlinewidth": 0,
             "ticks": ""
            },
            "type": "mesh3d"
           }
          ],
          "parcoords": [
           {
            "line": {
             "colorbar": {
              "outlinewidth": 0,
              "ticks": ""
             }
            },
            "type": "parcoords"
           }
          ],
          "pie": [
           {
            "automargin": true,
            "type": "pie"
           }
          ],
          "scatter": [
           {
            "fillpattern": {
             "fillmode": "overlay",
             "size": 10,
             "solidity": 0.2
            },
            "type": "scatter"
           }
          ],
          "scatter3d": [
           {
            "line": {
             "colorbar": {
              "outlinewidth": 0,
              "ticks": ""
             }
            },
            "marker": {
             "colorbar": {
              "outlinewidth": 0,
              "ticks": ""
             }
            },
            "type": "scatter3d"
           }
          ],
          "scattercarpet": [
           {
            "marker": {
             "colorbar": {
              "outlinewidth": 0,
              "ticks": ""
             }
            },
            "type": "scattercarpet"
           }
          ],
          "scattergeo": [
           {
            "marker": {
             "colorbar": {
              "outlinewidth": 0,
              "ticks": ""
             }
            },
            "type": "scattergeo"
           }
          ],
          "scattergl": [
           {
            "marker": {
             "colorbar": {
              "outlinewidth": 0,
              "ticks": ""
             }
            },
            "type": "scattergl"
           }
          ],
          "scattermapbox": [
           {
            "marker": {
             "colorbar": {
              "outlinewidth": 0,
              "ticks": ""
             }
            },
            "type": "scattermapbox"
           }
          ],
          "scatterpolar": [
           {
            "marker": {
             "colorbar": {
              "outlinewidth": 0,
              "ticks": ""
             }
            },
            "type": "scatterpolar"
           }
          ],
          "scatterpolargl": [
           {
            "marker": {
             "colorbar": {
              "outlinewidth": 0,
              "ticks": ""
             }
            },
            "type": "scatterpolargl"
           }
          ],
          "scatterternary": [
           {
            "marker": {
             "colorbar": {
              "outlinewidth": 0,
              "ticks": ""
             }
            },
            "type": "scatterternary"
           }
          ],
          "surface": [
           {
            "colorbar": {
             "outlinewidth": 0,
             "ticks": ""
            },
            "colorscale": [
             [
              0,
              "#0d0887"
             ],
             [
              0.1111111111111111,
              "#46039f"
             ],
             [
              0.2222222222222222,
              "#7201a8"
             ],
             [
              0.3333333333333333,
              "#9c179e"
             ],
             [
              0.4444444444444444,
              "#bd3786"
             ],
             [
              0.5555555555555556,
              "#d8576b"
             ],
             [
              0.6666666666666666,
              "#ed7953"
             ],
             [
              0.7777777777777778,
              "#fb9f3a"
             ],
             [
              0.8888888888888888,
              "#fdca26"
             ],
             [
              1,
              "#f0f921"
             ]
            ],
            "type": "surface"
           }
          ],
          "table": [
           {
            "cells": {
             "fill": {
              "color": "#EBF0F8"
             },
             "line": {
              "color": "white"
             }
            },
            "header": {
             "fill": {
              "color": "#C8D4E3"
             },
             "line": {
              "color": "white"
             }
            },
            "type": "table"
           }
          ]
         },
         "layout": {
          "annotationdefaults": {
           "arrowcolor": "#2a3f5f",
           "arrowhead": 0,
           "arrowwidth": 1
          },
          "autotypenumbers": "strict",
          "coloraxis": {
           "colorbar": {
            "outlinewidth": 0,
            "ticks": ""
           }
          },
          "colorscale": {
           "diverging": [
            [
             0,
             "#8e0152"
            ],
            [
             0.1,
             "#c51b7d"
            ],
            [
             0.2,
             "#de77ae"
            ],
            [
             0.3,
             "#f1b6da"
            ],
            [
             0.4,
             "#fde0ef"
            ],
            [
             0.5,
             "#f7f7f7"
            ],
            [
             0.6,
             "#e6f5d0"
            ],
            [
             0.7,
             "#b8e186"
            ],
            [
             0.8,
             "#7fbc41"
            ],
            [
             0.9,
             "#4d9221"
            ],
            [
             1,
             "#276419"
            ]
           ],
           "sequential": [
            [
             0,
             "#0d0887"
            ],
            [
             0.1111111111111111,
             "#46039f"
            ],
            [
             0.2222222222222222,
             "#7201a8"
            ],
            [
             0.3333333333333333,
             "#9c179e"
            ],
            [
             0.4444444444444444,
             "#bd3786"
            ],
            [
             0.5555555555555556,
             "#d8576b"
            ],
            [
             0.6666666666666666,
             "#ed7953"
            ],
            [
             0.7777777777777778,
             "#fb9f3a"
            ],
            [
             0.8888888888888888,
             "#fdca26"
            ],
            [
             1,
             "#f0f921"
            ]
           ],
           "sequentialminus": [
            [
             0,
             "#0d0887"
            ],
            [
             0.1111111111111111,
             "#46039f"
            ],
            [
             0.2222222222222222,
             "#7201a8"
            ],
            [
             0.3333333333333333,
             "#9c179e"
            ],
            [
             0.4444444444444444,
             "#bd3786"
            ],
            [
             0.5555555555555556,
             "#d8576b"
            ],
            [
             0.6666666666666666,
             "#ed7953"
            ],
            [
             0.7777777777777778,
             "#fb9f3a"
            ],
            [
             0.8888888888888888,
             "#fdca26"
            ],
            [
             1,
             "#f0f921"
            ]
           ]
          },
          "colorway": [
           "#636efa",
           "#EF553B",
           "#00cc96",
           "#ab63fa",
           "#FFA15A",
           "#19d3f3",
           "#FF6692",
           "#B6E880",
           "#FF97FF",
           "#FECB52"
          ],
          "font": {
           "color": "#2a3f5f"
          },
          "geo": {
           "bgcolor": "white",
           "lakecolor": "white",
           "landcolor": "#E5ECF6",
           "showlakes": true,
           "showland": true,
           "subunitcolor": "white"
          },
          "hoverlabel": {
           "align": "left"
          },
          "hovermode": "closest",
          "mapbox": {
           "style": "light"
          },
          "paper_bgcolor": "white",
          "plot_bgcolor": "#E5ECF6",
          "polar": {
           "angularaxis": {
            "gridcolor": "white",
            "linecolor": "white",
            "ticks": ""
           },
           "bgcolor": "#E5ECF6",
           "radialaxis": {
            "gridcolor": "white",
            "linecolor": "white",
            "ticks": ""
           }
          },
          "scene": {
           "xaxis": {
            "backgroundcolor": "#E5ECF6",
            "gridcolor": "white",
            "gridwidth": 2,
            "linecolor": "white",
            "showbackground": true,
            "ticks": "",
            "zerolinecolor": "white"
           },
           "yaxis": {
            "backgroundcolor": "#E5ECF6",
            "gridcolor": "white",
            "gridwidth": 2,
            "linecolor": "white",
            "showbackground": true,
            "ticks": "",
            "zerolinecolor": "white"
           },
           "zaxis": {
            "backgroundcolor": "#E5ECF6",
            "gridcolor": "white",
            "gridwidth": 2,
            "linecolor": "white",
            "showbackground": true,
            "ticks": "",
            "zerolinecolor": "white"
           }
          },
          "shapedefaults": {
           "line": {
            "color": "#2a3f5f"
           }
          },
          "ternary": {
           "aaxis": {
            "gridcolor": "white",
            "linecolor": "white",
            "ticks": ""
           },
           "baxis": {
            "gridcolor": "white",
            "linecolor": "white",
            "ticks": ""
           },
           "bgcolor": "#E5ECF6",
           "caxis": {
            "gridcolor": "white",
            "linecolor": "white",
            "ticks": ""
           }
          },
          "title": {
           "x": 0.05
          },
          "xaxis": {
           "automargin": true,
           "gridcolor": "white",
           "linecolor": "white",
           "ticks": "",
           "title": {
            "standoff": 15
           },
           "zerolinecolor": "white",
           "zerolinewidth": 2
          },
          "yaxis": {
           "automargin": true,
           "gridcolor": "white",
           "linecolor": "white",
           "ticks": "",
           "title": {
            "standoff": 15
           },
           "zerolinecolor": "white",
           "zerolinewidth": 2
          }
         }
        },
        "title": {
         "font": {
          "color": "#4D5663"
         }
        },
        "xaxis": {
         "gridcolor": "#E1E5ED",
         "showgrid": true,
         "tickfont": {
          "color": "#4D5663"
         },
         "title": {
          "font": {
           "color": "#4D5663"
          },
          "text": ""
         },
         "zerolinecolor": "#E1E5ED"
        },
        "yaxis": {
         "gridcolor": "#E1E5ED",
         "showgrid": true,
         "tickfont": {
          "color": "#4D5663"
         },
         "title": {
          "font": {
           "color": "#4D5663"
          },
          "text": ""
         },
         "zerolinecolor": "#E1E5ED"
        }
       }
      },
      "text/html": [
       "<div>                            <div id=\"9f1b8f89-c163-4d35-9d66-7c5dcd6fcabd\" class=\"plotly-graph-div\" style=\"height:525px; width:100%;\"></div>            <script type=\"text/javascript\">                require([\"plotly\"], function(Plotly) {                    window.PLOTLYENV=window.PLOTLYENV || {};\n",
       "                    window.PLOTLYENV.BASE_URL='https://plot.ly';                                    if (document.getElementById(\"9f1b8f89-c163-4d35-9d66-7c5dcd6fcabd\")) {                    Plotly.newPlot(                        \"9f1b8f89-c163-4d35-9d66-7c5dcd6fcabd\",                        [{\"marker\":{\"color\":\"rgba(255, 153, 51, 0.6)\",\"line\":{\"color\":\"rgba(255, 153, 51, 1.0)\",\"width\":1}},\"name\":\"Values\",\"orientation\":\"v\",\"text\":\"\",\"x\":[\"A\",\"B\",\"C\"],\"y\":[32,43,50],\"type\":\"bar\"}],                        {\"legend\":{\"bgcolor\":\"#F5F6F9\",\"font\":{\"color\":\"#4D5663\"}},\"paper_bgcolor\":\"#F5F6F9\",\"plot_bgcolor\":\"#F5F6F9\",\"template\":{\"data\":{\"barpolar\":[{\"marker\":{\"line\":{\"color\":\"#E5ECF6\",\"width\":0.5},\"pattern\":{\"fillmode\":\"overlay\",\"size\":10,\"solidity\":0.2}},\"type\":\"barpolar\"}],\"bar\":[{\"error_x\":{\"color\":\"#2a3f5f\"},\"error_y\":{\"color\":\"#2a3f5f\"},\"marker\":{\"line\":{\"color\":\"#E5ECF6\",\"width\":0.5},\"pattern\":{\"fillmode\":\"overlay\",\"size\":10,\"solidity\":0.2}},\"type\":\"bar\"}],\"carpet\":[{\"aaxis\":{\"endlinecolor\":\"#2a3f5f\",\"gridcolor\":\"white\",\"linecolor\":\"white\",\"minorgridcolor\":\"white\",\"startlinecolor\":\"#2a3f5f\"},\"baxis\":{\"endlinecolor\":\"#2a3f5f\",\"gridcolor\":\"white\",\"linecolor\":\"white\",\"minorgridcolor\":\"white\",\"startlinecolor\":\"#2a3f5f\"},\"type\":\"carpet\"}],\"choropleth\":[{\"colorbar\":{\"outlinewidth\":0,\"ticks\":\"\"},\"type\":\"choropleth\"}],\"contourcarpet\":[{\"colorbar\":{\"outlinewidth\":0,\"ticks\":\"\"},\"type\":\"contourcarpet\"}],\"contour\":[{\"colorbar\":{\"outlinewidth\":0,\"ticks\":\"\"},\"colorscale\":[[0.0,\"#0d0887\"],[0.1111111111111111,\"#46039f\"],[0.2222222222222222,\"#7201a8\"],[0.3333333333333333,\"#9c179e\"],[0.4444444444444444,\"#bd3786\"],[0.5555555555555556,\"#d8576b\"],[0.6666666666666666,\"#ed7953\"],[0.7777777777777778,\"#fb9f3a\"],[0.8888888888888888,\"#fdca26\"],[1.0,\"#f0f921\"]],\"type\":\"contour\"}],\"heatmapgl\":[{\"colorbar\":{\"outlinewidth\":0,\"ticks\":\"\"},\"colorscale\":[[0.0,\"#0d0887\"],[0.1111111111111111,\"#46039f\"],[0.2222222222222222,\"#7201a8\"],[0.3333333333333333,\"#9c179e\"],[0.4444444444444444,\"#bd3786\"],[0.5555555555555556,\"#d8576b\"],[0.6666666666666666,\"#ed7953\"],[0.7777777777777778,\"#fb9f3a\"],[0.8888888888888888,\"#fdca26\"],[1.0,\"#f0f921\"]],\"type\":\"heatmapgl\"}],\"heatmap\":[{\"colorbar\":{\"outlinewidth\":0,\"ticks\":\"\"},\"colorscale\":[[0.0,\"#0d0887\"],[0.1111111111111111,\"#46039f\"],[0.2222222222222222,\"#7201a8\"],[0.3333333333333333,\"#9c179e\"],[0.4444444444444444,\"#bd3786\"],[0.5555555555555556,\"#d8576b\"],[0.6666666666666666,\"#ed7953\"],[0.7777777777777778,\"#fb9f3a\"],[0.8888888888888888,\"#fdca26\"],[1.0,\"#f0f921\"]],\"type\":\"heatmap\"}],\"histogram2dcontour\":[{\"colorbar\":{\"outlinewidth\":0,\"ticks\":\"\"},\"colorscale\":[[0.0,\"#0d0887\"],[0.1111111111111111,\"#46039f\"],[0.2222222222222222,\"#7201a8\"],[0.3333333333333333,\"#9c179e\"],[0.4444444444444444,\"#bd3786\"],[0.5555555555555556,\"#d8576b\"],[0.6666666666666666,\"#ed7953\"],[0.7777777777777778,\"#fb9f3a\"],[0.8888888888888888,\"#fdca26\"],[1.0,\"#f0f921\"]],\"type\":\"histogram2dcontour\"}],\"histogram2d\":[{\"colorbar\":{\"outlinewidth\":0,\"ticks\":\"\"},\"colorscale\":[[0.0,\"#0d0887\"],[0.1111111111111111,\"#46039f\"],[0.2222222222222222,\"#7201a8\"],[0.3333333333333333,\"#9c179e\"],[0.4444444444444444,\"#bd3786\"],[0.5555555555555556,\"#d8576b\"],[0.6666666666666666,\"#ed7953\"],[0.7777777777777778,\"#fb9f3a\"],[0.8888888888888888,\"#fdca26\"],[1.0,\"#f0f921\"]],\"type\":\"histogram2d\"}],\"histogram\":[{\"marker\":{\"pattern\":{\"fillmode\":\"overlay\",\"size\":10,\"solidity\":0.2}},\"type\":\"histogram\"}],\"mesh3d\":[{\"colorbar\":{\"outlinewidth\":0,\"ticks\":\"\"},\"type\":\"mesh3d\"}],\"parcoords\":[{\"line\":{\"colorbar\":{\"outlinewidth\":0,\"ticks\":\"\"}},\"type\":\"parcoords\"}],\"pie\":[{\"automargin\":true,\"type\":\"pie\"}],\"scatter3d\":[{\"line\":{\"colorbar\":{\"outlinewidth\":0,\"ticks\":\"\"}},\"marker\":{\"colorbar\":{\"outlinewidth\":0,\"ticks\":\"\"}},\"type\":\"scatter3d\"}],\"scattercarpet\":[{\"marker\":{\"colorbar\":{\"outlinewidth\":0,\"ticks\":\"\"}},\"type\":\"scattercarpet\"}],\"scattergeo\":[{\"marker\":{\"colorbar\":{\"outlinewidth\":0,\"ticks\":\"\"}},\"type\":\"scattergeo\"}],\"scattergl\":[{\"marker\":{\"colorbar\":{\"outlinewidth\":0,\"ticks\":\"\"}},\"type\":\"scattergl\"}],\"scattermapbox\":[{\"marker\":{\"colorbar\":{\"outlinewidth\":0,\"ticks\":\"\"}},\"type\":\"scattermapbox\"}],\"scatterpolargl\":[{\"marker\":{\"colorbar\":{\"outlinewidth\":0,\"ticks\":\"\"}},\"type\":\"scatterpolargl\"}],\"scatterpolar\":[{\"marker\":{\"colorbar\":{\"outlinewidth\":0,\"ticks\":\"\"}},\"type\":\"scatterpolar\"}],\"scatter\":[{\"fillpattern\":{\"fillmode\":\"overlay\",\"size\":10,\"solidity\":0.2},\"type\":\"scatter\"}],\"scatterternary\":[{\"marker\":{\"colorbar\":{\"outlinewidth\":0,\"ticks\":\"\"}},\"type\":\"scatterternary\"}],\"surface\":[{\"colorbar\":{\"outlinewidth\":0,\"ticks\":\"\"},\"colorscale\":[[0.0,\"#0d0887\"],[0.1111111111111111,\"#46039f\"],[0.2222222222222222,\"#7201a8\"],[0.3333333333333333,\"#9c179e\"],[0.4444444444444444,\"#bd3786\"],[0.5555555555555556,\"#d8576b\"],[0.6666666666666666,\"#ed7953\"],[0.7777777777777778,\"#fb9f3a\"],[0.8888888888888888,\"#fdca26\"],[1.0,\"#f0f921\"]],\"type\":\"surface\"}],\"table\":[{\"cells\":{\"fill\":{\"color\":\"#EBF0F8\"},\"line\":{\"color\":\"white\"}},\"header\":{\"fill\":{\"color\":\"#C8D4E3\"},\"line\":{\"color\":\"white\"}},\"type\":\"table\"}]},\"layout\":{\"annotationdefaults\":{\"arrowcolor\":\"#2a3f5f\",\"arrowhead\":0,\"arrowwidth\":1},\"autotypenumbers\":\"strict\",\"coloraxis\":{\"colorbar\":{\"outlinewidth\":0,\"ticks\":\"\"}},\"colorscale\":{\"diverging\":[[0,\"#8e0152\"],[0.1,\"#c51b7d\"],[0.2,\"#de77ae\"],[0.3,\"#f1b6da\"],[0.4,\"#fde0ef\"],[0.5,\"#f7f7f7\"],[0.6,\"#e6f5d0\"],[0.7,\"#b8e186\"],[0.8,\"#7fbc41\"],[0.9,\"#4d9221\"],[1,\"#276419\"]],\"sequential\":[[0.0,\"#0d0887\"],[0.1111111111111111,\"#46039f\"],[0.2222222222222222,\"#7201a8\"],[0.3333333333333333,\"#9c179e\"],[0.4444444444444444,\"#bd3786\"],[0.5555555555555556,\"#d8576b\"],[0.6666666666666666,\"#ed7953\"],[0.7777777777777778,\"#fb9f3a\"],[0.8888888888888888,\"#fdca26\"],[1.0,\"#f0f921\"]],\"sequentialminus\":[[0.0,\"#0d0887\"],[0.1111111111111111,\"#46039f\"],[0.2222222222222222,\"#7201a8\"],[0.3333333333333333,\"#9c179e\"],[0.4444444444444444,\"#bd3786\"],[0.5555555555555556,\"#d8576b\"],[0.6666666666666666,\"#ed7953\"],[0.7777777777777778,\"#fb9f3a\"],[0.8888888888888888,\"#fdca26\"],[1.0,\"#f0f921\"]]},\"colorway\":[\"#636efa\",\"#EF553B\",\"#00cc96\",\"#ab63fa\",\"#FFA15A\",\"#19d3f3\",\"#FF6692\",\"#B6E880\",\"#FF97FF\",\"#FECB52\"],\"font\":{\"color\":\"#2a3f5f\"},\"geo\":{\"bgcolor\":\"white\",\"lakecolor\":\"white\",\"landcolor\":\"#E5ECF6\",\"showlakes\":true,\"showland\":true,\"subunitcolor\":\"white\"},\"hoverlabel\":{\"align\":\"left\"},\"hovermode\":\"closest\",\"mapbox\":{\"style\":\"light\"},\"paper_bgcolor\":\"white\",\"plot_bgcolor\":\"#E5ECF6\",\"polar\":{\"angularaxis\":{\"gridcolor\":\"white\",\"linecolor\":\"white\",\"ticks\":\"\"},\"bgcolor\":\"#E5ECF6\",\"radialaxis\":{\"gridcolor\":\"white\",\"linecolor\":\"white\",\"ticks\":\"\"}},\"scene\":{\"xaxis\":{\"backgroundcolor\":\"#E5ECF6\",\"gridcolor\":\"white\",\"gridwidth\":2,\"linecolor\":\"white\",\"showbackground\":true,\"ticks\":\"\",\"zerolinecolor\":\"white\"},\"yaxis\":{\"backgroundcolor\":\"#E5ECF6\",\"gridcolor\":\"white\",\"gridwidth\":2,\"linecolor\":\"white\",\"showbackground\":true,\"ticks\":\"\",\"zerolinecolor\":\"white\"},\"zaxis\":{\"backgroundcolor\":\"#E5ECF6\",\"gridcolor\":\"white\",\"gridwidth\":2,\"linecolor\":\"white\",\"showbackground\":true,\"ticks\":\"\",\"zerolinecolor\":\"white\"}},\"shapedefaults\":{\"line\":{\"color\":\"#2a3f5f\"}},\"ternary\":{\"aaxis\":{\"gridcolor\":\"white\",\"linecolor\":\"white\",\"ticks\":\"\"},\"baxis\":{\"gridcolor\":\"white\",\"linecolor\":\"white\",\"ticks\":\"\"},\"bgcolor\":\"#E5ECF6\",\"caxis\":{\"gridcolor\":\"white\",\"linecolor\":\"white\",\"ticks\":\"\"}},\"title\":{\"x\":0.05},\"xaxis\":{\"automargin\":true,\"gridcolor\":\"white\",\"linecolor\":\"white\",\"ticks\":\"\",\"title\":{\"standoff\":15},\"zerolinecolor\":\"white\",\"zerolinewidth\":2},\"yaxis\":{\"automargin\":true,\"gridcolor\":\"white\",\"linecolor\":\"white\",\"ticks\":\"\",\"title\":{\"standoff\":15},\"zerolinecolor\":\"white\",\"zerolinewidth\":2}}},\"title\":{\"font\":{\"color\":\"#4D5663\"}},\"xaxis\":{\"gridcolor\":\"#E1E5ED\",\"showgrid\":true,\"tickfont\":{\"color\":\"#4D5663\"},\"title\":{\"font\":{\"color\":\"#4D5663\"},\"text\":\"\"},\"zerolinecolor\":\"#E1E5ED\"},\"yaxis\":{\"gridcolor\":\"#E1E5ED\",\"showgrid\":true,\"tickfont\":{\"color\":\"#4D5663\"},\"title\":{\"font\":{\"color\":\"#4D5663\"},\"text\":\"\"},\"zerolinecolor\":\"#E1E5ED\"}},                        {\"showLink\": true, \"linkText\": \"Export to plot.ly\", \"plotlyServerURL\": \"https://plot.ly\", \"responsive\": true}                    ).then(function(){\n",
       "                            \n",
       "var gd = document.getElementById('9f1b8f89-c163-4d35-9d66-7c5dcd6fcabd');\n",
       "var x = new MutationObserver(function (mutations, observer) {{\n",
       "        var display = window.getComputedStyle(gd).display;\n",
       "        if (!display || display === 'none') {{\n",
       "            console.log([gd, 'removed!']);\n",
       "            Plotly.purge(gd);\n",
       "            observer.disconnect();\n",
       "        }}\n",
       "}});\n",
       "\n",
       "// Listen for the removal of the full notebook cells\n",
       "var notebookContainer = gd.closest('#notebook-container');\n",
       "if (notebookContainer) {{\n",
       "    x.observe(notebookContainer, {childList: true});\n",
       "}}\n",
       "\n",
       "// Listen for the clearing of the current output cell\n",
       "var outputEl = gd.closest('.output');\n",
       "if (outputEl) {{\n",
       "    x.observe(outputEl, {childList: true});\n",
       "}}\n",
       "\n",
       "                        })                };                });            </script>        </div>"
      ]
     },
     "metadata": {},
     "output_type": "display_data"
    }
   ],
   "source": [
    "df2.iplot(kind='bar',x='Category',y='Values')"
   ]
  },
  {
   "cell_type": "code",
   "execution_count": 12,
   "metadata": {},
   "outputs": [
    {
     "data": {
      "application/vnd.plotly.v1+json": {
       "config": {
        "linkText": "Export to plot.ly",
        "plotlyServerURL": "https://plot.ly",
        "showLink": true
       },
       "data": [
        {
         "marker": {
          "color": "rgba(255, 153, 51, 0.6)",
          "line": {
           "color": "rgba(255, 153, 51, 1.0)",
           "width": 1
          }
         },
         "name": "None",
         "orientation": "v",
         "text": "",
         "type": "bar",
         "x": [
          "A",
          "B",
          "C",
          "D"
         ],
         "y": [
          100,
          100,
          100,
          100
         ]
        }
       ],
       "layout": {
        "legend": {
         "bgcolor": "#F5F6F9",
         "font": {
          "color": "#4D5663"
         }
        },
        "paper_bgcolor": "#F5F6F9",
        "plot_bgcolor": "#F5F6F9",
        "template": {
         "data": {
          "bar": [
           {
            "error_x": {
             "color": "#2a3f5f"
            },
            "error_y": {
             "color": "#2a3f5f"
            },
            "marker": {
             "line": {
              "color": "#E5ECF6",
              "width": 0.5
             },
             "pattern": {
              "fillmode": "overlay",
              "size": 10,
              "solidity": 0.2
             }
            },
            "type": "bar"
           }
          ],
          "barpolar": [
           {
            "marker": {
             "line": {
              "color": "#E5ECF6",
              "width": 0.5
             },
             "pattern": {
              "fillmode": "overlay",
              "size": 10,
              "solidity": 0.2
             }
            },
            "type": "barpolar"
           }
          ],
          "carpet": [
           {
            "aaxis": {
             "endlinecolor": "#2a3f5f",
             "gridcolor": "white",
             "linecolor": "white",
             "minorgridcolor": "white",
             "startlinecolor": "#2a3f5f"
            },
            "baxis": {
             "endlinecolor": "#2a3f5f",
             "gridcolor": "white",
             "linecolor": "white",
             "minorgridcolor": "white",
             "startlinecolor": "#2a3f5f"
            },
            "type": "carpet"
           }
          ],
          "choropleth": [
           {
            "colorbar": {
             "outlinewidth": 0,
             "ticks": ""
            },
            "type": "choropleth"
           }
          ],
          "contour": [
           {
            "colorbar": {
             "outlinewidth": 0,
             "ticks": ""
            },
            "colorscale": [
             [
              0,
              "#0d0887"
             ],
             [
              0.1111111111111111,
              "#46039f"
             ],
             [
              0.2222222222222222,
              "#7201a8"
             ],
             [
              0.3333333333333333,
              "#9c179e"
             ],
             [
              0.4444444444444444,
              "#bd3786"
             ],
             [
              0.5555555555555556,
              "#d8576b"
             ],
             [
              0.6666666666666666,
              "#ed7953"
             ],
             [
              0.7777777777777778,
              "#fb9f3a"
             ],
             [
              0.8888888888888888,
              "#fdca26"
             ],
             [
              1,
              "#f0f921"
             ]
            ],
            "type": "contour"
           }
          ],
          "contourcarpet": [
           {
            "colorbar": {
             "outlinewidth": 0,
             "ticks": ""
            },
            "type": "contourcarpet"
           }
          ],
          "heatmap": [
           {
            "colorbar": {
             "outlinewidth": 0,
             "ticks": ""
            },
            "colorscale": [
             [
              0,
              "#0d0887"
             ],
             [
              0.1111111111111111,
              "#46039f"
             ],
             [
              0.2222222222222222,
              "#7201a8"
             ],
             [
              0.3333333333333333,
              "#9c179e"
             ],
             [
              0.4444444444444444,
              "#bd3786"
             ],
             [
              0.5555555555555556,
              "#d8576b"
             ],
             [
              0.6666666666666666,
              "#ed7953"
             ],
             [
              0.7777777777777778,
              "#fb9f3a"
             ],
             [
              0.8888888888888888,
              "#fdca26"
             ],
             [
              1,
              "#f0f921"
             ]
            ],
            "type": "heatmap"
           }
          ],
          "heatmapgl": [
           {
            "colorbar": {
             "outlinewidth": 0,
             "ticks": ""
            },
            "colorscale": [
             [
              0,
              "#0d0887"
             ],
             [
              0.1111111111111111,
              "#46039f"
             ],
             [
              0.2222222222222222,
              "#7201a8"
             ],
             [
              0.3333333333333333,
              "#9c179e"
             ],
             [
              0.4444444444444444,
              "#bd3786"
             ],
             [
              0.5555555555555556,
              "#d8576b"
             ],
             [
              0.6666666666666666,
              "#ed7953"
             ],
             [
              0.7777777777777778,
              "#fb9f3a"
             ],
             [
              0.8888888888888888,
              "#fdca26"
             ],
             [
              1,
              "#f0f921"
             ]
            ],
            "type": "heatmapgl"
           }
          ],
          "histogram": [
           {
            "marker": {
             "pattern": {
              "fillmode": "overlay",
              "size": 10,
              "solidity": 0.2
             }
            },
            "type": "histogram"
           }
          ],
          "histogram2d": [
           {
            "colorbar": {
             "outlinewidth": 0,
             "ticks": ""
            },
            "colorscale": [
             [
              0,
              "#0d0887"
             ],
             [
              0.1111111111111111,
              "#46039f"
             ],
             [
              0.2222222222222222,
              "#7201a8"
             ],
             [
              0.3333333333333333,
              "#9c179e"
             ],
             [
              0.4444444444444444,
              "#bd3786"
             ],
             [
              0.5555555555555556,
              "#d8576b"
             ],
             [
              0.6666666666666666,
              "#ed7953"
             ],
             [
              0.7777777777777778,
              "#fb9f3a"
             ],
             [
              0.8888888888888888,
              "#fdca26"
             ],
             [
              1,
              "#f0f921"
             ]
            ],
            "type": "histogram2d"
           }
          ],
          "histogram2dcontour": [
           {
            "colorbar": {
             "outlinewidth": 0,
             "ticks": ""
            },
            "colorscale": [
             [
              0,
              "#0d0887"
             ],
             [
              0.1111111111111111,
              "#46039f"
             ],
             [
              0.2222222222222222,
              "#7201a8"
             ],
             [
              0.3333333333333333,
              "#9c179e"
             ],
             [
              0.4444444444444444,
              "#bd3786"
             ],
             [
              0.5555555555555556,
              "#d8576b"
             ],
             [
              0.6666666666666666,
              "#ed7953"
             ],
             [
              0.7777777777777778,
              "#fb9f3a"
             ],
             [
              0.8888888888888888,
              "#fdca26"
             ],
             [
              1,
              "#f0f921"
             ]
            ],
            "type": "histogram2dcontour"
           }
          ],
          "mesh3d": [
           {
            "colorbar": {
             "outlinewidth": 0,
             "ticks": ""
            },
            "type": "mesh3d"
           }
          ],
          "parcoords": [
           {
            "line": {
             "colorbar": {
              "outlinewidth": 0,
              "ticks": ""
             }
            },
            "type": "parcoords"
           }
          ],
          "pie": [
           {
            "automargin": true,
            "type": "pie"
           }
          ],
          "scatter": [
           {
            "fillpattern": {
             "fillmode": "overlay",
             "size": 10,
             "solidity": 0.2
            },
            "type": "scatter"
           }
          ],
          "scatter3d": [
           {
            "line": {
             "colorbar": {
              "outlinewidth": 0,
              "ticks": ""
             }
            },
            "marker": {
             "colorbar": {
              "outlinewidth": 0,
              "ticks": ""
             }
            },
            "type": "scatter3d"
           }
          ],
          "scattercarpet": [
           {
            "marker": {
             "colorbar": {
              "outlinewidth": 0,
              "ticks": ""
             }
            },
            "type": "scattercarpet"
           }
          ],
          "scattergeo": [
           {
            "marker": {
             "colorbar": {
              "outlinewidth": 0,
              "ticks": ""
             }
            },
            "type": "scattergeo"
           }
          ],
          "scattergl": [
           {
            "marker": {
             "colorbar": {
              "outlinewidth": 0,
              "ticks": ""
             }
            },
            "type": "scattergl"
           }
          ],
          "scattermapbox": [
           {
            "marker": {
             "colorbar": {
              "outlinewidth": 0,
              "ticks": ""
             }
            },
            "type": "scattermapbox"
           }
          ],
          "scatterpolar": [
           {
            "marker": {
             "colorbar": {
              "outlinewidth": 0,
              "ticks": ""
             }
            },
            "type": "scatterpolar"
           }
          ],
          "scatterpolargl": [
           {
            "marker": {
             "colorbar": {
              "outlinewidth": 0,
              "ticks": ""
             }
            },
            "type": "scatterpolargl"
           }
          ],
          "scatterternary": [
           {
            "marker": {
             "colorbar": {
              "outlinewidth": 0,
              "ticks": ""
             }
            },
            "type": "scatterternary"
           }
          ],
          "surface": [
           {
            "colorbar": {
             "outlinewidth": 0,
             "ticks": ""
            },
            "colorscale": [
             [
              0,
              "#0d0887"
             ],
             [
              0.1111111111111111,
              "#46039f"
             ],
             [
              0.2222222222222222,
              "#7201a8"
             ],
             [
              0.3333333333333333,
              "#9c179e"
             ],
             [
              0.4444444444444444,
              "#bd3786"
             ],
             [
              0.5555555555555556,
              "#d8576b"
             ],
             [
              0.6666666666666666,
              "#ed7953"
             ],
             [
              0.7777777777777778,
              "#fb9f3a"
             ],
             [
              0.8888888888888888,
              "#fdca26"
             ],
             [
              1,
              "#f0f921"
             ]
            ],
            "type": "surface"
           }
          ],
          "table": [
           {
            "cells": {
             "fill": {
              "color": "#EBF0F8"
             },
             "line": {
              "color": "white"
             }
            },
            "header": {
             "fill": {
              "color": "#C8D4E3"
             },
             "line": {
              "color": "white"
             }
            },
            "type": "table"
           }
          ]
         },
         "layout": {
          "annotationdefaults": {
           "arrowcolor": "#2a3f5f",
           "arrowhead": 0,
           "arrowwidth": 1
          },
          "autotypenumbers": "strict",
          "coloraxis": {
           "colorbar": {
            "outlinewidth": 0,
            "ticks": ""
           }
          },
          "colorscale": {
           "diverging": [
            [
             0,
             "#8e0152"
            ],
            [
             0.1,
             "#c51b7d"
            ],
            [
             0.2,
             "#de77ae"
            ],
            [
             0.3,
             "#f1b6da"
            ],
            [
             0.4,
             "#fde0ef"
            ],
            [
             0.5,
             "#f7f7f7"
            ],
            [
             0.6,
             "#e6f5d0"
            ],
            [
             0.7,
             "#b8e186"
            ],
            [
             0.8,
             "#7fbc41"
            ],
            [
             0.9,
             "#4d9221"
            ],
            [
             1,
             "#276419"
            ]
           ],
           "sequential": [
            [
             0,
             "#0d0887"
            ],
            [
             0.1111111111111111,
             "#46039f"
            ],
            [
             0.2222222222222222,
             "#7201a8"
            ],
            [
             0.3333333333333333,
             "#9c179e"
            ],
            [
             0.4444444444444444,
             "#bd3786"
            ],
            [
             0.5555555555555556,
             "#d8576b"
            ],
            [
             0.6666666666666666,
             "#ed7953"
            ],
            [
             0.7777777777777778,
             "#fb9f3a"
            ],
            [
             0.8888888888888888,
             "#fdca26"
            ],
            [
             1,
             "#f0f921"
            ]
           ],
           "sequentialminus": [
            [
             0,
             "#0d0887"
            ],
            [
             0.1111111111111111,
             "#46039f"
            ],
            [
             0.2222222222222222,
             "#7201a8"
            ],
            [
             0.3333333333333333,
             "#9c179e"
            ],
            [
             0.4444444444444444,
             "#bd3786"
            ],
            [
             0.5555555555555556,
             "#d8576b"
            ],
            [
             0.6666666666666666,
             "#ed7953"
            ],
            [
             0.7777777777777778,
             "#fb9f3a"
            ],
            [
             0.8888888888888888,
             "#fdca26"
            ],
            [
             1,
             "#f0f921"
            ]
           ]
          },
          "colorway": [
           "#636efa",
           "#EF553B",
           "#00cc96",
           "#ab63fa",
           "#FFA15A",
           "#19d3f3",
           "#FF6692",
           "#B6E880",
           "#FF97FF",
           "#FECB52"
          ],
          "font": {
           "color": "#2a3f5f"
          },
          "geo": {
           "bgcolor": "white",
           "lakecolor": "white",
           "landcolor": "#E5ECF6",
           "showlakes": true,
           "showland": true,
           "subunitcolor": "white"
          },
          "hoverlabel": {
           "align": "left"
          },
          "hovermode": "closest",
          "mapbox": {
           "style": "light"
          },
          "paper_bgcolor": "white",
          "plot_bgcolor": "#E5ECF6",
          "polar": {
           "angularaxis": {
            "gridcolor": "white",
            "linecolor": "white",
            "ticks": ""
           },
           "bgcolor": "#E5ECF6",
           "radialaxis": {
            "gridcolor": "white",
            "linecolor": "white",
            "ticks": ""
           }
          },
          "scene": {
           "xaxis": {
            "backgroundcolor": "#E5ECF6",
            "gridcolor": "white",
            "gridwidth": 2,
            "linecolor": "white",
            "showbackground": true,
            "ticks": "",
            "zerolinecolor": "white"
           },
           "yaxis": {
            "backgroundcolor": "#E5ECF6",
            "gridcolor": "white",
            "gridwidth": 2,
            "linecolor": "white",
            "showbackground": true,
            "ticks": "",
            "zerolinecolor": "white"
           },
           "zaxis": {
            "backgroundcolor": "#E5ECF6",
            "gridcolor": "white",
            "gridwidth": 2,
            "linecolor": "white",
            "showbackground": true,
            "ticks": "",
            "zerolinecolor": "white"
           }
          },
          "shapedefaults": {
           "line": {
            "color": "#2a3f5f"
           }
          },
          "ternary": {
           "aaxis": {
            "gridcolor": "white",
            "linecolor": "white",
            "ticks": ""
           },
           "baxis": {
            "gridcolor": "white",
            "linecolor": "white",
            "ticks": ""
           },
           "bgcolor": "#E5ECF6",
           "caxis": {
            "gridcolor": "white",
            "linecolor": "white",
            "ticks": ""
           }
          },
          "title": {
           "x": 0.05
          },
          "xaxis": {
           "automargin": true,
           "gridcolor": "white",
           "linecolor": "white",
           "ticks": "",
           "title": {
            "standoff": 15
           },
           "zerolinecolor": "white",
           "zerolinewidth": 2
          },
          "yaxis": {
           "automargin": true,
           "gridcolor": "white",
           "linecolor": "white",
           "ticks": "",
           "title": {
            "standoff": 15
           },
           "zerolinecolor": "white",
           "zerolinewidth": 2
          }
         }
        },
        "title": {
         "font": {
          "color": "#4D5663"
         }
        },
        "xaxis": {
         "gridcolor": "#E1E5ED",
         "showgrid": true,
         "tickfont": {
          "color": "#4D5663"
         },
         "title": {
          "font": {
           "color": "#4D5663"
          },
          "text": ""
         },
         "zerolinecolor": "#E1E5ED"
        },
        "yaxis": {
         "gridcolor": "#E1E5ED",
         "showgrid": true,
         "tickfont": {
          "color": "#4D5663"
         },
         "title": {
          "font": {
           "color": "#4D5663"
          },
          "text": ""
         },
         "zerolinecolor": "#E1E5ED"
        }
       }
      },
      "text/html": [
       "<div>                            <div id=\"b2c4176c-f5e6-49aa-b7ce-eecd1e7010ab\" class=\"plotly-graph-div\" style=\"height:525px; width:100%;\"></div>            <script type=\"text/javascript\">                require([\"plotly\"], function(Plotly) {                    window.PLOTLYENV=window.PLOTLYENV || {};\n",
       "                    window.PLOTLYENV.BASE_URL='https://plot.ly';                                    if (document.getElementById(\"b2c4176c-f5e6-49aa-b7ce-eecd1e7010ab\")) {                    Plotly.newPlot(                        \"b2c4176c-f5e6-49aa-b7ce-eecd1e7010ab\",                        [{\"marker\":{\"color\":\"rgba(255, 153, 51, 0.6)\",\"line\":{\"color\":\"rgba(255, 153, 51, 1.0)\",\"width\":1}},\"name\":\"None\",\"orientation\":\"v\",\"text\":\"\",\"x\":[\"A\",\"B\",\"C\",\"D\"],\"y\":[100,100,100,100],\"type\":\"bar\"}],                        {\"legend\":{\"bgcolor\":\"#F5F6F9\",\"font\":{\"color\":\"#4D5663\"}},\"paper_bgcolor\":\"#F5F6F9\",\"plot_bgcolor\":\"#F5F6F9\",\"template\":{\"data\":{\"barpolar\":[{\"marker\":{\"line\":{\"color\":\"#E5ECF6\",\"width\":0.5},\"pattern\":{\"fillmode\":\"overlay\",\"size\":10,\"solidity\":0.2}},\"type\":\"barpolar\"}],\"bar\":[{\"error_x\":{\"color\":\"#2a3f5f\"},\"error_y\":{\"color\":\"#2a3f5f\"},\"marker\":{\"line\":{\"color\":\"#E5ECF6\",\"width\":0.5},\"pattern\":{\"fillmode\":\"overlay\",\"size\":10,\"solidity\":0.2}},\"type\":\"bar\"}],\"carpet\":[{\"aaxis\":{\"endlinecolor\":\"#2a3f5f\",\"gridcolor\":\"white\",\"linecolor\":\"white\",\"minorgridcolor\":\"white\",\"startlinecolor\":\"#2a3f5f\"},\"baxis\":{\"endlinecolor\":\"#2a3f5f\",\"gridcolor\":\"white\",\"linecolor\":\"white\",\"minorgridcolor\":\"white\",\"startlinecolor\":\"#2a3f5f\"},\"type\":\"carpet\"}],\"choropleth\":[{\"colorbar\":{\"outlinewidth\":0,\"ticks\":\"\"},\"type\":\"choropleth\"}],\"contourcarpet\":[{\"colorbar\":{\"outlinewidth\":0,\"ticks\":\"\"},\"type\":\"contourcarpet\"}],\"contour\":[{\"colorbar\":{\"outlinewidth\":0,\"ticks\":\"\"},\"colorscale\":[[0.0,\"#0d0887\"],[0.1111111111111111,\"#46039f\"],[0.2222222222222222,\"#7201a8\"],[0.3333333333333333,\"#9c179e\"],[0.4444444444444444,\"#bd3786\"],[0.5555555555555556,\"#d8576b\"],[0.6666666666666666,\"#ed7953\"],[0.7777777777777778,\"#fb9f3a\"],[0.8888888888888888,\"#fdca26\"],[1.0,\"#f0f921\"]],\"type\":\"contour\"}],\"heatmapgl\":[{\"colorbar\":{\"outlinewidth\":0,\"ticks\":\"\"},\"colorscale\":[[0.0,\"#0d0887\"],[0.1111111111111111,\"#46039f\"],[0.2222222222222222,\"#7201a8\"],[0.3333333333333333,\"#9c179e\"],[0.4444444444444444,\"#bd3786\"],[0.5555555555555556,\"#d8576b\"],[0.6666666666666666,\"#ed7953\"],[0.7777777777777778,\"#fb9f3a\"],[0.8888888888888888,\"#fdca26\"],[1.0,\"#f0f921\"]],\"type\":\"heatmapgl\"}],\"heatmap\":[{\"colorbar\":{\"outlinewidth\":0,\"ticks\":\"\"},\"colorscale\":[[0.0,\"#0d0887\"],[0.1111111111111111,\"#46039f\"],[0.2222222222222222,\"#7201a8\"],[0.3333333333333333,\"#9c179e\"],[0.4444444444444444,\"#bd3786\"],[0.5555555555555556,\"#d8576b\"],[0.6666666666666666,\"#ed7953\"],[0.7777777777777778,\"#fb9f3a\"],[0.8888888888888888,\"#fdca26\"],[1.0,\"#f0f921\"]],\"type\":\"heatmap\"}],\"histogram2dcontour\":[{\"colorbar\":{\"outlinewidth\":0,\"ticks\":\"\"},\"colorscale\":[[0.0,\"#0d0887\"],[0.1111111111111111,\"#46039f\"],[0.2222222222222222,\"#7201a8\"],[0.3333333333333333,\"#9c179e\"],[0.4444444444444444,\"#bd3786\"],[0.5555555555555556,\"#d8576b\"],[0.6666666666666666,\"#ed7953\"],[0.7777777777777778,\"#fb9f3a\"],[0.8888888888888888,\"#fdca26\"],[1.0,\"#f0f921\"]],\"type\":\"histogram2dcontour\"}],\"histogram2d\":[{\"colorbar\":{\"outlinewidth\":0,\"ticks\":\"\"},\"colorscale\":[[0.0,\"#0d0887\"],[0.1111111111111111,\"#46039f\"],[0.2222222222222222,\"#7201a8\"],[0.3333333333333333,\"#9c179e\"],[0.4444444444444444,\"#bd3786\"],[0.5555555555555556,\"#d8576b\"],[0.6666666666666666,\"#ed7953\"],[0.7777777777777778,\"#fb9f3a\"],[0.8888888888888888,\"#fdca26\"],[1.0,\"#f0f921\"]],\"type\":\"histogram2d\"}],\"histogram\":[{\"marker\":{\"pattern\":{\"fillmode\":\"overlay\",\"size\":10,\"solidity\":0.2}},\"type\":\"histogram\"}],\"mesh3d\":[{\"colorbar\":{\"outlinewidth\":0,\"ticks\":\"\"},\"type\":\"mesh3d\"}],\"parcoords\":[{\"line\":{\"colorbar\":{\"outlinewidth\":0,\"ticks\":\"\"}},\"type\":\"parcoords\"}],\"pie\":[{\"automargin\":true,\"type\":\"pie\"}],\"scatter3d\":[{\"line\":{\"colorbar\":{\"outlinewidth\":0,\"ticks\":\"\"}},\"marker\":{\"colorbar\":{\"outlinewidth\":0,\"ticks\":\"\"}},\"type\":\"scatter3d\"}],\"scattercarpet\":[{\"marker\":{\"colorbar\":{\"outlinewidth\":0,\"ticks\":\"\"}},\"type\":\"scattercarpet\"}],\"scattergeo\":[{\"marker\":{\"colorbar\":{\"outlinewidth\":0,\"ticks\":\"\"}},\"type\":\"scattergeo\"}],\"scattergl\":[{\"marker\":{\"colorbar\":{\"outlinewidth\":0,\"ticks\":\"\"}},\"type\":\"scattergl\"}],\"scattermapbox\":[{\"marker\":{\"colorbar\":{\"outlinewidth\":0,\"ticks\":\"\"}},\"type\":\"scattermapbox\"}],\"scatterpolargl\":[{\"marker\":{\"colorbar\":{\"outlinewidth\":0,\"ticks\":\"\"}},\"type\":\"scatterpolargl\"}],\"scatterpolar\":[{\"marker\":{\"colorbar\":{\"outlinewidth\":0,\"ticks\":\"\"}},\"type\":\"scatterpolar\"}],\"scatter\":[{\"fillpattern\":{\"fillmode\":\"overlay\",\"size\":10,\"solidity\":0.2},\"type\":\"scatter\"}],\"scatterternary\":[{\"marker\":{\"colorbar\":{\"outlinewidth\":0,\"ticks\":\"\"}},\"type\":\"scatterternary\"}],\"surface\":[{\"colorbar\":{\"outlinewidth\":0,\"ticks\":\"\"},\"colorscale\":[[0.0,\"#0d0887\"],[0.1111111111111111,\"#46039f\"],[0.2222222222222222,\"#7201a8\"],[0.3333333333333333,\"#9c179e\"],[0.4444444444444444,\"#bd3786\"],[0.5555555555555556,\"#d8576b\"],[0.6666666666666666,\"#ed7953\"],[0.7777777777777778,\"#fb9f3a\"],[0.8888888888888888,\"#fdca26\"],[1.0,\"#f0f921\"]],\"type\":\"surface\"}],\"table\":[{\"cells\":{\"fill\":{\"color\":\"#EBF0F8\"},\"line\":{\"color\":\"white\"}},\"header\":{\"fill\":{\"color\":\"#C8D4E3\"},\"line\":{\"color\":\"white\"}},\"type\":\"table\"}]},\"layout\":{\"annotationdefaults\":{\"arrowcolor\":\"#2a3f5f\",\"arrowhead\":0,\"arrowwidth\":1},\"autotypenumbers\":\"strict\",\"coloraxis\":{\"colorbar\":{\"outlinewidth\":0,\"ticks\":\"\"}},\"colorscale\":{\"diverging\":[[0,\"#8e0152\"],[0.1,\"#c51b7d\"],[0.2,\"#de77ae\"],[0.3,\"#f1b6da\"],[0.4,\"#fde0ef\"],[0.5,\"#f7f7f7\"],[0.6,\"#e6f5d0\"],[0.7,\"#b8e186\"],[0.8,\"#7fbc41\"],[0.9,\"#4d9221\"],[1,\"#276419\"]],\"sequential\":[[0.0,\"#0d0887\"],[0.1111111111111111,\"#46039f\"],[0.2222222222222222,\"#7201a8\"],[0.3333333333333333,\"#9c179e\"],[0.4444444444444444,\"#bd3786\"],[0.5555555555555556,\"#d8576b\"],[0.6666666666666666,\"#ed7953\"],[0.7777777777777778,\"#fb9f3a\"],[0.8888888888888888,\"#fdca26\"],[1.0,\"#f0f921\"]],\"sequentialminus\":[[0.0,\"#0d0887\"],[0.1111111111111111,\"#46039f\"],[0.2222222222222222,\"#7201a8\"],[0.3333333333333333,\"#9c179e\"],[0.4444444444444444,\"#bd3786\"],[0.5555555555555556,\"#d8576b\"],[0.6666666666666666,\"#ed7953\"],[0.7777777777777778,\"#fb9f3a\"],[0.8888888888888888,\"#fdca26\"],[1.0,\"#f0f921\"]]},\"colorway\":[\"#636efa\",\"#EF553B\",\"#00cc96\",\"#ab63fa\",\"#FFA15A\",\"#19d3f3\",\"#FF6692\",\"#B6E880\",\"#FF97FF\",\"#FECB52\"],\"font\":{\"color\":\"#2a3f5f\"},\"geo\":{\"bgcolor\":\"white\",\"lakecolor\":\"white\",\"landcolor\":\"#E5ECF6\",\"showlakes\":true,\"showland\":true,\"subunitcolor\":\"white\"},\"hoverlabel\":{\"align\":\"left\"},\"hovermode\":\"closest\",\"mapbox\":{\"style\":\"light\"},\"paper_bgcolor\":\"white\",\"plot_bgcolor\":\"#E5ECF6\",\"polar\":{\"angularaxis\":{\"gridcolor\":\"white\",\"linecolor\":\"white\",\"ticks\":\"\"},\"bgcolor\":\"#E5ECF6\",\"radialaxis\":{\"gridcolor\":\"white\",\"linecolor\":\"white\",\"ticks\":\"\"}},\"scene\":{\"xaxis\":{\"backgroundcolor\":\"#E5ECF6\",\"gridcolor\":\"white\",\"gridwidth\":2,\"linecolor\":\"white\",\"showbackground\":true,\"ticks\":\"\",\"zerolinecolor\":\"white\"},\"yaxis\":{\"backgroundcolor\":\"#E5ECF6\",\"gridcolor\":\"white\",\"gridwidth\":2,\"linecolor\":\"white\",\"showbackground\":true,\"ticks\":\"\",\"zerolinecolor\":\"white\"},\"zaxis\":{\"backgroundcolor\":\"#E5ECF6\",\"gridcolor\":\"white\",\"gridwidth\":2,\"linecolor\":\"white\",\"showbackground\":true,\"ticks\":\"\",\"zerolinecolor\":\"white\"}},\"shapedefaults\":{\"line\":{\"color\":\"#2a3f5f\"}},\"ternary\":{\"aaxis\":{\"gridcolor\":\"white\",\"linecolor\":\"white\",\"ticks\":\"\"},\"baxis\":{\"gridcolor\":\"white\",\"linecolor\":\"white\",\"ticks\":\"\"},\"bgcolor\":\"#E5ECF6\",\"caxis\":{\"gridcolor\":\"white\",\"linecolor\":\"white\",\"ticks\":\"\"}},\"title\":{\"x\":0.05},\"xaxis\":{\"automargin\":true,\"gridcolor\":\"white\",\"linecolor\":\"white\",\"ticks\":\"\",\"title\":{\"standoff\":15},\"zerolinecolor\":\"white\",\"zerolinewidth\":2},\"yaxis\":{\"automargin\":true,\"gridcolor\":\"white\",\"linecolor\":\"white\",\"ticks\":\"\",\"title\":{\"standoff\":15},\"zerolinecolor\":\"white\",\"zerolinewidth\":2}}},\"title\":{\"font\":{\"color\":\"#4D5663\"}},\"xaxis\":{\"gridcolor\":\"#E1E5ED\",\"showgrid\":true,\"tickfont\":{\"color\":\"#4D5663\"},\"title\":{\"font\":{\"color\":\"#4D5663\"},\"text\":\"\"},\"zerolinecolor\":\"#E1E5ED\"},\"yaxis\":{\"gridcolor\":\"#E1E5ED\",\"showgrid\":true,\"tickfont\":{\"color\":\"#4D5663\"},\"title\":{\"font\":{\"color\":\"#4D5663\"},\"text\":\"\"},\"zerolinecolor\":\"#E1E5ED\"}},                        {\"showLink\": true, \"linkText\": \"Export to plot.ly\", \"plotlyServerURL\": \"https://plot.ly\", \"responsive\": true}                    ).then(function(){\n",
       "                            \n",
       "var gd = document.getElementById('b2c4176c-f5e6-49aa-b7ce-eecd1e7010ab');\n",
       "var x = new MutationObserver(function (mutations, observer) {{\n",
       "        var display = window.getComputedStyle(gd).display;\n",
       "        if (!display || display === 'none') {{\n",
       "            console.log([gd, 'removed!']);\n",
       "            Plotly.purge(gd);\n",
       "            observer.disconnect();\n",
       "        }}\n",
       "}});\n",
       "\n",
       "// Listen for the removal of the full notebook cells\n",
       "var notebookContainer = gd.closest('#notebook-container');\n",
       "if (notebookContainer) {{\n",
       "    x.observe(notebookContainer, {childList: true});\n",
       "}}\n",
       "\n",
       "// Listen for the clearing of the current output cell\n",
       "var outputEl = gd.closest('.output');\n",
       "if (outputEl) {{\n",
       "    x.observe(outputEl, {childList: true});\n",
       "}}\n",
       "\n",
       "                        })                };                });            </script>        </div>"
      ]
     },
     "metadata": {},
     "output_type": "display_data"
    }
   ],
   "source": [
    "df.count().iplot(kind='bar')"
   ]
  },
  {
   "cell_type": "markdown",
   "metadata": {},
   "source": [
    "## Boxplots"
   ]
  },
  {
   "cell_type": "code",
   "execution_count": 13,
   "metadata": {},
   "outputs": [
    {
     "data": {
      "application/vnd.plotly.v1+json": {
       "config": {
        "linkText": "Export to plot.ly",
        "plotlyServerURL": "https://plot.ly",
        "showLink": true
       },
       "data": [
        {
         "boxpoints": false,
         "line": {
          "width": 1.3
         },
         "marker": {
          "color": "rgba(255, 153, 51, 1.0)"
         },
         "name": "A",
         "orientation": "v",
         "type": "box",
         "y": [
          -0.761538621205789,
          -0.7095884634062892,
          -1.87542527271739,
          -0.5065020746548108,
          1.35496259011185,
          -0.026882085442824027,
          0.3970926315800366,
          0.07930693556886965,
          -0.41651464393472665,
          -2.1276514696138085,
          0.7820816143304232,
          -0.46474335159908536,
          -1.9107278629738271,
          -0.5851839091377247,
          -0.6977177817635527,
          -2.4805654165741604,
          0.30130380247970456,
          -1.2057408655541713,
          0.975851335324599,
          0.935008023807403,
          0.6521460449304588,
          -0.16948993321802375,
          -0.6290415454217887,
          1.8582365753048842,
          0.519562575788573,
          0.21804135002318595,
          -0.6493577537881481,
          -0.911446297830199,
          -0.21094657901329192,
          1.925812415310548,
          -0.8602460299440234,
          0.5127438996267528,
          0.8813742038543424,
          -0.13573916517822807,
          -0.9270599803167954,
          1.0650535344599334,
          -0.5460679312679347,
          1.0117070089099622,
          -0.9777694153477007,
          0.35845385850155465,
          -0.6132408377130129,
          0.10871499849728981,
          0.40127567610710363,
          -0.6487046715630305,
          -0.8973289755839094,
          -0.4771539232923262,
          1.4138765300447418,
          0.044259693659036675,
          1.2456282221444395,
          0.6788475597193058,
          -0.9965791035290003,
          0.1608038512426127,
          -1.7273251122882962,
          0.9478549448318161,
          0.1957383843350601,
          0.20494952842470757,
          0.8557551042032416,
          1.2239513555987374,
          -0.8418915016769701,
          -0.7584061431982285,
          1.038055563573445,
          -1.2160740963752874,
          -0.4973699854095074,
          -0.9284199605478466,
          -0.5289637024381451,
          0.6079527884027386,
          -1.281229580560239,
          -0.09569023796817881,
          0.4651359310332824,
          0.35533232231510486,
          0.7261215905295191,
          -1.0520852792461017,
          2.6876313437622183,
          -1.717725205859949,
          -0.9111405606483214,
          -0.29153549489613173,
          -0.5701590060528048,
          0.05584067025163339,
          -1.1098732423331124,
          -0.9036945129123467,
          0.4501068865111808,
          0.825544257138231,
          0.4653860586330535,
          -1.1603307220031898,
          2.2810419206827284,
          0.11951586146702434,
          -0.2861420901734789,
          -1.3116881377337695,
          -0.32994936800329144,
          0.6197776617277426,
          0.2583173154079452,
          -0.4729733090730053,
          -0.07433117747413986,
          0.6221367200900845,
          -0.6301195699345721,
          -1.05620362506392,
          -1.0813433380501374,
          -0.6526823581710206,
          -0.40308048066321017,
          -0.19307390859447687
         ]
        },
        {
         "boxpoints": false,
         "line": {
          "width": 1.3
         },
         "marker": {
          "color": "rgba(55, 128, 191, 1.0)"
         },
         "name": "B",
         "orientation": "v",
         "type": "box",
         "y": [
          2.0212488155738875,
          0.7583096657857158,
          0.690456279047033,
          -0.5336253666583853,
          -0.3444448261782787,
          -1.5007167350721706,
          1.47417272332828,
          0.7224922054456843,
          -0.9523322732880294,
          -1.2007521411285247,
          0.17977885829835624,
          -0.3993877007738916,
          -0.03594024055892166,
          0.43672348288119245,
          -0.40696742781349027,
          0.2134293668056055,
          1.7803668779864803,
          -0.39022504742482833,
          -1.6383548443486666,
          -2.285357617815566,
          0.44741158825359245,
          -0.2927635506639341,
          0.4136368844636603,
          0.8078711083943342,
          0.2884092876798255,
          0.4949136350960853,
          0.7503925352077869,
          -0.8731681678867933,
          0.8061604124757041,
          0.27710798744893084,
          -0.1582208416581821,
          -0.9856087371450262,
          -0.11527233251929478,
          0.40375922576565254,
          0.06448225213737395,
          -1.335774942121669,
          -0.11807724370888023,
          -0.9794050934152908,
          -0.5149681326578647,
          0.8063573557471728,
          0.9979072896721226,
          0.7147261302748834,
          -0.5182821264572214,
          -3.1376785914728136,
          1.0311784055004873,
          -0.8132771291058926,
          0.18432068082792719,
          0.9237360904499204,
          0.30599407158319486,
          0.33507477440349753,
          0.07919280617985913,
          -0.4232933611080333,
          0.3558176377425486,
          -0.9263390939314984,
          -0.7665872434389798,
          0.725052038268612,
          1.1164035544920263,
          0.18244465783419295,
          -0.2816778377621261,
          -0.38687777851277577,
          0.7727005377999372,
          0.06711665722470082,
          0.6742548227152336,
          0.9763233892497046,
          0.8214369752267061,
          0.8494264109004337,
          -0.3878781331543912,
          -0.6514852554195295,
          -1.8920663607417647,
          -0.8653341210591329,
          1.3075581912669738,
          0.7810217429948401,
          -0.7057405243063345,
          0.9652829915392097,
          0.21573636864042325,
          -0.3421430578373146,
          1.8610130200091133,
          -1.8794998483938055,
          0.7943304837877205,
          -0.053051118459419344,
          0.22410566547086927,
          0.07216085006027313,
          -0.2754955239090127,
          1.2590849074647348,
          1.0139736758249545,
          0.05570390346374175,
          -0.7690113262533337,
          2.1803261836384222,
          -0.7940812816209243,
          -1.1111128259709735,
          -0.3106265064956946,
          -0.026017216185092323,
          0.08661658866512632,
          -0.4717446856472977,
          0.0449965557198526,
          0.6638303748533824,
          0.25766663740266194,
          -0.6957389173560475,
          1.5120781751025285,
          0.6983516103179237
         ]
        },
        {
         "boxpoints": false,
         "line": {
          "width": 1.3
         },
         "marker": {
          "color": "rgba(50, 171, 96, 1.0)"
         },
         "name": "C",
         "orientation": "v",
         "type": "box",
         "y": [
          0.8699199414489964,
          0.1919528666269509,
          0.3093969885172038,
          -2.1924299710634836,
          -0.09404555027642499,
          -0.44616700382215535,
          0.5911062942320391,
          -0.11222987530467411,
          0.8221513863038997,
          -1.3394609024912,
          -0.6540966378140828,
          -2.647366214634456,
          -0.8261593146823648,
          -0.5282738221407467,
          2.2560010208169174,
          -0.8944809840239775,
          1.4404312774926151,
          1.0038948673282415,
          -1.4255621578921092,
          -2.021776176144868,
          0.3101462275885388,
          1.3172858612439269,
          -0.40206335140303734,
          0.35274271079727726,
          -1.1796864336025494,
          -0.8233313364450072,
          -0.761867615189702,
          0.9240591598013932,
          0.7929419871257162,
          -1.545191462344122,
          0.8436223213091736,
          -0.35451091835456444,
          -0.2662014706847725,
          -1.6596023876590735,
          -1.5411043743645112,
          0.4202935608374834,
          -0.04436248674158989,
          0.6214332168767712,
          1.313981241271157,
          -0.6021879466734257,
          -0.5099547957947055,
          0.07948533295588678,
          -2.36300982364451,
          -0.8380611399118977,
          0.15012427389306565,
          -0.6699640582887734,
          -0.7956055043928719,
          -0.049162235003456664,
          0.7615336899380856,
          0.4612575745415876,
          0.6350534238638107,
          0.20418876230882374,
          -0.03135271045951208,
          -1.6317632670428215,
          0.12824357341840992,
          -0.7754360680942636,
          0.592942313812262,
          -0.9810425893436158,
          -0.0552939096891739,
          -1.315533891912153,
          -2.6668417818822423,
          1.1112548065054297,
          -1.2239925033791574,
          -1.6701983878767488,
          -1.079857264546952,
          -1.755575016943559,
          0.23924537922112582,
          -1.1704140026544176,
          0.6016584057907969,
          -0.573849768968879,
          0.25647552760965664,
          1.579553752223997,
          1.3405315133765805,
          -0.1413395997516385,
          -0.39554037187911145,
          0.06823471847525044,
          -0.40089963995751504,
          0.9268459355904448,
          1.337994149408316,
          0.015134007930666256,
          0.5449210338723256,
          0.7239631740332934,
          0.2342370873421562,
          -0.8054791105937634,
          0.021720198485186568,
          -0.014231085668760987,
          1.1563184171040473,
          0.5366766020887849,
          -0.0973053665074751,
          1.268105194587903,
          -0.3475683830855135,
          -0.14844232446306793,
          -1.5293673671478056,
          0.018728084547423293,
          1.5098303205313615,
          0.28462750176330975,
          -0.1590669767758876,
          0.0426517799402289,
          -0.39120217870348256,
          1.0959531653469556
         ]
        },
        {
         "boxpoints": false,
         "line": {
          "width": 1.3
         },
         "marker": {
          "color": "rgba(128, 0, 128, 1.0)"
         },
         "name": "D",
         "orientation": "v",
         "type": "box",
         "y": [
          -1.4824837499244081,
          -1.6378759904591504,
          -0.7326854957473273,
          -0.10550829105630619,
          -0.06991350159311006,
          0.46163763597263535,
          0.6004277107442788,
          0.39676296852325393,
          0.48288648043382,
          -1.6077837536067379,
          1.9386209836363804,
          0.7193966124404083,
          0.6311036516809552,
          -0.66021129157521,
          -0.8326032928453405,
          -0.45698882511325306,
          0.7368609508803521,
          0.6799541405694176,
          1.1105561940094641,
          1.0413711496143612,
          0.230439276257338,
          1.619399446733085,
          -0.2552239243728746,
          0.5718800408477457,
          -0.8106945893565702,
          -0.14545456549034066,
          -2.0392666801115684,
          -0.26806053833991905,
          -1.9210744740220125,
          1.4756213242041665,
          0.31139315447033383,
          -2.396823658888235,
          1.1974944254877904,
          0.9413978277969611,
          -2.577206952185167,
          1.1224890080897332,
          0.40618149122564207,
          1.2161981884750508,
          0.008953323559096064,
          0.07358259777689787,
          -0.3386919303123021,
          0.6630157763838277,
          0.5061288843568232,
          -0.6679659295985579,
          -1.0165535350553254,
          -0.2591339080864048,
          1.3430897920882647,
          -0.4486049234063091,
          3.139981087756818,
          0.30466861631842845,
          -0.5235439773795593,
          -0.3730989800904381,
          1.1920474220833062,
          0.11399599805152362,
          1.475375600003024,
          -0.4220684689790923,
          -1.1624893746214093,
          -1.8680872294454245,
          0.3838698413367046,
          1.7844036544735724,
          0.9383329993184499,
          0.3762429818126024,
          0.8629274833359641,
          0.11236342274731556,
          0.11182647169785713,
          0.05797682876587672,
          1.1898895052028797,
          1.5675532609104892,
          -1.3437750048468564,
          -0.3750533216879752,
          0.5800973230827036,
          -0.3228853202727669,
          0.5754027685683331,
          0.3988488178053489,
          -0.9021493253552805,
          -0.4727531209574199,
          2.073525090198343,
          -0.5956824782786153,
          -0.7175313463748774,
          -0.28584859429294823,
          1.4139676176621516,
          0.998735673189787,
          -0.13359127727415754,
          0.39837527281682855,
          -1.2772074278830792,
          -1.0207846187390759,
          -1.0621193282470969,
          0.519605188124482,
          -0.5371215088488999,
          -0.5474053178339106,
          1.0877773289297972,
          1.617424588262552,
          -3.0834156610107017,
          0.651466772014326,
          0.4128791893328902,
          0.5993012622530658,
          1.2372903649733404,
          -0.23562990778944215,
          0.10524843776164242,
          -0.13106830823608387
         ]
        }
       ],
       "layout": {
        "legend": {
         "bgcolor": "#F5F6F9",
         "font": {
          "color": "#4D5663"
         }
        },
        "paper_bgcolor": "#F5F6F9",
        "plot_bgcolor": "#F5F6F9",
        "template": {
         "data": {
          "bar": [
           {
            "error_x": {
             "color": "#2a3f5f"
            },
            "error_y": {
             "color": "#2a3f5f"
            },
            "marker": {
             "line": {
              "color": "#E5ECF6",
              "width": 0.5
             },
             "pattern": {
              "fillmode": "overlay",
              "size": 10,
              "solidity": 0.2
             }
            },
            "type": "bar"
           }
          ],
          "barpolar": [
           {
            "marker": {
             "line": {
              "color": "#E5ECF6",
              "width": 0.5
             },
             "pattern": {
              "fillmode": "overlay",
              "size": 10,
              "solidity": 0.2
             }
            },
            "type": "barpolar"
           }
          ],
          "carpet": [
           {
            "aaxis": {
             "endlinecolor": "#2a3f5f",
             "gridcolor": "white",
             "linecolor": "white",
             "minorgridcolor": "white",
             "startlinecolor": "#2a3f5f"
            },
            "baxis": {
             "endlinecolor": "#2a3f5f",
             "gridcolor": "white",
             "linecolor": "white",
             "minorgridcolor": "white",
             "startlinecolor": "#2a3f5f"
            },
            "type": "carpet"
           }
          ],
          "choropleth": [
           {
            "colorbar": {
             "outlinewidth": 0,
             "ticks": ""
            },
            "type": "choropleth"
           }
          ],
          "contour": [
           {
            "colorbar": {
             "outlinewidth": 0,
             "ticks": ""
            },
            "colorscale": [
             [
              0,
              "#0d0887"
             ],
             [
              0.1111111111111111,
              "#46039f"
             ],
             [
              0.2222222222222222,
              "#7201a8"
             ],
             [
              0.3333333333333333,
              "#9c179e"
             ],
             [
              0.4444444444444444,
              "#bd3786"
             ],
             [
              0.5555555555555556,
              "#d8576b"
             ],
             [
              0.6666666666666666,
              "#ed7953"
             ],
             [
              0.7777777777777778,
              "#fb9f3a"
             ],
             [
              0.8888888888888888,
              "#fdca26"
             ],
             [
              1,
              "#f0f921"
             ]
            ],
            "type": "contour"
           }
          ],
          "contourcarpet": [
           {
            "colorbar": {
             "outlinewidth": 0,
             "ticks": ""
            },
            "type": "contourcarpet"
           }
          ],
          "heatmap": [
           {
            "colorbar": {
             "outlinewidth": 0,
             "ticks": ""
            },
            "colorscale": [
             [
              0,
              "#0d0887"
             ],
             [
              0.1111111111111111,
              "#46039f"
             ],
             [
              0.2222222222222222,
              "#7201a8"
             ],
             [
              0.3333333333333333,
              "#9c179e"
             ],
             [
              0.4444444444444444,
              "#bd3786"
             ],
             [
              0.5555555555555556,
              "#d8576b"
             ],
             [
              0.6666666666666666,
              "#ed7953"
             ],
             [
              0.7777777777777778,
              "#fb9f3a"
             ],
             [
              0.8888888888888888,
              "#fdca26"
             ],
             [
              1,
              "#f0f921"
             ]
            ],
            "type": "heatmap"
           }
          ],
          "heatmapgl": [
           {
            "colorbar": {
             "outlinewidth": 0,
             "ticks": ""
            },
            "colorscale": [
             [
              0,
              "#0d0887"
             ],
             [
              0.1111111111111111,
              "#46039f"
             ],
             [
              0.2222222222222222,
              "#7201a8"
             ],
             [
              0.3333333333333333,
              "#9c179e"
             ],
             [
              0.4444444444444444,
              "#bd3786"
             ],
             [
              0.5555555555555556,
              "#d8576b"
             ],
             [
              0.6666666666666666,
              "#ed7953"
             ],
             [
              0.7777777777777778,
              "#fb9f3a"
             ],
             [
              0.8888888888888888,
              "#fdca26"
             ],
             [
              1,
              "#f0f921"
             ]
            ],
            "type": "heatmapgl"
           }
          ],
          "histogram": [
           {
            "marker": {
             "pattern": {
              "fillmode": "overlay",
              "size": 10,
              "solidity": 0.2
             }
            },
            "type": "histogram"
           }
          ],
          "histogram2d": [
           {
            "colorbar": {
             "outlinewidth": 0,
             "ticks": ""
            },
            "colorscale": [
             [
              0,
              "#0d0887"
             ],
             [
              0.1111111111111111,
              "#46039f"
             ],
             [
              0.2222222222222222,
              "#7201a8"
             ],
             [
              0.3333333333333333,
              "#9c179e"
             ],
             [
              0.4444444444444444,
              "#bd3786"
             ],
             [
              0.5555555555555556,
              "#d8576b"
             ],
             [
              0.6666666666666666,
              "#ed7953"
             ],
             [
              0.7777777777777778,
              "#fb9f3a"
             ],
             [
              0.8888888888888888,
              "#fdca26"
             ],
             [
              1,
              "#f0f921"
             ]
            ],
            "type": "histogram2d"
           }
          ],
          "histogram2dcontour": [
           {
            "colorbar": {
             "outlinewidth": 0,
             "ticks": ""
            },
            "colorscale": [
             [
              0,
              "#0d0887"
             ],
             [
              0.1111111111111111,
              "#46039f"
             ],
             [
              0.2222222222222222,
              "#7201a8"
             ],
             [
              0.3333333333333333,
              "#9c179e"
             ],
             [
              0.4444444444444444,
              "#bd3786"
             ],
             [
              0.5555555555555556,
              "#d8576b"
             ],
             [
              0.6666666666666666,
              "#ed7953"
             ],
             [
              0.7777777777777778,
              "#fb9f3a"
             ],
             [
              0.8888888888888888,
              "#fdca26"
             ],
             [
              1,
              "#f0f921"
             ]
            ],
            "type": "histogram2dcontour"
           }
          ],
          "mesh3d": [
           {
            "colorbar": {
             "outlinewidth": 0,
             "ticks": ""
            },
            "type": "mesh3d"
           }
          ],
          "parcoords": [
           {
            "line": {
             "colorbar": {
              "outlinewidth": 0,
              "ticks": ""
             }
            },
            "type": "parcoords"
           }
          ],
          "pie": [
           {
            "automargin": true,
            "type": "pie"
           }
          ],
          "scatter": [
           {
            "fillpattern": {
             "fillmode": "overlay",
             "size": 10,
             "solidity": 0.2
            },
            "type": "scatter"
           }
          ],
          "scatter3d": [
           {
            "line": {
             "colorbar": {
              "outlinewidth": 0,
              "ticks": ""
             }
            },
            "marker": {
             "colorbar": {
              "outlinewidth": 0,
              "ticks": ""
             }
            },
            "type": "scatter3d"
           }
          ],
          "scattercarpet": [
           {
            "marker": {
             "colorbar": {
              "outlinewidth": 0,
              "ticks": ""
             }
            },
            "type": "scattercarpet"
           }
          ],
          "scattergeo": [
           {
            "marker": {
             "colorbar": {
              "outlinewidth": 0,
              "ticks": ""
             }
            },
            "type": "scattergeo"
           }
          ],
          "scattergl": [
           {
            "marker": {
             "colorbar": {
              "outlinewidth": 0,
              "ticks": ""
             }
            },
            "type": "scattergl"
           }
          ],
          "scattermapbox": [
           {
            "marker": {
             "colorbar": {
              "outlinewidth": 0,
              "ticks": ""
             }
            },
            "type": "scattermapbox"
           }
          ],
          "scatterpolar": [
           {
            "marker": {
             "colorbar": {
              "outlinewidth": 0,
              "ticks": ""
             }
            },
            "type": "scatterpolar"
           }
          ],
          "scatterpolargl": [
           {
            "marker": {
             "colorbar": {
              "outlinewidth": 0,
              "ticks": ""
             }
            },
            "type": "scatterpolargl"
           }
          ],
          "scatterternary": [
           {
            "marker": {
             "colorbar": {
              "outlinewidth": 0,
              "ticks": ""
             }
            },
            "type": "scatterternary"
           }
          ],
          "surface": [
           {
            "colorbar": {
             "outlinewidth": 0,
             "ticks": ""
            },
            "colorscale": [
             [
              0,
              "#0d0887"
             ],
             [
              0.1111111111111111,
              "#46039f"
             ],
             [
              0.2222222222222222,
              "#7201a8"
             ],
             [
              0.3333333333333333,
              "#9c179e"
             ],
             [
              0.4444444444444444,
              "#bd3786"
             ],
             [
              0.5555555555555556,
              "#d8576b"
             ],
             [
              0.6666666666666666,
              "#ed7953"
             ],
             [
              0.7777777777777778,
              "#fb9f3a"
             ],
             [
              0.8888888888888888,
              "#fdca26"
             ],
             [
              1,
              "#f0f921"
             ]
            ],
            "type": "surface"
           }
          ],
          "table": [
           {
            "cells": {
             "fill": {
              "color": "#EBF0F8"
             },
             "line": {
              "color": "white"
             }
            },
            "header": {
             "fill": {
              "color": "#C8D4E3"
             },
             "line": {
              "color": "white"
             }
            },
            "type": "table"
           }
          ]
         },
         "layout": {
          "annotationdefaults": {
           "arrowcolor": "#2a3f5f",
           "arrowhead": 0,
           "arrowwidth": 1
          },
          "autotypenumbers": "strict",
          "coloraxis": {
           "colorbar": {
            "outlinewidth": 0,
            "ticks": ""
           }
          },
          "colorscale": {
           "diverging": [
            [
             0,
             "#8e0152"
            ],
            [
             0.1,
             "#c51b7d"
            ],
            [
             0.2,
             "#de77ae"
            ],
            [
             0.3,
             "#f1b6da"
            ],
            [
             0.4,
             "#fde0ef"
            ],
            [
             0.5,
             "#f7f7f7"
            ],
            [
             0.6,
             "#e6f5d0"
            ],
            [
             0.7,
             "#b8e186"
            ],
            [
             0.8,
             "#7fbc41"
            ],
            [
             0.9,
             "#4d9221"
            ],
            [
             1,
             "#276419"
            ]
           ],
           "sequential": [
            [
             0,
             "#0d0887"
            ],
            [
             0.1111111111111111,
             "#46039f"
            ],
            [
             0.2222222222222222,
             "#7201a8"
            ],
            [
             0.3333333333333333,
             "#9c179e"
            ],
            [
             0.4444444444444444,
             "#bd3786"
            ],
            [
             0.5555555555555556,
             "#d8576b"
            ],
            [
             0.6666666666666666,
             "#ed7953"
            ],
            [
             0.7777777777777778,
             "#fb9f3a"
            ],
            [
             0.8888888888888888,
             "#fdca26"
            ],
            [
             1,
             "#f0f921"
            ]
           ],
           "sequentialminus": [
            [
             0,
             "#0d0887"
            ],
            [
             0.1111111111111111,
             "#46039f"
            ],
            [
             0.2222222222222222,
             "#7201a8"
            ],
            [
             0.3333333333333333,
             "#9c179e"
            ],
            [
             0.4444444444444444,
             "#bd3786"
            ],
            [
             0.5555555555555556,
             "#d8576b"
            ],
            [
             0.6666666666666666,
             "#ed7953"
            ],
            [
             0.7777777777777778,
             "#fb9f3a"
            ],
            [
             0.8888888888888888,
             "#fdca26"
            ],
            [
             1,
             "#f0f921"
            ]
           ]
          },
          "colorway": [
           "#636efa",
           "#EF553B",
           "#00cc96",
           "#ab63fa",
           "#FFA15A",
           "#19d3f3",
           "#FF6692",
           "#B6E880",
           "#FF97FF",
           "#FECB52"
          ],
          "font": {
           "color": "#2a3f5f"
          },
          "geo": {
           "bgcolor": "white",
           "lakecolor": "white",
           "landcolor": "#E5ECF6",
           "showlakes": true,
           "showland": true,
           "subunitcolor": "white"
          },
          "hoverlabel": {
           "align": "left"
          },
          "hovermode": "closest",
          "mapbox": {
           "style": "light"
          },
          "paper_bgcolor": "white",
          "plot_bgcolor": "#E5ECF6",
          "polar": {
           "angularaxis": {
            "gridcolor": "white",
            "linecolor": "white",
            "ticks": ""
           },
           "bgcolor": "#E5ECF6",
           "radialaxis": {
            "gridcolor": "white",
            "linecolor": "white",
            "ticks": ""
           }
          },
          "scene": {
           "xaxis": {
            "backgroundcolor": "#E5ECF6",
            "gridcolor": "white",
            "gridwidth": 2,
            "linecolor": "white",
            "showbackground": true,
            "ticks": "",
            "zerolinecolor": "white"
           },
           "yaxis": {
            "backgroundcolor": "#E5ECF6",
            "gridcolor": "white",
            "gridwidth": 2,
            "linecolor": "white",
            "showbackground": true,
            "ticks": "",
            "zerolinecolor": "white"
           },
           "zaxis": {
            "backgroundcolor": "#E5ECF6",
            "gridcolor": "white",
            "gridwidth": 2,
            "linecolor": "white",
            "showbackground": true,
            "ticks": "",
            "zerolinecolor": "white"
           }
          },
          "shapedefaults": {
           "line": {
            "color": "#2a3f5f"
           }
          },
          "ternary": {
           "aaxis": {
            "gridcolor": "white",
            "linecolor": "white",
            "ticks": ""
           },
           "baxis": {
            "gridcolor": "white",
            "linecolor": "white",
            "ticks": ""
           },
           "bgcolor": "#E5ECF6",
           "caxis": {
            "gridcolor": "white",
            "linecolor": "white",
            "ticks": ""
           }
          },
          "title": {
           "x": 0.05
          },
          "xaxis": {
           "automargin": true,
           "gridcolor": "white",
           "linecolor": "white",
           "ticks": "",
           "title": {
            "standoff": 15
           },
           "zerolinecolor": "white",
           "zerolinewidth": 2
          },
          "yaxis": {
           "automargin": true,
           "gridcolor": "white",
           "linecolor": "white",
           "ticks": "",
           "title": {
            "standoff": 15
           },
           "zerolinecolor": "white",
           "zerolinewidth": 2
          }
         }
        },
        "title": {
         "font": {
          "color": "#4D5663"
         }
        },
        "xaxis": {
         "gridcolor": "#E1E5ED",
         "showgrid": true,
         "tickfont": {
          "color": "#4D5663"
         },
         "title": {
          "font": {
           "color": "#4D5663"
          },
          "text": ""
         },
         "zerolinecolor": "#E1E5ED"
        },
        "yaxis": {
         "gridcolor": "#E1E5ED",
         "showgrid": true,
         "tickfont": {
          "color": "#4D5663"
         },
         "title": {
          "font": {
           "color": "#4D5663"
          },
          "text": ""
         },
         "zerolinecolor": "#E1E5ED"
        }
       }
      },
      "text/html": [
       "<div>                            <div id=\"ffe5edea-7661-49b7-939e-efcd2837014e\" class=\"plotly-graph-div\" style=\"height:525px; width:100%;\"></div>            <script type=\"text/javascript\">                require([\"plotly\"], function(Plotly) {                    window.PLOTLYENV=window.PLOTLYENV || {};\n",
       "                    window.PLOTLYENV.BASE_URL='https://plot.ly';                                    if (document.getElementById(\"ffe5edea-7661-49b7-939e-efcd2837014e\")) {                    Plotly.newPlot(                        \"ffe5edea-7661-49b7-939e-efcd2837014e\",                        [{\"boxpoints\":false,\"line\":{\"width\":1.3},\"marker\":{\"color\":\"rgba(255, 153, 51, 1.0)\"},\"name\":\"A\",\"orientation\":\"v\",\"y\":[-0.761538621205789,-0.7095884634062892,-1.87542527271739,-0.5065020746548108,1.35496259011185,-0.026882085442824027,0.3970926315800366,0.07930693556886965,-0.41651464393472665,-2.1276514696138085,0.7820816143304232,-0.46474335159908536,-1.9107278629738271,-0.5851839091377247,-0.6977177817635527,-2.4805654165741604,0.30130380247970456,-1.2057408655541713,0.975851335324599,0.935008023807403,0.6521460449304588,-0.16948993321802375,-0.6290415454217887,1.8582365753048842,0.519562575788573,0.21804135002318595,-0.6493577537881481,-0.911446297830199,-0.21094657901329192,1.925812415310548,-0.8602460299440234,0.5127438996267528,0.8813742038543424,-0.13573916517822807,-0.9270599803167954,1.0650535344599334,-0.5460679312679347,1.0117070089099622,-0.9777694153477007,0.35845385850155465,-0.6132408377130129,0.10871499849728981,0.40127567610710363,-0.6487046715630305,-0.8973289755839094,-0.4771539232923262,1.4138765300447418,0.044259693659036675,1.2456282221444395,0.6788475597193058,-0.9965791035290003,0.1608038512426127,-1.7273251122882962,0.9478549448318161,0.1957383843350601,0.20494952842470757,0.8557551042032416,1.2239513555987374,-0.8418915016769701,-0.7584061431982285,1.038055563573445,-1.2160740963752874,-0.4973699854095074,-0.9284199605478466,-0.5289637024381451,0.6079527884027386,-1.281229580560239,-0.09569023796817881,0.4651359310332824,0.35533232231510486,0.7261215905295191,-1.0520852792461017,2.6876313437622183,-1.717725205859949,-0.9111405606483214,-0.29153549489613173,-0.5701590060528048,0.05584067025163339,-1.1098732423331124,-0.9036945129123467,0.4501068865111808,0.825544257138231,0.4653860586330535,-1.1603307220031898,2.2810419206827284,0.11951586146702434,-0.2861420901734789,-1.3116881377337695,-0.32994936800329144,0.6197776617277426,0.2583173154079452,-0.4729733090730053,-0.07433117747413986,0.6221367200900845,-0.6301195699345721,-1.05620362506392,-1.0813433380501374,-0.6526823581710206,-0.40308048066321017,-0.19307390859447687],\"type\":\"box\"},{\"boxpoints\":false,\"line\":{\"width\":1.3},\"marker\":{\"color\":\"rgba(55, 128, 191, 1.0)\"},\"name\":\"B\",\"orientation\":\"v\",\"y\":[2.0212488155738875,0.7583096657857158,0.690456279047033,-0.5336253666583853,-0.3444448261782787,-1.5007167350721706,1.47417272332828,0.7224922054456843,-0.9523322732880294,-1.2007521411285247,0.17977885829835624,-0.3993877007738916,-0.03594024055892166,0.43672348288119245,-0.40696742781349027,0.2134293668056055,1.7803668779864803,-0.39022504742482833,-1.6383548443486666,-2.285357617815566,0.44741158825359245,-0.2927635506639341,0.4136368844636603,0.8078711083943342,0.2884092876798255,0.4949136350960853,0.7503925352077869,-0.8731681678867933,0.8061604124757041,0.27710798744893084,-0.1582208416581821,-0.9856087371450262,-0.11527233251929478,0.40375922576565254,0.06448225213737395,-1.335774942121669,-0.11807724370888023,-0.9794050934152908,-0.5149681326578647,0.8063573557471728,0.9979072896721226,0.7147261302748834,-0.5182821264572214,-3.1376785914728136,1.0311784055004873,-0.8132771291058926,0.18432068082792719,0.9237360904499204,0.30599407158319486,0.33507477440349753,0.07919280617985913,-0.4232933611080333,0.3558176377425486,-0.9263390939314984,-0.7665872434389798,0.725052038268612,1.1164035544920263,0.18244465783419295,-0.2816778377621261,-0.38687777851277577,0.7727005377999372,0.06711665722470082,0.6742548227152336,0.9763233892497046,0.8214369752267061,0.8494264109004337,-0.3878781331543912,-0.6514852554195295,-1.8920663607417647,-0.8653341210591329,1.3075581912669738,0.7810217429948401,-0.7057405243063345,0.9652829915392097,0.21573636864042325,-0.3421430578373146,1.8610130200091133,-1.8794998483938055,0.7943304837877205,-0.053051118459419344,0.22410566547086927,0.07216085006027313,-0.2754955239090127,1.2590849074647348,1.0139736758249545,0.05570390346374175,-0.7690113262533337,2.1803261836384222,-0.7940812816209243,-1.1111128259709735,-0.3106265064956946,-0.026017216185092323,0.08661658866512632,-0.4717446856472977,0.0449965557198526,0.6638303748533824,0.25766663740266194,-0.6957389173560475,1.5120781751025285,0.6983516103179237],\"type\":\"box\"},{\"boxpoints\":false,\"line\":{\"width\":1.3},\"marker\":{\"color\":\"rgba(50, 171, 96, 1.0)\"},\"name\":\"C\",\"orientation\":\"v\",\"y\":[0.8699199414489964,0.1919528666269509,0.3093969885172038,-2.1924299710634836,-0.09404555027642499,-0.44616700382215535,0.5911062942320391,-0.11222987530467411,0.8221513863038997,-1.3394609024912,-0.6540966378140828,-2.647366214634456,-0.8261593146823648,-0.5282738221407467,2.2560010208169174,-0.8944809840239775,1.4404312774926151,1.0038948673282415,-1.4255621578921092,-2.021776176144868,0.3101462275885388,1.3172858612439269,-0.40206335140303734,0.35274271079727726,-1.1796864336025494,-0.8233313364450072,-0.761867615189702,0.9240591598013932,0.7929419871257162,-1.545191462344122,0.8436223213091736,-0.35451091835456444,-0.2662014706847725,-1.6596023876590735,-1.5411043743645112,0.4202935608374834,-0.04436248674158989,0.6214332168767712,1.313981241271157,-0.6021879466734257,-0.5099547957947055,0.07948533295588678,-2.36300982364451,-0.8380611399118977,0.15012427389306565,-0.6699640582887734,-0.7956055043928719,-0.049162235003456664,0.7615336899380856,0.4612575745415876,0.6350534238638107,0.20418876230882374,-0.03135271045951208,-1.6317632670428215,0.12824357341840992,-0.7754360680942636,0.592942313812262,-0.9810425893436158,-0.0552939096891739,-1.315533891912153,-2.6668417818822423,1.1112548065054297,-1.2239925033791574,-1.6701983878767488,-1.079857264546952,-1.755575016943559,0.23924537922112582,-1.1704140026544176,0.6016584057907969,-0.573849768968879,0.25647552760965664,1.579553752223997,1.3405315133765805,-0.1413395997516385,-0.39554037187911145,0.06823471847525044,-0.40089963995751504,0.9268459355904448,1.337994149408316,0.015134007930666256,0.5449210338723256,0.7239631740332934,0.2342370873421562,-0.8054791105937634,0.021720198485186568,-0.014231085668760987,1.1563184171040473,0.5366766020887849,-0.0973053665074751,1.268105194587903,-0.3475683830855135,-0.14844232446306793,-1.5293673671478056,0.018728084547423293,1.5098303205313615,0.28462750176330975,-0.1590669767758876,0.0426517799402289,-0.39120217870348256,1.0959531653469556],\"type\":\"box\"},{\"boxpoints\":false,\"line\":{\"width\":1.3},\"marker\":{\"color\":\"rgba(128, 0, 128, 1.0)\"},\"name\":\"D\",\"orientation\":\"v\",\"y\":[-1.4824837499244081,-1.6378759904591504,-0.7326854957473273,-0.10550829105630619,-0.06991350159311006,0.46163763597263535,0.6004277107442788,0.39676296852325393,0.48288648043382,-1.6077837536067379,1.9386209836363804,0.7193966124404083,0.6311036516809552,-0.66021129157521,-0.8326032928453405,-0.45698882511325306,0.7368609508803521,0.6799541405694176,1.1105561940094641,1.0413711496143612,0.230439276257338,1.619399446733085,-0.2552239243728746,0.5718800408477457,-0.8106945893565702,-0.14545456549034066,-2.0392666801115684,-0.26806053833991905,-1.9210744740220125,1.4756213242041665,0.31139315447033383,-2.396823658888235,1.1974944254877904,0.9413978277969611,-2.577206952185167,1.1224890080897332,0.40618149122564207,1.2161981884750508,0.008953323559096064,0.07358259777689787,-0.3386919303123021,0.6630157763838277,0.5061288843568232,-0.6679659295985579,-1.0165535350553254,-0.2591339080864048,1.3430897920882647,-0.4486049234063091,3.139981087756818,0.30466861631842845,-0.5235439773795593,-0.3730989800904381,1.1920474220833062,0.11399599805152362,1.475375600003024,-0.4220684689790923,-1.1624893746214093,-1.8680872294454245,0.3838698413367046,1.7844036544735724,0.9383329993184499,0.3762429818126024,0.8629274833359641,0.11236342274731556,0.11182647169785713,0.05797682876587672,1.1898895052028797,1.5675532609104892,-1.3437750048468564,-0.3750533216879752,0.5800973230827036,-0.3228853202727669,0.5754027685683331,0.3988488178053489,-0.9021493253552805,-0.4727531209574199,2.073525090198343,-0.5956824782786153,-0.7175313463748774,-0.28584859429294823,1.4139676176621516,0.998735673189787,-0.13359127727415754,0.39837527281682855,-1.2772074278830792,-1.0207846187390759,-1.0621193282470969,0.519605188124482,-0.5371215088488999,-0.5474053178339106,1.0877773289297972,1.617424588262552,-3.0834156610107017,0.651466772014326,0.4128791893328902,0.5993012622530658,1.2372903649733404,-0.23562990778944215,0.10524843776164242,-0.13106830823608387],\"type\":\"box\"}],                        {\"legend\":{\"bgcolor\":\"#F5F6F9\",\"font\":{\"color\":\"#4D5663\"}},\"paper_bgcolor\":\"#F5F6F9\",\"plot_bgcolor\":\"#F5F6F9\",\"template\":{\"data\":{\"barpolar\":[{\"marker\":{\"line\":{\"color\":\"#E5ECF6\",\"width\":0.5},\"pattern\":{\"fillmode\":\"overlay\",\"size\":10,\"solidity\":0.2}},\"type\":\"barpolar\"}],\"bar\":[{\"error_x\":{\"color\":\"#2a3f5f\"},\"error_y\":{\"color\":\"#2a3f5f\"},\"marker\":{\"line\":{\"color\":\"#E5ECF6\",\"width\":0.5},\"pattern\":{\"fillmode\":\"overlay\",\"size\":10,\"solidity\":0.2}},\"type\":\"bar\"}],\"carpet\":[{\"aaxis\":{\"endlinecolor\":\"#2a3f5f\",\"gridcolor\":\"white\",\"linecolor\":\"white\",\"minorgridcolor\":\"white\",\"startlinecolor\":\"#2a3f5f\"},\"baxis\":{\"endlinecolor\":\"#2a3f5f\",\"gridcolor\":\"white\",\"linecolor\":\"white\",\"minorgridcolor\":\"white\",\"startlinecolor\":\"#2a3f5f\"},\"type\":\"carpet\"}],\"choropleth\":[{\"colorbar\":{\"outlinewidth\":0,\"ticks\":\"\"},\"type\":\"choropleth\"}],\"contourcarpet\":[{\"colorbar\":{\"outlinewidth\":0,\"ticks\":\"\"},\"type\":\"contourcarpet\"}],\"contour\":[{\"colorbar\":{\"outlinewidth\":0,\"ticks\":\"\"},\"colorscale\":[[0.0,\"#0d0887\"],[0.1111111111111111,\"#46039f\"],[0.2222222222222222,\"#7201a8\"],[0.3333333333333333,\"#9c179e\"],[0.4444444444444444,\"#bd3786\"],[0.5555555555555556,\"#d8576b\"],[0.6666666666666666,\"#ed7953\"],[0.7777777777777778,\"#fb9f3a\"],[0.8888888888888888,\"#fdca26\"],[1.0,\"#f0f921\"]],\"type\":\"contour\"}],\"heatmapgl\":[{\"colorbar\":{\"outlinewidth\":0,\"ticks\":\"\"},\"colorscale\":[[0.0,\"#0d0887\"],[0.1111111111111111,\"#46039f\"],[0.2222222222222222,\"#7201a8\"],[0.3333333333333333,\"#9c179e\"],[0.4444444444444444,\"#bd3786\"],[0.5555555555555556,\"#d8576b\"],[0.6666666666666666,\"#ed7953\"],[0.7777777777777778,\"#fb9f3a\"],[0.8888888888888888,\"#fdca26\"],[1.0,\"#f0f921\"]],\"type\":\"heatmapgl\"}],\"heatmap\":[{\"colorbar\":{\"outlinewidth\":0,\"ticks\":\"\"},\"colorscale\":[[0.0,\"#0d0887\"],[0.1111111111111111,\"#46039f\"],[0.2222222222222222,\"#7201a8\"],[0.3333333333333333,\"#9c179e\"],[0.4444444444444444,\"#bd3786\"],[0.5555555555555556,\"#d8576b\"],[0.6666666666666666,\"#ed7953\"],[0.7777777777777778,\"#fb9f3a\"],[0.8888888888888888,\"#fdca26\"],[1.0,\"#f0f921\"]],\"type\":\"heatmap\"}],\"histogram2dcontour\":[{\"colorbar\":{\"outlinewidth\":0,\"ticks\":\"\"},\"colorscale\":[[0.0,\"#0d0887\"],[0.1111111111111111,\"#46039f\"],[0.2222222222222222,\"#7201a8\"],[0.3333333333333333,\"#9c179e\"],[0.4444444444444444,\"#bd3786\"],[0.5555555555555556,\"#d8576b\"],[0.6666666666666666,\"#ed7953\"],[0.7777777777777778,\"#fb9f3a\"],[0.8888888888888888,\"#fdca26\"],[1.0,\"#f0f921\"]],\"type\":\"histogram2dcontour\"}],\"histogram2d\":[{\"colorbar\":{\"outlinewidth\":0,\"ticks\":\"\"},\"colorscale\":[[0.0,\"#0d0887\"],[0.1111111111111111,\"#46039f\"],[0.2222222222222222,\"#7201a8\"],[0.3333333333333333,\"#9c179e\"],[0.4444444444444444,\"#bd3786\"],[0.5555555555555556,\"#d8576b\"],[0.6666666666666666,\"#ed7953\"],[0.7777777777777778,\"#fb9f3a\"],[0.8888888888888888,\"#fdca26\"],[1.0,\"#f0f921\"]],\"type\":\"histogram2d\"}],\"histogram\":[{\"marker\":{\"pattern\":{\"fillmode\":\"overlay\",\"size\":10,\"solidity\":0.2}},\"type\":\"histogram\"}],\"mesh3d\":[{\"colorbar\":{\"outlinewidth\":0,\"ticks\":\"\"},\"type\":\"mesh3d\"}],\"parcoords\":[{\"line\":{\"colorbar\":{\"outlinewidth\":0,\"ticks\":\"\"}},\"type\":\"parcoords\"}],\"pie\":[{\"automargin\":true,\"type\":\"pie\"}],\"scatter3d\":[{\"line\":{\"colorbar\":{\"outlinewidth\":0,\"ticks\":\"\"}},\"marker\":{\"colorbar\":{\"outlinewidth\":0,\"ticks\":\"\"}},\"type\":\"scatter3d\"}],\"scattercarpet\":[{\"marker\":{\"colorbar\":{\"outlinewidth\":0,\"ticks\":\"\"}},\"type\":\"scattercarpet\"}],\"scattergeo\":[{\"marker\":{\"colorbar\":{\"outlinewidth\":0,\"ticks\":\"\"}},\"type\":\"scattergeo\"}],\"scattergl\":[{\"marker\":{\"colorbar\":{\"outlinewidth\":0,\"ticks\":\"\"}},\"type\":\"scattergl\"}],\"scattermapbox\":[{\"marker\":{\"colorbar\":{\"outlinewidth\":0,\"ticks\":\"\"}},\"type\":\"scattermapbox\"}],\"scatterpolargl\":[{\"marker\":{\"colorbar\":{\"outlinewidth\":0,\"ticks\":\"\"}},\"type\":\"scatterpolargl\"}],\"scatterpolar\":[{\"marker\":{\"colorbar\":{\"outlinewidth\":0,\"ticks\":\"\"}},\"type\":\"scatterpolar\"}],\"scatter\":[{\"fillpattern\":{\"fillmode\":\"overlay\",\"size\":10,\"solidity\":0.2},\"type\":\"scatter\"}],\"scatterternary\":[{\"marker\":{\"colorbar\":{\"outlinewidth\":0,\"ticks\":\"\"}},\"type\":\"scatterternary\"}],\"surface\":[{\"colorbar\":{\"outlinewidth\":0,\"ticks\":\"\"},\"colorscale\":[[0.0,\"#0d0887\"],[0.1111111111111111,\"#46039f\"],[0.2222222222222222,\"#7201a8\"],[0.3333333333333333,\"#9c179e\"],[0.4444444444444444,\"#bd3786\"],[0.5555555555555556,\"#d8576b\"],[0.6666666666666666,\"#ed7953\"],[0.7777777777777778,\"#fb9f3a\"],[0.8888888888888888,\"#fdca26\"],[1.0,\"#f0f921\"]],\"type\":\"surface\"}],\"table\":[{\"cells\":{\"fill\":{\"color\":\"#EBF0F8\"},\"line\":{\"color\":\"white\"}},\"header\":{\"fill\":{\"color\":\"#C8D4E3\"},\"line\":{\"color\":\"white\"}},\"type\":\"table\"}]},\"layout\":{\"annotationdefaults\":{\"arrowcolor\":\"#2a3f5f\",\"arrowhead\":0,\"arrowwidth\":1},\"autotypenumbers\":\"strict\",\"coloraxis\":{\"colorbar\":{\"outlinewidth\":0,\"ticks\":\"\"}},\"colorscale\":{\"diverging\":[[0,\"#8e0152\"],[0.1,\"#c51b7d\"],[0.2,\"#de77ae\"],[0.3,\"#f1b6da\"],[0.4,\"#fde0ef\"],[0.5,\"#f7f7f7\"],[0.6,\"#e6f5d0\"],[0.7,\"#b8e186\"],[0.8,\"#7fbc41\"],[0.9,\"#4d9221\"],[1,\"#276419\"]],\"sequential\":[[0.0,\"#0d0887\"],[0.1111111111111111,\"#46039f\"],[0.2222222222222222,\"#7201a8\"],[0.3333333333333333,\"#9c179e\"],[0.4444444444444444,\"#bd3786\"],[0.5555555555555556,\"#d8576b\"],[0.6666666666666666,\"#ed7953\"],[0.7777777777777778,\"#fb9f3a\"],[0.8888888888888888,\"#fdca26\"],[1.0,\"#f0f921\"]],\"sequentialminus\":[[0.0,\"#0d0887\"],[0.1111111111111111,\"#46039f\"],[0.2222222222222222,\"#7201a8\"],[0.3333333333333333,\"#9c179e\"],[0.4444444444444444,\"#bd3786\"],[0.5555555555555556,\"#d8576b\"],[0.6666666666666666,\"#ed7953\"],[0.7777777777777778,\"#fb9f3a\"],[0.8888888888888888,\"#fdca26\"],[1.0,\"#f0f921\"]]},\"colorway\":[\"#636efa\",\"#EF553B\",\"#00cc96\",\"#ab63fa\",\"#FFA15A\",\"#19d3f3\",\"#FF6692\",\"#B6E880\",\"#FF97FF\",\"#FECB52\"],\"font\":{\"color\":\"#2a3f5f\"},\"geo\":{\"bgcolor\":\"white\",\"lakecolor\":\"white\",\"landcolor\":\"#E5ECF6\",\"showlakes\":true,\"showland\":true,\"subunitcolor\":\"white\"},\"hoverlabel\":{\"align\":\"left\"},\"hovermode\":\"closest\",\"mapbox\":{\"style\":\"light\"},\"paper_bgcolor\":\"white\",\"plot_bgcolor\":\"#E5ECF6\",\"polar\":{\"angularaxis\":{\"gridcolor\":\"white\",\"linecolor\":\"white\",\"ticks\":\"\"},\"bgcolor\":\"#E5ECF6\",\"radialaxis\":{\"gridcolor\":\"white\",\"linecolor\":\"white\",\"ticks\":\"\"}},\"scene\":{\"xaxis\":{\"backgroundcolor\":\"#E5ECF6\",\"gridcolor\":\"white\",\"gridwidth\":2,\"linecolor\":\"white\",\"showbackground\":true,\"ticks\":\"\",\"zerolinecolor\":\"white\"},\"yaxis\":{\"backgroundcolor\":\"#E5ECF6\",\"gridcolor\":\"white\",\"gridwidth\":2,\"linecolor\":\"white\",\"showbackground\":true,\"ticks\":\"\",\"zerolinecolor\":\"white\"},\"zaxis\":{\"backgroundcolor\":\"#E5ECF6\",\"gridcolor\":\"white\",\"gridwidth\":2,\"linecolor\":\"white\",\"showbackground\":true,\"ticks\":\"\",\"zerolinecolor\":\"white\"}},\"shapedefaults\":{\"line\":{\"color\":\"#2a3f5f\"}},\"ternary\":{\"aaxis\":{\"gridcolor\":\"white\",\"linecolor\":\"white\",\"ticks\":\"\"},\"baxis\":{\"gridcolor\":\"white\",\"linecolor\":\"white\",\"ticks\":\"\"},\"bgcolor\":\"#E5ECF6\",\"caxis\":{\"gridcolor\":\"white\",\"linecolor\":\"white\",\"ticks\":\"\"}},\"title\":{\"x\":0.05},\"xaxis\":{\"automargin\":true,\"gridcolor\":\"white\",\"linecolor\":\"white\",\"ticks\":\"\",\"title\":{\"standoff\":15},\"zerolinecolor\":\"white\",\"zerolinewidth\":2},\"yaxis\":{\"automargin\":true,\"gridcolor\":\"white\",\"linecolor\":\"white\",\"ticks\":\"\",\"title\":{\"standoff\":15},\"zerolinecolor\":\"white\",\"zerolinewidth\":2}}},\"title\":{\"font\":{\"color\":\"#4D5663\"}},\"xaxis\":{\"gridcolor\":\"#E1E5ED\",\"showgrid\":true,\"tickfont\":{\"color\":\"#4D5663\"},\"title\":{\"font\":{\"color\":\"#4D5663\"},\"text\":\"\"},\"zerolinecolor\":\"#E1E5ED\"},\"yaxis\":{\"gridcolor\":\"#E1E5ED\",\"showgrid\":true,\"tickfont\":{\"color\":\"#4D5663\"},\"title\":{\"font\":{\"color\":\"#4D5663\"},\"text\":\"\"},\"zerolinecolor\":\"#E1E5ED\"}},                        {\"showLink\": true, \"linkText\": \"Export to plot.ly\", \"plotlyServerURL\": \"https://plot.ly\", \"responsive\": true}                    ).then(function(){\n",
       "                            \n",
       "var gd = document.getElementById('ffe5edea-7661-49b7-939e-efcd2837014e');\n",
       "var x = new MutationObserver(function (mutations, observer) {{\n",
       "        var display = window.getComputedStyle(gd).display;\n",
       "        if (!display || display === 'none') {{\n",
       "            console.log([gd, 'removed!']);\n",
       "            Plotly.purge(gd);\n",
       "            observer.disconnect();\n",
       "        }}\n",
       "}});\n",
       "\n",
       "// Listen for the removal of the full notebook cells\n",
       "var notebookContainer = gd.closest('#notebook-container');\n",
       "if (notebookContainer) {{\n",
       "    x.observe(notebookContainer, {childList: true});\n",
       "}}\n",
       "\n",
       "// Listen for the clearing of the current output cell\n",
       "var outputEl = gd.closest('.output');\n",
       "if (outputEl) {{\n",
       "    x.observe(outputEl, {childList: true});\n",
       "}}\n",
       "\n",
       "                        })                };                });            </script>        </div>"
      ]
     },
     "metadata": {},
     "output_type": "display_data"
    }
   ],
   "source": [
    "df.iplot(kind='box')"
   ]
  },
  {
   "cell_type": "markdown",
   "metadata": {},
   "source": [
    "## 3d Surface"
   ]
  },
  {
   "cell_type": "code",
   "execution_count": 14,
   "metadata": {},
   "outputs": [
    {
     "data": {
      "application/vnd.plotly.v1+json": {
       "config": {
        "linkText": "Export to plot.ly",
        "plotlyServerURL": "https://plot.ly",
        "showLink": true
       },
       "data": [
        {
         "colorscale": [
          [
           0,
           "rgb(165,0,38)"
          ],
          [
           0.1,
           "rgb(215,48,39)"
          ],
          [
           0.2,
           "rgb(244,109,67)"
          ],
          [
           0.3,
           "rgb(253,174,97)"
          ],
          [
           0.4,
           "rgb(254,224,144)"
          ],
          [
           0.5,
           "rgb(255,255,191)"
          ],
          [
           0.6,
           "rgb(224,243,248)"
          ],
          [
           0.7,
           "rgb(171,217,233)"
          ],
          [
           0.8,
           "rgb(116,173,209)"
          ],
          [
           0.9,
           "rgb(69,117,180)"
          ],
          [
           1,
           "rgb(49,54,149)"
          ]
         ],
         "type": "surface",
         "x": [
          0,
          1,
          2,
          3,
          4
         ],
         "y": [
          "x",
          "y",
          "z"
         ],
         "z": [
          [
           1,
           2,
           3,
           4,
           5
          ],
          [
           10,
           20,
           30,
           20,
           10
          ],
          [
           5,
           4,
           3,
           2,
           1
          ]
         ]
        }
       ],
       "layout": {
        "legend": {
         "bgcolor": "#F5F6F9",
         "font": {
          "color": "#4D5663"
         }
        },
        "paper_bgcolor": "#F5F6F9",
        "plot_bgcolor": "#F5F6F9",
        "template": {
         "data": {
          "bar": [
           {
            "error_x": {
             "color": "#2a3f5f"
            },
            "error_y": {
             "color": "#2a3f5f"
            },
            "marker": {
             "line": {
              "color": "#E5ECF6",
              "width": 0.5
             },
             "pattern": {
              "fillmode": "overlay",
              "size": 10,
              "solidity": 0.2
             }
            },
            "type": "bar"
           }
          ],
          "barpolar": [
           {
            "marker": {
             "line": {
              "color": "#E5ECF6",
              "width": 0.5
             },
             "pattern": {
              "fillmode": "overlay",
              "size": 10,
              "solidity": 0.2
             }
            },
            "type": "barpolar"
           }
          ],
          "carpet": [
           {
            "aaxis": {
             "endlinecolor": "#2a3f5f",
             "gridcolor": "white",
             "linecolor": "white",
             "minorgridcolor": "white",
             "startlinecolor": "#2a3f5f"
            },
            "baxis": {
             "endlinecolor": "#2a3f5f",
             "gridcolor": "white",
             "linecolor": "white",
             "minorgridcolor": "white",
             "startlinecolor": "#2a3f5f"
            },
            "type": "carpet"
           }
          ],
          "choropleth": [
           {
            "colorbar": {
             "outlinewidth": 0,
             "ticks": ""
            },
            "type": "choropleth"
           }
          ],
          "contour": [
           {
            "colorbar": {
             "outlinewidth": 0,
             "ticks": ""
            },
            "colorscale": [
             [
              0,
              "#0d0887"
             ],
             [
              0.1111111111111111,
              "#46039f"
             ],
             [
              0.2222222222222222,
              "#7201a8"
             ],
             [
              0.3333333333333333,
              "#9c179e"
             ],
             [
              0.4444444444444444,
              "#bd3786"
             ],
             [
              0.5555555555555556,
              "#d8576b"
             ],
             [
              0.6666666666666666,
              "#ed7953"
             ],
             [
              0.7777777777777778,
              "#fb9f3a"
             ],
             [
              0.8888888888888888,
              "#fdca26"
             ],
             [
              1,
              "#f0f921"
             ]
            ],
            "type": "contour"
           }
          ],
          "contourcarpet": [
           {
            "colorbar": {
             "outlinewidth": 0,
             "ticks": ""
            },
            "type": "contourcarpet"
           }
          ],
          "heatmap": [
           {
            "colorbar": {
             "outlinewidth": 0,
             "ticks": ""
            },
            "colorscale": [
             [
              0,
              "#0d0887"
             ],
             [
              0.1111111111111111,
              "#46039f"
             ],
             [
              0.2222222222222222,
              "#7201a8"
             ],
             [
              0.3333333333333333,
              "#9c179e"
             ],
             [
              0.4444444444444444,
              "#bd3786"
             ],
             [
              0.5555555555555556,
              "#d8576b"
             ],
             [
              0.6666666666666666,
              "#ed7953"
             ],
             [
              0.7777777777777778,
              "#fb9f3a"
             ],
             [
              0.8888888888888888,
              "#fdca26"
             ],
             [
              1,
              "#f0f921"
             ]
            ],
            "type": "heatmap"
           }
          ],
          "heatmapgl": [
           {
            "colorbar": {
             "outlinewidth": 0,
             "ticks": ""
            },
            "colorscale": [
             [
              0,
              "#0d0887"
             ],
             [
              0.1111111111111111,
              "#46039f"
             ],
             [
              0.2222222222222222,
              "#7201a8"
             ],
             [
              0.3333333333333333,
              "#9c179e"
             ],
             [
              0.4444444444444444,
              "#bd3786"
             ],
             [
              0.5555555555555556,
              "#d8576b"
             ],
             [
              0.6666666666666666,
              "#ed7953"
             ],
             [
              0.7777777777777778,
              "#fb9f3a"
             ],
             [
              0.8888888888888888,
              "#fdca26"
             ],
             [
              1,
              "#f0f921"
             ]
            ],
            "type": "heatmapgl"
           }
          ],
          "histogram": [
           {
            "marker": {
             "pattern": {
              "fillmode": "overlay",
              "size": 10,
              "solidity": 0.2
             }
            },
            "type": "histogram"
           }
          ],
          "histogram2d": [
           {
            "colorbar": {
             "outlinewidth": 0,
             "ticks": ""
            },
            "colorscale": [
             [
              0,
              "#0d0887"
             ],
             [
              0.1111111111111111,
              "#46039f"
             ],
             [
              0.2222222222222222,
              "#7201a8"
             ],
             [
              0.3333333333333333,
              "#9c179e"
             ],
             [
              0.4444444444444444,
              "#bd3786"
             ],
             [
              0.5555555555555556,
              "#d8576b"
             ],
             [
              0.6666666666666666,
              "#ed7953"
             ],
             [
              0.7777777777777778,
              "#fb9f3a"
             ],
             [
              0.8888888888888888,
              "#fdca26"
             ],
             [
              1,
              "#f0f921"
             ]
            ],
            "type": "histogram2d"
           }
          ],
          "histogram2dcontour": [
           {
            "colorbar": {
             "outlinewidth": 0,
             "ticks": ""
            },
            "colorscale": [
             [
              0,
              "#0d0887"
             ],
             [
              0.1111111111111111,
              "#46039f"
             ],
             [
              0.2222222222222222,
              "#7201a8"
             ],
             [
              0.3333333333333333,
              "#9c179e"
             ],
             [
              0.4444444444444444,
              "#bd3786"
             ],
             [
              0.5555555555555556,
              "#d8576b"
             ],
             [
              0.6666666666666666,
              "#ed7953"
             ],
             [
              0.7777777777777778,
              "#fb9f3a"
             ],
             [
              0.8888888888888888,
              "#fdca26"
             ],
             [
              1,
              "#f0f921"
             ]
            ],
            "type": "histogram2dcontour"
           }
          ],
          "mesh3d": [
           {
            "colorbar": {
             "outlinewidth": 0,
             "ticks": ""
            },
            "type": "mesh3d"
           }
          ],
          "parcoords": [
           {
            "line": {
             "colorbar": {
              "outlinewidth": 0,
              "ticks": ""
             }
            },
            "type": "parcoords"
           }
          ],
          "pie": [
           {
            "automargin": true,
            "type": "pie"
           }
          ],
          "scatter": [
           {
            "fillpattern": {
             "fillmode": "overlay",
             "size": 10,
             "solidity": 0.2
            },
            "type": "scatter"
           }
          ],
          "scatter3d": [
           {
            "line": {
             "colorbar": {
              "outlinewidth": 0,
              "ticks": ""
             }
            },
            "marker": {
             "colorbar": {
              "outlinewidth": 0,
              "ticks": ""
             }
            },
            "type": "scatter3d"
           }
          ],
          "scattercarpet": [
           {
            "marker": {
             "colorbar": {
              "outlinewidth": 0,
              "ticks": ""
             }
            },
            "type": "scattercarpet"
           }
          ],
          "scattergeo": [
           {
            "marker": {
             "colorbar": {
              "outlinewidth": 0,
              "ticks": ""
             }
            },
            "type": "scattergeo"
           }
          ],
          "scattergl": [
           {
            "marker": {
             "colorbar": {
              "outlinewidth": 0,
              "ticks": ""
             }
            },
            "type": "scattergl"
           }
          ],
          "scattermapbox": [
           {
            "marker": {
             "colorbar": {
              "outlinewidth": 0,
              "ticks": ""
             }
            },
            "type": "scattermapbox"
           }
          ],
          "scatterpolar": [
           {
            "marker": {
             "colorbar": {
              "outlinewidth": 0,
              "ticks": ""
             }
            },
            "type": "scatterpolar"
           }
          ],
          "scatterpolargl": [
           {
            "marker": {
             "colorbar": {
              "outlinewidth": 0,
              "ticks": ""
             }
            },
            "type": "scatterpolargl"
           }
          ],
          "scatterternary": [
           {
            "marker": {
             "colorbar": {
              "outlinewidth": 0,
              "ticks": ""
             }
            },
            "type": "scatterternary"
           }
          ],
          "surface": [
           {
            "colorbar": {
             "outlinewidth": 0,
             "ticks": ""
            },
            "colorscale": [
             [
              0,
              "#0d0887"
             ],
             [
              0.1111111111111111,
              "#46039f"
             ],
             [
              0.2222222222222222,
              "#7201a8"
             ],
             [
              0.3333333333333333,
              "#9c179e"
             ],
             [
              0.4444444444444444,
              "#bd3786"
             ],
             [
              0.5555555555555556,
              "#d8576b"
             ],
             [
              0.6666666666666666,
              "#ed7953"
             ],
             [
              0.7777777777777778,
              "#fb9f3a"
             ],
             [
              0.8888888888888888,
              "#fdca26"
             ],
             [
              1,
              "#f0f921"
             ]
            ],
            "type": "surface"
           }
          ],
          "table": [
           {
            "cells": {
             "fill": {
              "color": "#EBF0F8"
             },
             "line": {
              "color": "white"
             }
            },
            "header": {
             "fill": {
              "color": "#C8D4E3"
             },
             "line": {
              "color": "white"
             }
            },
            "type": "table"
           }
          ]
         },
         "layout": {
          "annotationdefaults": {
           "arrowcolor": "#2a3f5f",
           "arrowhead": 0,
           "arrowwidth": 1
          },
          "autotypenumbers": "strict",
          "coloraxis": {
           "colorbar": {
            "outlinewidth": 0,
            "ticks": ""
           }
          },
          "colorscale": {
           "diverging": [
            [
             0,
             "#8e0152"
            ],
            [
             0.1,
             "#c51b7d"
            ],
            [
             0.2,
             "#de77ae"
            ],
            [
             0.3,
             "#f1b6da"
            ],
            [
             0.4,
             "#fde0ef"
            ],
            [
             0.5,
             "#f7f7f7"
            ],
            [
             0.6,
             "#e6f5d0"
            ],
            [
             0.7,
             "#b8e186"
            ],
            [
             0.8,
             "#7fbc41"
            ],
            [
             0.9,
             "#4d9221"
            ],
            [
             1,
             "#276419"
            ]
           ],
           "sequential": [
            [
             0,
             "#0d0887"
            ],
            [
             0.1111111111111111,
             "#46039f"
            ],
            [
             0.2222222222222222,
             "#7201a8"
            ],
            [
             0.3333333333333333,
             "#9c179e"
            ],
            [
             0.4444444444444444,
             "#bd3786"
            ],
            [
             0.5555555555555556,
             "#d8576b"
            ],
            [
             0.6666666666666666,
             "#ed7953"
            ],
            [
             0.7777777777777778,
             "#fb9f3a"
            ],
            [
             0.8888888888888888,
             "#fdca26"
            ],
            [
             1,
             "#f0f921"
            ]
           ],
           "sequentialminus": [
            [
             0,
             "#0d0887"
            ],
            [
             0.1111111111111111,
             "#46039f"
            ],
            [
             0.2222222222222222,
             "#7201a8"
            ],
            [
             0.3333333333333333,
             "#9c179e"
            ],
            [
             0.4444444444444444,
             "#bd3786"
            ],
            [
             0.5555555555555556,
             "#d8576b"
            ],
            [
             0.6666666666666666,
             "#ed7953"
            ],
            [
             0.7777777777777778,
             "#fb9f3a"
            ],
            [
             0.8888888888888888,
             "#fdca26"
            ],
            [
             1,
             "#f0f921"
            ]
           ]
          },
          "colorway": [
           "#636efa",
           "#EF553B",
           "#00cc96",
           "#ab63fa",
           "#FFA15A",
           "#19d3f3",
           "#FF6692",
           "#B6E880",
           "#FF97FF",
           "#FECB52"
          ],
          "font": {
           "color": "#2a3f5f"
          },
          "geo": {
           "bgcolor": "white",
           "lakecolor": "white",
           "landcolor": "#E5ECF6",
           "showlakes": true,
           "showland": true,
           "subunitcolor": "white"
          },
          "hoverlabel": {
           "align": "left"
          },
          "hovermode": "closest",
          "mapbox": {
           "style": "light"
          },
          "paper_bgcolor": "white",
          "plot_bgcolor": "#E5ECF6",
          "polar": {
           "angularaxis": {
            "gridcolor": "white",
            "linecolor": "white",
            "ticks": ""
           },
           "bgcolor": "#E5ECF6",
           "radialaxis": {
            "gridcolor": "white",
            "linecolor": "white",
            "ticks": ""
           }
          },
          "scene": {
           "xaxis": {
            "backgroundcolor": "#E5ECF6",
            "gridcolor": "white",
            "gridwidth": 2,
            "linecolor": "white",
            "showbackground": true,
            "ticks": "",
            "zerolinecolor": "white"
           },
           "yaxis": {
            "backgroundcolor": "#E5ECF6",
            "gridcolor": "white",
            "gridwidth": 2,
            "linecolor": "white",
            "showbackground": true,
            "ticks": "",
            "zerolinecolor": "white"
           },
           "zaxis": {
            "backgroundcolor": "#E5ECF6",
            "gridcolor": "white",
            "gridwidth": 2,
            "linecolor": "white",
            "showbackground": true,
            "ticks": "",
            "zerolinecolor": "white"
           }
          },
          "shapedefaults": {
           "line": {
            "color": "#2a3f5f"
           }
          },
          "ternary": {
           "aaxis": {
            "gridcolor": "white",
            "linecolor": "white",
            "ticks": ""
           },
           "baxis": {
            "gridcolor": "white",
            "linecolor": "white",
            "ticks": ""
           },
           "bgcolor": "#E5ECF6",
           "caxis": {
            "gridcolor": "white",
            "linecolor": "white",
            "ticks": ""
           }
          },
          "title": {
           "x": 0.05
          },
          "xaxis": {
           "automargin": true,
           "gridcolor": "white",
           "linecolor": "white",
           "ticks": "",
           "title": {
            "standoff": 15
           },
           "zerolinecolor": "white",
           "zerolinewidth": 2
          },
          "yaxis": {
           "automargin": true,
           "gridcolor": "white",
           "linecolor": "white",
           "ticks": "",
           "title": {
            "standoff": 15
           },
           "zerolinecolor": "white",
           "zerolinewidth": 2
          }
         }
        },
        "title": {
         "font": {
          "color": "#4D5663"
         }
        },
        "xaxis": {
         "gridcolor": "#E1E5ED",
         "showgrid": true,
         "tickfont": {
          "color": "#4D5663"
         },
         "title": {
          "font": {
           "color": "#4D5663"
          },
          "text": ""
         },
         "zerolinecolor": "#E1E5ED"
        },
        "yaxis": {
         "gridcolor": "#E1E5ED",
         "showgrid": true,
         "tickfont": {
          "color": "#4D5663"
         },
         "title": {
          "font": {
           "color": "#4D5663"
          },
          "text": ""
         },
         "zerolinecolor": "#E1E5ED"
        }
       }
      },
      "text/html": [
       "<div>                            <div id=\"96f8b191-34de-412f-a363-80f6eac83dee\" class=\"plotly-graph-div\" style=\"height:525px; width:100%;\"></div>            <script type=\"text/javascript\">                require([\"plotly\"], function(Plotly) {                    window.PLOTLYENV=window.PLOTLYENV || {};\n",
       "                    window.PLOTLYENV.BASE_URL='https://plot.ly';                                    if (document.getElementById(\"96f8b191-34de-412f-a363-80f6eac83dee\")) {                    Plotly.newPlot(                        \"96f8b191-34de-412f-a363-80f6eac83dee\",                        [{\"colorscale\":[[0.0,\"rgb(165,0,38)\"],[0.1,\"rgb(215,48,39)\"],[0.2,\"rgb(244,109,67)\"],[0.3,\"rgb(253,174,97)\"],[0.4,\"rgb(254,224,144)\"],[0.5,\"rgb(255,255,191)\"],[0.6,\"rgb(224,243,248)\"],[0.7,\"rgb(171,217,233)\"],[0.8,\"rgb(116,173,209)\"],[0.9,\"rgb(69,117,180)\"],[1.0,\"rgb(49,54,149)\"]],\"x\":[0,1,2,3,4],\"y\":[\"x\",\"y\",\"z\"],\"z\":[[1,2,3,4,5],[10,20,30,20,10],[5,4,3,2,1]],\"type\":\"surface\"}],                        {\"legend\":{\"bgcolor\":\"#F5F6F9\",\"font\":{\"color\":\"#4D5663\"}},\"paper_bgcolor\":\"#F5F6F9\",\"plot_bgcolor\":\"#F5F6F9\",\"template\":{\"data\":{\"barpolar\":[{\"marker\":{\"line\":{\"color\":\"#E5ECF6\",\"width\":0.5},\"pattern\":{\"fillmode\":\"overlay\",\"size\":10,\"solidity\":0.2}},\"type\":\"barpolar\"}],\"bar\":[{\"error_x\":{\"color\":\"#2a3f5f\"},\"error_y\":{\"color\":\"#2a3f5f\"},\"marker\":{\"line\":{\"color\":\"#E5ECF6\",\"width\":0.5},\"pattern\":{\"fillmode\":\"overlay\",\"size\":10,\"solidity\":0.2}},\"type\":\"bar\"}],\"carpet\":[{\"aaxis\":{\"endlinecolor\":\"#2a3f5f\",\"gridcolor\":\"white\",\"linecolor\":\"white\",\"minorgridcolor\":\"white\",\"startlinecolor\":\"#2a3f5f\"},\"baxis\":{\"endlinecolor\":\"#2a3f5f\",\"gridcolor\":\"white\",\"linecolor\":\"white\",\"minorgridcolor\":\"white\",\"startlinecolor\":\"#2a3f5f\"},\"type\":\"carpet\"}],\"choropleth\":[{\"colorbar\":{\"outlinewidth\":0,\"ticks\":\"\"},\"type\":\"choropleth\"}],\"contourcarpet\":[{\"colorbar\":{\"outlinewidth\":0,\"ticks\":\"\"},\"type\":\"contourcarpet\"}],\"contour\":[{\"colorbar\":{\"outlinewidth\":0,\"ticks\":\"\"},\"colorscale\":[[0.0,\"#0d0887\"],[0.1111111111111111,\"#46039f\"],[0.2222222222222222,\"#7201a8\"],[0.3333333333333333,\"#9c179e\"],[0.4444444444444444,\"#bd3786\"],[0.5555555555555556,\"#d8576b\"],[0.6666666666666666,\"#ed7953\"],[0.7777777777777778,\"#fb9f3a\"],[0.8888888888888888,\"#fdca26\"],[1.0,\"#f0f921\"]],\"type\":\"contour\"}],\"heatmapgl\":[{\"colorbar\":{\"outlinewidth\":0,\"ticks\":\"\"},\"colorscale\":[[0.0,\"#0d0887\"],[0.1111111111111111,\"#46039f\"],[0.2222222222222222,\"#7201a8\"],[0.3333333333333333,\"#9c179e\"],[0.4444444444444444,\"#bd3786\"],[0.5555555555555556,\"#d8576b\"],[0.6666666666666666,\"#ed7953\"],[0.7777777777777778,\"#fb9f3a\"],[0.8888888888888888,\"#fdca26\"],[1.0,\"#f0f921\"]],\"type\":\"heatmapgl\"}],\"heatmap\":[{\"colorbar\":{\"outlinewidth\":0,\"ticks\":\"\"},\"colorscale\":[[0.0,\"#0d0887\"],[0.1111111111111111,\"#46039f\"],[0.2222222222222222,\"#7201a8\"],[0.3333333333333333,\"#9c179e\"],[0.4444444444444444,\"#bd3786\"],[0.5555555555555556,\"#d8576b\"],[0.6666666666666666,\"#ed7953\"],[0.7777777777777778,\"#fb9f3a\"],[0.8888888888888888,\"#fdca26\"],[1.0,\"#f0f921\"]],\"type\":\"heatmap\"}],\"histogram2dcontour\":[{\"colorbar\":{\"outlinewidth\":0,\"ticks\":\"\"},\"colorscale\":[[0.0,\"#0d0887\"],[0.1111111111111111,\"#46039f\"],[0.2222222222222222,\"#7201a8\"],[0.3333333333333333,\"#9c179e\"],[0.4444444444444444,\"#bd3786\"],[0.5555555555555556,\"#d8576b\"],[0.6666666666666666,\"#ed7953\"],[0.7777777777777778,\"#fb9f3a\"],[0.8888888888888888,\"#fdca26\"],[1.0,\"#f0f921\"]],\"type\":\"histogram2dcontour\"}],\"histogram2d\":[{\"colorbar\":{\"outlinewidth\":0,\"ticks\":\"\"},\"colorscale\":[[0.0,\"#0d0887\"],[0.1111111111111111,\"#46039f\"],[0.2222222222222222,\"#7201a8\"],[0.3333333333333333,\"#9c179e\"],[0.4444444444444444,\"#bd3786\"],[0.5555555555555556,\"#d8576b\"],[0.6666666666666666,\"#ed7953\"],[0.7777777777777778,\"#fb9f3a\"],[0.8888888888888888,\"#fdca26\"],[1.0,\"#f0f921\"]],\"type\":\"histogram2d\"}],\"histogram\":[{\"marker\":{\"pattern\":{\"fillmode\":\"overlay\",\"size\":10,\"solidity\":0.2}},\"type\":\"histogram\"}],\"mesh3d\":[{\"colorbar\":{\"outlinewidth\":0,\"ticks\":\"\"},\"type\":\"mesh3d\"}],\"parcoords\":[{\"line\":{\"colorbar\":{\"outlinewidth\":0,\"ticks\":\"\"}},\"type\":\"parcoords\"}],\"pie\":[{\"automargin\":true,\"type\":\"pie\"}],\"scatter3d\":[{\"line\":{\"colorbar\":{\"outlinewidth\":0,\"ticks\":\"\"}},\"marker\":{\"colorbar\":{\"outlinewidth\":0,\"ticks\":\"\"}},\"type\":\"scatter3d\"}],\"scattercarpet\":[{\"marker\":{\"colorbar\":{\"outlinewidth\":0,\"ticks\":\"\"}},\"type\":\"scattercarpet\"}],\"scattergeo\":[{\"marker\":{\"colorbar\":{\"outlinewidth\":0,\"ticks\":\"\"}},\"type\":\"scattergeo\"}],\"scattergl\":[{\"marker\":{\"colorbar\":{\"outlinewidth\":0,\"ticks\":\"\"}},\"type\":\"scattergl\"}],\"scattermapbox\":[{\"marker\":{\"colorbar\":{\"outlinewidth\":0,\"ticks\":\"\"}},\"type\":\"scattermapbox\"}],\"scatterpolargl\":[{\"marker\":{\"colorbar\":{\"outlinewidth\":0,\"ticks\":\"\"}},\"type\":\"scatterpolargl\"}],\"scatterpolar\":[{\"marker\":{\"colorbar\":{\"outlinewidth\":0,\"ticks\":\"\"}},\"type\":\"scatterpolar\"}],\"scatter\":[{\"fillpattern\":{\"fillmode\":\"overlay\",\"size\":10,\"solidity\":0.2},\"type\":\"scatter\"}],\"scatterternary\":[{\"marker\":{\"colorbar\":{\"outlinewidth\":0,\"ticks\":\"\"}},\"type\":\"scatterternary\"}],\"surface\":[{\"colorbar\":{\"outlinewidth\":0,\"ticks\":\"\"},\"colorscale\":[[0.0,\"#0d0887\"],[0.1111111111111111,\"#46039f\"],[0.2222222222222222,\"#7201a8\"],[0.3333333333333333,\"#9c179e\"],[0.4444444444444444,\"#bd3786\"],[0.5555555555555556,\"#d8576b\"],[0.6666666666666666,\"#ed7953\"],[0.7777777777777778,\"#fb9f3a\"],[0.8888888888888888,\"#fdca26\"],[1.0,\"#f0f921\"]],\"type\":\"surface\"}],\"table\":[{\"cells\":{\"fill\":{\"color\":\"#EBF0F8\"},\"line\":{\"color\":\"white\"}},\"header\":{\"fill\":{\"color\":\"#C8D4E3\"},\"line\":{\"color\":\"white\"}},\"type\":\"table\"}]},\"layout\":{\"annotationdefaults\":{\"arrowcolor\":\"#2a3f5f\",\"arrowhead\":0,\"arrowwidth\":1},\"autotypenumbers\":\"strict\",\"coloraxis\":{\"colorbar\":{\"outlinewidth\":0,\"ticks\":\"\"}},\"colorscale\":{\"diverging\":[[0,\"#8e0152\"],[0.1,\"#c51b7d\"],[0.2,\"#de77ae\"],[0.3,\"#f1b6da\"],[0.4,\"#fde0ef\"],[0.5,\"#f7f7f7\"],[0.6,\"#e6f5d0\"],[0.7,\"#b8e186\"],[0.8,\"#7fbc41\"],[0.9,\"#4d9221\"],[1,\"#276419\"]],\"sequential\":[[0.0,\"#0d0887\"],[0.1111111111111111,\"#46039f\"],[0.2222222222222222,\"#7201a8\"],[0.3333333333333333,\"#9c179e\"],[0.4444444444444444,\"#bd3786\"],[0.5555555555555556,\"#d8576b\"],[0.6666666666666666,\"#ed7953\"],[0.7777777777777778,\"#fb9f3a\"],[0.8888888888888888,\"#fdca26\"],[1.0,\"#f0f921\"]],\"sequentialminus\":[[0.0,\"#0d0887\"],[0.1111111111111111,\"#46039f\"],[0.2222222222222222,\"#7201a8\"],[0.3333333333333333,\"#9c179e\"],[0.4444444444444444,\"#bd3786\"],[0.5555555555555556,\"#d8576b\"],[0.6666666666666666,\"#ed7953\"],[0.7777777777777778,\"#fb9f3a\"],[0.8888888888888888,\"#fdca26\"],[1.0,\"#f0f921\"]]},\"colorway\":[\"#636efa\",\"#EF553B\",\"#00cc96\",\"#ab63fa\",\"#FFA15A\",\"#19d3f3\",\"#FF6692\",\"#B6E880\",\"#FF97FF\",\"#FECB52\"],\"font\":{\"color\":\"#2a3f5f\"},\"geo\":{\"bgcolor\":\"white\",\"lakecolor\":\"white\",\"landcolor\":\"#E5ECF6\",\"showlakes\":true,\"showland\":true,\"subunitcolor\":\"white\"},\"hoverlabel\":{\"align\":\"left\"},\"hovermode\":\"closest\",\"mapbox\":{\"style\":\"light\"},\"paper_bgcolor\":\"white\",\"plot_bgcolor\":\"#E5ECF6\",\"polar\":{\"angularaxis\":{\"gridcolor\":\"white\",\"linecolor\":\"white\",\"ticks\":\"\"},\"bgcolor\":\"#E5ECF6\",\"radialaxis\":{\"gridcolor\":\"white\",\"linecolor\":\"white\",\"ticks\":\"\"}},\"scene\":{\"xaxis\":{\"backgroundcolor\":\"#E5ECF6\",\"gridcolor\":\"white\",\"gridwidth\":2,\"linecolor\":\"white\",\"showbackground\":true,\"ticks\":\"\",\"zerolinecolor\":\"white\"},\"yaxis\":{\"backgroundcolor\":\"#E5ECF6\",\"gridcolor\":\"white\",\"gridwidth\":2,\"linecolor\":\"white\",\"showbackground\":true,\"ticks\":\"\",\"zerolinecolor\":\"white\"},\"zaxis\":{\"backgroundcolor\":\"#E5ECF6\",\"gridcolor\":\"white\",\"gridwidth\":2,\"linecolor\":\"white\",\"showbackground\":true,\"ticks\":\"\",\"zerolinecolor\":\"white\"}},\"shapedefaults\":{\"line\":{\"color\":\"#2a3f5f\"}},\"ternary\":{\"aaxis\":{\"gridcolor\":\"white\",\"linecolor\":\"white\",\"ticks\":\"\"},\"baxis\":{\"gridcolor\":\"white\",\"linecolor\":\"white\",\"ticks\":\"\"},\"bgcolor\":\"#E5ECF6\",\"caxis\":{\"gridcolor\":\"white\",\"linecolor\":\"white\",\"ticks\":\"\"}},\"title\":{\"x\":0.05},\"xaxis\":{\"automargin\":true,\"gridcolor\":\"white\",\"linecolor\":\"white\",\"ticks\":\"\",\"title\":{\"standoff\":15},\"zerolinecolor\":\"white\",\"zerolinewidth\":2},\"yaxis\":{\"automargin\":true,\"gridcolor\":\"white\",\"linecolor\":\"white\",\"ticks\":\"\",\"title\":{\"standoff\":15},\"zerolinecolor\":\"white\",\"zerolinewidth\":2}}},\"title\":{\"font\":{\"color\":\"#4D5663\"}},\"xaxis\":{\"gridcolor\":\"#E1E5ED\",\"showgrid\":true,\"tickfont\":{\"color\":\"#4D5663\"},\"title\":{\"font\":{\"color\":\"#4D5663\"},\"text\":\"\"},\"zerolinecolor\":\"#E1E5ED\"},\"yaxis\":{\"gridcolor\":\"#E1E5ED\",\"showgrid\":true,\"tickfont\":{\"color\":\"#4D5663\"},\"title\":{\"font\":{\"color\":\"#4D5663\"},\"text\":\"\"},\"zerolinecolor\":\"#E1E5ED\"}},                        {\"showLink\": true, \"linkText\": \"Export to plot.ly\", \"plotlyServerURL\": \"https://plot.ly\", \"responsive\": true}                    ).then(function(){\n",
       "                            \n",
       "var gd = document.getElementById('96f8b191-34de-412f-a363-80f6eac83dee');\n",
       "var x = new MutationObserver(function (mutations, observer) {{\n",
       "        var display = window.getComputedStyle(gd).display;\n",
       "        if (!display || display === 'none') {{\n",
       "            console.log([gd, 'removed!']);\n",
       "            Plotly.purge(gd);\n",
       "            observer.disconnect();\n",
       "        }}\n",
       "}});\n",
       "\n",
       "// Listen for the removal of the full notebook cells\n",
       "var notebookContainer = gd.closest('#notebook-container');\n",
       "if (notebookContainer) {{\n",
       "    x.observe(notebookContainer, {childList: true});\n",
       "}}\n",
       "\n",
       "// Listen for the clearing of the current output cell\n",
       "var outputEl = gd.closest('.output');\n",
       "if (outputEl) {{\n",
       "    x.observe(outputEl, {childList: true});\n",
       "}}\n",
       "\n",
       "                        })                };                });            </script>        </div>"
      ]
     },
     "metadata": {},
     "output_type": "display_data"
    }
   ],
   "source": [
    "df3 = pd.DataFrame({'x':[1,2,3,4,5],'y':[10,20,30,20,10],'z':[5,4,3,2,1]})\n",
    "df3.iplot(kind='surface',colorscale='rdylbu')"
   ]
  },
  {
   "cell_type": "markdown",
   "metadata": {},
   "source": [
    "## Spread"
   ]
  },
  {
   "cell_type": "code",
   "execution_count": 15,
   "metadata": {},
   "outputs": [
    {
     "name": "stderr",
     "output_type": "stream",
     "text": [
      "c:\\Apps\\Anaconda\\envs\\myenv\\lib\\site-packages\\cufflinks\\plotlytools.py:849: FutureWarning:\n",
      "\n",
      "The pandas.np module is deprecated and will be removed from pandas in a future version. Import numpy directly instead.\n",
      "\n",
      "c:\\Apps\\Anaconda\\envs\\myenv\\lib\\site-packages\\cufflinks\\plotlytools.py:850: FutureWarning:\n",
      "\n",
      "The pandas.np module is deprecated and will be removed from pandas in a future version. Import numpy directly instead.\n",
      "\n"
     ]
    },
    {
     "data": {
      "application/vnd.plotly.v1+json": {
       "config": {
        "linkText": "Export to plot.ly",
        "plotlyServerURL": "https://plot.ly",
        "showLink": true
       },
       "data": [
        {
         "line": {
          "color": "rgba(255, 153, 51, 1.0)",
          "dash": "solid",
          "shape": "linear",
          "width": 1.3
         },
         "mode": "lines",
         "name": "A",
         "text": "",
         "type": "scatter",
         "x": [
          0,
          1,
          2,
          3,
          4,
          5,
          6,
          7,
          8,
          9,
          10,
          11,
          12,
          13,
          14,
          15,
          16,
          17,
          18,
          19,
          20,
          21,
          22,
          23,
          24,
          25,
          26,
          27,
          28,
          29,
          30,
          31,
          32,
          33,
          34,
          35,
          36,
          37,
          38,
          39,
          40,
          41,
          42,
          43,
          44,
          45,
          46,
          47,
          48,
          49,
          50,
          51,
          52,
          53,
          54,
          55,
          56,
          57,
          58,
          59,
          60,
          61,
          62,
          63,
          64,
          65,
          66,
          67,
          68,
          69,
          70,
          71,
          72,
          73,
          74,
          75,
          76,
          77,
          78,
          79,
          80,
          81,
          82,
          83,
          84,
          85,
          86,
          87,
          88,
          89,
          90,
          91,
          92,
          93,
          94,
          95,
          96,
          97,
          98,
          99
         ],
         "y": [
          -0.761538621205789,
          -0.7095884634062892,
          -1.87542527271739,
          -0.5065020746548108,
          1.35496259011185,
          -0.026882085442824027,
          0.3970926315800366,
          0.07930693556886965,
          -0.41651464393472665,
          -2.1276514696138085,
          0.7820816143304232,
          -0.46474335159908536,
          -1.9107278629738271,
          -0.5851839091377247,
          -0.6977177817635527,
          -2.4805654165741604,
          0.30130380247970456,
          -1.2057408655541713,
          0.975851335324599,
          0.935008023807403,
          0.6521460449304588,
          -0.16948993321802375,
          -0.6290415454217887,
          1.8582365753048842,
          0.519562575788573,
          0.21804135002318595,
          -0.6493577537881481,
          -0.911446297830199,
          -0.21094657901329192,
          1.925812415310548,
          -0.8602460299440234,
          0.5127438996267528,
          0.8813742038543424,
          -0.13573916517822807,
          -0.9270599803167954,
          1.0650535344599334,
          -0.5460679312679347,
          1.0117070089099622,
          -0.9777694153477007,
          0.35845385850155465,
          -0.6132408377130129,
          0.10871499849728981,
          0.40127567610710363,
          -0.6487046715630305,
          -0.8973289755839094,
          -0.4771539232923262,
          1.4138765300447418,
          0.044259693659036675,
          1.2456282221444395,
          0.6788475597193058,
          -0.9965791035290003,
          0.1608038512426127,
          -1.7273251122882962,
          0.9478549448318161,
          0.1957383843350601,
          0.20494952842470757,
          0.8557551042032416,
          1.2239513555987374,
          -0.8418915016769701,
          -0.7584061431982285,
          1.038055563573445,
          -1.2160740963752874,
          -0.4973699854095074,
          -0.9284199605478466,
          -0.5289637024381451,
          0.6079527884027386,
          -1.281229580560239,
          -0.09569023796817881,
          0.4651359310332824,
          0.35533232231510486,
          0.7261215905295191,
          -1.0520852792461017,
          2.6876313437622183,
          -1.717725205859949,
          -0.9111405606483214,
          -0.29153549489613173,
          -0.5701590060528048,
          0.05584067025163339,
          -1.1098732423331124,
          -0.9036945129123467,
          0.4501068865111808,
          0.825544257138231,
          0.4653860586330535,
          -1.1603307220031898,
          2.2810419206827284,
          0.11951586146702434,
          -0.2861420901734789,
          -1.3116881377337695,
          -0.32994936800329144,
          0.6197776617277426,
          0.2583173154079452,
          -0.4729733090730053,
          -0.07433117747413986,
          0.6221367200900845,
          -0.6301195699345721,
          -1.05620362506392,
          -1.0813433380501374,
          -0.6526823581710206,
          -0.40308048066321017,
          -0.19307390859447687
         ]
        },
        {
         "line": {
          "color": "rgba(55, 128, 191, 1.0)",
          "dash": "solid",
          "shape": "linear",
          "width": 1.3
         },
         "mode": "lines",
         "name": "B",
         "text": "",
         "type": "scatter",
         "x": [
          0,
          1,
          2,
          3,
          4,
          5,
          6,
          7,
          8,
          9,
          10,
          11,
          12,
          13,
          14,
          15,
          16,
          17,
          18,
          19,
          20,
          21,
          22,
          23,
          24,
          25,
          26,
          27,
          28,
          29,
          30,
          31,
          32,
          33,
          34,
          35,
          36,
          37,
          38,
          39,
          40,
          41,
          42,
          43,
          44,
          45,
          46,
          47,
          48,
          49,
          50,
          51,
          52,
          53,
          54,
          55,
          56,
          57,
          58,
          59,
          60,
          61,
          62,
          63,
          64,
          65,
          66,
          67,
          68,
          69,
          70,
          71,
          72,
          73,
          74,
          75,
          76,
          77,
          78,
          79,
          80,
          81,
          82,
          83,
          84,
          85,
          86,
          87,
          88,
          89,
          90,
          91,
          92,
          93,
          94,
          95,
          96,
          97,
          98,
          99
         ],
         "y": [
          2.0212488155738875,
          0.7583096657857158,
          0.690456279047033,
          -0.5336253666583853,
          -0.3444448261782787,
          -1.5007167350721706,
          1.47417272332828,
          0.7224922054456843,
          -0.9523322732880294,
          -1.2007521411285247,
          0.17977885829835624,
          -0.3993877007738916,
          -0.03594024055892166,
          0.43672348288119245,
          -0.40696742781349027,
          0.2134293668056055,
          1.7803668779864803,
          -0.39022504742482833,
          -1.6383548443486666,
          -2.285357617815566,
          0.44741158825359245,
          -0.2927635506639341,
          0.4136368844636603,
          0.8078711083943342,
          0.2884092876798255,
          0.4949136350960853,
          0.7503925352077869,
          -0.8731681678867933,
          0.8061604124757041,
          0.27710798744893084,
          -0.1582208416581821,
          -0.9856087371450262,
          -0.11527233251929478,
          0.40375922576565254,
          0.06448225213737395,
          -1.335774942121669,
          -0.11807724370888023,
          -0.9794050934152908,
          -0.5149681326578647,
          0.8063573557471728,
          0.9979072896721226,
          0.7147261302748834,
          -0.5182821264572214,
          -3.1376785914728136,
          1.0311784055004873,
          -0.8132771291058926,
          0.18432068082792719,
          0.9237360904499204,
          0.30599407158319486,
          0.33507477440349753,
          0.07919280617985913,
          -0.4232933611080333,
          0.3558176377425486,
          -0.9263390939314984,
          -0.7665872434389798,
          0.725052038268612,
          1.1164035544920263,
          0.18244465783419295,
          -0.2816778377621261,
          -0.38687777851277577,
          0.7727005377999372,
          0.06711665722470082,
          0.6742548227152336,
          0.9763233892497046,
          0.8214369752267061,
          0.8494264109004337,
          -0.3878781331543912,
          -0.6514852554195295,
          -1.8920663607417647,
          -0.8653341210591329,
          1.3075581912669738,
          0.7810217429948401,
          -0.7057405243063345,
          0.9652829915392097,
          0.21573636864042325,
          -0.3421430578373146,
          1.8610130200091133,
          -1.8794998483938055,
          0.7943304837877205,
          -0.053051118459419344,
          0.22410566547086927,
          0.07216085006027313,
          -0.2754955239090127,
          1.2590849074647348,
          1.0139736758249545,
          0.05570390346374175,
          -0.7690113262533337,
          2.1803261836384222,
          -0.7940812816209243,
          -1.1111128259709735,
          -0.3106265064956946,
          -0.026017216185092323,
          0.08661658866512632,
          -0.4717446856472977,
          0.0449965557198526,
          0.6638303748533824,
          0.25766663740266194,
          -0.6957389173560475,
          1.5120781751025285,
          0.6983516103179237
         ]
        },
        {
         "connectgaps": false,
         "fill": "tozeroy",
         "line": {
          "color": "green",
          "dash": "solid",
          "shape": "linear",
          "width": 0.5
         },
         "mode": "lines",
         "name": "Spread",
         "showlegend": false,
         "type": "scatter",
         "x": [
          0,
          1,
          2,
          3,
          4,
          5,
          6,
          7,
          8,
          9,
          10,
          11,
          12,
          13,
          14,
          15,
          16,
          17,
          18,
          19,
          20,
          21,
          22,
          23,
          24,
          25,
          26,
          27,
          28,
          29,
          30,
          31,
          32,
          33,
          34,
          35,
          36,
          37,
          38,
          39,
          40,
          41,
          42,
          43,
          44,
          45,
          46,
          47,
          48,
          49,
          50,
          51,
          52,
          53,
          54,
          55,
          56,
          57,
          58,
          59,
          60,
          61,
          62,
          63,
          64,
          65,
          66,
          67,
          68,
          69,
          70,
          71,
          72,
          73,
          74,
          75,
          76,
          77,
          78,
          79,
          80,
          81,
          82,
          83,
          84,
          85,
          86,
          87,
          88,
          89,
          90,
          91,
          92,
          93,
          94,
          95,
          96,
          97,
          98,
          99
         ],
         "xaxis": "x2",
         "y": [
          "",
          "",
          "",
          0.02712329200357455,
          1.6994074162901287,
          1.4738346496293466,
          "",
          "",
          0.5358176293533028,
          "",
          0.602302756032067,
          "",
          "",
          "",
          "",
          "",
          "",
          "",
          2.614206179673266,
          3.220365641622969,
          0.20473445667686635,
          0.12327361744591037,
          "",
          1.05036546691055,
          0.23115328810874752,
          "",
          "",
          "",
          "",
          1.6487044278616172,
          "",
          1.498352636771779,
          0.9966465363736372,
          "",
          "",
          2.4008284765816024,
          "",
          1.991112102325253,
          "",
          "",
          "",
          "",
          0.919557802564325,
          2.488973919909783,
          "",
          0.33612320581356636,
          1.2295558492168146,
          "",
          0.9396341505612447,
          0.34377278531580824,
          "",
          0.584097212350646,
          "",
          1.8741940387633145,
          0.9623256277740398,
          "",
          "",
          1.0415066977645444,
          "",
          "",
          0.2653550257735078,
          "",
          "",
          "",
          "",
          "",
          "",
          0.5557950174513507,
          2.3572022917750473,
          1.2206664433742378,
          "",
          "",
          3.3933718680685527,
          "",
          "",
          0.05060756294118285,
          "",
          1.9353405186454389,
          "",
          "",
          0.22600122104031153,
          0.7533834070779578,
          0.7408815825420663,
          "",
          1.267068244857774,
          0.06381195800328258,
          0.48286923607985477,
          "",
          0.46413191361763284,
          1.7308904876987161,
          0.5689438219036398,
          "",
          "",
          1.0938814057373822,
          "",
          "",
          "",
          0.04305655918502693,
          "",
          ""
         ],
         "yaxis": "y2"
        },
        {
         "connectgaps": false,
         "fill": "tozeroy",
         "line": {
          "color": "red",
          "dash": "solid",
          "shape": "linear",
          "width": 0.5
         },
         "mode": "lines",
         "name": "Spread",
         "showlegend": false,
         "type": "scatter",
         "x": [
          0,
          1,
          2,
          3,
          4,
          5,
          6,
          7,
          8,
          9,
          10,
          11,
          12,
          13,
          14,
          15,
          16,
          17,
          18,
          19,
          20,
          21,
          22,
          23,
          24,
          25,
          26,
          27,
          28,
          29,
          30,
          31,
          32,
          33,
          34,
          35,
          36,
          37,
          38,
          39,
          40,
          41,
          42,
          43,
          44,
          45,
          46,
          47,
          48,
          49,
          50,
          51,
          52,
          53,
          54,
          55,
          56,
          57,
          58,
          59,
          60,
          61,
          62,
          63,
          64,
          65,
          66,
          67,
          68,
          69,
          70,
          71,
          72,
          73,
          74,
          75,
          76,
          77,
          78,
          79,
          80,
          81,
          82,
          83,
          84,
          85,
          86,
          87,
          88,
          89,
          90,
          91,
          92,
          93,
          94,
          95,
          96,
          97,
          98,
          99
         ],
         "xaxis": "x2",
         "y": [
          -2.7827874367796763,
          -1.467898129192005,
          -2.5658815517644227,
          "",
          "",
          "",
          -1.0770800917482433,
          -0.6431852698768146,
          "",
          -0.9268993284852838,
          "",
          -0.06535565082519379,
          -1.8747876224149054,
          -1.021907392018917,
          -0.29075035395006243,
          -2.693994783379766,
          -1.4790630755067757,
          -0.8155158181293429,
          "",
          "",
          "",
          "",
          -1.042678429885449,
          "",
          "",
          -0.2768722850728994,
          -1.399750288995935,
          -0.038278129943405736,
          -1.017106991488996,
          "",
          -0.7020251882858414,
          "",
          "",
          -0.5394983909438806,
          -0.9915422324541693,
          "",
          -0.4279906875590545,
          "",
          -0.462801282689836,
          -0.4479034972456182,
          -1.6111481273851354,
          -0.6060111317775936,
          "",
          "",
          -1.9285073810843967,
          "",
          "",
          -0.8794763967908837,
          "",
          "",
          -1.0757719097088594,
          "",
          -2.083142750030845,
          "",
          "",
          -0.5201025098439044,
          -0.2606484502887847,
          "",
          -0.5602136639148441,
          -0.37152836468545275,
          "",
          -1.2831907535999882,
          -1.171624808124741,
          -1.9047433497975512,
          -1.3504006776648512,
          -0.2414736224976951,
          -0.8933514474058477,
          "",
          "",
          "",
          -0.5814366007374547,
          -1.8331070222409418,
          "",
          -2.683008197399159,
          -1.1268769292887446,
          "",
          -2.431172026061918,
          "",
          -1.9042037261208329,
          -0.8506433944529274,
          "",
          "",
          "",
          -2.4194156294679248,
          "",
          "",
          "",
          -3.4920143213721917,
          "",
          "",
          "",
          -0.44695609288791294,
          -0.1609477661392662,
          "",
          -0.6751161256544247,
          -1.7200339999173022,
          -1.3390099754527993,
          "",
          -1.9151586557657387,
          -0.8914255189124005
         ],
         "yaxis": "y2"
        }
       ],
       "layout": {
        "hovermode": "x",
        "legend": {
         "bgcolor": "#F5F6F9",
         "font": {
          "color": "#4D5663"
         }
        },
        "paper_bgcolor": "#F5F6F9",
        "plot_bgcolor": "#F5F6F9",
        "template": {
         "data": {
          "bar": [
           {
            "error_x": {
             "color": "#2a3f5f"
            },
            "error_y": {
             "color": "#2a3f5f"
            },
            "marker": {
             "line": {
              "color": "#E5ECF6",
              "width": 0.5
             },
             "pattern": {
              "fillmode": "overlay",
              "size": 10,
              "solidity": 0.2
             }
            },
            "type": "bar"
           }
          ],
          "barpolar": [
           {
            "marker": {
             "line": {
              "color": "#E5ECF6",
              "width": 0.5
             },
             "pattern": {
              "fillmode": "overlay",
              "size": 10,
              "solidity": 0.2
             }
            },
            "type": "barpolar"
           }
          ],
          "carpet": [
           {
            "aaxis": {
             "endlinecolor": "#2a3f5f",
             "gridcolor": "white",
             "linecolor": "white",
             "minorgridcolor": "white",
             "startlinecolor": "#2a3f5f"
            },
            "baxis": {
             "endlinecolor": "#2a3f5f",
             "gridcolor": "white",
             "linecolor": "white",
             "minorgridcolor": "white",
             "startlinecolor": "#2a3f5f"
            },
            "type": "carpet"
           }
          ],
          "choropleth": [
           {
            "colorbar": {
             "outlinewidth": 0,
             "ticks": ""
            },
            "type": "choropleth"
           }
          ],
          "contour": [
           {
            "colorbar": {
             "outlinewidth": 0,
             "ticks": ""
            },
            "colorscale": [
             [
              0,
              "#0d0887"
             ],
             [
              0.1111111111111111,
              "#46039f"
             ],
             [
              0.2222222222222222,
              "#7201a8"
             ],
             [
              0.3333333333333333,
              "#9c179e"
             ],
             [
              0.4444444444444444,
              "#bd3786"
             ],
             [
              0.5555555555555556,
              "#d8576b"
             ],
             [
              0.6666666666666666,
              "#ed7953"
             ],
             [
              0.7777777777777778,
              "#fb9f3a"
             ],
             [
              0.8888888888888888,
              "#fdca26"
             ],
             [
              1,
              "#f0f921"
             ]
            ],
            "type": "contour"
           }
          ],
          "contourcarpet": [
           {
            "colorbar": {
             "outlinewidth": 0,
             "ticks": ""
            },
            "type": "contourcarpet"
           }
          ],
          "heatmap": [
           {
            "colorbar": {
             "outlinewidth": 0,
             "ticks": ""
            },
            "colorscale": [
             [
              0,
              "#0d0887"
             ],
             [
              0.1111111111111111,
              "#46039f"
             ],
             [
              0.2222222222222222,
              "#7201a8"
             ],
             [
              0.3333333333333333,
              "#9c179e"
             ],
             [
              0.4444444444444444,
              "#bd3786"
             ],
             [
              0.5555555555555556,
              "#d8576b"
             ],
             [
              0.6666666666666666,
              "#ed7953"
             ],
             [
              0.7777777777777778,
              "#fb9f3a"
             ],
             [
              0.8888888888888888,
              "#fdca26"
             ],
             [
              1,
              "#f0f921"
             ]
            ],
            "type": "heatmap"
           }
          ],
          "heatmapgl": [
           {
            "colorbar": {
             "outlinewidth": 0,
             "ticks": ""
            },
            "colorscale": [
             [
              0,
              "#0d0887"
             ],
             [
              0.1111111111111111,
              "#46039f"
             ],
             [
              0.2222222222222222,
              "#7201a8"
             ],
             [
              0.3333333333333333,
              "#9c179e"
             ],
             [
              0.4444444444444444,
              "#bd3786"
             ],
             [
              0.5555555555555556,
              "#d8576b"
             ],
             [
              0.6666666666666666,
              "#ed7953"
             ],
             [
              0.7777777777777778,
              "#fb9f3a"
             ],
             [
              0.8888888888888888,
              "#fdca26"
             ],
             [
              1,
              "#f0f921"
             ]
            ],
            "type": "heatmapgl"
           }
          ],
          "histogram": [
           {
            "marker": {
             "pattern": {
              "fillmode": "overlay",
              "size": 10,
              "solidity": 0.2
             }
            },
            "type": "histogram"
           }
          ],
          "histogram2d": [
           {
            "colorbar": {
             "outlinewidth": 0,
             "ticks": ""
            },
            "colorscale": [
             [
              0,
              "#0d0887"
             ],
             [
              0.1111111111111111,
              "#46039f"
             ],
             [
              0.2222222222222222,
              "#7201a8"
             ],
             [
              0.3333333333333333,
              "#9c179e"
             ],
             [
              0.4444444444444444,
              "#bd3786"
             ],
             [
              0.5555555555555556,
              "#d8576b"
             ],
             [
              0.6666666666666666,
              "#ed7953"
             ],
             [
              0.7777777777777778,
              "#fb9f3a"
             ],
             [
              0.8888888888888888,
              "#fdca26"
             ],
             [
              1,
              "#f0f921"
             ]
            ],
            "type": "histogram2d"
           }
          ],
          "histogram2dcontour": [
           {
            "colorbar": {
             "outlinewidth": 0,
             "ticks": ""
            },
            "colorscale": [
             [
              0,
              "#0d0887"
             ],
             [
              0.1111111111111111,
              "#46039f"
             ],
             [
              0.2222222222222222,
              "#7201a8"
             ],
             [
              0.3333333333333333,
              "#9c179e"
             ],
             [
              0.4444444444444444,
              "#bd3786"
             ],
             [
              0.5555555555555556,
              "#d8576b"
             ],
             [
              0.6666666666666666,
              "#ed7953"
             ],
             [
              0.7777777777777778,
              "#fb9f3a"
             ],
             [
              0.8888888888888888,
              "#fdca26"
             ],
             [
              1,
              "#f0f921"
             ]
            ],
            "type": "histogram2dcontour"
           }
          ],
          "mesh3d": [
           {
            "colorbar": {
             "outlinewidth": 0,
             "ticks": ""
            },
            "type": "mesh3d"
           }
          ],
          "parcoords": [
           {
            "line": {
             "colorbar": {
              "outlinewidth": 0,
              "ticks": ""
             }
            },
            "type": "parcoords"
           }
          ],
          "pie": [
           {
            "automargin": true,
            "type": "pie"
           }
          ],
          "scatter": [
           {
            "fillpattern": {
             "fillmode": "overlay",
             "size": 10,
             "solidity": 0.2
            },
            "type": "scatter"
           }
          ],
          "scatter3d": [
           {
            "line": {
             "colorbar": {
              "outlinewidth": 0,
              "ticks": ""
             }
            },
            "marker": {
             "colorbar": {
              "outlinewidth": 0,
              "ticks": ""
             }
            },
            "type": "scatter3d"
           }
          ],
          "scattercarpet": [
           {
            "marker": {
             "colorbar": {
              "outlinewidth": 0,
              "ticks": ""
             }
            },
            "type": "scattercarpet"
           }
          ],
          "scattergeo": [
           {
            "marker": {
             "colorbar": {
              "outlinewidth": 0,
              "ticks": ""
             }
            },
            "type": "scattergeo"
           }
          ],
          "scattergl": [
           {
            "marker": {
             "colorbar": {
              "outlinewidth": 0,
              "ticks": ""
             }
            },
            "type": "scattergl"
           }
          ],
          "scattermapbox": [
           {
            "marker": {
             "colorbar": {
              "outlinewidth": 0,
              "ticks": ""
             }
            },
            "type": "scattermapbox"
           }
          ],
          "scatterpolar": [
           {
            "marker": {
             "colorbar": {
              "outlinewidth": 0,
              "ticks": ""
             }
            },
            "type": "scatterpolar"
           }
          ],
          "scatterpolargl": [
           {
            "marker": {
             "colorbar": {
              "outlinewidth": 0,
              "ticks": ""
             }
            },
            "type": "scatterpolargl"
           }
          ],
          "scatterternary": [
           {
            "marker": {
             "colorbar": {
              "outlinewidth": 0,
              "ticks": ""
             }
            },
            "type": "scatterternary"
           }
          ],
          "surface": [
           {
            "colorbar": {
             "outlinewidth": 0,
             "ticks": ""
            },
            "colorscale": [
             [
              0,
              "#0d0887"
             ],
             [
              0.1111111111111111,
              "#46039f"
             ],
             [
              0.2222222222222222,
              "#7201a8"
             ],
             [
              0.3333333333333333,
              "#9c179e"
             ],
             [
              0.4444444444444444,
              "#bd3786"
             ],
             [
              0.5555555555555556,
              "#d8576b"
             ],
             [
              0.6666666666666666,
              "#ed7953"
             ],
             [
              0.7777777777777778,
              "#fb9f3a"
             ],
             [
              0.8888888888888888,
              "#fdca26"
             ],
             [
              1,
              "#f0f921"
             ]
            ],
            "type": "surface"
           }
          ],
          "table": [
           {
            "cells": {
             "fill": {
              "color": "#EBF0F8"
             },
             "line": {
              "color": "white"
             }
            },
            "header": {
             "fill": {
              "color": "#C8D4E3"
             },
             "line": {
              "color": "white"
             }
            },
            "type": "table"
           }
          ]
         },
         "layout": {
          "annotationdefaults": {
           "arrowcolor": "#2a3f5f",
           "arrowhead": 0,
           "arrowwidth": 1
          },
          "autotypenumbers": "strict",
          "coloraxis": {
           "colorbar": {
            "outlinewidth": 0,
            "ticks": ""
           }
          },
          "colorscale": {
           "diverging": [
            [
             0,
             "#8e0152"
            ],
            [
             0.1,
             "#c51b7d"
            ],
            [
             0.2,
             "#de77ae"
            ],
            [
             0.3,
             "#f1b6da"
            ],
            [
             0.4,
             "#fde0ef"
            ],
            [
             0.5,
             "#f7f7f7"
            ],
            [
             0.6,
             "#e6f5d0"
            ],
            [
             0.7,
             "#b8e186"
            ],
            [
             0.8,
             "#7fbc41"
            ],
            [
             0.9,
             "#4d9221"
            ],
            [
             1,
             "#276419"
            ]
           ],
           "sequential": [
            [
             0,
             "#0d0887"
            ],
            [
             0.1111111111111111,
             "#46039f"
            ],
            [
             0.2222222222222222,
             "#7201a8"
            ],
            [
             0.3333333333333333,
             "#9c179e"
            ],
            [
             0.4444444444444444,
             "#bd3786"
            ],
            [
             0.5555555555555556,
             "#d8576b"
            ],
            [
             0.6666666666666666,
             "#ed7953"
            ],
            [
             0.7777777777777778,
             "#fb9f3a"
            ],
            [
             0.8888888888888888,
             "#fdca26"
            ],
            [
             1,
             "#f0f921"
            ]
           ],
           "sequentialminus": [
            [
             0,
             "#0d0887"
            ],
            [
             0.1111111111111111,
             "#46039f"
            ],
            [
             0.2222222222222222,
             "#7201a8"
            ],
            [
             0.3333333333333333,
             "#9c179e"
            ],
            [
             0.4444444444444444,
             "#bd3786"
            ],
            [
             0.5555555555555556,
             "#d8576b"
            ],
            [
             0.6666666666666666,
             "#ed7953"
            ],
            [
             0.7777777777777778,
             "#fb9f3a"
            ],
            [
             0.8888888888888888,
             "#fdca26"
            ],
            [
             1,
             "#f0f921"
            ]
           ]
          },
          "colorway": [
           "#636efa",
           "#EF553B",
           "#00cc96",
           "#ab63fa",
           "#FFA15A",
           "#19d3f3",
           "#FF6692",
           "#B6E880",
           "#FF97FF",
           "#FECB52"
          ],
          "font": {
           "color": "#2a3f5f"
          },
          "geo": {
           "bgcolor": "white",
           "lakecolor": "white",
           "landcolor": "#E5ECF6",
           "showlakes": true,
           "showland": true,
           "subunitcolor": "white"
          },
          "hoverlabel": {
           "align": "left"
          },
          "hovermode": "closest",
          "mapbox": {
           "style": "light"
          },
          "paper_bgcolor": "white",
          "plot_bgcolor": "#E5ECF6",
          "polar": {
           "angularaxis": {
            "gridcolor": "white",
            "linecolor": "white",
            "ticks": ""
           },
           "bgcolor": "#E5ECF6",
           "radialaxis": {
            "gridcolor": "white",
            "linecolor": "white",
            "ticks": ""
           }
          },
          "scene": {
           "xaxis": {
            "backgroundcolor": "#E5ECF6",
            "gridcolor": "white",
            "gridwidth": 2,
            "linecolor": "white",
            "showbackground": true,
            "ticks": "",
            "zerolinecolor": "white"
           },
           "yaxis": {
            "backgroundcolor": "#E5ECF6",
            "gridcolor": "white",
            "gridwidth": 2,
            "linecolor": "white",
            "showbackground": true,
            "ticks": "",
            "zerolinecolor": "white"
           },
           "zaxis": {
            "backgroundcolor": "#E5ECF6",
            "gridcolor": "white",
            "gridwidth": 2,
            "linecolor": "white",
            "showbackground": true,
            "ticks": "",
            "zerolinecolor": "white"
           }
          },
          "shapedefaults": {
           "line": {
            "color": "#2a3f5f"
           }
          },
          "ternary": {
           "aaxis": {
            "gridcolor": "white",
            "linecolor": "white",
            "ticks": ""
           },
           "baxis": {
            "gridcolor": "white",
            "linecolor": "white",
            "ticks": ""
           },
           "bgcolor": "#E5ECF6",
           "caxis": {
            "gridcolor": "white",
            "linecolor": "white",
            "ticks": ""
           }
          },
          "title": {
           "x": 0.05
          },
          "xaxis": {
           "automargin": true,
           "gridcolor": "white",
           "linecolor": "white",
           "ticks": "",
           "title": {
            "standoff": 15
           },
           "zerolinecolor": "white",
           "zerolinewidth": 2
          },
          "yaxis": {
           "automargin": true,
           "gridcolor": "white",
           "linecolor": "white",
           "ticks": "",
           "title": {
            "standoff": 15
           },
           "zerolinecolor": "white",
           "zerolinewidth": 2
          }
         }
        },
        "title": {
         "font": {
          "color": "#4D5663"
         }
        },
        "xaxis": {
         "gridcolor": "#E1E5ED",
         "showgrid": true,
         "tickfont": {
          "color": "#4D5663"
         },
         "title": {
          "font": {
           "color": "#4D5663"
          },
          "text": ""
         },
         "zerolinecolor": "#E1E5ED"
        },
        "xaxis2": {
         "anchor": "y2",
         "gridcolor": "#E1E5ED",
         "showgrid": true,
         "showticklabels": false,
         "tickfont": {
          "color": "#4D5663"
         },
         "title": {
          "font": {
           "color": "#4D5663"
          },
          "text": ""
         },
         "zerolinecolor": "#E1E5ED"
        },
        "yaxis": {
         "domain": [
          0.3,
          1
         ],
         "gridcolor": "#E1E5ED",
         "showgrid": true,
         "tickfont": {
          "color": "#4D5663"
         },
         "title": {
          "font": {
           "color": "#4D5663"
          },
          "text": ""
         },
         "zerolinecolor": "#E1E5ED"
        },
        "yaxis2": {
         "domain": [
          0,
          0.25
         ],
         "gridcolor": "#E1E5ED",
         "showgrid": true,
         "tickfont": {
          "color": "#4D5663"
         },
         "title": {
          "font": {
           "color": "#4D5663"
          },
          "text": "Spread"
         },
         "zerolinecolor": "#E1E5ED"
        }
       }
      },
      "text/html": [
       "<div>                            <div id=\"84578251-776b-4636-9b9e-c96d75a2f868\" class=\"plotly-graph-div\" style=\"height:525px; width:100%;\"></div>            <script type=\"text/javascript\">                require([\"plotly\"], function(Plotly) {                    window.PLOTLYENV=window.PLOTLYENV || {};\n",
       "                    window.PLOTLYENV.BASE_URL='https://plot.ly';                                    if (document.getElementById(\"84578251-776b-4636-9b9e-c96d75a2f868\")) {                    Plotly.newPlot(                        \"84578251-776b-4636-9b9e-c96d75a2f868\",                        [{\"line\":{\"color\":\"rgba(255, 153, 51, 1.0)\",\"dash\":\"solid\",\"shape\":\"linear\",\"width\":1.3},\"mode\":\"lines\",\"name\":\"A\",\"text\":\"\",\"x\":[0,1,2,3,4,5,6,7,8,9,10,11,12,13,14,15,16,17,18,19,20,21,22,23,24,25,26,27,28,29,30,31,32,33,34,35,36,37,38,39,40,41,42,43,44,45,46,47,48,49,50,51,52,53,54,55,56,57,58,59,60,61,62,63,64,65,66,67,68,69,70,71,72,73,74,75,76,77,78,79,80,81,82,83,84,85,86,87,88,89,90,91,92,93,94,95,96,97,98,99],\"y\":[-0.761538621205789,-0.7095884634062892,-1.87542527271739,-0.5065020746548108,1.35496259011185,-0.026882085442824027,0.3970926315800366,0.07930693556886965,-0.41651464393472665,-2.1276514696138085,0.7820816143304232,-0.46474335159908536,-1.9107278629738271,-0.5851839091377247,-0.6977177817635527,-2.4805654165741604,0.30130380247970456,-1.2057408655541713,0.975851335324599,0.935008023807403,0.6521460449304588,-0.16948993321802375,-0.6290415454217887,1.8582365753048842,0.519562575788573,0.21804135002318595,-0.6493577537881481,-0.911446297830199,-0.21094657901329192,1.925812415310548,-0.8602460299440234,0.5127438996267528,0.8813742038543424,-0.13573916517822807,-0.9270599803167954,1.0650535344599334,-0.5460679312679347,1.0117070089099622,-0.9777694153477007,0.35845385850155465,-0.6132408377130129,0.10871499849728981,0.40127567610710363,-0.6487046715630305,-0.8973289755839094,-0.4771539232923262,1.4138765300447418,0.044259693659036675,1.2456282221444395,0.6788475597193058,-0.9965791035290003,0.1608038512426127,-1.7273251122882962,0.9478549448318161,0.1957383843350601,0.20494952842470757,0.8557551042032416,1.2239513555987374,-0.8418915016769701,-0.7584061431982285,1.038055563573445,-1.2160740963752874,-0.4973699854095074,-0.9284199605478466,-0.5289637024381451,0.6079527884027386,-1.281229580560239,-0.09569023796817881,0.4651359310332824,0.35533232231510486,0.7261215905295191,-1.0520852792461017,2.6876313437622183,-1.717725205859949,-0.9111405606483214,-0.29153549489613173,-0.5701590060528048,0.05584067025163339,-1.1098732423331124,-0.9036945129123467,0.4501068865111808,0.825544257138231,0.4653860586330535,-1.1603307220031898,2.2810419206827284,0.11951586146702434,-0.2861420901734789,-1.3116881377337695,-0.32994936800329144,0.6197776617277426,0.2583173154079452,-0.4729733090730053,-0.07433117747413986,0.6221367200900845,-0.6301195699345721,-1.05620362506392,-1.0813433380501374,-0.6526823581710206,-0.40308048066321017,-0.19307390859447687],\"type\":\"scatter\"},{\"line\":{\"color\":\"rgba(55, 128, 191, 1.0)\",\"dash\":\"solid\",\"shape\":\"linear\",\"width\":1.3},\"mode\":\"lines\",\"name\":\"B\",\"text\":\"\",\"x\":[0,1,2,3,4,5,6,7,8,9,10,11,12,13,14,15,16,17,18,19,20,21,22,23,24,25,26,27,28,29,30,31,32,33,34,35,36,37,38,39,40,41,42,43,44,45,46,47,48,49,50,51,52,53,54,55,56,57,58,59,60,61,62,63,64,65,66,67,68,69,70,71,72,73,74,75,76,77,78,79,80,81,82,83,84,85,86,87,88,89,90,91,92,93,94,95,96,97,98,99],\"y\":[2.0212488155738875,0.7583096657857158,0.690456279047033,-0.5336253666583853,-0.3444448261782787,-1.5007167350721706,1.47417272332828,0.7224922054456843,-0.9523322732880294,-1.2007521411285247,0.17977885829835624,-0.3993877007738916,-0.03594024055892166,0.43672348288119245,-0.40696742781349027,0.2134293668056055,1.7803668779864803,-0.39022504742482833,-1.6383548443486666,-2.285357617815566,0.44741158825359245,-0.2927635506639341,0.4136368844636603,0.8078711083943342,0.2884092876798255,0.4949136350960853,0.7503925352077869,-0.8731681678867933,0.8061604124757041,0.27710798744893084,-0.1582208416581821,-0.9856087371450262,-0.11527233251929478,0.40375922576565254,0.06448225213737395,-1.335774942121669,-0.11807724370888023,-0.9794050934152908,-0.5149681326578647,0.8063573557471728,0.9979072896721226,0.7147261302748834,-0.5182821264572214,-3.1376785914728136,1.0311784055004873,-0.8132771291058926,0.18432068082792719,0.9237360904499204,0.30599407158319486,0.33507477440349753,0.07919280617985913,-0.4232933611080333,0.3558176377425486,-0.9263390939314984,-0.7665872434389798,0.725052038268612,1.1164035544920263,0.18244465783419295,-0.2816778377621261,-0.38687777851277577,0.7727005377999372,0.06711665722470082,0.6742548227152336,0.9763233892497046,0.8214369752267061,0.8494264109004337,-0.3878781331543912,-0.6514852554195295,-1.8920663607417647,-0.8653341210591329,1.3075581912669738,0.7810217429948401,-0.7057405243063345,0.9652829915392097,0.21573636864042325,-0.3421430578373146,1.8610130200091133,-1.8794998483938055,0.7943304837877205,-0.053051118459419344,0.22410566547086927,0.07216085006027313,-0.2754955239090127,1.2590849074647348,1.0139736758249545,0.05570390346374175,-0.7690113262533337,2.1803261836384222,-0.7940812816209243,-1.1111128259709735,-0.3106265064956946,-0.026017216185092323,0.08661658866512632,-0.4717446856472977,0.0449965557198526,0.6638303748533824,0.25766663740266194,-0.6957389173560475,1.5120781751025285,0.6983516103179237],\"type\":\"scatter\"},{\"connectgaps\":false,\"fill\":\"tozeroy\",\"line\":{\"color\":\"green\",\"dash\":\"solid\",\"shape\":\"linear\",\"width\":0.5},\"mode\":\"lines\",\"name\":\"Spread\",\"showlegend\":false,\"x\":[0,1,2,3,4,5,6,7,8,9,10,11,12,13,14,15,16,17,18,19,20,21,22,23,24,25,26,27,28,29,30,31,32,33,34,35,36,37,38,39,40,41,42,43,44,45,46,47,48,49,50,51,52,53,54,55,56,57,58,59,60,61,62,63,64,65,66,67,68,69,70,71,72,73,74,75,76,77,78,79,80,81,82,83,84,85,86,87,88,89,90,91,92,93,94,95,96,97,98,99],\"xaxis\":\"x2\",\"y\":[\"\",\"\",\"\",0.02712329200357455,1.6994074162901287,1.4738346496293466,\"\",\"\",0.5358176293533028,\"\",0.602302756032067,\"\",\"\",\"\",\"\",\"\",\"\",\"\",2.614206179673266,3.220365641622969,0.20473445667686635,0.12327361744591037,\"\",1.05036546691055,0.23115328810874752,\"\",\"\",\"\",\"\",1.6487044278616172,\"\",1.498352636771779,0.9966465363736372,\"\",\"\",2.4008284765816024,\"\",1.991112102325253,\"\",\"\",\"\",\"\",0.919557802564325,2.488973919909783,\"\",0.33612320581356636,1.2295558492168146,\"\",0.9396341505612447,0.34377278531580824,\"\",0.584097212350646,\"\",1.8741940387633145,0.9623256277740398,\"\",\"\",1.0415066977645444,\"\",\"\",0.2653550257735078,\"\",\"\",\"\",\"\",\"\",\"\",0.5557950174513507,2.3572022917750473,1.2206664433742378,\"\",\"\",3.3933718680685527,\"\",\"\",0.05060756294118285,\"\",1.9353405186454389,\"\",\"\",0.22600122104031153,0.7533834070779578,0.7408815825420663,\"\",1.267068244857774,0.06381195800328258,0.48286923607985477,\"\",0.46413191361763284,1.7308904876987161,0.5689438219036398,\"\",\"\",1.0938814057373822,\"\",\"\",\"\",0.04305655918502693,\"\",\"\"],\"yaxis\":\"y2\",\"type\":\"scatter\"},{\"connectgaps\":false,\"fill\":\"tozeroy\",\"line\":{\"color\":\"red\",\"dash\":\"solid\",\"shape\":\"linear\",\"width\":0.5},\"mode\":\"lines\",\"name\":\"Spread\",\"showlegend\":false,\"x\":[0,1,2,3,4,5,6,7,8,9,10,11,12,13,14,15,16,17,18,19,20,21,22,23,24,25,26,27,28,29,30,31,32,33,34,35,36,37,38,39,40,41,42,43,44,45,46,47,48,49,50,51,52,53,54,55,56,57,58,59,60,61,62,63,64,65,66,67,68,69,70,71,72,73,74,75,76,77,78,79,80,81,82,83,84,85,86,87,88,89,90,91,92,93,94,95,96,97,98,99],\"xaxis\":\"x2\",\"y\":[-2.7827874367796763,-1.467898129192005,-2.5658815517644227,\"\",\"\",\"\",-1.0770800917482433,-0.6431852698768146,\"\",-0.9268993284852838,\"\",-0.06535565082519379,-1.8747876224149054,-1.021907392018917,-0.29075035395006243,-2.693994783379766,-1.4790630755067757,-0.8155158181293429,\"\",\"\",\"\",\"\",-1.042678429885449,\"\",\"\",-0.2768722850728994,-1.399750288995935,-0.038278129943405736,-1.017106991488996,\"\",-0.7020251882858414,\"\",\"\",-0.5394983909438806,-0.9915422324541693,\"\",-0.4279906875590545,\"\",-0.462801282689836,-0.4479034972456182,-1.6111481273851354,-0.6060111317775936,\"\",\"\",-1.9285073810843967,\"\",\"\",-0.8794763967908837,\"\",\"\",-1.0757719097088594,\"\",-2.083142750030845,\"\",\"\",-0.5201025098439044,-0.2606484502887847,\"\",-0.5602136639148441,-0.37152836468545275,\"\",-1.2831907535999882,-1.171624808124741,-1.9047433497975512,-1.3504006776648512,-0.2414736224976951,-0.8933514474058477,\"\",\"\",\"\",-0.5814366007374547,-1.8331070222409418,\"\",-2.683008197399159,-1.1268769292887446,\"\",-2.431172026061918,\"\",-1.9042037261208329,-0.8506433944529274,\"\",\"\",\"\",-2.4194156294679248,\"\",\"\",\"\",-3.4920143213721917,\"\",\"\",\"\",-0.44695609288791294,-0.1609477661392662,\"\",-0.6751161256544247,-1.7200339999173022,-1.3390099754527993,\"\",-1.9151586557657387,-0.8914255189124005],\"yaxis\":\"y2\",\"type\":\"scatter\"}],                        {\"hovermode\":\"x\",\"legend\":{\"bgcolor\":\"#F5F6F9\",\"font\":{\"color\":\"#4D5663\"}},\"paper_bgcolor\":\"#F5F6F9\",\"plot_bgcolor\":\"#F5F6F9\",\"template\":{\"data\":{\"barpolar\":[{\"marker\":{\"line\":{\"color\":\"#E5ECF6\",\"width\":0.5},\"pattern\":{\"fillmode\":\"overlay\",\"size\":10,\"solidity\":0.2}},\"type\":\"barpolar\"}],\"bar\":[{\"error_x\":{\"color\":\"#2a3f5f\"},\"error_y\":{\"color\":\"#2a3f5f\"},\"marker\":{\"line\":{\"color\":\"#E5ECF6\",\"width\":0.5},\"pattern\":{\"fillmode\":\"overlay\",\"size\":10,\"solidity\":0.2}},\"type\":\"bar\"}],\"carpet\":[{\"aaxis\":{\"endlinecolor\":\"#2a3f5f\",\"gridcolor\":\"white\",\"linecolor\":\"white\",\"minorgridcolor\":\"white\",\"startlinecolor\":\"#2a3f5f\"},\"baxis\":{\"endlinecolor\":\"#2a3f5f\",\"gridcolor\":\"white\",\"linecolor\":\"white\",\"minorgridcolor\":\"white\",\"startlinecolor\":\"#2a3f5f\"},\"type\":\"carpet\"}],\"choropleth\":[{\"colorbar\":{\"outlinewidth\":0,\"ticks\":\"\"},\"type\":\"choropleth\"}],\"contourcarpet\":[{\"colorbar\":{\"outlinewidth\":0,\"ticks\":\"\"},\"type\":\"contourcarpet\"}],\"contour\":[{\"colorbar\":{\"outlinewidth\":0,\"ticks\":\"\"},\"colorscale\":[[0.0,\"#0d0887\"],[0.1111111111111111,\"#46039f\"],[0.2222222222222222,\"#7201a8\"],[0.3333333333333333,\"#9c179e\"],[0.4444444444444444,\"#bd3786\"],[0.5555555555555556,\"#d8576b\"],[0.6666666666666666,\"#ed7953\"],[0.7777777777777778,\"#fb9f3a\"],[0.8888888888888888,\"#fdca26\"],[1.0,\"#f0f921\"]],\"type\":\"contour\"}],\"heatmapgl\":[{\"colorbar\":{\"outlinewidth\":0,\"ticks\":\"\"},\"colorscale\":[[0.0,\"#0d0887\"],[0.1111111111111111,\"#46039f\"],[0.2222222222222222,\"#7201a8\"],[0.3333333333333333,\"#9c179e\"],[0.4444444444444444,\"#bd3786\"],[0.5555555555555556,\"#d8576b\"],[0.6666666666666666,\"#ed7953\"],[0.7777777777777778,\"#fb9f3a\"],[0.8888888888888888,\"#fdca26\"],[1.0,\"#f0f921\"]],\"type\":\"heatmapgl\"}],\"heatmap\":[{\"colorbar\":{\"outlinewidth\":0,\"ticks\":\"\"},\"colorscale\":[[0.0,\"#0d0887\"],[0.1111111111111111,\"#46039f\"],[0.2222222222222222,\"#7201a8\"],[0.3333333333333333,\"#9c179e\"],[0.4444444444444444,\"#bd3786\"],[0.5555555555555556,\"#d8576b\"],[0.6666666666666666,\"#ed7953\"],[0.7777777777777778,\"#fb9f3a\"],[0.8888888888888888,\"#fdca26\"],[1.0,\"#f0f921\"]],\"type\":\"heatmap\"}],\"histogram2dcontour\":[{\"colorbar\":{\"outlinewidth\":0,\"ticks\":\"\"},\"colorscale\":[[0.0,\"#0d0887\"],[0.1111111111111111,\"#46039f\"],[0.2222222222222222,\"#7201a8\"],[0.3333333333333333,\"#9c179e\"],[0.4444444444444444,\"#bd3786\"],[0.5555555555555556,\"#d8576b\"],[0.6666666666666666,\"#ed7953\"],[0.7777777777777778,\"#fb9f3a\"],[0.8888888888888888,\"#fdca26\"],[1.0,\"#f0f921\"]],\"type\":\"histogram2dcontour\"}],\"histogram2d\":[{\"colorbar\":{\"outlinewidth\":0,\"ticks\":\"\"},\"colorscale\":[[0.0,\"#0d0887\"],[0.1111111111111111,\"#46039f\"],[0.2222222222222222,\"#7201a8\"],[0.3333333333333333,\"#9c179e\"],[0.4444444444444444,\"#bd3786\"],[0.5555555555555556,\"#d8576b\"],[0.6666666666666666,\"#ed7953\"],[0.7777777777777778,\"#fb9f3a\"],[0.8888888888888888,\"#fdca26\"],[1.0,\"#f0f921\"]],\"type\":\"histogram2d\"}],\"histogram\":[{\"marker\":{\"pattern\":{\"fillmode\":\"overlay\",\"size\":10,\"solidity\":0.2}},\"type\":\"histogram\"}],\"mesh3d\":[{\"colorbar\":{\"outlinewidth\":0,\"ticks\":\"\"},\"type\":\"mesh3d\"}],\"parcoords\":[{\"line\":{\"colorbar\":{\"outlinewidth\":0,\"ticks\":\"\"}},\"type\":\"parcoords\"}],\"pie\":[{\"automargin\":true,\"type\":\"pie\"}],\"scatter3d\":[{\"line\":{\"colorbar\":{\"outlinewidth\":0,\"ticks\":\"\"}},\"marker\":{\"colorbar\":{\"outlinewidth\":0,\"ticks\":\"\"}},\"type\":\"scatter3d\"}],\"scattercarpet\":[{\"marker\":{\"colorbar\":{\"outlinewidth\":0,\"ticks\":\"\"}},\"type\":\"scattercarpet\"}],\"scattergeo\":[{\"marker\":{\"colorbar\":{\"outlinewidth\":0,\"ticks\":\"\"}},\"type\":\"scattergeo\"}],\"scattergl\":[{\"marker\":{\"colorbar\":{\"outlinewidth\":0,\"ticks\":\"\"}},\"type\":\"scattergl\"}],\"scattermapbox\":[{\"marker\":{\"colorbar\":{\"outlinewidth\":0,\"ticks\":\"\"}},\"type\":\"scattermapbox\"}],\"scatterpolargl\":[{\"marker\":{\"colorbar\":{\"outlinewidth\":0,\"ticks\":\"\"}},\"type\":\"scatterpolargl\"}],\"scatterpolar\":[{\"marker\":{\"colorbar\":{\"outlinewidth\":0,\"ticks\":\"\"}},\"type\":\"scatterpolar\"}],\"scatter\":[{\"fillpattern\":{\"fillmode\":\"overlay\",\"size\":10,\"solidity\":0.2},\"type\":\"scatter\"}],\"scatterternary\":[{\"marker\":{\"colorbar\":{\"outlinewidth\":0,\"ticks\":\"\"}},\"type\":\"scatterternary\"}],\"surface\":[{\"colorbar\":{\"outlinewidth\":0,\"ticks\":\"\"},\"colorscale\":[[0.0,\"#0d0887\"],[0.1111111111111111,\"#46039f\"],[0.2222222222222222,\"#7201a8\"],[0.3333333333333333,\"#9c179e\"],[0.4444444444444444,\"#bd3786\"],[0.5555555555555556,\"#d8576b\"],[0.6666666666666666,\"#ed7953\"],[0.7777777777777778,\"#fb9f3a\"],[0.8888888888888888,\"#fdca26\"],[1.0,\"#f0f921\"]],\"type\":\"surface\"}],\"table\":[{\"cells\":{\"fill\":{\"color\":\"#EBF0F8\"},\"line\":{\"color\":\"white\"}},\"header\":{\"fill\":{\"color\":\"#C8D4E3\"},\"line\":{\"color\":\"white\"}},\"type\":\"table\"}]},\"layout\":{\"annotationdefaults\":{\"arrowcolor\":\"#2a3f5f\",\"arrowhead\":0,\"arrowwidth\":1},\"autotypenumbers\":\"strict\",\"coloraxis\":{\"colorbar\":{\"outlinewidth\":0,\"ticks\":\"\"}},\"colorscale\":{\"diverging\":[[0,\"#8e0152\"],[0.1,\"#c51b7d\"],[0.2,\"#de77ae\"],[0.3,\"#f1b6da\"],[0.4,\"#fde0ef\"],[0.5,\"#f7f7f7\"],[0.6,\"#e6f5d0\"],[0.7,\"#b8e186\"],[0.8,\"#7fbc41\"],[0.9,\"#4d9221\"],[1,\"#276419\"]],\"sequential\":[[0.0,\"#0d0887\"],[0.1111111111111111,\"#46039f\"],[0.2222222222222222,\"#7201a8\"],[0.3333333333333333,\"#9c179e\"],[0.4444444444444444,\"#bd3786\"],[0.5555555555555556,\"#d8576b\"],[0.6666666666666666,\"#ed7953\"],[0.7777777777777778,\"#fb9f3a\"],[0.8888888888888888,\"#fdca26\"],[1.0,\"#f0f921\"]],\"sequentialminus\":[[0.0,\"#0d0887\"],[0.1111111111111111,\"#46039f\"],[0.2222222222222222,\"#7201a8\"],[0.3333333333333333,\"#9c179e\"],[0.4444444444444444,\"#bd3786\"],[0.5555555555555556,\"#d8576b\"],[0.6666666666666666,\"#ed7953\"],[0.7777777777777778,\"#fb9f3a\"],[0.8888888888888888,\"#fdca26\"],[1.0,\"#f0f921\"]]},\"colorway\":[\"#636efa\",\"#EF553B\",\"#00cc96\",\"#ab63fa\",\"#FFA15A\",\"#19d3f3\",\"#FF6692\",\"#B6E880\",\"#FF97FF\",\"#FECB52\"],\"font\":{\"color\":\"#2a3f5f\"},\"geo\":{\"bgcolor\":\"white\",\"lakecolor\":\"white\",\"landcolor\":\"#E5ECF6\",\"showlakes\":true,\"showland\":true,\"subunitcolor\":\"white\"},\"hoverlabel\":{\"align\":\"left\"},\"hovermode\":\"closest\",\"mapbox\":{\"style\":\"light\"},\"paper_bgcolor\":\"white\",\"plot_bgcolor\":\"#E5ECF6\",\"polar\":{\"angularaxis\":{\"gridcolor\":\"white\",\"linecolor\":\"white\",\"ticks\":\"\"},\"bgcolor\":\"#E5ECF6\",\"radialaxis\":{\"gridcolor\":\"white\",\"linecolor\":\"white\",\"ticks\":\"\"}},\"scene\":{\"xaxis\":{\"backgroundcolor\":\"#E5ECF6\",\"gridcolor\":\"white\",\"gridwidth\":2,\"linecolor\":\"white\",\"showbackground\":true,\"ticks\":\"\",\"zerolinecolor\":\"white\"},\"yaxis\":{\"backgroundcolor\":\"#E5ECF6\",\"gridcolor\":\"white\",\"gridwidth\":2,\"linecolor\":\"white\",\"showbackground\":true,\"ticks\":\"\",\"zerolinecolor\":\"white\"},\"zaxis\":{\"backgroundcolor\":\"#E5ECF6\",\"gridcolor\":\"white\",\"gridwidth\":2,\"linecolor\":\"white\",\"showbackground\":true,\"ticks\":\"\",\"zerolinecolor\":\"white\"}},\"shapedefaults\":{\"line\":{\"color\":\"#2a3f5f\"}},\"ternary\":{\"aaxis\":{\"gridcolor\":\"white\",\"linecolor\":\"white\",\"ticks\":\"\"},\"baxis\":{\"gridcolor\":\"white\",\"linecolor\":\"white\",\"ticks\":\"\"},\"bgcolor\":\"#E5ECF6\",\"caxis\":{\"gridcolor\":\"white\",\"linecolor\":\"white\",\"ticks\":\"\"}},\"title\":{\"x\":0.05},\"xaxis\":{\"automargin\":true,\"gridcolor\":\"white\",\"linecolor\":\"white\",\"ticks\":\"\",\"title\":{\"standoff\":15},\"zerolinecolor\":\"white\",\"zerolinewidth\":2},\"yaxis\":{\"automargin\":true,\"gridcolor\":\"white\",\"linecolor\":\"white\",\"ticks\":\"\",\"title\":{\"standoff\":15},\"zerolinecolor\":\"white\",\"zerolinewidth\":2}}},\"title\":{\"font\":{\"color\":\"#4D5663\"}},\"xaxis\":{\"gridcolor\":\"#E1E5ED\",\"showgrid\":true,\"tickfont\":{\"color\":\"#4D5663\"},\"title\":{\"font\":{\"color\":\"#4D5663\"},\"text\":\"\"},\"zerolinecolor\":\"#E1E5ED\"},\"yaxis\":{\"domain\":[0.3,1],\"gridcolor\":\"#E1E5ED\",\"showgrid\":true,\"tickfont\":{\"color\":\"#4D5663\"},\"title\":{\"font\":{\"color\":\"#4D5663\"},\"text\":\"\"},\"zerolinecolor\":\"#E1E5ED\"},\"yaxis2\":{\"domain\":[0,0.25],\"gridcolor\":\"#E1E5ED\",\"showgrid\":true,\"tickfont\":{\"color\":\"#4D5663\"},\"title\":{\"font\":{\"color\":\"#4D5663\"},\"text\":\"Spread\"},\"zerolinecolor\":\"#E1E5ED\"},\"xaxis2\":{\"anchor\":\"y2\",\"gridcolor\":\"#E1E5ED\",\"showgrid\":true,\"showticklabels\":false,\"tickfont\":{\"color\":\"#4D5663\"},\"title\":{\"font\":{\"color\":\"#4D5663\"},\"text\":\"\"},\"zerolinecolor\":\"#E1E5ED\"}},                        {\"showLink\": true, \"linkText\": \"Export to plot.ly\", \"plotlyServerURL\": \"https://plot.ly\", \"responsive\": true}                    ).then(function(){\n",
       "                            \n",
       "var gd = document.getElementById('84578251-776b-4636-9b9e-c96d75a2f868');\n",
       "var x = new MutationObserver(function (mutations, observer) {{\n",
       "        var display = window.getComputedStyle(gd).display;\n",
       "        if (!display || display === 'none') {{\n",
       "            console.log([gd, 'removed!']);\n",
       "            Plotly.purge(gd);\n",
       "            observer.disconnect();\n",
       "        }}\n",
       "}});\n",
       "\n",
       "// Listen for the removal of the full notebook cells\n",
       "var notebookContainer = gd.closest('#notebook-container');\n",
       "if (notebookContainer) {{\n",
       "    x.observe(notebookContainer, {childList: true});\n",
       "}}\n",
       "\n",
       "// Listen for the clearing of the current output cell\n",
       "var outputEl = gd.closest('.output');\n",
       "if (outputEl) {{\n",
       "    x.observe(outputEl, {childList: true});\n",
       "}}\n",
       "\n",
       "                        })                };                });            </script>        </div>"
      ]
     },
     "metadata": {},
     "output_type": "display_data"
    }
   ],
   "source": [
    "df[['A','B']].iplot(kind='spread')"
   ]
  },
  {
   "cell_type": "markdown",
   "metadata": {},
   "source": [
    "## histogram"
   ]
  },
  {
   "cell_type": "code",
   "execution_count": 16,
   "metadata": {},
   "outputs": [
    {
     "data": {
      "application/vnd.plotly.v1+json": {
       "config": {
        "linkText": "Export to plot.ly",
        "plotlyServerURL": "https://plot.ly",
        "showLink": true
       },
       "data": [
        {
         "histfunc": "count",
         "histnorm": "",
         "marker": {
          "color": "rgba(255, 153, 51, 1.0)",
          "line": {
           "color": "#4D5663",
           "width": 1.3
          }
         },
         "name": "A",
         "nbinsx": 25,
         "opacity": 0.8,
         "orientation": "v",
         "type": "histogram",
         "x": [
          -0.761538621205789,
          -0.7095884634062892,
          -1.87542527271739,
          -0.5065020746548108,
          1.35496259011185,
          -0.026882085442824027,
          0.3970926315800366,
          0.07930693556886965,
          -0.41651464393472665,
          -2.1276514696138085,
          0.7820816143304232,
          -0.46474335159908536,
          -1.9107278629738271,
          -0.5851839091377247,
          -0.6977177817635527,
          -2.4805654165741604,
          0.30130380247970456,
          -1.2057408655541713,
          0.975851335324599,
          0.935008023807403,
          0.6521460449304588,
          -0.16948993321802375,
          -0.6290415454217887,
          1.8582365753048842,
          0.519562575788573,
          0.21804135002318595,
          -0.6493577537881481,
          -0.911446297830199,
          -0.21094657901329192,
          1.925812415310548,
          -0.8602460299440234,
          0.5127438996267528,
          0.8813742038543424,
          -0.13573916517822807,
          -0.9270599803167954,
          1.0650535344599334,
          -0.5460679312679347,
          1.0117070089099622,
          -0.9777694153477007,
          0.35845385850155465,
          -0.6132408377130129,
          0.10871499849728981,
          0.40127567610710363,
          -0.6487046715630305,
          -0.8973289755839094,
          -0.4771539232923262,
          1.4138765300447418,
          0.044259693659036675,
          1.2456282221444395,
          0.6788475597193058,
          -0.9965791035290003,
          0.1608038512426127,
          -1.7273251122882962,
          0.9478549448318161,
          0.1957383843350601,
          0.20494952842470757,
          0.8557551042032416,
          1.2239513555987374,
          -0.8418915016769701,
          -0.7584061431982285,
          1.038055563573445,
          -1.2160740963752874,
          -0.4973699854095074,
          -0.9284199605478466,
          -0.5289637024381451,
          0.6079527884027386,
          -1.281229580560239,
          -0.09569023796817881,
          0.4651359310332824,
          0.35533232231510486,
          0.7261215905295191,
          -1.0520852792461017,
          2.6876313437622183,
          -1.717725205859949,
          -0.9111405606483214,
          -0.29153549489613173,
          -0.5701590060528048,
          0.05584067025163339,
          -1.1098732423331124,
          -0.9036945129123467,
          0.4501068865111808,
          0.825544257138231,
          0.4653860586330535,
          -1.1603307220031898,
          2.2810419206827284,
          0.11951586146702434,
          -0.2861420901734789,
          -1.3116881377337695,
          -0.32994936800329144,
          0.6197776617277426,
          0.2583173154079452,
          -0.4729733090730053,
          -0.07433117747413986,
          0.6221367200900845,
          -0.6301195699345721,
          -1.05620362506392,
          -1.0813433380501374,
          -0.6526823581710206,
          -0.40308048066321017,
          -0.19307390859447687
         ]
        }
       ],
       "layout": {
        "barmode": "overlay",
        "legend": {
         "bgcolor": "#F5F6F9",
         "font": {
          "color": "#4D5663"
         }
        },
        "paper_bgcolor": "#F5F6F9",
        "plot_bgcolor": "#F5F6F9",
        "template": {
         "data": {
          "bar": [
           {
            "error_x": {
             "color": "#2a3f5f"
            },
            "error_y": {
             "color": "#2a3f5f"
            },
            "marker": {
             "line": {
              "color": "#E5ECF6",
              "width": 0.5
             },
             "pattern": {
              "fillmode": "overlay",
              "size": 10,
              "solidity": 0.2
             }
            },
            "type": "bar"
           }
          ],
          "barpolar": [
           {
            "marker": {
             "line": {
              "color": "#E5ECF6",
              "width": 0.5
             },
             "pattern": {
              "fillmode": "overlay",
              "size": 10,
              "solidity": 0.2
             }
            },
            "type": "barpolar"
           }
          ],
          "carpet": [
           {
            "aaxis": {
             "endlinecolor": "#2a3f5f",
             "gridcolor": "white",
             "linecolor": "white",
             "minorgridcolor": "white",
             "startlinecolor": "#2a3f5f"
            },
            "baxis": {
             "endlinecolor": "#2a3f5f",
             "gridcolor": "white",
             "linecolor": "white",
             "minorgridcolor": "white",
             "startlinecolor": "#2a3f5f"
            },
            "type": "carpet"
           }
          ],
          "choropleth": [
           {
            "colorbar": {
             "outlinewidth": 0,
             "ticks": ""
            },
            "type": "choropleth"
           }
          ],
          "contour": [
           {
            "colorbar": {
             "outlinewidth": 0,
             "ticks": ""
            },
            "colorscale": [
             [
              0,
              "#0d0887"
             ],
             [
              0.1111111111111111,
              "#46039f"
             ],
             [
              0.2222222222222222,
              "#7201a8"
             ],
             [
              0.3333333333333333,
              "#9c179e"
             ],
             [
              0.4444444444444444,
              "#bd3786"
             ],
             [
              0.5555555555555556,
              "#d8576b"
             ],
             [
              0.6666666666666666,
              "#ed7953"
             ],
             [
              0.7777777777777778,
              "#fb9f3a"
             ],
             [
              0.8888888888888888,
              "#fdca26"
             ],
             [
              1,
              "#f0f921"
             ]
            ],
            "type": "contour"
           }
          ],
          "contourcarpet": [
           {
            "colorbar": {
             "outlinewidth": 0,
             "ticks": ""
            },
            "type": "contourcarpet"
           }
          ],
          "heatmap": [
           {
            "colorbar": {
             "outlinewidth": 0,
             "ticks": ""
            },
            "colorscale": [
             [
              0,
              "#0d0887"
             ],
             [
              0.1111111111111111,
              "#46039f"
             ],
             [
              0.2222222222222222,
              "#7201a8"
             ],
             [
              0.3333333333333333,
              "#9c179e"
             ],
             [
              0.4444444444444444,
              "#bd3786"
             ],
             [
              0.5555555555555556,
              "#d8576b"
             ],
             [
              0.6666666666666666,
              "#ed7953"
             ],
             [
              0.7777777777777778,
              "#fb9f3a"
             ],
             [
              0.8888888888888888,
              "#fdca26"
             ],
             [
              1,
              "#f0f921"
             ]
            ],
            "type": "heatmap"
           }
          ],
          "heatmapgl": [
           {
            "colorbar": {
             "outlinewidth": 0,
             "ticks": ""
            },
            "colorscale": [
             [
              0,
              "#0d0887"
             ],
             [
              0.1111111111111111,
              "#46039f"
             ],
             [
              0.2222222222222222,
              "#7201a8"
             ],
             [
              0.3333333333333333,
              "#9c179e"
             ],
             [
              0.4444444444444444,
              "#bd3786"
             ],
             [
              0.5555555555555556,
              "#d8576b"
             ],
             [
              0.6666666666666666,
              "#ed7953"
             ],
             [
              0.7777777777777778,
              "#fb9f3a"
             ],
             [
              0.8888888888888888,
              "#fdca26"
             ],
             [
              1,
              "#f0f921"
             ]
            ],
            "type": "heatmapgl"
           }
          ],
          "histogram": [
           {
            "marker": {
             "pattern": {
              "fillmode": "overlay",
              "size": 10,
              "solidity": 0.2
             }
            },
            "type": "histogram"
           }
          ],
          "histogram2d": [
           {
            "colorbar": {
             "outlinewidth": 0,
             "ticks": ""
            },
            "colorscale": [
             [
              0,
              "#0d0887"
             ],
             [
              0.1111111111111111,
              "#46039f"
             ],
             [
              0.2222222222222222,
              "#7201a8"
             ],
             [
              0.3333333333333333,
              "#9c179e"
             ],
             [
              0.4444444444444444,
              "#bd3786"
             ],
             [
              0.5555555555555556,
              "#d8576b"
             ],
             [
              0.6666666666666666,
              "#ed7953"
             ],
             [
              0.7777777777777778,
              "#fb9f3a"
             ],
             [
              0.8888888888888888,
              "#fdca26"
             ],
             [
              1,
              "#f0f921"
             ]
            ],
            "type": "histogram2d"
           }
          ],
          "histogram2dcontour": [
           {
            "colorbar": {
             "outlinewidth": 0,
             "ticks": ""
            },
            "colorscale": [
             [
              0,
              "#0d0887"
             ],
             [
              0.1111111111111111,
              "#46039f"
             ],
             [
              0.2222222222222222,
              "#7201a8"
             ],
             [
              0.3333333333333333,
              "#9c179e"
             ],
             [
              0.4444444444444444,
              "#bd3786"
             ],
             [
              0.5555555555555556,
              "#d8576b"
             ],
             [
              0.6666666666666666,
              "#ed7953"
             ],
             [
              0.7777777777777778,
              "#fb9f3a"
             ],
             [
              0.8888888888888888,
              "#fdca26"
             ],
             [
              1,
              "#f0f921"
             ]
            ],
            "type": "histogram2dcontour"
           }
          ],
          "mesh3d": [
           {
            "colorbar": {
             "outlinewidth": 0,
             "ticks": ""
            },
            "type": "mesh3d"
           }
          ],
          "parcoords": [
           {
            "line": {
             "colorbar": {
              "outlinewidth": 0,
              "ticks": ""
             }
            },
            "type": "parcoords"
           }
          ],
          "pie": [
           {
            "automargin": true,
            "type": "pie"
           }
          ],
          "scatter": [
           {
            "fillpattern": {
             "fillmode": "overlay",
             "size": 10,
             "solidity": 0.2
            },
            "type": "scatter"
           }
          ],
          "scatter3d": [
           {
            "line": {
             "colorbar": {
              "outlinewidth": 0,
              "ticks": ""
             }
            },
            "marker": {
             "colorbar": {
              "outlinewidth": 0,
              "ticks": ""
             }
            },
            "type": "scatter3d"
           }
          ],
          "scattercarpet": [
           {
            "marker": {
             "colorbar": {
              "outlinewidth": 0,
              "ticks": ""
             }
            },
            "type": "scattercarpet"
           }
          ],
          "scattergeo": [
           {
            "marker": {
             "colorbar": {
              "outlinewidth": 0,
              "ticks": ""
             }
            },
            "type": "scattergeo"
           }
          ],
          "scattergl": [
           {
            "marker": {
             "colorbar": {
              "outlinewidth": 0,
              "ticks": ""
             }
            },
            "type": "scattergl"
           }
          ],
          "scattermapbox": [
           {
            "marker": {
             "colorbar": {
              "outlinewidth": 0,
              "ticks": ""
             }
            },
            "type": "scattermapbox"
           }
          ],
          "scatterpolar": [
           {
            "marker": {
             "colorbar": {
              "outlinewidth": 0,
              "ticks": ""
             }
            },
            "type": "scatterpolar"
           }
          ],
          "scatterpolargl": [
           {
            "marker": {
             "colorbar": {
              "outlinewidth": 0,
              "ticks": ""
             }
            },
            "type": "scatterpolargl"
           }
          ],
          "scatterternary": [
           {
            "marker": {
             "colorbar": {
              "outlinewidth": 0,
              "ticks": ""
             }
            },
            "type": "scatterternary"
           }
          ],
          "surface": [
           {
            "colorbar": {
             "outlinewidth": 0,
             "ticks": ""
            },
            "colorscale": [
             [
              0,
              "#0d0887"
             ],
             [
              0.1111111111111111,
              "#46039f"
             ],
             [
              0.2222222222222222,
              "#7201a8"
             ],
             [
              0.3333333333333333,
              "#9c179e"
             ],
             [
              0.4444444444444444,
              "#bd3786"
             ],
             [
              0.5555555555555556,
              "#d8576b"
             ],
             [
              0.6666666666666666,
              "#ed7953"
             ],
             [
              0.7777777777777778,
              "#fb9f3a"
             ],
             [
              0.8888888888888888,
              "#fdca26"
             ],
             [
              1,
              "#f0f921"
             ]
            ],
            "type": "surface"
           }
          ],
          "table": [
           {
            "cells": {
             "fill": {
              "color": "#EBF0F8"
             },
             "line": {
              "color": "white"
             }
            },
            "header": {
             "fill": {
              "color": "#C8D4E3"
             },
             "line": {
              "color": "white"
             }
            },
            "type": "table"
           }
          ]
         },
         "layout": {
          "annotationdefaults": {
           "arrowcolor": "#2a3f5f",
           "arrowhead": 0,
           "arrowwidth": 1
          },
          "autotypenumbers": "strict",
          "coloraxis": {
           "colorbar": {
            "outlinewidth": 0,
            "ticks": ""
           }
          },
          "colorscale": {
           "diverging": [
            [
             0,
             "#8e0152"
            ],
            [
             0.1,
             "#c51b7d"
            ],
            [
             0.2,
             "#de77ae"
            ],
            [
             0.3,
             "#f1b6da"
            ],
            [
             0.4,
             "#fde0ef"
            ],
            [
             0.5,
             "#f7f7f7"
            ],
            [
             0.6,
             "#e6f5d0"
            ],
            [
             0.7,
             "#b8e186"
            ],
            [
             0.8,
             "#7fbc41"
            ],
            [
             0.9,
             "#4d9221"
            ],
            [
             1,
             "#276419"
            ]
           ],
           "sequential": [
            [
             0,
             "#0d0887"
            ],
            [
             0.1111111111111111,
             "#46039f"
            ],
            [
             0.2222222222222222,
             "#7201a8"
            ],
            [
             0.3333333333333333,
             "#9c179e"
            ],
            [
             0.4444444444444444,
             "#bd3786"
            ],
            [
             0.5555555555555556,
             "#d8576b"
            ],
            [
             0.6666666666666666,
             "#ed7953"
            ],
            [
             0.7777777777777778,
             "#fb9f3a"
            ],
            [
             0.8888888888888888,
             "#fdca26"
            ],
            [
             1,
             "#f0f921"
            ]
           ],
           "sequentialminus": [
            [
             0,
             "#0d0887"
            ],
            [
             0.1111111111111111,
             "#46039f"
            ],
            [
             0.2222222222222222,
             "#7201a8"
            ],
            [
             0.3333333333333333,
             "#9c179e"
            ],
            [
             0.4444444444444444,
             "#bd3786"
            ],
            [
             0.5555555555555556,
             "#d8576b"
            ],
            [
             0.6666666666666666,
             "#ed7953"
            ],
            [
             0.7777777777777778,
             "#fb9f3a"
            ],
            [
             0.8888888888888888,
             "#fdca26"
            ],
            [
             1,
             "#f0f921"
            ]
           ]
          },
          "colorway": [
           "#636efa",
           "#EF553B",
           "#00cc96",
           "#ab63fa",
           "#FFA15A",
           "#19d3f3",
           "#FF6692",
           "#B6E880",
           "#FF97FF",
           "#FECB52"
          ],
          "font": {
           "color": "#2a3f5f"
          },
          "geo": {
           "bgcolor": "white",
           "lakecolor": "white",
           "landcolor": "#E5ECF6",
           "showlakes": true,
           "showland": true,
           "subunitcolor": "white"
          },
          "hoverlabel": {
           "align": "left"
          },
          "hovermode": "closest",
          "mapbox": {
           "style": "light"
          },
          "paper_bgcolor": "white",
          "plot_bgcolor": "#E5ECF6",
          "polar": {
           "angularaxis": {
            "gridcolor": "white",
            "linecolor": "white",
            "ticks": ""
           },
           "bgcolor": "#E5ECF6",
           "radialaxis": {
            "gridcolor": "white",
            "linecolor": "white",
            "ticks": ""
           }
          },
          "scene": {
           "xaxis": {
            "backgroundcolor": "#E5ECF6",
            "gridcolor": "white",
            "gridwidth": 2,
            "linecolor": "white",
            "showbackground": true,
            "ticks": "",
            "zerolinecolor": "white"
           },
           "yaxis": {
            "backgroundcolor": "#E5ECF6",
            "gridcolor": "white",
            "gridwidth": 2,
            "linecolor": "white",
            "showbackground": true,
            "ticks": "",
            "zerolinecolor": "white"
           },
           "zaxis": {
            "backgroundcolor": "#E5ECF6",
            "gridcolor": "white",
            "gridwidth": 2,
            "linecolor": "white",
            "showbackground": true,
            "ticks": "",
            "zerolinecolor": "white"
           }
          },
          "shapedefaults": {
           "line": {
            "color": "#2a3f5f"
           }
          },
          "ternary": {
           "aaxis": {
            "gridcolor": "white",
            "linecolor": "white",
            "ticks": ""
           },
           "baxis": {
            "gridcolor": "white",
            "linecolor": "white",
            "ticks": ""
           },
           "bgcolor": "#E5ECF6",
           "caxis": {
            "gridcolor": "white",
            "linecolor": "white",
            "ticks": ""
           }
          },
          "title": {
           "x": 0.05
          },
          "xaxis": {
           "automargin": true,
           "gridcolor": "white",
           "linecolor": "white",
           "ticks": "",
           "title": {
            "standoff": 15
           },
           "zerolinecolor": "white",
           "zerolinewidth": 2
          },
          "yaxis": {
           "automargin": true,
           "gridcolor": "white",
           "linecolor": "white",
           "ticks": "",
           "title": {
            "standoff": 15
           },
           "zerolinecolor": "white",
           "zerolinewidth": 2
          }
         }
        },
        "title": {
         "font": {
          "color": "#4D5663"
         }
        },
        "xaxis": {
         "gridcolor": "#E1E5ED",
         "showgrid": true,
         "tickfont": {
          "color": "#4D5663"
         },
         "title": {
          "font": {
           "color": "#4D5663"
          },
          "text": ""
         },
         "zerolinecolor": "#E1E5ED"
        },
        "yaxis": {
         "gridcolor": "#E1E5ED",
         "showgrid": true,
         "tickfont": {
          "color": "#4D5663"
         },
         "title": {
          "font": {
           "color": "#4D5663"
          },
          "text": ""
         },
         "zerolinecolor": "#E1E5ED"
        }
       }
      },
      "text/html": [
       "<div>                            <div id=\"c0ad681b-68ba-4160-b7d1-b3700e56d9c3\" class=\"plotly-graph-div\" style=\"height:525px; width:100%;\"></div>            <script type=\"text/javascript\">                require([\"plotly\"], function(Plotly) {                    window.PLOTLYENV=window.PLOTLYENV || {};\n",
       "                    window.PLOTLYENV.BASE_URL='https://plot.ly';                                    if (document.getElementById(\"c0ad681b-68ba-4160-b7d1-b3700e56d9c3\")) {                    Plotly.newPlot(                        \"c0ad681b-68ba-4160-b7d1-b3700e56d9c3\",                        [{\"histfunc\":\"count\",\"histnorm\":\"\",\"marker\":{\"color\":\"rgba(255, 153, 51, 1.0)\",\"line\":{\"color\":\"#4D5663\",\"width\":1.3}},\"name\":\"A\",\"nbinsx\":25,\"opacity\":0.8,\"orientation\":\"v\",\"x\":[-0.761538621205789,-0.7095884634062892,-1.87542527271739,-0.5065020746548108,1.35496259011185,-0.026882085442824027,0.3970926315800366,0.07930693556886965,-0.41651464393472665,-2.1276514696138085,0.7820816143304232,-0.46474335159908536,-1.9107278629738271,-0.5851839091377247,-0.6977177817635527,-2.4805654165741604,0.30130380247970456,-1.2057408655541713,0.975851335324599,0.935008023807403,0.6521460449304588,-0.16948993321802375,-0.6290415454217887,1.8582365753048842,0.519562575788573,0.21804135002318595,-0.6493577537881481,-0.911446297830199,-0.21094657901329192,1.925812415310548,-0.8602460299440234,0.5127438996267528,0.8813742038543424,-0.13573916517822807,-0.9270599803167954,1.0650535344599334,-0.5460679312679347,1.0117070089099622,-0.9777694153477007,0.35845385850155465,-0.6132408377130129,0.10871499849728981,0.40127567610710363,-0.6487046715630305,-0.8973289755839094,-0.4771539232923262,1.4138765300447418,0.044259693659036675,1.2456282221444395,0.6788475597193058,-0.9965791035290003,0.1608038512426127,-1.7273251122882962,0.9478549448318161,0.1957383843350601,0.20494952842470757,0.8557551042032416,1.2239513555987374,-0.8418915016769701,-0.7584061431982285,1.038055563573445,-1.2160740963752874,-0.4973699854095074,-0.9284199605478466,-0.5289637024381451,0.6079527884027386,-1.281229580560239,-0.09569023796817881,0.4651359310332824,0.35533232231510486,0.7261215905295191,-1.0520852792461017,2.6876313437622183,-1.717725205859949,-0.9111405606483214,-0.29153549489613173,-0.5701590060528048,0.05584067025163339,-1.1098732423331124,-0.9036945129123467,0.4501068865111808,0.825544257138231,0.4653860586330535,-1.1603307220031898,2.2810419206827284,0.11951586146702434,-0.2861420901734789,-1.3116881377337695,-0.32994936800329144,0.6197776617277426,0.2583173154079452,-0.4729733090730053,-0.07433117747413986,0.6221367200900845,-0.6301195699345721,-1.05620362506392,-1.0813433380501374,-0.6526823581710206,-0.40308048066321017,-0.19307390859447687],\"type\":\"histogram\"}],                        {\"barmode\":\"overlay\",\"legend\":{\"bgcolor\":\"#F5F6F9\",\"font\":{\"color\":\"#4D5663\"}},\"paper_bgcolor\":\"#F5F6F9\",\"plot_bgcolor\":\"#F5F6F9\",\"template\":{\"data\":{\"barpolar\":[{\"marker\":{\"line\":{\"color\":\"#E5ECF6\",\"width\":0.5},\"pattern\":{\"fillmode\":\"overlay\",\"size\":10,\"solidity\":0.2}},\"type\":\"barpolar\"}],\"bar\":[{\"error_x\":{\"color\":\"#2a3f5f\"},\"error_y\":{\"color\":\"#2a3f5f\"},\"marker\":{\"line\":{\"color\":\"#E5ECF6\",\"width\":0.5},\"pattern\":{\"fillmode\":\"overlay\",\"size\":10,\"solidity\":0.2}},\"type\":\"bar\"}],\"carpet\":[{\"aaxis\":{\"endlinecolor\":\"#2a3f5f\",\"gridcolor\":\"white\",\"linecolor\":\"white\",\"minorgridcolor\":\"white\",\"startlinecolor\":\"#2a3f5f\"},\"baxis\":{\"endlinecolor\":\"#2a3f5f\",\"gridcolor\":\"white\",\"linecolor\":\"white\",\"minorgridcolor\":\"white\",\"startlinecolor\":\"#2a3f5f\"},\"type\":\"carpet\"}],\"choropleth\":[{\"colorbar\":{\"outlinewidth\":0,\"ticks\":\"\"},\"type\":\"choropleth\"}],\"contourcarpet\":[{\"colorbar\":{\"outlinewidth\":0,\"ticks\":\"\"},\"type\":\"contourcarpet\"}],\"contour\":[{\"colorbar\":{\"outlinewidth\":0,\"ticks\":\"\"},\"colorscale\":[[0.0,\"#0d0887\"],[0.1111111111111111,\"#46039f\"],[0.2222222222222222,\"#7201a8\"],[0.3333333333333333,\"#9c179e\"],[0.4444444444444444,\"#bd3786\"],[0.5555555555555556,\"#d8576b\"],[0.6666666666666666,\"#ed7953\"],[0.7777777777777778,\"#fb9f3a\"],[0.8888888888888888,\"#fdca26\"],[1.0,\"#f0f921\"]],\"type\":\"contour\"}],\"heatmapgl\":[{\"colorbar\":{\"outlinewidth\":0,\"ticks\":\"\"},\"colorscale\":[[0.0,\"#0d0887\"],[0.1111111111111111,\"#46039f\"],[0.2222222222222222,\"#7201a8\"],[0.3333333333333333,\"#9c179e\"],[0.4444444444444444,\"#bd3786\"],[0.5555555555555556,\"#d8576b\"],[0.6666666666666666,\"#ed7953\"],[0.7777777777777778,\"#fb9f3a\"],[0.8888888888888888,\"#fdca26\"],[1.0,\"#f0f921\"]],\"type\":\"heatmapgl\"}],\"heatmap\":[{\"colorbar\":{\"outlinewidth\":0,\"ticks\":\"\"},\"colorscale\":[[0.0,\"#0d0887\"],[0.1111111111111111,\"#46039f\"],[0.2222222222222222,\"#7201a8\"],[0.3333333333333333,\"#9c179e\"],[0.4444444444444444,\"#bd3786\"],[0.5555555555555556,\"#d8576b\"],[0.6666666666666666,\"#ed7953\"],[0.7777777777777778,\"#fb9f3a\"],[0.8888888888888888,\"#fdca26\"],[1.0,\"#f0f921\"]],\"type\":\"heatmap\"}],\"histogram2dcontour\":[{\"colorbar\":{\"outlinewidth\":0,\"ticks\":\"\"},\"colorscale\":[[0.0,\"#0d0887\"],[0.1111111111111111,\"#46039f\"],[0.2222222222222222,\"#7201a8\"],[0.3333333333333333,\"#9c179e\"],[0.4444444444444444,\"#bd3786\"],[0.5555555555555556,\"#d8576b\"],[0.6666666666666666,\"#ed7953\"],[0.7777777777777778,\"#fb9f3a\"],[0.8888888888888888,\"#fdca26\"],[1.0,\"#f0f921\"]],\"type\":\"histogram2dcontour\"}],\"histogram2d\":[{\"colorbar\":{\"outlinewidth\":0,\"ticks\":\"\"},\"colorscale\":[[0.0,\"#0d0887\"],[0.1111111111111111,\"#46039f\"],[0.2222222222222222,\"#7201a8\"],[0.3333333333333333,\"#9c179e\"],[0.4444444444444444,\"#bd3786\"],[0.5555555555555556,\"#d8576b\"],[0.6666666666666666,\"#ed7953\"],[0.7777777777777778,\"#fb9f3a\"],[0.8888888888888888,\"#fdca26\"],[1.0,\"#f0f921\"]],\"type\":\"histogram2d\"}],\"histogram\":[{\"marker\":{\"pattern\":{\"fillmode\":\"overlay\",\"size\":10,\"solidity\":0.2}},\"type\":\"histogram\"}],\"mesh3d\":[{\"colorbar\":{\"outlinewidth\":0,\"ticks\":\"\"},\"type\":\"mesh3d\"}],\"parcoords\":[{\"line\":{\"colorbar\":{\"outlinewidth\":0,\"ticks\":\"\"}},\"type\":\"parcoords\"}],\"pie\":[{\"automargin\":true,\"type\":\"pie\"}],\"scatter3d\":[{\"line\":{\"colorbar\":{\"outlinewidth\":0,\"ticks\":\"\"}},\"marker\":{\"colorbar\":{\"outlinewidth\":0,\"ticks\":\"\"}},\"type\":\"scatter3d\"}],\"scattercarpet\":[{\"marker\":{\"colorbar\":{\"outlinewidth\":0,\"ticks\":\"\"}},\"type\":\"scattercarpet\"}],\"scattergeo\":[{\"marker\":{\"colorbar\":{\"outlinewidth\":0,\"ticks\":\"\"}},\"type\":\"scattergeo\"}],\"scattergl\":[{\"marker\":{\"colorbar\":{\"outlinewidth\":0,\"ticks\":\"\"}},\"type\":\"scattergl\"}],\"scattermapbox\":[{\"marker\":{\"colorbar\":{\"outlinewidth\":0,\"ticks\":\"\"}},\"type\":\"scattermapbox\"}],\"scatterpolargl\":[{\"marker\":{\"colorbar\":{\"outlinewidth\":0,\"ticks\":\"\"}},\"type\":\"scatterpolargl\"}],\"scatterpolar\":[{\"marker\":{\"colorbar\":{\"outlinewidth\":0,\"ticks\":\"\"}},\"type\":\"scatterpolar\"}],\"scatter\":[{\"fillpattern\":{\"fillmode\":\"overlay\",\"size\":10,\"solidity\":0.2},\"type\":\"scatter\"}],\"scatterternary\":[{\"marker\":{\"colorbar\":{\"outlinewidth\":0,\"ticks\":\"\"}},\"type\":\"scatterternary\"}],\"surface\":[{\"colorbar\":{\"outlinewidth\":0,\"ticks\":\"\"},\"colorscale\":[[0.0,\"#0d0887\"],[0.1111111111111111,\"#46039f\"],[0.2222222222222222,\"#7201a8\"],[0.3333333333333333,\"#9c179e\"],[0.4444444444444444,\"#bd3786\"],[0.5555555555555556,\"#d8576b\"],[0.6666666666666666,\"#ed7953\"],[0.7777777777777778,\"#fb9f3a\"],[0.8888888888888888,\"#fdca26\"],[1.0,\"#f0f921\"]],\"type\":\"surface\"}],\"table\":[{\"cells\":{\"fill\":{\"color\":\"#EBF0F8\"},\"line\":{\"color\":\"white\"}},\"header\":{\"fill\":{\"color\":\"#C8D4E3\"},\"line\":{\"color\":\"white\"}},\"type\":\"table\"}]},\"layout\":{\"annotationdefaults\":{\"arrowcolor\":\"#2a3f5f\",\"arrowhead\":0,\"arrowwidth\":1},\"autotypenumbers\":\"strict\",\"coloraxis\":{\"colorbar\":{\"outlinewidth\":0,\"ticks\":\"\"}},\"colorscale\":{\"diverging\":[[0,\"#8e0152\"],[0.1,\"#c51b7d\"],[0.2,\"#de77ae\"],[0.3,\"#f1b6da\"],[0.4,\"#fde0ef\"],[0.5,\"#f7f7f7\"],[0.6,\"#e6f5d0\"],[0.7,\"#b8e186\"],[0.8,\"#7fbc41\"],[0.9,\"#4d9221\"],[1,\"#276419\"]],\"sequential\":[[0.0,\"#0d0887\"],[0.1111111111111111,\"#46039f\"],[0.2222222222222222,\"#7201a8\"],[0.3333333333333333,\"#9c179e\"],[0.4444444444444444,\"#bd3786\"],[0.5555555555555556,\"#d8576b\"],[0.6666666666666666,\"#ed7953\"],[0.7777777777777778,\"#fb9f3a\"],[0.8888888888888888,\"#fdca26\"],[1.0,\"#f0f921\"]],\"sequentialminus\":[[0.0,\"#0d0887\"],[0.1111111111111111,\"#46039f\"],[0.2222222222222222,\"#7201a8\"],[0.3333333333333333,\"#9c179e\"],[0.4444444444444444,\"#bd3786\"],[0.5555555555555556,\"#d8576b\"],[0.6666666666666666,\"#ed7953\"],[0.7777777777777778,\"#fb9f3a\"],[0.8888888888888888,\"#fdca26\"],[1.0,\"#f0f921\"]]},\"colorway\":[\"#636efa\",\"#EF553B\",\"#00cc96\",\"#ab63fa\",\"#FFA15A\",\"#19d3f3\",\"#FF6692\",\"#B6E880\",\"#FF97FF\",\"#FECB52\"],\"font\":{\"color\":\"#2a3f5f\"},\"geo\":{\"bgcolor\":\"white\",\"lakecolor\":\"white\",\"landcolor\":\"#E5ECF6\",\"showlakes\":true,\"showland\":true,\"subunitcolor\":\"white\"},\"hoverlabel\":{\"align\":\"left\"},\"hovermode\":\"closest\",\"mapbox\":{\"style\":\"light\"},\"paper_bgcolor\":\"white\",\"plot_bgcolor\":\"#E5ECF6\",\"polar\":{\"angularaxis\":{\"gridcolor\":\"white\",\"linecolor\":\"white\",\"ticks\":\"\"},\"bgcolor\":\"#E5ECF6\",\"radialaxis\":{\"gridcolor\":\"white\",\"linecolor\":\"white\",\"ticks\":\"\"}},\"scene\":{\"xaxis\":{\"backgroundcolor\":\"#E5ECF6\",\"gridcolor\":\"white\",\"gridwidth\":2,\"linecolor\":\"white\",\"showbackground\":true,\"ticks\":\"\",\"zerolinecolor\":\"white\"},\"yaxis\":{\"backgroundcolor\":\"#E5ECF6\",\"gridcolor\":\"white\",\"gridwidth\":2,\"linecolor\":\"white\",\"showbackground\":true,\"ticks\":\"\",\"zerolinecolor\":\"white\"},\"zaxis\":{\"backgroundcolor\":\"#E5ECF6\",\"gridcolor\":\"white\",\"gridwidth\":2,\"linecolor\":\"white\",\"showbackground\":true,\"ticks\":\"\",\"zerolinecolor\":\"white\"}},\"shapedefaults\":{\"line\":{\"color\":\"#2a3f5f\"}},\"ternary\":{\"aaxis\":{\"gridcolor\":\"white\",\"linecolor\":\"white\",\"ticks\":\"\"},\"baxis\":{\"gridcolor\":\"white\",\"linecolor\":\"white\",\"ticks\":\"\"},\"bgcolor\":\"#E5ECF6\",\"caxis\":{\"gridcolor\":\"white\",\"linecolor\":\"white\",\"ticks\":\"\"}},\"title\":{\"x\":0.05},\"xaxis\":{\"automargin\":true,\"gridcolor\":\"white\",\"linecolor\":\"white\",\"ticks\":\"\",\"title\":{\"standoff\":15},\"zerolinecolor\":\"white\",\"zerolinewidth\":2},\"yaxis\":{\"automargin\":true,\"gridcolor\":\"white\",\"linecolor\":\"white\",\"ticks\":\"\",\"title\":{\"standoff\":15},\"zerolinecolor\":\"white\",\"zerolinewidth\":2}}},\"title\":{\"font\":{\"color\":\"#4D5663\"}},\"xaxis\":{\"gridcolor\":\"#E1E5ED\",\"showgrid\":true,\"tickfont\":{\"color\":\"#4D5663\"},\"title\":{\"font\":{\"color\":\"#4D5663\"},\"text\":\"\"},\"zerolinecolor\":\"#E1E5ED\"},\"yaxis\":{\"gridcolor\":\"#E1E5ED\",\"showgrid\":true,\"tickfont\":{\"color\":\"#4D5663\"},\"title\":{\"font\":{\"color\":\"#4D5663\"},\"text\":\"\"},\"zerolinecolor\":\"#E1E5ED\"}},                        {\"showLink\": true, \"linkText\": \"Export to plot.ly\", \"plotlyServerURL\": \"https://plot.ly\", \"responsive\": true}                    ).then(function(){\n",
       "                            \n",
       "var gd = document.getElementById('c0ad681b-68ba-4160-b7d1-b3700e56d9c3');\n",
       "var x = new MutationObserver(function (mutations, observer) {{\n",
       "        var display = window.getComputedStyle(gd).display;\n",
       "        if (!display || display === 'none') {{\n",
       "            console.log([gd, 'removed!']);\n",
       "            Plotly.purge(gd);\n",
       "            observer.disconnect();\n",
       "        }}\n",
       "}});\n",
       "\n",
       "// Listen for the removal of the full notebook cells\n",
       "var notebookContainer = gd.closest('#notebook-container');\n",
       "if (notebookContainer) {{\n",
       "    x.observe(notebookContainer, {childList: true});\n",
       "}}\n",
       "\n",
       "// Listen for the clearing of the current output cell\n",
       "var outputEl = gd.closest('.output');\n",
       "if (outputEl) {{\n",
       "    x.observe(outputEl, {childList: true});\n",
       "}}\n",
       "\n",
       "                        })                };                });            </script>        </div>"
      ]
     },
     "metadata": {},
     "output_type": "display_data"
    }
   ],
   "source": [
    "df['A'].iplot(kind='hist',bins=25)"
   ]
  },
  {
   "cell_type": "code",
   "execution_count": 17,
   "metadata": {},
   "outputs": [
    {
     "data": {
      "application/vnd.plotly.v1+json": {
       "config": {
        "linkText": "Export to plot.ly",
        "plotlyServerURL": "https://plot.ly",
        "showLink": true
       },
       "data": [
        {
         "marker": {
          "color": [
           "rgb(255, 153, 51)",
           "rgb(55, 128, 191)",
           "rgb(50, 171, 96)",
           "rgb(128, 0, 128)",
           "rgb(219, 64, 82)",
           "rgb(0, 128, 128)",
           "rgb(255, 255, 51)",
           "rgb(128, 128, 0)",
           "rgb(251, 128, 114)",
           "rgb(128, 177, 211)"
          ],
          "line": {
           "width": 1.3
          },
          "size": [
           83,
           70,
           72,
           21,
           64,
           57,
           78,
           63,
           82,
           38,
           52,
           12,
           49,
           55,
           112,
           48,
           95,
           86,
           37,
           25,
           72,
           92,
           58,
           73,
           42,
           49,
           50,
           84,
           82,
           34,
           83,
           58,
           60,
           32,
           34,
           74,
           65,
           78,
           92,
           53,
           55,
           67,
           18,
           49,
           69,
           52,
           50,
           65,
           81,
           75,
           79,
           70,
           65,
           33,
           68,
           50,
           78,
           46,
           65,
           39,
           12,
           88,
           41,
           32,
           44,
           30,
           71,
           42,
           78,
           54,
           71,
           98,
           93,
           63,
           58,
           67,
           58,
           85,
           93,
           66,
           77,
           80,
           70,
           49,
           66,
           65,
           89,
           77,
           64,
           91,
           59,
           63,
           35,
           66,
           96,
           71,
           62,
           67,
           58,
           88
          ],
          "symbol": "circle"
         },
         "mode": "markers",
         "text": "",
         "type": "scatter",
         "x": [
          -0.761538621205789,
          -0.7095884634062892,
          -1.87542527271739,
          -0.5065020746548108,
          1.35496259011185,
          -0.026882085442824027,
          0.3970926315800366,
          0.07930693556886965,
          -0.41651464393472665,
          -2.1276514696138085,
          0.7820816143304232,
          -0.46474335159908536,
          -1.9107278629738271,
          -0.5851839091377247,
          -0.6977177817635527,
          -2.4805654165741604,
          0.30130380247970456,
          -1.2057408655541713,
          0.975851335324599,
          0.935008023807403,
          0.6521460449304588,
          -0.16948993321802375,
          -0.6290415454217887,
          1.8582365753048842,
          0.519562575788573,
          0.21804135002318595,
          -0.6493577537881481,
          -0.911446297830199,
          -0.21094657901329192,
          1.925812415310548,
          -0.8602460299440234,
          0.5127438996267528,
          0.8813742038543424,
          -0.13573916517822807,
          -0.9270599803167954,
          1.0650535344599334,
          -0.5460679312679347,
          1.0117070089099622,
          -0.9777694153477007,
          0.35845385850155465,
          -0.6132408377130129,
          0.10871499849728981,
          0.40127567610710363,
          -0.6487046715630305,
          -0.8973289755839094,
          -0.4771539232923262,
          1.4138765300447418,
          0.044259693659036675,
          1.2456282221444395,
          0.6788475597193058,
          -0.9965791035290003,
          0.1608038512426127,
          -1.7273251122882962,
          0.9478549448318161,
          0.1957383843350601,
          0.20494952842470757,
          0.8557551042032416,
          1.2239513555987374,
          -0.8418915016769701,
          -0.7584061431982285,
          1.038055563573445,
          -1.2160740963752874,
          -0.4973699854095074,
          -0.9284199605478466,
          -0.5289637024381451,
          0.6079527884027386,
          -1.281229580560239,
          -0.09569023796817881,
          0.4651359310332824,
          0.35533232231510486,
          0.7261215905295191,
          -1.0520852792461017,
          2.6876313437622183,
          -1.717725205859949,
          -0.9111405606483214,
          -0.29153549489613173,
          -0.5701590060528048,
          0.05584067025163339,
          -1.1098732423331124,
          -0.9036945129123467,
          0.4501068865111808,
          0.825544257138231,
          0.4653860586330535,
          -1.1603307220031898,
          2.2810419206827284,
          0.11951586146702434,
          -0.2861420901734789,
          -1.3116881377337695,
          -0.32994936800329144,
          0.6197776617277426,
          0.2583173154079452,
          -0.4729733090730053,
          -0.07433117747413986,
          0.6221367200900845,
          -0.6301195699345721,
          -1.05620362506392,
          -1.0813433380501374,
          -0.6526823581710206,
          -0.40308048066321017,
          -0.19307390859447687
         ],
         "y": [
          2.0212488155738875,
          0.7583096657857158,
          0.690456279047033,
          -0.5336253666583853,
          -0.3444448261782787,
          -1.5007167350721706,
          1.47417272332828,
          0.7224922054456843,
          -0.9523322732880294,
          -1.2007521411285247,
          0.17977885829835624,
          -0.3993877007738916,
          -0.03594024055892166,
          0.43672348288119245,
          -0.40696742781349027,
          0.2134293668056055,
          1.7803668779864803,
          -0.39022504742482833,
          -1.6383548443486666,
          -2.285357617815566,
          0.44741158825359245,
          -0.2927635506639341,
          0.4136368844636603,
          0.8078711083943342,
          0.2884092876798255,
          0.4949136350960853,
          0.7503925352077869,
          -0.8731681678867933,
          0.8061604124757041,
          0.27710798744893084,
          -0.1582208416581821,
          -0.9856087371450262,
          -0.11527233251929478,
          0.40375922576565254,
          0.06448225213737395,
          -1.335774942121669,
          -0.11807724370888023,
          -0.9794050934152908,
          -0.5149681326578647,
          0.8063573557471728,
          0.9979072896721226,
          0.7147261302748834,
          -0.5182821264572214,
          -3.1376785914728136,
          1.0311784055004873,
          -0.8132771291058926,
          0.18432068082792719,
          0.9237360904499204,
          0.30599407158319486,
          0.33507477440349753,
          0.07919280617985913,
          -0.4232933611080333,
          0.3558176377425486,
          -0.9263390939314984,
          -0.7665872434389798,
          0.725052038268612,
          1.1164035544920263,
          0.18244465783419295,
          -0.2816778377621261,
          -0.38687777851277577,
          0.7727005377999372,
          0.06711665722470082,
          0.6742548227152336,
          0.9763233892497046,
          0.8214369752267061,
          0.8494264109004337,
          -0.3878781331543912,
          -0.6514852554195295,
          -1.8920663607417647,
          -0.8653341210591329,
          1.3075581912669738,
          0.7810217429948401,
          -0.7057405243063345,
          0.9652829915392097,
          0.21573636864042325,
          -0.3421430578373146,
          1.8610130200091133,
          -1.8794998483938055,
          0.7943304837877205,
          -0.053051118459419344,
          0.22410566547086927,
          0.07216085006027313,
          -0.2754955239090127,
          1.2590849074647348,
          1.0139736758249545,
          0.05570390346374175,
          -0.7690113262533337,
          2.1803261836384222,
          -0.7940812816209243,
          -1.1111128259709735,
          -0.3106265064956946,
          -0.026017216185092323,
          0.08661658866512632,
          -0.4717446856472977,
          0.0449965557198526,
          0.6638303748533824,
          0.25766663740266194,
          -0.6957389173560475,
          1.5120781751025285,
          0.6983516103179237
         ]
        }
       ],
       "layout": {
        "legend": {
         "bgcolor": "#F5F6F9",
         "font": {
          "color": "#4D5663"
         }
        },
        "paper_bgcolor": "#F5F6F9",
        "plot_bgcolor": "#F5F6F9",
        "template": {
         "data": {
          "bar": [
           {
            "error_x": {
             "color": "#2a3f5f"
            },
            "error_y": {
             "color": "#2a3f5f"
            },
            "marker": {
             "line": {
              "color": "#E5ECF6",
              "width": 0.5
             },
             "pattern": {
              "fillmode": "overlay",
              "size": 10,
              "solidity": 0.2
             }
            },
            "type": "bar"
           }
          ],
          "barpolar": [
           {
            "marker": {
             "line": {
              "color": "#E5ECF6",
              "width": 0.5
             },
             "pattern": {
              "fillmode": "overlay",
              "size": 10,
              "solidity": 0.2
             }
            },
            "type": "barpolar"
           }
          ],
          "carpet": [
           {
            "aaxis": {
             "endlinecolor": "#2a3f5f",
             "gridcolor": "white",
             "linecolor": "white",
             "minorgridcolor": "white",
             "startlinecolor": "#2a3f5f"
            },
            "baxis": {
             "endlinecolor": "#2a3f5f",
             "gridcolor": "white",
             "linecolor": "white",
             "minorgridcolor": "white",
             "startlinecolor": "#2a3f5f"
            },
            "type": "carpet"
           }
          ],
          "choropleth": [
           {
            "colorbar": {
             "outlinewidth": 0,
             "ticks": ""
            },
            "type": "choropleth"
           }
          ],
          "contour": [
           {
            "colorbar": {
             "outlinewidth": 0,
             "ticks": ""
            },
            "colorscale": [
             [
              0,
              "#0d0887"
             ],
             [
              0.1111111111111111,
              "#46039f"
             ],
             [
              0.2222222222222222,
              "#7201a8"
             ],
             [
              0.3333333333333333,
              "#9c179e"
             ],
             [
              0.4444444444444444,
              "#bd3786"
             ],
             [
              0.5555555555555556,
              "#d8576b"
             ],
             [
              0.6666666666666666,
              "#ed7953"
             ],
             [
              0.7777777777777778,
              "#fb9f3a"
             ],
             [
              0.8888888888888888,
              "#fdca26"
             ],
             [
              1,
              "#f0f921"
             ]
            ],
            "type": "contour"
           }
          ],
          "contourcarpet": [
           {
            "colorbar": {
             "outlinewidth": 0,
             "ticks": ""
            },
            "type": "contourcarpet"
           }
          ],
          "heatmap": [
           {
            "colorbar": {
             "outlinewidth": 0,
             "ticks": ""
            },
            "colorscale": [
             [
              0,
              "#0d0887"
             ],
             [
              0.1111111111111111,
              "#46039f"
             ],
             [
              0.2222222222222222,
              "#7201a8"
             ],
             [
              0.3333333333333333,
              "#9c179e"
             ],
             [
              0.4444444444444444,
              "#bd3786"
             ],
             [
              0.5555555555555556,
              "#d8576b"
             ],
             [
              0.6666666666666666,
              "#ed7953"
             ],
             [
              0.7777777777777778,
              "#fb9f3a"
             ],
             [
              0.8888888888888888,
              "#fdca26"
             ],
             [
              1,
              "#f0f921"
             ]
            ],
            "type": "heatmap"
           }
          ],
          "heatmapgl": [
           {
            "colorbar": {
             "outlinewidth": 0,
             "ticks": ""
            },
            "colorscale": [
             [
              0,
              "#0d0887"
             ],
             [
              0.1111111111111111,
              "#46039f"
             ],
             [
              0.2222222222222222,
              "#7201a8"
             ],
             [
              0.3333333333333333,
              "#9c179e"
             ],
             [
              0.4444444444444444,
              "#bd3786"
             ],
             [
              0.5555555555555556,
              "#d8576b"
             ],
             [
              0.6666666666666666,
              "#ed7953"
             ],
             [
              0.7777777777777778,
              "#fb9f3a"
             ],
             [
              0.8888888888888888,
              "#fdca26"
             ],
             [
              1,
              "#f0f921"
             ]
            ],
            "type": "heatmapgl"
           }
          ],
          "histogram": [
           {
            "marker": {
             "pattern": {
              "fillmode": "overlay",
              "size": 10,
              "solidity": 0.2
             }
            },
            "type": "histogram"
           }
          ],
          "histogram2d": [
           {
            "colorbar": {
             "outlinewidth": 0,
             "ticks": ""
            },
            "colorscale": [
             [
              0,
              "#0d0887"
             ],
             [
              0.1111111111111111,
              "#46039f"
             ],
             [
              0.2222222222222222,
              "#7201a8"
             ],
             [
              0.3333333333333333,
              "#9c179e"
             ],
             [
              0.4444444444444444,
              "#bd3786"
             ],
             [
              0.5555555555555556,
              "#d8576b"
             ],
             [
              0.6666666666666666,
              "#ed7953"
             ],
             [
              0.7777777777777778,
              "#fb9f3a"
             ],
             [
              0.8888888888888888,
              "#fdca26"
             ],
             [
              1,
              "#f0f921"
             ]
            ],
            "type": "histogram2d"
           }
          ],
          "histogram2dcontour": [
           {
            "colorbar": {
             "outlinewidth": 0,
             "ticks": ""
            },
            "colorscale": [
             [
              0,
              "#0d0887"
             ],
             [
              0.1111111111111111,
              "#46039f"
             ],
             [
              0.2222222222222222,
              "#7201a8"
             ],
             [
              0.3333333333333333,
              "#9c179e"
             ],
             [
              0.4444444444444444,
              "#bd3786"
             ],
             [
              0.5555555555555556,
              "#d8576b"
             ],
             [
              0.6666666666666666,
              "#ed7953"
             ],
             [
              0.7777777777777778,
              "#fb9f3a"
             ],
             [
              0.8888888888888888,
              "#fdca26"
             ],
             [
              1,
              "#f0f921"
             ]
            ],
            "type": "histogram2dcontour"
           }
          ],
          "mesh3d": [
           {
            "colorbar": {
             "outlinewidth": 0,
             "ticks": ""
            },
            "type": "mesh3d"
           }
          ],
          "parcoords": [
           {
            "line": {
             "colorbar": {
              "outlinewidth": 0,
              "ticks": ""
             }
            },
            "type": "parcoords"
           }
          ],
          "pie": [
           {
            "automargin": true,
            "type": "pie"
           }
          ],
          "scatter": [
           {
            "fillpattern": {
             "fillmode": "overlay",
             "size": 10,
             "solidity": 0.2
            },
            "type": "scatter"
           }
          ],
          "scatter3d": [
           {
            "line": {
             "colorbar": {
              "outlinewidth": 0,
              "ticks": ""
             }
            },
            "marker": {
             "colorbar": {
              "outlinewidth": 0,
              "ticks": ""
             }
            },
            "type": "scatter3d"
           }
          ],
          "scattercarpet": [
           {
            "marker": {
             "colorbar": {
              "outlinewidth": 0,
              "ticks": ""
             }
            },
            "type": "scattercarpet"
           }
          ],
          "scattergeo": [
           {
            "marker": {
             "colorbar": {
              "outlinewidth": 0,
              "ticks": ""
             }
            },
            "type": "scattergeo"
           }
          ],
          "scattergl": [
           {
            "marker": {
             "colorbar": {
              "outlinewidth": 0,
              "ticks": ""
             }
            },
            "type": "scattergl"
           }
          ],
          "scattermapbox": [
           {
            "marker": {
             "colorbar": {
              "outlinewidth": 0,
              "ticks": ""
             }
            },
            "type": "scattermapbox"
           }
          ],
          "scatterpolar": [
           {
            "marker": {
             "colorbar": {
              "outlinewidth": 0,
              "ticks": ""
             }
            },
            "type": "scatterpolar"
           }
          ],
          "scatterpolargl": [
           {
            "marker": {
             "colorbar": {
              "outlinewidth": 0,
              "ticks": ""
             }
            },
            "type": "scatterpolargl"
           }
          ],
          "scatterternary": [
           {
            "marker": {
             "colorbar": {
              "outlinewidth": 0,
              "ticks": ""
             }
            },
            "type": "scatterternary"
           }
          ],
          "surface": [
           {
            "colorbar": {
             "outlinewidth": 0,
             "ticks": ""
            },
            "colorscale": [
             [
              0,
              "#0d0887"
             ],
             [
              0.1111111111111111,
              "#46039f"
             ],
             [
              0.2222222222222222,
              "#7201a8"
             ],
             [
              0.3333333333333333,
              "#9c179e"
             ],
             [
              0.4444444444444444,
              "#bd3786"
             ],
             [
              0.5555555555555556,
              "#d8576b"
             ],
             [
              0.6666666666666666,
              "#ed7953"
             ],
             [
              0.7777777777777778,
              "#fb9f3a"
             ],
             [
              0.8888888888888888,
              "#fdca26"
             ],
             [
              1,
              "#f0f921"
             ]
            ],
            "type": "surface"
           }
          ],
          "table": [
           {
            "cells": {
             "fill": {
              "color": "#EBF0F8"
             },
             "line": {
              "color": "white"
             }
            },
            "header": {
             "fill": {
              "color": "#C8D4E3"
             },
             "line": {
              "color": "white"
             }
            },
            "type": "table"
           }
          ]
         },
         "layout": {
          "annotationdefaults": {
           "arrowcolor": "#2a3f5f",
           "arrowhead": 0,
           "arrowwidth": 1
          },
          "autotypenumbers": "strict",
          "coloraxis": {
           "colorbar": {
            "outlinewidth": 0,
            "ticks": ""
           }
          },
          "colorscale": {
           "diverging": [
            [
             0,
             "#8e0152"
            ],
            [
             0.1,
             "#c51b7d"
            ],
            [
             0.2,
             "#de77ae"
            ],
            [
             0.3,
             "#f1b6da"
            ],
            [
             0.4,
             "#fde0ef"
            ],
            [
             0.5,
             "#f7f7f7"
            ],
            [
             0.6,
             "#e6f5d0"
            ],
            [
             0.7,
             "#b8e186"
            ],
            [
             0.8,
             "#7fbc41"
            ],
            [
             0.9,
             "#4d9221"
            ],
            [
             1,
             "#276419"
            ]
           ],
           "sequential": [
            [
             0,
             "#0d0887"
            ],
            [
             0.1111111111111111,
             "#46039f"
            ],
            [
             0.2222222222222222,
             "#7201a8"
            ],
            [
             0.3333333333333333,
             "#9c179e"
            ],
            [
             0.4444444444444444,
             "#bd3786"
            ],
            [
             0.5555555555555556,
             "#d8576b"
            ],
            [
             0.6666666666666666,
             "#ed7953"
            ],
            [
             0.7777777777777778,
             "#fb9f3a"
            ],
            [
             0.8888888888888888,
             "#fdca26"
            ],
            [
             1,
             "#f0f921"
            ]
           ],
           "sequentialminus": [
            [
             0,
             "#0d0887"
            ],
            [
             0.1111111111111111,
             "#46039f"
            ],
            [
             0.2222222222222222,
             "#7201a8"
            ],
            [
             0.3333333333333333,
             "#9c179e"
            ],
            [
             0.4444444444444444,
             "#bd3786"
            ],
            [
             0.5555555555555556,
             "#d8576b"
            ],
            [
             0.6666666666666666,
             "#ed7953"
            ],
            [
             0.7777777777777778,
             "#fb9f3a"
            ],
            [
             0.8888888888888888,
             "#fdca26"
            ],
            [
             1,
             "#f0f921"
            ]
           ]
          },
          "colorway": [
           "#636efa",
           "#EF553B",
           "#00cc96",
           "#ab63fa",
           "#FFA15A",
           "#19d3f3",
           "#FF6692",
           "#B6E880",
           "#FF97FF",
           "#FECB52"
          ],
          "font": {
           "color": "#2a3f5f"
          },
          "geo": {
           "bgcolor": "white",
           "lakecolor": "white",
           "landcolor": "#E5ECF6",
           "showlakes": true,
           "showland": true,
           "subunitcolor": "white"
          },
          "hoverlabel": {
           "align": "left"
          },
          "hovermode": "closest",
          "mapbox": {
           "style": "light"
          },
          "paper_bgcolor": "white",
          "plot_bgcolor": "#E5ECF6",
          "polar": {
           "angularaxis": {
            "gridcolor": "white",
            "linecolor": "white",
            "ticks": ""
           },
           "bgcolor": "#E5ECF6",
           "radialaxis": {
            "gridcolor": "white",
            "linecolor": "white",
            "ticks": ""
           }
          },
          "scene": {
           "xaxis": {
            "backgroundcolor": "#E5ECF6",
            "gridcolor": "white",
            "gridwidth": 2,
            "linecolor": "white",
            "showbackground": true,
            "ticks": "",
            "zerolinecolor": "white"
           },
           "yaxis": {
            "backgroundcolor": "#E5ECF6",
            "gridcolor": "white",
            "gridwidth": 2,
            "linecolor": "white",
            "showbackground": true,
            "ticks": "",
            "zerolinecolor": "white"
           },
           "zaxis": {
            "backgroundcolor": "#E5ECF6",
            "gridcolor": "white",
            "gridwidth": 2,
            "linecolor": "white",
            "showbackground": true,
            "ticks": "",
            "zerolinecolor": "white"
           }
          },
          "shapedefaults": {
           "line": {
            "color": "#2a3f5f"
           }
          },
          "ternary": {
           "aaxis": {
            "gridcolor": "white",
            "linecolor": "white",
            "ticks": ""
           },
           "baxis": {
            "gridcolor": "white",
            "linecolor": "white",
            "ticks": ""
           },
           "bgcolor": "#E5ECF6",
           "caxis": {
            "gridcolor": "white",
            "linecolor": "white",
            "ticks": ""
           }
          },
          "title": {
           "x": 0.05
          },
          "xaxis": {
           "automargin": true,
           "gridcolor": "white",
           "linecolor": "white",
           "ticks": "",
           "title": {
            "standoff": 15
           },
           "zerolinecolor": "white",
           "zerolinewidth": 2
          },
          "yaxis": {
           "automargin": true,
           "gridcolor": "white",
           "linecolor": "white",
           "ticks": "",
           "title": {
            "standoff": 15
           },
           "zerolinecolor": "white",
           "zerolinewidth": 2
          }
         }
        },
        "title": {
         "font": {
          "color": "#4D5663"
         }
        },
        "xaxis": {
         "gridcolor": "#E1E5ED",
         "showgrid": true,
         "tickfont": {
          "color": "#4D5663"
         },
         "title": {
          "font": {
           "color": "#4D5663"
          },
          "text": ""
         },
         "zerolinecolor": "#E1E5ED"
        },
        "yaxis": {
         "gridcolor": "#E1E5ED",
         "showgrid": true,
         "tickfont": {
          "color": "#4D5663"
         },
         "title": {
          "font": {
           "color": "#4D5663"
          },
          "text": ""
         },
         "zerolinecolor": "#E1E5ED"
        }
       }
      },
      "text/html": [
       "<div>                            <div id=\"caa8161a-36d5-42d4-af99-811d79d17cc5\" class=\"plotly-graph-div\" style=\"height:525px; width:100%;\"></div>            <script type=\"text/javascript\">                require([\"plotly\"], function(Plotly) {                    window.PLOTLYENV=window.PLOTLYENV || {};\n",
       "                    window.PLOTLYENV.BASE_URL='https://plot.ly';                                    if (document.getElementById(\"caa8161a-36d5-42d4-af99-811d79d17cc5\")) {                    Plotly.newPlot(                        \"caa8161a-36d5-42d4-af99-811d79d17cc5\",                        [{\"marker\":{\"color\":[\"rgb(255, 153, 51)\",\"rgb(55, 128, 191)\",\"rgb(50, 171, 96)\",\"rgb(128, 0, 128)\",\"rgb(219, 64, 82)\",\"rgb(0, 128, 128)\",\"rgb(255, 255, 51)\",\"rgb(128, 128, 0)\",\"rgb(251, 128, 114)\",\"rgb(128, 177, 211)\"],\"line\":{\"width\":1.3},\"size\":[83,70,72,21,64,57,78,63,82,38,52,12,49,55,112,48,95,86,37,25,72,92,58,73,42,49,50,84,82,34,83,58,60,32,34,74,65,78,92,53,55,67,18,49,69,52,50,65,81,75,79,70,65,33,68,50,78,46,65,39,12,88,41,32,44,30,71,42,78,54,71,98,93,63,58,67,58,85,93,66,77,80,70,49,66,65,89,77,64,91,59,63,35,66,96,71,62,67,58,88],\"symbol\":\"circle\"},\"mode\":\"markers\",\"text\":\"\",\"x\":[-0.761538621205789,-0.7095884634062892,-1.87542527271739,-0.5065020746548108,1.35496259011185,-0.026882085442824027,0.3970926315800366,0.07930693556886965,-0.41651464393472665,-2.1276514696138085,0.7820816143304232,-0.46474335159908536,-1.9107278629738271,-0.5851839091377247,-0.6977177817635527,-2.4805654165741604,0.30130380247970456,-1.2057408655541713,0.975851335324599,0.935008023807403,0.6521460449304588,-0.16948993321802375,-0.6290415454217887,1.8582365753048842,0.519562575788573,0.21804135002318595,-0.6493577537881481,-0.911446297830199,-0.21094657901329192,1.925812415310548,-0.8602460299440234,0.5127438996267528,0.8813742038543424,-0.13573916517822807,-0.9270599803167954,1.0650535344599334,-0.5460679312679347,1.0117070089099622,-0.9777694153477007,0.35845385850155465,-0.6132408377130129,0.10871499849728981,0.40127567610710363,-0.6487046715630305,-0.8973289755839094,-0.4771539232923262,1.4138765300447418,0.044259693659036675,1.2456282221444395,0.6788475597193058,-0.9965791035290003,0.1608038512426127,-1.7273251122882962,0.9478549448318161,0.1957383843350601,0.20494952842470757,0.8557551042032416,1.2239513555987374,-0.8418915016769701,-0.7584061431982285,1.038055563573445,-1.2160740963752874,-0.4973699854095074,-0.9284199605478466,-0.5289637024381451,0.6079527884027386,-1.281229580560239,-0.09569023796817881,0.4651359310332824,0.35533232231510486,0.7261215905295191,-1.0520852792461017,2.6876313437622183,-1.717725205859949,-0.9111405606483214,-0.29153549489613173,-0.5701590060528048,0.05584067025163339,-1.1098732423331124,-0.9036945129123467,0.4501068865111808,0.825544257138231,0.4653860586330535,-1.1603307220031898,2.2810419206827284,0.11951586146702434,-0.2861420901734789,-1.3116881377337695,-0.32994936800329144,0.6197776617277426,0.2583173154079452,-0.4729733090730053,-0.07433117747413986,0.6221367200900845,-0.6301195699345721,-1.05620362506392,-1.0813433380501374,-0.6526823581710206,-0.40308048066321017,-0.19307390859447687],\"y\":[2.0212488155738875,0.7583096657857158,0.690456279047033,-0.5336253666583853,-0.3444448261782787,-1.5007167350721706,1.47417272332828,0.7224922054456843,-0.9523322732880294,-1.2007521411285247,0.17977885829835624,-0.3993877007738916,-0.03594024055892166,0.43672348288119245,-0.40696742781349027,0.2134293668056055,1.7803668779864803,-0.39022504742482833,-1.6383548443486666,-2.285357617815566,0.44741158825359245,-0.2927635506639341,0.4136368844636603,0.8078711083943342,0.2884092876798255,0.4949136350960853,0.7503925352077869,-0.8731681678867933,0.8061604124757041,0.27710798744893084,-0.1582208416581821,-0.9856087371450262,-0.11527233251929478,0.40375922576565254,0.06448225213737395,-1.335774942121669,-0.11807724370888023,-0.9794050934152908,-0.5149681326578647,0.8063573557471728,0.9979072896721226,0.7147261302748834,-0.5182821264572214,-3.1376785914728136,1.0311784055004873,-0.8132771291058926,0.18432068082792719,0.9237360904499204,0.30599407158319486,0.33507477440349753,0.07919280617985913,-0.4232933611080333,0.3558176377425486,-0.9263390939314984,-0.7665872434389798,0.725052038268612,1.1164035544920263,0.18244465783419295,-0.2816778377621261,-0.38687777851277577,0.7727005377999372,0.06711665722470082,0.6742548227152336,0.9763233892497046,0.8214369752267061,0.8494264109004337,-0.3878781331543912,-0.6514852554195295,-1.8920663607417647,-0.8653341210591329,1.3075581912669738,0.7810217429948401,-0.7057405243063345,0.9652829915392097,0.21573636864042325,-0.3421430578373146,1.8610130200091133,-1.8794998483938055,0.7943304837877205,-0.053051118459419344,0.22410566547086927,0.07216085006027313,-0.2754955239090127,1.2590849074647348,1.0139736758249545,0.05570390346374175,-0.7690113262533337,2.1803261836384222,-0.7940812816209243,-1.1111128259709735,-0.3106265064956946,-0.026017216185092323,0.08661658866512632,-0.4717446856472977,0.0449965557198526,0.6638303748533824,0.25766663740266194,-0.6957389173560475,1.5120781751025285,0.6983516103179237],\"type\":\"scatter\"}],                        {\"legend\":{\"bgcolor\":\"#F5F6F9\",\"font\":{\"color\":\"#4D5663\"}},\"paper_bgcolor\":\"#F5F6F9\",\"plot_bgcolor\":\"#F5F6F9\",\"template\":{\"data\":{\"barpolar\":[{\"marker\":{\"line\":{\"color\":\"#E5ECF6\",\"width\":0.5},\"pattern\":{\"fillmode\":\"overlay\",\"size\":10,\"solidity\":0.2}},\"type\":\"barpolar\"}],\"bar\":[{\"error_x\":{\"color\":\"#2a3f5f\"},\"error_y\":{\"color\":\"#2a3f5f\"},\"marker\":{\"line\":{\"color\":\"#E5ECF6\",\"width\":0.5},\"pattern\":{\"fillmode\":\"overlay\",\"size\":10,\"solidity\":0.2}},\"type\":\"bar\"}],\"carpet\":[{\"aaxis\":{\"endlinecolor\":\"#2a3f5f\",\"gridcolor\":\"white\",\"linecolor\":\"white\",\"minorgridcolor\":\"white\",\"startlinecolor\":\"#2a3f5f\"},\"baxis\":{\"endlinecolor\":\"#2a3f5f\",\"gridcolor\":\"white\",\"linecolor\":\"white\",\"minorgridcolor\":\"white\",\"startlinecolor\":\"#2a3f5f\"},\"type\":\"carpet\"}],\"choropleth\":[{\"colorbar\":{\"outlinewidth\":0,\"ticks\":\"\"},\"type\":\"choropleth\"}],\"contourcarpet\":[{\"colorbar\":{\"outlinewidth\":0,\"ticks\":\"\"},\"type\":\"contourcarpet\"}],\"contour\":[{\"colorbar\":{\"outlinewidth\":0,\"ticks\":\"\"},\"colorscale\":[[0.0,\"#0d0887\"],[0.1111111111111111,\"#46039f\"],[0.2222222222222222,\"#7201a8\"],[0.3333333333333333,\"#9c179e\"],[0.4444444444444444,\"#bd3786\"],[0.5555555555555556,\"#d8576b\"],[0.6666666666666666,\"#ed7953\"],[0.7777777777777778,\"#fb9f3a\"],[0.8888888888888888,\"#fdca26\"],[1.0,\"#f0f921\"]],\"type\":\"contour\"}],\"heatmapgl\":[{\"colorbar\":{\"outlinewidth\":0,\"ticks\":\"\"},\"colorscale\":[[0.0,\"#0d0887\"],[0.1111111111111111,\"#46039f\"],[0.2222222222222222,\"#7201a8\"],[0.3333333333333333,\"#9c179e\"],[0.4444444444444444,\"#bd3786\"],[0.5555555555555556,\"#d8576b\"],[0.6666666666666666,\"#ed7953\"],[0.7777777777777778,\"#fb9f3a\"],[0.8888888888888888,\"#fdca26\"],[1.0,\"#f0f921\"]],\"type\":\"heatmapgl\"}],\"heatmap\":[{\"colorbar\":{\"outlinewidth\":0,\"ticks\":\"\"},\"colorscale\":[[0.0,\"#0d0887\"],[0.1111111111111111,\"#46039f\"],[0.2222222222222222,\"#7201a8\"],[0.3333333333333333,\"#9c179e\"],[0.4444444444444444,\"#bd3786\"],[0.5555555555555556,\"#d8576b\"],[0.6666666666666666,\"#ed7953\"],[0.7777777777777778,\"#fb9f3a\"],[0.8888888888888888,\"#fdca26\"],[1.0,\"#f0f921\"]],\"type\":\"heatmap\"}],\"histogram2dcontour\":[{\"colorbar\":{\"outlinewidth\":0,\"ticks\":\"\"},\"colorscale\":[[0.0,\"#0d0887\"],[0.1111111111111111,\"#46039f\"],[0.2222222222222222,\"#7201a8\"],[0.3333333333333333,\"#9c179e\"],[0.4444444444444444,\"#bd3786\"],[0.5555555555555556,\"#d8576b\"],[0.6666666666666666,\"#ed7953\"],[0.7777777777777778,\"#fb9f3a\"],[0.8888888888888888,\"#fdca26\"],[1.0,\"#f0f921\"]],\"type\":\"histogram2dcontour\"}],\"histogram2d\":[{\"colorbar\":{\"outlinewidth\":0,\"ticks\":\"\"},\"colorscale\":[[0.0,\"#0d0887\"],[0.1111111111111111,\"#46039f\"],[0.2222222222222222,\"#7201a8\"],[0.3333333333333333,\"#9c179e\"],[0.4444444444444444,\"#bd3786\"],[0.5555555555555556,\"#d8576b\"],[0.6666666666666666,\"#ed7953\"],[0.7777777777777778,\"#fb9f3a\"],[0.8888888888888888,\"#fdca26\"],[1.0,\"#f0f921\"]],\"type\":\"histogram2d\"}],\"histogram\":[{\"marker\":{\"pattern\":{\"fillmode\":\"overlay\",\"size\":10,\"solidity\":0.2}},\"type\":\"histogram\"}],\"mesh3d\":[{\"colorbar\":{\"outlinewidth\":0,\"ticks\":\"\"},\"type\":\"mesh3d\"}],\"parcoords\":[{\"line\":{\"colorbar\":{\"outlinewidth\":0,\"ticks\":\"\"}},\"type\":\"parcoords\"}],\"pie\":[{\"automargin\":true,\"type\":\"pie\"}],\"scatter3d\":[{\"line\":{\"colorbar\":{\"outlinewidth\":0,\"ticks\":\"\"}},\"marker\":{\"colorbar\":{\"outlinewidth\":0,\"ticks\":\"\"}},\"type\":\"scatter3d\"}],\"scattercarpet\":[{\"marker\":{\"colorbar\":{\"outlinewidth\":0,\"ticks\":\"\"}},\"type\":\"scattercarpet\"}],\"scattergeo\":[{\"marker\":{\"colorbar\":{\"outlinewidth\":0,\"ticks\":\"\"}},\"type\":\"scattergeo\"}],\"scattergl\":[{\"marker\":{\"colorbar\":{\"outlinewidth\":0,\"ticks\":\"\"}},\"type\":\"scattergl\"}],\"scattermapbox\":[{\"marker\":{\"colorbar\":{\"outlinewidth\":0,\"ticks\":\"\"}},\"type\":\"scattermapbox\"}],\"scatterpolargl\":[{\"marker\":{\"colorbar\":{\"outlinewidth\":0,\"ticks\":\"\"}},\"type\":\"scatterpolargl\"}],\"scatterpolar\":[{\"marker\":{\"colorbar\":{\"outlinewidth\":0,\"ticks\":\"\"}},\"type\":\"scatterpolar\"}],\"scatter\":[{\"fillpattern\":{\"fillmode\":\"overlay\",\"size\":10,\"solidity\":0.2},\"type\":\"scatter\"}],\"scatterternary\":[{\"marker\":{\"colorbar\":{\"outlinewidth\":0,\"ticks\":\"\"}},\"type\":\"scatterternary\"}],\"surface\":[{\"colorbar\":{\"outlinewidth\":0,\"ticks\":\"\"},\"colorscale\":[[0.0,\"#0d0887\"],[0.1111111111111111,\"#46039f\"],[0.2222222222222222,\"#7201a8\"],[0.3333333333333333,\"#9c179e\"],[0.4444444444444444,\"#bd3786\"],[0.5555555555555556,\"#d8576b\"],[0.6666666666666666,\"#ed7953\"],[0.7777777777777778,\"#fb9f3a\"],[0.8888888888888888,\"#fdca26\"],[1.0,\"#f0f921\"]],\"type\":\"surface\"}],\"table\":[{\"cells\":{\"fill\":{\"color\":\"#EBF0F8\"},\"line\":{\"color\":\"white\"}},\"header\":{\"fill\":{\"color\":\"#C8D4E3\"},\"line\":{\"color\":\"white\"}},\"type\":\"table\"}]},\"layout\":{\"annotationdefaults\":{\"arrowcolor\":\"#2a3f5f\",\"arrowhead\":0,\"arrowwidth\":1},\"autotypenumbers\":\"strict\",\"coloraxis\":{\"colorbar\":{\"outlinewidth\":0,\"ticks\":\"\"}},\"colorscale\":{\"diverging\":[[0,\"#8e0152\"],[0.1,\"#c51b7d\"],[0.2,\"#de77ae\"],[0.3,\"#f1b6da\"],[0.4,\"#fde0ef\"],[0.5,\"#f7f7f7\"],[0.6,\"#e6f5d0\"],[0.7,\"#b8e186\"],[0.8,\"#7fbc41\"],[0.9,\"#4d9221\"],[1,\"#276419\"]],\"sequential\":[[0.0,\"#0d0887\"],[0.1111111111111111,\"#46039f\"],[0.2222222222222222,\"#7201a8\"],[0.3333333333333333,\"#9c179e\"],[0.4444444444444444,\"#bd3786\"],[0.5555555555555556,\"#d8576b\"],[0.6666666666666666,\"#ed7953\"],[0.7777777777777778,\"#fb9f3a\"],[0.8888888888888888,\"#fdca26\"],[1.0,\"#f0f921\"]],\"sequentialminus\":[[0.0,\"#0d0887\"],[0.1111111111111111,\"#46039f\"],[0.2222222222222222,\"#7201a8\"],[0.3333333333333333,\"#9c179e\"],[0.4444444444444444,\"#bd3786\"],[0.5555555555555556,\"#d8576b\"],[0.6666666666666666,\"#ed7953\"],[0.7777777777777778,\"#fb9f3a\"],[0.8888888888888888,\"#fdca26\"],[1.0,\"#f0f921\"]]},\"colorway\":[\"#636efa\",\"#EF553B\",\"#00cc96\",\"#ab63fa\",\"#FFA15A\",\"#19d3f3\",\"#FF6692\",\"#B6E880\",\"#FF97FF\",\"#FECB52\"],\"font\":{\"color\":\"#2a3f5f\"},\"geo\":{\"bgcolor\":\"white\",\"lakecolor\":\"white\",\"landcolor\":\"#E5ECF6\",\"showlakes\":true,\"showland\":true,\"subunitcolor\":\"white\"},\"hoverlabel\":{\"align\":\"left\"},\"hovermode\":\"closest\",\"mapbox\":{\"style\":\"light\"},\"paper_bgcolor\":\"white\",\"plot_bgcolor\":\"#E5ECF6\",\"polar\":{\"angularaxis\":{\"gridcolor\":\"white\",\"linecolor\":\"white\",\"ticks\":\"\"},\"bgcolor\":\"#E5ECF6\",\"radialaxis\":{\"gridcolor\":\"white\",\"linecolor\":\"white\",\"ticks\":\"\"}},\"scene\":{\"xaxis\":{\"backgroundcolor\":\"#E5ECF6\",\"gridcolor\":\"white\",\"gridwidth\":2,\"linecolor\":\"white\",\"showbackground\":true,\"ticks\":\"\",\"zerolinecolor\":\"white\"},\"yaxis\":{\"backgroundcolor\":\"#E5ECF6\",\"gridcolor\":\"white\",\"gridwidth\":2,\"linecolor\":\"white\",\"showbackground\":true,\"ticks\":\"\",\"zerolinecolor\":\"white\"},\"zaxis\":{\"backgroundcolor\":\"#E5ECF6\",\"gridcolor\":\"white\",\"gridwidth\":2,\"linecolor\":\"white\",\"showbackground\":true,\"ticks\":\"\",\"zerolinecolor\":\"white\"}},\"shapedefaults\":{\"line\":{\"color\":\"#2a3f5f\"}},\"ternary\":{\"aaxis\":{\"gridcolor\":\"white\",\"linecolor\":\"white\",\"ticks\":\"\"},\"baxis\":{\"gridcolor\":\"white\",\"linecolor\":\"white\",\"ticks\":\"\"},\"bgcolor\":\"#E5ECF6\",\"caxis\":{\"gridcolor\":\"white\",\"linecolor\":\"white\",\"ticks\":\"\"}},\"title\":{\"x\":0.05},\"xaxis\":{\"automargin\":true,\"gridcolor\":\"white\",\"linecolor\":\"white\",\"ticks\":\"\",\"title\":{\"standoff\":15},\"zerolinecolor\":\"white\",\"zerolinewidth\":2},\"yaxis\":{\"automargin\":true,\"gridcolor\":\"white\",\"linecolor\":\"white\",\"ticks\":\"\",\"title\":{\"standoff\":15},\"zerolinecolor\":\"white\",\"zerolinewidth\":2}}},\"title\":{\"font\":{\"color\":\"#4D5663\"}},\"xaxis\":{\"gridcolor\":\"#E1E5ED\",\"showgrid\":true,\"tickfont\":{\"color\":\"#4D5663\"},\"title\":{\"font\":{\"color\":\"#4D5663\"},\"text\":\"\"},\"zerolinecolor\":\"#E1E5ED\"},\"yaxis\":{\"gridcolor\":\"#E1E5ED\",\"showgrid\":true,\"tickfont\":{\"color\":\"#4D5663\"},\"title\":{\"font\":{\"color\":\"#4D5663\"},\"text\":\"\"},\"zerolinecolor\":\"#E1E5ED\"}},                        {\"showLink\": true, \"linkText\": \"Export to plot.ly\", \"plotlyServerURL\": \"https://plot.ly\", \"responsive\": true}                    ).then(function(){\n",
       "                            \n",
       "var gd = document.getElementById('caa8161a-36d5-42d4-af99-811d79d17cc5');\n",
       "var x = new MutationObserver(function (mutations, observer) {{\n",
       "        var display = window.getComputedStyle(gd).display;\n",
       "        if (!display || display === 'none') {{\n",
       "            console.log([gd, 'removed!']);\n",
       "            Plotly.purge(gd);\n",
       "            observer.disconnect();\n",
       "        }}\n",
       "}});\n",
       "\n",
       "// Listen for the removal of the full notebook cells\n",
       "var notebookContainer = gd.closest('#notebook-container');\n",
       "if (notebookContainer) {{\n",
       "    x.observe(notebookContainer, {childList: true});\n",
       "}}\n",
       "\n",
       "// Listen for the clearing of the current output cell\n",
       "var outputEl = gd.closest('.output');\n",
       "if (outputEl) {{\n",
       "    x.observe(outputEl, {childList: true});\n",
       "}}\n",
       "\n",
       "                        })                };                });            </script>        </div>"
      ]
     },
     "metadata": {},
     "output_type": "display_data"
    }
   ],
   "source": [
    "df.iplot(kind='bubble',x='A',y='B',size='C')"
   ]
  },
  {
   "cell_type": "markdown",
   "metadata": {},
   "source": [
    "## scatter_matrix()\n",
    "\n",
    "Similar to sns.pairplot()"
   ]
  },
  {
   "cell_type": "code",
   "execution_count": 18,
   "metadata": {},
   "outputs": [
    {
     "data": {
      "application/vnd.plotly.v1+json": {
       "config": {
        "linkText": "Export to plot.ly",
        "plotlyServerURL": "https://plot.ly",
        "showLink": true
       },
       "data": [
        {
         "histfunc": "count",
         "histnorm": "",
         "marker": {
          "color": "rgba(255, 153, 51, 1.0)",
          "line": {
           "color": "#4D5663",
           "width": 1.3
          }
         },
         "name": "A",
         "nbinsx": 10,
         "opacity": 0.8,
         "orientation": "v",
         "type": "histogram",
         "x": [
          -0.761538621205789,
          -0.7095884634062892,
          -1.87542527271739,
          -0.5065020746548108,
          1.35496259011185,
          -0.026882085442824027,
          0.3970926315800366,
          0.07930693556886965,
          -0.41651464393472665,
          -2.1276514696138085,
          0.7820816143304232,
          -0.46474335159908536,
          -1.9107278629738271,
          -0.5851839091377247,
          -0.6977177817635527,
          -2.4805654165741604,
          0.30130380247970456,
          -1.2057408655541713,
          0.975851335324599,
          0.935008023807403,
          0.6521460449304588,
          -0.16948993321802375,
          -0.6290415454217887,
          1.8582365753048842,
          0.519562575788573,
          0.21804135002318595,
          -0.6493577537881481,
          -0.911446297830199,
          -0.21094657901329192,
          1.925812415310548,
          -0.8602460299440234,
          0.5127438996267528,
          0.8813742038543424,
          -0.13573916517822807,
          -0.9270599803167954,
          1.0650535344599334,
          -0.5460679312679347,
          1.0117070089099622,
          -0.9777694153477007,
          0.35845385850155465,
          -0.6132408377130129,
          0.10871499849728981,
          0.40127567610710363,
          -0.6487046715630305,
          -0.8973289755839094,
          -0.4771539232923262,
          1.4138765300447418,
          0.044259693659036675,
          1.2456282221444395,
          0.6788475597193058,
          -0.9965791035290003,
          0.1608038512426127,
          -1.7273251122882962,
          0.9478549448318161,
          0.1957383843350601,
          0.20494952842470757,
          0.8557551042032416,
          1.2239513555987374,
          -0.8418915016769701,
          -0.7584061431982285,
          1.038055563573445,
          -1.2160740963752874,
          -0.4973699854095074,
          -0.9284199605478466,
          -0.5289637024381451,
          0.6079527884027386,
          -1.281229580560239,
          -0.09569023796817881,
          0.4651359310332824,
          0.35533232231510486,
          0.7261215905295191,
          -1.0520852792461017,
          2.6876313437622183,
          -1.717725205859949,
          -0.9111405606483214,
          -0.29153549489613173,
          -0.5701590060528048,
          0.05584067025163339,
          -1.1098732423331124,
          -0.9036945129123467,
          0.4501068865111808,
          0.825544257138231,
          0.4653860586330535,
          -1.1603307220031898,
          2.2810419206827284,
          0.11951586146702434,
          -0.2861420901734789,
          -1.3116881377337695,
          -0.32994936800329144,
          0.6197776617277426,
          0.2583173154079452,
          -0.4729733090730053,
          -0.07433117747413986,
          0.6221367200900845,
          -0.6301195699345721,
          -1.05620362506392,
          -1.0813433380501374,
          -0.6526823581710206,
          -0.40308048066321017,
          -0.19307390859447687
         ],
         "xaxis": "x",
         "yaxis": "y"
        },
        {
         "line": {
          "color": "rgba(128, 128, 128, 1.0)",
          "dash": "solid",
          "shape": "linear",
          "width": 1.3
         },
         "marker": {
          "size": 2,
          "symbol": "circle"
         },
         "mode": "markers",
         "name": "A",
         "text": "",
         "type": "scatter",
         "x": [
          2.0212488155738875,
          0.7583096657857158,
          0.690456279047033,
          -0.5336253666583853,
          -0.3444448261782787,
          -1.5007167350721706,
          1.47417272332828,
          0.7224922054456843,
          -0.9523322732880294,
          -1.2007521411285247,
          0.17977885829835624,
          -0.3993877007738916,
          -0.03594024055892166,
          0.43672348288119245,
          -0.40696742781349027,
          0.2134293668056055,
          1.7803668779864803,
          -0.39022504742482833,
          -1.6383548443486666,
          -2.285357617815566,
          0.44741158825359245,
          -0.2927635506639341,
          0.4136368844636603,
          0.8078711083943342,
          0.2884092876798255,
          0.4949136350960853,
          0.7503925352077869,
          -0.8731681678867933,
          0.8061604124757041,
          0.27710798744893084,
          -0.1582208416581821,
          -0.9856087371450262,
          -0.11527233251929478,
          0.40375922576565254,
          0.06448225213737395,
          -1.335774942121669,
          -0.11807724370888023,
          -0.9794050934152908,
          -0.5149681326578647,
          0.8063573557471728,
          0.9979072896721226,
          0.7147261302748834,
          -0.5182821264572214,
          -3.1376785914728136,
          1.0311784055004873,
          -0.8132771291058926,
          0.18432068082792719,
          0.9237360904499204,
          0.30599407158319486,
          0.33507477440349753,
          0.07919280617985913,
          -0.4232933611080333,
          0.3558176377425486,
          -0.9263390939314984,
          -0.7665872434389798,
          0.725052038268612,
          1.1164035544920263,
          0.18244465783419295,
          -0.2816778377621261,
          -0.38687777851277577,
          0.7727005377999372,
          0.06711665722470082,
          0.6742548227152336,
          0.9763233892497046,
          0.8214369752267061,
          0.8494264109004337,
          -0.3878781331543912,
          -0.6514852554195295,
          -1.8920663607417647,
          -0.8653341210591329,
          1.3075581912669738,
          0.7810217429948401,
          -0.7057405243063345,
          0.9652829915392097,
          0.21573636864042325,
          -0.3421430578373146,
          1.8610130200091133,
          -1.8794998483938055,
          0.7943304837877205,
          -0.053051118459419344,
          0.22410566547086927,
          0.07216085006027313,
          -0.2754955239090127,
          1.2590849074647348,
          1.0139736758249545,
          0.05570390346374175,
          -0.7690113262533337,
          2.1803261836384222,
          -0.7940812816209243,
          -1.1111128259709735,
          -0.3106265064956946,
          -0.026017216185092323,
          0.08661658866512632,
          -0.4717446856472977,
          0.0449965557198526,
          0.6638303748533824,
          0.25766663740266194,
          -0.6957389173560475,
          1.5120781751025285,
          0.6983516103179237
         ],
         "xaxis": "x2",
         "y": [
          -0.761538621205789,
          -0.7095884634062892,
          -1.87542527271739,
          -0.5065020746548108,
          1.35496259011185,
          -0.026882085442824027,
          0.3970926315800366,
          0.07930693556886965,
          -0.41651464393472665,
          -2.1276514696138085,
          0.7820816143304232,
          -0.46474335159908536,
          -1.9107278629738271,
          -0.5851839091377247,
          -0.6977177817635527,
          -2.4805654165741604,
          0.30130380247970456,
          -1.2057408655541713,
          0.975851335324599,
          0.935008023807403,
          0.6521460449304588,
          -0.16948993321802375,
          -0.6290415454217887,
          1.8582365753048842,
          0.519562575788573,
          0.21804135002318595,
          -0.6493577537881481,
          -0.911446297830199,
          -0.21094657901329192,
          1.925812415310548,
          -0.8602460299440234,
          0.5127438996267528,
          0.8813742038543424,
          -0.13573916517822807,
          -0.9270599803167954,
          1.0650535344599334,
          -0.5460679312679347,
          1.0117070089099622,
          -0.9777694153477007,
          0.35845385850155465,
          -0.6132408377130129,
          0.10871499849728981,
          0.40127567610710363,
          -0.6487046715630305,
          -0.8973289755839094,
          -0.4771539232923262,
          1.4138765300447418,
          0.044259693659036675,
          1.2456282221444395,
          0.6788475597193058,
          -0.9965791035290003,
          0.1608038512426127,
          -1.7273251122882962,
          0.9478549448318161,
          0.1957383843350601,
          0.20494952842470757,
          0.8557551042032416,
          1.2239513555987374,
          -0.8418915016769701,
          -0.7584061431982285,
          1.038055563573445,
          -1.2160740963752874,
          -0.4973699854095074,
          -0.9284199605478466,
          -0.5289637024381451,
          0.6079527884027386,
          -1.281229580560239,
          -0.09569023796817881,
          0.4651359310332824,
          0.35533232231510486,
          0.7261215905295191,
          -1.0520852792461017,
          2.6876313437622183,
          -1.717725205859949,
          -0.9111405606483214,
          -0.29153549489613173,
          -0.5701590060528048,
          0.05584067025163339,
          -1.1098732423331124,
          -0.9036945129123467,
          0.4501068865111808,
          0.825544257138231,
          0.4653860586330535,
          -1.1603307220031898,
          2.2810419206827284,
          0.11951586146702434,
          -0.2861420901734789,
          -1.3116881377337695,
          -0.32994936800329144,
          0.6197776617277426,
          0.2583173154079452,
          -0.4729733090730053,
          -0.07433117747413986,
          0.6221367200900845,
          -0.6301195699345721,
          -1.05620362506392,
          -1.0813433380501374,
          -0.6526823581710206,
          -0.40308048066321017,
          -0.19307390859447687
         ],
         "yaxis": "y2"
        },
        {
         "line": {
          "color": "rgba(128, 128, 128, 1.0)",
          "dash": "solid",
          "shape": "linear",
          "width": 1.3
         },
         "marker": {
          "size": 2,
          "symbol": "circle"
         },
         "mode": "markers",
         "name": "A",
         "text": "",
         "type": "scatter",
         "x": [
          0.8699199414489964,
          0.1919528666269509,
          0.3093969885172038,
          -2.1924299710634836,
          -0.09404555027642499,
          -0.44616700382215535,
          0.5911062942320391,
          -0.11222987530467411,
          0.8221513863038997,
          -1.3394609024912,
          -0.6540966378140828,
          -2.647366214634456,
          -0.8261593146823648,
          -0.5282738221407467,
          2.2560010208169174,
          -0.8944809840239775,
          1.4404312774926151,
          1.0038948673282415,
          -1.4255621578921092,
          -2.021776176144868,
          0.3101462275885388,
          1.3172858612439269,
          -0.40206335140303734,
          0.35274271079727726,
          -1.1796864336025494,
          -0.8233313364450072,
          -0.761867615189702,
          0.9240591598013932,
          0.7929419871257162,
          -1.545191462344122,
          0.8436223213091736,
          -0.35451091835456444,
          -0.2662014706847725,
          -1.6596023876590735,
          -1.5411043743645112,
          0.4202935608374834,
          -0.04436248674158989,
          0.6214332168767712,
          1.313981241271157,
          -0.6021879466734257,
          -0.5099547957947055,
          0.07948533295588678,
          -2.36300982364451,
          -0.8380611399118977,
          0.15012427389306565,
          -0.6699640582887734,
          -0.7956055043928719,
          -0.049162235003456664,
          0.7615336899380856,
          0.4612575745415876,
          0.6350534238638107,
          0.20418876230882374,
          -0.03135271045951208,
          -1.6317632670428215,
          0.12824357341840992,
          -0.7754360680942636,
          0.592942313812262,
          -0.9810425893436158,
          -0.0552939096891739,
          -1.315533891912153,
          -2.6668417818822423,
          1.1112548065054297,
          -1.2239925033791574,
          -1.6701983878767488,
          -1.079857264546952,
          -1.755575016943559,
          0.23924537922112582,
          -1.1704140026544176,
          0.6016584057907969,
          -0.573849768968879,
          0.25647552760965664,
          1.579553752223997,
          1.3405315133765805,
          -0.1413395997516385,
          -0.39554037187911145,
          0.06823471847525044,
          -0.40089963995751504,
          0.9268459355904448,
          1.337994149408316,
          0.015134007930666256,
          0.5449210338723256,
          0.7239631740332934,
          0.2342370873421562,
          -0.8054791105937634,
          0.021720198485186568,
          -0.014231085668760987,
          1.1563184171040473,
          0.5366766020887849,
          -0.0973053665074751,
          1.268105194587903,
          -0.3475683830855135,
          -0.14844232446306793,
          -1.5293673671478056,
          0.018728084547423293,
          1.5098303205313615,
          0.28462750176330975,
          -0.1590669767758876,
          0.0426517799402289,
          -0.39120217870348256,
          1.0959531653469556
         ],
         "xaxis": "x3",
         "y": [
          -0.761538621205789,
          -0.7095884634062892,
          -1.87542527271739,
          -0.5065020746548108,
          1.35496259011185,
          -0.026882085442824027,
          0.3970926315800366,
          0.07930693556886965,
          -0.41651464393472665,
          -2.1276514696138085,
          0.7820816143304232,
          -0.46474335159908536,
          -1.9107278629738271,
          -0.5851839091377247,
          -0.6977177817635527,
          -2.4805654165741604,
          0.30130380247970456,
          -1.2057408655541713,
          0.975851335324599,
          0.935008023807403,
          0.6521460449304588,
          -0.16948993321802375,
          -0.6290415454217887,
          1.8582365753048842,
          0.519562575788573,
          0.21804135002318595,
          -0.6493577537881481,
          -0.911446297830199,
          -0.21094657901329192,
          1.925812415310548,
          -0.8602460299440234,
          0.5127438996267528,
          0.8813742038543424,
          -0.13573916517822807,
          -0.9270599803167954,
          1.0650535344599334,
          -0.5460679312679347,
          1.0117070089099622,
          -0.9777694153477007,
          0.35845385850155465,
          -0.6132408377130129,
          0.10871499849728981,
          0.40127567610710363,
          -0.6487046715630305,
          -0.8973289755839094,
          -0.4771539232923262,
          1.4138765300447418,
          0.044259693659036675,
          1.2456282221444395,
          0.6788475597193058,
          -0.9965791035290003,
          0.1608038512426127,
          -1.7273251122882962,
          0.9478549448318161,
          0.1957383843350601,
          0.20494952842470757,
          0.8557551042032416,
          1.2239513555987374,
          -0.8418915016769701,
          -0.7584061431982285,
          1.038055563573445,
          -1.2160740963752874,
          -0.4973699854095074,
          -0.9284199605478466,
          -0.5289637024381451,
          0.6079527884027386,
          -1.281229580560239,
          -0.09569023796817881,
          0.4651359310332824,
          0.35533232231510486,
          0.7261215905295191,
          -1.0520852792461017,
          2.6876313437622183,
          -1.717725205859949,
          -0.9111405606483214,
          -0.29153549489613173,
          -0.5701590060528048,
          0.05584067025163339,
          -1.1098732423331124,
          -0.9036945129123467,
          0.4501068865111808,
          0.825544257138231,
          0.4653860586330535,
          -1.1603307220031898,
          2.2810419206827284,
          0.11951586146702434,
          -0.2861420901734789,
          -1.3116881377337695,
          -0.32994936800329144,
          0.6197776617277426,
          0.2583173154079452,
          -0.4729733090730053,
          -0.07433117747413986,
          0.6221367200900845,
          -0.6301195699345721,
          -1.05620362506392,
          -1.0813433380501374,
          -0.6526823581710206,
          -0.40308048066321017,
          -0.19307390859447687
         ],
         "yaxis": "y3"
        },
        {
         "line": {
          "color": "rgba(128, 128, 128, 1.0)",
          "dash": "solid",
          "shape": "linear",
          "width": 1.3
         },
         "marker": {
          "size": 2,
          "symbol": "circle"
         },
         "mode": "markers",
         "name": "A",
         "text": "",
         "type": "scatter",
         "x": [
          -1.4824837499244081,
          -1.6378759904591504,
          -0.7326854957473273,
          -0.10550829105630619,
          -0.06991350159311006,
          0.46163763597263535,
          0.6004277107442788,
          0.39676296852325393,
          0.48288648043382,
          -1.6077837536067379,
          1.9386209836363804,
          0.7193966124404083,
          0.6311036516809552,
          -0.66021129157521,
          -0.8326032928453405,
          -0.45698882511325306,
          0.7368609508803521,
          0.6799541405694176,
          1.1105561940094641,
          1.0413711496143612,
          0.230439276257338,
          1.619399446733085,
          -0.2552239243728746,
          0.5718800408477457,
          -0.8106945893565702,
          -0.14545456549034066,
          -2.0392666801115684,
          -0.26806053833991905,
          -1.9210744740220125,
          1.4756213242041665,
          0.31139315447033383,
          -2.396823658888235,
          1.1974944254877904,
          0.9413978277969611,
          -2.577206952185167,
          1.1224890080897332,
          0.40618149122564207,
          1.2161981884750508,
          0.008953323559096064,
          0.07358259777689787,
          -0.3386919303123021,
          0.6630157763838277,
          0.5061288843568232,
          -0.6679659295985579,
          -1.0165535350553254,
          -0.2591339080864048,
          1.3430897920882647,
          -0.4486049234063091,
          3.139981087756818,
          0.30466861631842845,
          -0.5235439773795593,
          -0.3730989800904381,
          1.1920474220833062,
          0.11399599805152362,
          1.475375600003024,
          -0.4220684689790923,
          -1.1624893746214093,
          -1.8680872294454245,
          0.3838698413367046,
          1.7844036544735724,
          0.9383329993184499,
          0.3762429818126024,
          0.8629274833359641,
          0.11236342274731556,
          0.11182647169785713,
          0.05797682876587672,
          1.1898895052028797,
          1.5675532609104892,
          -1.3437750048468564,
          -0.3750533216879752,
          0.5800973230827036,
          -0.3228853202727669,
          0.5754027685683331,
          0.3988488178053489,
          -0.9021493253552805,
          -0.4727531209574199,
          2.073525090198343,
          -0.5956824782786153,
          -0.7175313463748774,
          -0.28584859429294823,
          1.4139676176621516,
          0.998735673189787,
          -0.13359127727415754,
          0.39837527281682855,
          -1.2772074278830792,
          -1.0207846187390759,
          -1.0621193282470969,
          0.519605188124482,
          -0.5371215088488999,
          -0.5474053178339106,
          1.0877773289297972,
          1.617424588262552,
          -3.0834156610107017,
          0.651466772014326,
          0.4128791893328902,
          0.5993012622530658,
          1.2372903649733404,
          -0.23562990778944215,
          0.10524843776164242,
          -0.13106830823608387
         ],
         "xaxis": "x4",
         "y": [
          -0.761538621205789,
          -0.7095884634062892,
          -1.87542527271739,
          -0.5065020746548108,
          1.35496259011185,
          -0.026882085442824027,
          0.3970926315800366,
          0.07930693556886965,
          -0.41651464393472665,
          -2.1276514696138085,
          0.7820816143304232,
          -0.46474335159908536,
          -1.9107278629738271,
          -0.5851839091377247,
          -0.6977177817635527,
          -2.4805654165741604,
          0.30130380247970456,
          -1.2057408655541713,
          0.975851335324599,
          0.935008023807403,
          0.6521460449304588,
          -0.16948993321802375,
          -0.6290415454217887,
          1.8582365753048842,
          0.519562575788573,
          0.21804135002318595,
          -0.6493577537881481,
          -0.911446297830199,
          -0.21094657901329192,
          1.925812415310548,
          -0.8602460299440234,
          0.5127438996267528,
          0.8813742038543424,
          -0.13573916517822807,
          -0.9270599803167954,
          1.0650535344599334,
          -0.5460679312679347,
          1.0117070089099622,
          -0.9777694153477007,
          0.35845385850155465,
          -0.6132408377130129,
          0.10871499849728981,
          0.40127567610710363,
          -0.6487046715630305,
          -0.8973289755839094,
          -0.4771539232923262,
          1.4138765300447418,
          0.044259693659036675,
          1.2456282221444395,
          0.6788475597193058,
          -0.9965791035290003,
          0.1608038512426127,
          -1.7273251122882962,
          0.9478549448318161,
          0.1957383843350601,
          0.20494952842470757,
          0.8557551042032416,
          1.2239513555987374,
          -0.8418915016769701,
          -0.7584061431982285,
          1.038055563573445,
          -1.2160740963752874,
          -0.4973699854095074,
          -0.9284199605478466,
          -0.5289637024381451,
          0.6079527884027386,
          -1.281229580560239,
          -0.09569023796817881,
          0.4651359310332824,
          0.35533232231510486,
          0.7261215905295191,
          -1.0520852792461017,
          2.6876313437622183,
          -1.717725205859949,
          -0.9111405606483214,
          -0.29153549489613173,
          -0.5701590060528048,
          0.05584067025163339,
          -1.1098732423331124,
          -0.9036945129123467,
          0.4501068865111808,
          0.825544257138231,
          0.4653860586330535,
          -1.1603307220031898,
          2.2810419206827284,
          0.11951586146702434,
          -0.2861420901734789,
          -1.3116881377337695,
          -0.32994936800329144,
          0.6197776617277426,
          0.2583173154079452,
          -0.4729733090730053,
          -0.07433117747413986,
          0.6221367200900845,
          -0.6301195699345721,
          -1.05620362506392,
          -1.0813433380501374,
          -0.6526823581710206,
          -0.40308048066321017,
          -0.19307390859447687
         ],
         "yaxis": "y4"
        },
        {
         "line": {
          "color": "rgba(128, 128, 128, 1.0)",
          "dash": "solid",
          "shape": "linear",
          "width": 1.3
         },
         "marker": {
          "size": 2,
          "symbol": "circle"
         },
         "mode": "markers",
         "name": "B",
         "text": "",
         "type": "scatter",
         "x": [
          -0.761538621205789,
          -0.7095884634062892,
          -1.87542527271739,
          -0.5065020746548108,
          1.35496259011185,
          -0.026882085442824027,
          0.3970926315800366,
          0.07930693556886965,
          -0.41651464393472665,
          -2.1276514696138085,
          0.7820816143304232,
          -0.46474335159908536,
          -1.9107278629738271,
          -0.5851839091377247,
          -0.6977177817635527,
          -2.4805654165741604,
          0.30130380247970456,
          -1.2057408655541713,
          0.975851335324599,
          0.935008023807403,
          0.6521460449304588,
          -0.16948993321802375,
          -0.6290415454217887,
          1.8582365753048842,
          0.519562575788573,
          0.21804135002318595,
          -0.6493577537881481,
          -0.911446297830199,
          -0.21094657901329192,
          1.925812415310548,
          -0.8602460299440234,
          0.5127438996267528,
          0.8813742038543424,
          -0.13573916517822807,
          -0.9270599803167954,
          1.0650535344599334,
          -0.5460679312679347,
          1.0117070089099622,
          -0.9777694153477007,
          0.35845385850155465,
          -0.6132408377130129,
          0.10871499849728981,
          0.40127567610710363,
          -0.6487046715630305,
          -0.8973289755839094,
          -0.4771539232923262,
          1.4138765300447418,
          0.044259693659036675,
          1.2456282221444395,
          0.6788475597193058,
          -0.9965791035290003,
          0.1608038512426127,
          -1.7273251122882962,
          0.9478549448318161,
          0.1957383843350601,
          0.20494952842470757,
          0.8557551042032416,
          1.2239513555987374,
          -0.8418915016769701,
          -0.7584061431982285,
          1.038055563573445,
          -1.2160740963752874,
          -0.4973699854095074,
          -0.9284199605478466,
          -0.5289637024381451,
          0.6079527884027386,
          -1.281229580560239,
          -0.09569023796817881,
          0.4651359310332824,
          0.35533232231510486,
          0.7261215905295191,
          -1.0520852792461017,
          2.6876313437622183,
          -1.717725205859949,
          -0.9111405606483214,
          -0.29153549489613173,
          -0.5701590060528048,
          0.05584067025163339,
          -1.1098732423331124,
          -0.9036945129123467,
          0.4501068865111808,
          0.825544257138231,
          0.4653860586330535,
          -1.1603307220031898,
          2.2810419206827284,
          0.11951586146702434,
          -0.2861420901734789,
          -1.3116881377337695,
          -0.32994936800329144,
          0.6197776617277426,
          0.2583173154079452,
          -0.4729733090730053,
          -0.07433117747413986,
          0.6221367200900845,
          -0.6301195699345721,
          -1.05620362506392,
          -1.0813433380501374,
          -0.6526823581710206,
          -0.40308048066321017,
          -0.19307390859447687
         ],
         "xaxis": "x5",
         "y": [
          2.0212488155738875,
          0.7583096657857158,
          0.690456279047033,
          -0.5336253666583853,
          -0.3444448261782787,
          -1.5007167350721706,
          1.47417272332828,
          0.7224922054456843,
          -0.9523322732880294,
          -1.2007521411285247,
          0.17977885829835624,
          -0.3993877007738916,
          -0.03594024055892166,
          0.43672348288119245,
          -0.40696742781349027,
          0.2134293668056055,
          1.7803668779864803,
          -0.39022504742482833,
          -1.6383548443486666,
          -2.285357617815566,
          0.44741158825359245,
          -0.2927635506639341,
          0.4136368844636603,
          0.8078711083943342,
          0.2884092876798255,
          0.4949136350960853,
          0.7503925352077869,
          -0.8731681678867933,
          0.8061604124757041,
          0.27710798744893084,
          -0.1582208416581821,
          -0.9856087371450262,
          -0.11527233251929478,
          0.40375922576565254,
          0.06448225213737395,
          -1.335774942121669,
          -0.11807724370888023,
          -0.9794050934152908,
          -0.5149681326578647,
          0.8063573557471728,
          0.9979072896721226,
          0.7147261302748834,
          -0.5182821264572214,
          -3.1376785914728136,
          1.0311784055004873,
          -0.8132771291058926,
          0.18432068082792719,
          0.9237360904499204,
          0.30599407158319486,
          0.33507477440349753,
          0.07919280617985913,
          -0.4232933611080333,
          0.3558176377425486,
          -0.9263390939314984,
          -0.7665872434389798,
          0.725052038268612,
          1.1164035544920263,
          0.18244465783419295,
          -0.2816778377621261,
          -0.38687777851277577,
          0.7727005377999372,
          0.06711665722470082,
          0.6742548227152336,
          0.9763233892497046,
          0.8214369752267061,
          0.8494264109004337,
          -0.3878781331543912,
          -0.6514852554195295,
          -1.8920663607417647,
          -0.8653341210591329,
          1.3075581912669738,
          0.7810217429948401,
          -0.7057405243063345,
          0.9652829915392097,
          0.21573636864042325,
          -0.3421430578373146,
          1.8610130200091133,
          -1.8794998483938055,
          0.7943304837877205,
          -0.053051118459419344,
          0.22410566547086927,
          0.07216085006027313,
          -0.2754955239090127,
          1.2590849074647348,
          1.0139736758249545,
          0.05570390346374175,
          -0.7690113262533337,
          2.1803261836384222,
          -0.7940812816209243,
          -1.1111128259709735,
          -0.3106265064956946,
          -0.026017216185092323,
          0.08661658866512632,
          -0.4717446856472977,
          0.0449965557198526,
          0.6638303748533824,
          0.25766663740266194,
          -0.6957389173560475,
          1.5120781751025285,
          0.6983516103179237
         ],
         "yaxis": "y5"
        },
        {
         "histfunc": "count",
         "histnorm": "",
         "marker": {
          "color": "rgba(55, 128, 191, 1.0)",
          "line": {
           "color": "#4D5663",
           "width": 1.3
          }
         },
         "name": "B",
         "nbinsx": 10,
         "opacity": 0.8,
         "orientation": "v",
         "type": "histogram",
         "x": [
          2.0212488155738875,
          0.7583096657857158,
          0.690456279047033,
          -0.5336253666583853,
          -0.3444448261782787,
          -1.5007167350721706,
          1.47417272332828,
          0.7224922054456843,
          -0.9523322732880294,
          -1.2007521411285247,
          0.17977885829835624,
          -0.3993877007738916,
          -0.03594024055892166,
          0.43672348288119245,
          -0.40696742781349027,
          0.2134293668056055,
          1.7803668779864803,
          -0.39022504742482833,
          -1.6383548443486666,
          -2.285357617815566,
          0.44741158825359245,
          -0.2927635506639341,
          0.4136368844636603,
          0.8078711083943342,
          0.2884092876798255,
          0.4949136350960853,
          0.7503925352077869,
          -0.8731681678867933,
          0.8061604124757041,
          0.27710798744893084,
          -0.1582208416581821,
          -0.9856087371450262,
          -0.11527233251929478,
          0.40375922576565254,
          0.06448225213737395,
          -1.335774942121669,
          -0.11807724370888023,
          -0.9794050934152908,
          -0.5149681326578647,
          0.8063573557471728,
          0.9979072896721226,
          0.7147261302748834,
          -0.5182821264572214,
          -3.1376785914728136,
          1.0311784055004873,
          -0.8132771291058926,
          0.18432068082792719,
          0.9237360904499204,
          0.30599407158319486,
          0.33507477440349753,
          0.07919280617985913,
          -0.4232933611080333,
          0.3558176377425486,
          -0.9263390939314984,
          -0.7665872434389798,
          0.725052038268612,
          1.1164035544920263,
          0.18244465783419295,
          -0.2816778377621261,
          -0.38687777851277577,
          0.7727005377999372,
          0.06711665722470082,
          0.6742548227152336,
          0.9763233892497046,
          0.8214369752267061,
          0.8494264109004337,
          -0.3878781331543912,
          -0.6514852554195295,
          -1.8920663607417647,
          -0.8653341210591329,
          1.3075581912669738,
          0.7810217429948401,
          -0.7057405243063345,
          0.9652829915392097,
          0.21573636864042325,
          -0.3421430578373146,
          1.8610130200091133,
          -1.8794998483938055,
          0.7943304837877205,
          -0.053051118459419344,
          0.22410566547086927,
          0.07216085006027313,
          -0.2754955239090127,
          1.2590849074647348,
          1.0139736758249545,
          0.05570390346374175,
          -0.7690113262533337,
          2.1803261836384222,
          -0.7940812816209243,
          -1.1111128259709735,
          -0.3106265064956946,
          -0.026017216185092323,
          0.08661658866512632,
          -0.4717446856472977,
          0.0449965557198526,
          0.6638303748533824,
          0.25766663740266194,
          -0.6957389173560475,
          1.5120781751025285,
          0.6983516103179237
         ],
         "xaxis": "x6",
         "yaxis": "y6"
        },
        {
         "line": {
          "color": "rgba(128, 128, 128, 1.0)",
          "dash": "solid",
          "shape": "linear",
          "width": 1.3
         },
         "marker": {
          "size": 2,
          "symbol": "circle"
         },
         "mode": "markers",
         "name": "B",
         "text": "",
         "type": "scatter",
         "x": [
          0.8699199414489964,
          0.1919528666269509,
          0.3093969885172038,
          -2.1924299710634836,
          -0.09404555027642499,
          -0.44616700382215535,
          0.5911062942320391,
          -0.11222987530467411,
          0.8221513863038997,
          -1.3394609024912,
          -0.6540966378140828,
          -2.647366214634456,
          -0.8261593146823648,
          -0.5282738221407467,
          2.2560010208169174,
          -0.8944809840239775,
          1.4404312774926151,
          1.0038948673282415,
          -1.4255621578921092,
          -2.021776176144868,
          0.3101462275885388,
          1.3172858612439269,
          -0.40206335140303734,
          0.35274271079727726,
          -1.1796864336025494,
          -0.8233313364450072,
          -0.761867615189702,
          0.9240591598013932,
          0.7929419871257162,
          -1.545191462344122,
          0.8436223213091736,
          -0.35451091835456444,
          -0.2662014706847725,
          -1.6596023876590735,
          -1.5411043743645112,
          0.4202935608374834,
          -0.04436248674158989,
          0.6214332168767712,
          1.313981241271157,
          -0.6021879466734257,
          -0.5099547957947055,
          0.07948533295588678,
          -2.36300982364451,
          -0.8380611399118977,
          0.15012427389306565,
          -0.6699640582887734,
          -0.7956055043928719,
          -0.049162235003456664,
          0.7615336899380856,
          0.4612575745415876,
          0.6350534238638107,
          0.20418876230882374,
          -0.03135271045951208,
          -1.6317632670428215,
          0.12824357341840992,
          -0.7754360680942636,
          0.592942313812262,
          -0.9810425893436158,
          -0.0552939096891739,
          -1.315533891912153,
          -2.6668417818822423,
          1.1112548065054297,
          -1.2239925033791574,
          -1.6701983878767488,
          -1.079857264546952,
          -1.755575016943559,
          0.23924537922112582,
          -1.1704140026544176,
          0.6016584057907969,
          -0.573849768968879,
          0.25647552760965664,
          1.579553752223997,
          1.3405315133765805,
          -0.1413395997516385,
          -0.39554037187911145,
          0.06823471847525044,
          -0.40089963995751504,
          0.9268459355904448,
          1.337994149408316,
          0.015134007930666256,
          0.5449210338723256,
          0.7239631740332934,
          0.2342370873421562,
          -0.8054791105937634,
          0.021720198485186568,
          -0.014231085668760987,
          1.1563184171040473,
          0.5366766020887849,
          -0.0973053665074751,
          1.268105194587903,
          -0.3475683830855135,
          -0.14844232446306793,
          -1.5293673671478056,
          0.018728084547423293,
          1.5098303205313615,
          0.28462750176330975,
          -0.1590669767758876,
          0.0426517799402289,
          -0.39120217870348256,
          1.0959531653469556
         ],
         "xaxis": "x7",
         "y": [
          2.0212488155738875,
          0.7583096657857158,
          0.690456279047033,
          -0.5336253666583853,
          -0.3444448261782787,
          -1.5007167350721706,
          1.47417272332828,
          0.7224922054456843,
          -0.9523322732880294,
          -1.2007521411285247,
          0.17977885829835624,
          -0.3993877007738916,
          -0.03594024055892166,
          0.43672348288119245,
          -0.40696742781349027,
          0.2134293668056055,
          1.7803668779864803,
          -0.39022504742482833,
          -1.6383548443486666,
          -2.285357617815566,
          0.44741158825359245,
          -0.2927635506639341,
          0.4136368844636603,
          0.8078711083943342,
          0.2884092876798255,
          0.4949136350960853,
          0.7503925352077869,
          -0.8731681678867933,
          0.8061604124757041,
          0.27710798744893084,
          -0.1582208416581821,
          -0.9856087371450262,
          -0.11527233251929478,
          0.40375922576565254,
          0.06448225213737395,
          -1.335774942121669,
          -0.11807724370888023,
          -0.9794050934152908,
          -0.5149681326578647,
          0.8063573557471728,
          0.9979072896721226,
          0.7147261302748834,
          -0.5182821264572214,
          -3.1376785914728136,
          1.0311784055004873,
          -0.8132771291058926,
          0.18432068082792719,
          0.9237360904499204,
          0.30599407158319486,
          0.33507477440349753,
          0.07919280617985913,
          -0.4232933611080333,
          0.3558176377425486,
          -0.9263390939314984,
          -0.7665872434389798,
          0.725052038268612,
          1.1164035544920263,
          0.18244465783419295,
          -0.2816778377621261,
          -0.38687777851277577,
          0.7727005377999372,
          0.06711665722470082,
          0.6742548227152336,
          0.9763233892497046,
          0.8214369752267061,
          0.8494264109004337,
          -0.3878781331543912,
          -0.6514852554195295,
          -1.8920663607417647,
          -0.8653341210591329,
          1.3075581912669738,
          0.7810217429948401,
          -0.7057405243063345,
          0.9652829915392097,
          0.21573636864042325,
          -0.3421430578373146,
          1.8610130200091133,
          -1.8794998483938055,
          0.7943304837877205,
          -0.053051118459419344,
          0.22410566547086927,
          0.07216085006027313,
          -0.2754955239090127,
          1.2590849074647348,
          1.0139736758249545,
          0.05570390346374175,
          -0.7690113262533337,
          2.1803261836384222,
          -0.7940812816209243,
          -1.1111128259709735,
          -0.3106265064956946,
          -0.026017216185092323,
          0.08661658866512632,
          -0.4717446856472977,
          0.0449965557198526,
          0.6638303748533824,
          0.25766663740266194,
          -0.6957389173560475,
          1.5120781751025285,
          0.6983516103179237
         ],
         "yaxis": "y7"
        },
        {
         "line": {
          "color": "rgba(128, 128, 128, 1.0)",
          "dash": "solid",
          "shape": "linear",
          "width": 1.3
         },
         "marker": {
          "size": 2,
          "symbol": "circle"
         },
         "mode": "markers",
         "name": "B",
         "text": "",
         "type": "scatter",
         "x": [
          -1.4824837499244081,
          -1.6378759904591504,
          -0.7326854957473273,
          -0.10550829105630619,
          -0.06991350159311006,
          0.46163763597263535,
          0.6004277107442788,
          0.39676296852325393,
          0.48288648043382,
          -1.6077837536067379,
          1.9386209836363804,
          0.7193966124404083,
          0.6311036516809552,
          -0.66021129157521,
          -0.8326032928453405,
          -0.45698882511325306,
          0.7368609508803521,
          0.6799541405694176,
          1.1105561940094641,
          1.0413711496143612,
          0.230439276257338,
          1.619399446733085,
          -0.2552239243728746,
          0.5718800408477457,
          -0.8106945893565702,
          -0.14545456549034066,
          -2.0392666801115684,
          -0.26806053833991905,
          -1.9210744740220125,
          1.4756213242041665,
          0.31139315447033383,
          -2.396823658888235,
          1.1974944254877904,
          0.9413978277969611,
          -2.577206952185167,
          1.1224890080897332,
          0.40618149122564207,
          1.2161981884750508,
          0.008953323559096064,
          0.07358259777689787,
          -0.3386919303123021,
          0.6630157763838277,
          0.5061288843568232,
          -0.6679659295985579,
          -1.0165535350553254,
          -0.2591339080864048,
          1.3430897920882647,
          -0.4486049234063091,
          3.139981087756818,
          0.30466861631842845,
          -0.5235439773795593,
          -0.3730989800904381,
          1.1920474220833062,
          0.11399599805152362,
          1.475375600003024,
          -0.4220684689790923,
          -1.1624893746214093,
          -1.8680872294454245,
          0.3838698413367046,
          1.7844036544735724,
          0.9383329993184499,
          0.3762429818126024,
          0.8629274833359641,
          0.11236342274731556,
          0.11182647169785713,
          0.05797682876587672,
          1.1898895052028797,
          1.5675532609104892,
          -1.3437750048468564,
          -0.3750533216879752,
          0.5800973230827036,
          -0.3228853202727669,
          0.5754027685683331,
          0.3988488178053489,
          -0.9021493253552805,
          -0.4727531209574199,
          2.073525090198343,
          -0.5956824782786153,
          -0.7175313463748774,
          -0.28584859429294823,
          1.4139676176621516,
          0.998735673189787,
          -0.13359127727415754,
          0.39837527281682855,
          -1.2772074278830792,
          -1.0207846187390759,
          -1.0621193282470969,
          0.519605188124482,
          -0.5371215088488999,
          -0.5474053178339106,
          1.0877773289297972,
          1.617424588262552,
          -3.0834156610107017,
          0.651466772014326,
          0.4128791893328902,
          0.5993012622530658,
          1.2372903649733404,
          -0.23562990778944215,
          0.10524843776164242,
          -0.13106830823608387
         ],
         "xaxis": "x8",
         "y": [
          2.0212488155738875,
          0.7583096657857158,
          0.690456279047033,
          -0.5336253666583853,
          -0.3444448261782787,
          -1.5007167350721706,
          1.47417272332828,
          0.7224922054456843,
          -0.9523322732880294,
          -1.2007521411285247,
          0.17977885829835624,
          -0.3993877007738916,
          -0.03594024055892166,
          0.43672348288119245,
          -0.40696742781349027,
          0.2134293668056055,
          1.7803668779864803,
          -0.39022504742482833,
          -1.6383548443486666,
          -2.285357617815566,
          0.44741158825359245,
          -0.2927635506639341,
          0.4136368844636603,
          0.8078711083943342,
          0.2884092876798255,
          0.4949136350960853,
          0.7503925352077869,
          -0.8731681678867933,
          0.8061604124757041,
          0.27710798744893084,
          -0.1582208416581821,
          -0.9856087371450262,
          -0.11527233251929478,
          0.40375922576565254,
          0.06448225213737395,
          -1.335774942121669,
          -0.11807724370888023,
          -0.9794050934152908,
          -0.5149681326578647,
          0.8063573557471728,
          0.9979072896721226,
          0.7147261302748834,
          -0.5182821264572214,
          -3.1376785914728136,
          1.0311784055004873,
          -0.8132771291058926,
          0.18432068082792719,
          0.9237360904499204,
          0.30599407158319486,
          0.33507477440349753,
          0.07919280617985913,
          -0.4232933611080333,
          0.3558176377425486,
          -0.9263390939314984,
          -0.7665872434389798,
          0.725052038268612,
          1.1164035544920263,
          0.18244465783419295,
          -0.2816778377621261,
          -0.38687777851277577,
          0.7727005377999372,
          0.06711665722470082,
          0.6742548227152336,
          0.9763233892497046,
          0.8214369752267061,
          0.8494264109004337,
          -0.3878781331543912,
          -0.6514852554195295,
          -1.8920663607417647,
          -0.8653341210591329,
          1.3075581912669738,
          0.7810217429948401,
          -0.7057405243063345,
          0.9652829915392097,
          0.21573636864042325,
          -0.3421430578373146,
          1.8610130200091133,
          -1.8794998483938055,
          0.7943304837877205,
          -0.053051118459419344,
          0.22410566547086927,
          0.07216085006027313,
          -0.2754955239090127,
          1.2590849074647348,
          1.0139736758249545,
          0.05570390346374175,
          -0.7690113262533337,
          2.1803261836384222,
          -0.7940812816209243,
          -1.1111128259709735,
          -0.3106265064956946,
          -0.026017216185092323,
          0.08661658866512632,
          -0.4717446856472977,
          0.0449965557198526,
          0.6638303748533824,
          0.25766663740266194,
          -0.6957389173560475,
          1.5120781751025285,
          0.6983516103179237
         ],
         "yaxis": "y8"
        },
        {
         "line": {
          "color": "rgba(128, 128, 128, 1.0)",
          "dash": "solid",
          "shape": "linear",
          "width": 1.3
         },
         "marker": {
          "size": 2,
          "symbol": "circle"
         },
         "mode": "markers",
         "name": "C",
         "text": "",
         "type": "scatter",
         "x": [
          -0.761538621205789,
          -0.7095884634062892,
          -1.87542527271739,
          -0.5065020746548108,
          1.35496259011185,
          -0.026882085442824027,
          0.3970926315800366,
          0.07930693556886965,
          -0.41651464393472665,
          -2.1276514696138085,
          0.7820816143304232,
          -0.46474335159908536,
          -1.9107278629738271,
          -0.5851839091377247,
          -0.6977177817635527,
          -2.4805654165741604,
          0.30130380247970456,
          -1.2057408655541713,
          0.975851335324599,
          0.935008023807403,
          0.6521460449304588,
          -0.16948993321802375,
          -0.6290415454217887,
          1.8582365753048842,
          0.519562575788573,
          0.21804135002318595,
          -0.6493577537881481,
          -0.911446297830199,
          -0.21094657901329192,
          1.925812415310548,
          -0.8602460299440234,
          0.5127438996267528,
          0.8813742038543424,
          -0.13573916517822807,
          -0.9270599803167954,
          1.0650535344599334,
          -0.5460679312679347,
          1.0117070089099622,
          -0.9777694153477007,
          0.35845385850155465,
          -0.6132408377130129,
          0.10871499849728981,
          0.40127567610710363,
          -0.6487046715630305,
          -0.8973289755839094,
          -0.4771539232923262,
          1.4138765300447418,
          0.044259693659036675,
          1.2456282221444395,
          0.6788475597193058,
          -0.9965791035290003,
          0.1608038512426127,
          -1.7273251122882962,
          0.9478549448318161,
          0.1957383843350601,
          0.20494952842470757,
          0.8557551042032416,
          1.2239513555987374,
          -0.8418915016769701,
          -0.7584061431982285,
          1.038055563573445,
          -1.2160740963752874,
          -0.4973699854095074,
          -0.9284199605478466,
          -0.5289637024381451,
          0.6079527884027386,
          -1.281229580560239,
          -0.09569023796817881,
          0.4651359310332824,
          0.35533232231510486,
          0.7261215905295191,
          -1.0520852792461017,
          2.6876313437622183,
          -1.717725205859949,
          -0.9111405606483214,
          -0.29153549489613173,
          -0.5701590060528048,
          0.05584067025163339,
          -1.1098732423331124,
          -0.9036945129123467,
          0.4501068865111808,
          0.825544257138231,
          0.4653860586330535,
          -1.1603307220031898,
          2.2810419206827284,
          0.11951586146702434,
          -0.2861420901734789,
          -1.3116881377337695,
          -0.32994936800329144,
          0.6197776617277426,
          0.2583173154079452,
          -0.4729733090730053,
          -0.07433117747413986,
          0.6221367200900845,
          -0.6301195699345721,
          -1.05620362506392,
          -1.0813433380501374,
          -0.6526823581710206,
          -0.40308048066321017,
          -0.19307390859447687
         ],
         "xaxis": "x9",
         "y": [
          0.8699199414489964,
          0.1919528666269509,
          0.3093969885172038,
          -2.1924299710634836,
          -0.09404555027642499,
          -0.44616700382215535,
          0.5911062942320391,
          -0.11222987530467411,
          0.8221513863038997,
          -1.3394609024912,
          -0.6540966378140828,
          -2.647366214634456,
          -0.8261593146823648,
          -0.5282738221407467,
          2.2560010208169174,
          -0.8944809840239775,
          1.4404312774926151,
          1.0038948673282415,
          -1.4255621578921092,
          -2.021776176144868,
          0.3101462275885388,
          1.3172858612439269,
          -0.40206335140303734,
          0.35274271079727726,
          -1.1796864336025494,
          -0.8233313364450072,
          -0.761867615189702,
          0.9240591598013932,
          0.7929419871257162,
          -1.545191462344122,
          0.8436223213091736,
          -0.35451091835456444,
          -0.2662014706847725,
          -1.6596023876590735,
          -1.5411043743645112,
          0.4202935608374834,
          -0.04436248674158989,
          0.6214332168767712,
          1.313981241271157,
          -0.6021879466734257,
          -0.5099547957947055,
          0.07948533295588678,
          -2.36300982364451,
          -0.8380611399118977,
          0.15012427389306565,
          -0.6699640582887734,
          -0.7956055043928719,
          -0.049162235003456664,
          0.7615336899380856,
          0.4612575745415876,
          0.6350534238638107,
          0.20418876230882374,
          -0.03135271045951208,
          -1.6317632670428215,
          0.12824357341840992,
          -0.7754360680942636,
          0.592942313812262,
          -0.9810425893436158,
          -0.0552939096891739,
          -1.315533891912153,
          -2.6668417818822423,
          1.1112548065054297,
          -1.2239925033791574,
          -1.6701983878767488,
          -1.079857264546952,
          -1.755575016943559,
          0.23924537922112582,
          -1.1704140026544176,
          0.6016584057907969,
          -0.573849768968879,
          0.25647552760965664,
          1.579553752223997,
          1.3405315133765805,
          -0.1413395997516385,
          -0.39554037187911145,
          0.06823471847525044,
          -0.40089963995751504,
          0.9268459355904448,
          1.337994149408316,
          0.015134007930666256,
          0.5449210338723256,
          0.7239631740332934,
          0.2342370873421562,
          -0.8054791105937634,
          0.021720198485186568,
          -0.014231085668760987,
          1.1563184171040473,
          0.5366766020887849,
          -0.0973053665074751,
          1.268105194587903,
          -0.3475683830855135,
          -0.14844232446306793,
          -1.5293673671478056,
          0.018728084547423293,
          1.5098303205313615,
          0.28462750176330975,
          -0.1590669767758876,
          0.0426517799402289,
          -0.39120217870348256,
          1.0959531653469556
         ],
         "yaxis": "y9"
        },
        {
         "line": {
          "color": "rgba(128, 128, 128, 1.0)",
          "dash": "solid",
          "shape": "linear",
          "width": 1.3
         },
         "marker": {
          "size": 2,
          "symbol": "circle"
         },
         "mode": "markers",
         "name": "C",
         "text": "",
         "type": "scatter",
         "x": [
          2.0212488155738875,
          0.7583096657857158,
          0.690456279047033,
          -0.5336253666583853,
          -0.3444448261782787,
          -1.5007167350721706,
          1.47417272332828,
          0.7224922054456843,
          -0.9523322732880294,
          -1.2007521411285247,
          0.17977885829835624,
          -0.3993877007738916,
          -0.03594024055892166,
          0.43672348288119245,
          -0.40696742781349027,
          0.2134293668056055,
          1.7803668779864803,
          -0.39022504742482833,
          -1.6383548443486666,
          -2.285357617815566,
          0.44741158825359245,
          -0.2927635506639341,
          0.4136368844636603,
          0.8078711083943342,
          0.2884092876798255,
          0.4949136350960853,
          0.7503925352077869,
          -0.8731681678867933,
          0.8061604124757041,
          0.27710798744893084,
          -0.1582208416581821,
          -0.9856087371450262,
          -0.11527233251929478,
          0.40375922576565254,
          0.06448225213737395,
          -1.335774942121669,
          -0.11807724370888023,
          -0.9794050934152908,
          -0.5149681326578647,
          0.8063573557471728,
          0.9979072896721226,
          0.7147261302748834,
          -0.5182821264572214,
          -3.1376785914728136,
          1.0311784055004873,
          -0.8132771291058926,
          0.18432068082792719,
          0.9237360904499204,
          0.30599407158319486,
          0.33507477440349753,
          0.07919280617985913,
          -0.4232933611080333,
          0.3558176377425486,
          -0.9263390939314984,
          -0.7665872434389798,
          0.725052038268612,
          1.1164035544920263,
          0.18244465783419295,
          -0.2816778377621261,
          -0.38687777851277577,
          0.7727005377999372,
          0.06711665722470082,
          0.6742548227152336,
          0.9763233892497046,
          0.8214369752267061,
          0.8494264109004337,
          -0.3878781331543912,
          -0.6514852554195295,
          -1.8920663607417647,
          -0.8653341210591329,
          1.3075581912669738,
          0.7810217429948401,
          -0.7057405243063345,
          0.9652829915392097,
          0.21573636864042325,
          -0.3421430578373146,
          1.8610130200091133,
          -1.8794998483938055,
          0.7943304837877205,
          -0.053051118459419344,
          0.22410566547086927,
          0.07216085006027313,
          -0.2754955239090127,
          1.2590849074647348,
          1.0139736758249545,
          0.05570390346374175,
          -0.7690113262533337,
          2.1803261836384222,
          -0.7940812816209243,
          -1.1111128259709735,
          -0.3106265064956946,
          -0.026017216185092323,
          0.08661658866512632,
          -0.4717446856472977,
          0.0449965557198526,
          0.6638303748533824,
          0.25766663740266194,
          -0.6957389173560475,
          1.5120781751025285,
          0.6983516103179237
         ],
         "xaxis": "x10",
         "y": [
          0.8699199414489964,
          0.1919528666269509,
          0.3093969885172038,
          -2.1924299710634836,
          -0.09404555027642499,
          -0.44616700382215535,
          0.5911062942320391,
          -0.11222987530467411,
          0.8221513863038997,
          -1.3394609024912,
          -0.6540966378140828,
          -2.647366214634456,
          -0.8261593146823648,
          -0.5282738221407467,
          2.2560010208169174,
          -0.8944809840239775,
          1.4404312774926151,
          1.0038948673282415,
          -1.4255621578921092,
          -2.021776176144868,
          0.3101462275885388,
          1.3172858612439269,
          -0.40206335140303734,
          0.35274271079727726,
          -1.1796864336025494,
          -0.8233313364450072,
          -0.761867615189702,
          0.9240591598013932,
          0.7929419871257162,
          -1.545191462344122,
          0.8436223213091736,
          -0.35451091835456444,
          -0.2662014706847725,
          -1.6596023876590735,
          -1.5411043743645112,
          0.4202935608374834,
          -0.04436248674158989,
          0.6214332168767712,
          1.313981241271157,
          -0.6021879466734257,
          -0.5099547957947055,
          0.07948533295588678,
          -2.36300982364451,
          -0.8380611399118977,
          0.15012427389306565,
          -0.6699640582887734,
          -0.7956055043928719,
          -0.049162235003456664,
          0.7615336899380856,
          0.4612575745415876,
          0.6350534238638107,
          0.20418876230882374,
          -0.03135271045951208,
          -1.6317632670428215,
          0.12824357341840992,
          -0.7754360680942636,
          0.592942313812262,
          -0.9810425893436158,
          -0.0552939096891739,
          -1.315533891912153,
          -2.6668417818822423,
          1.1112548065054297,
          -1.2239925033791574,
          -1.6701983878767488,
          -1.079857264546952,
          -1.755575016943559,
          0.23924537922112582,
          -1.1704140026544176,
          0.6016584057907969,
          -0.573849768968879,
          0.25647552760965664,
          1.579553752223997,
          1.3405315133765805,
          -0.1413395997516385,
          -0.39554037187911145,
          0.06823471847525044,
          -0.40089963995751504,
          0.9268459355904448,
          1.337994149408316,
          0.015134007930666256,
          0.5449210338723256,
          0.7239631740332934,
          0.2342370873421562,
          -0.8054791105937634,
          0.021720198485186568,
          -0.014231085668760987,
          1.1563184171040473,
          0.5366766020887849,
          -0.0973053665074751,
          1.268105194587903,
          -0.3475683830855135,
          -0.14844232446306793,
          -1.5293673671478056,
          0.018728084547423293,
          1.5098303205313615,
          0.28462750176330975,
          -0.1590669767758876,
          0.0426517799402289,
          -0.39120217870348256,
          1.0959531653469556
         ],
         "yaxis": "y10"
        },
        {
         "histfunc": "count",
         "histnorm": "",
         "marker": {
          "color": "rgba(50, 171, 96, 1.0)",
          "line": {
           "color": "#4D5663",
           "width": 1.3
          }
         },
         "name": "C",
         "nbinsx": 10,
         "opacity": 0.8,
         "orientation": "v",
         "type": "histogram",
         "x": [
          0.8699199414489964,
          0.1919528666269509,
          0.3093969885172038,
          -2.1924299710634836,
          -0.09404555027642499,
          -0.44616700382215535,
          0.5911062942320391,
          -0.11222987530467411,
          0.8221513863038997,
          -1.3394609024912,
          -0.6540966378140828,
          -2.647366214634456,
          -0.8261593146823648,
          -0.5282738221407467,
          2.2560010208169174,
          -0.8944809840239775,
          1.4404312774926151,
          1.0038948673282415,
          -1.4255621578921092,
          -2.021776176144868,
          0.3101462275885388,
          1.3172858612439269,
          -0.40206335140303734,
          0.35274271079727726,
          -1.1796864336025494,
          -0.8233313364450072,
          -0.761867615189702,
          0.9240591598013932,
          0.7929419871257162,
          -1.545191462344122,
          0.8436223213091736,
          -0.35451091835456444,
          -0.2662014706847725,
          -1.6596023876590735,
          -1.5411043743645112,
          0.4202935608374834,
          -0.04436248674158989,
          0.6214332168767712,
          1.313981241271157,
          -0.6021879466734257,
          -0.5099547957947055,
          0.07948533295588678,
          -2.36300982364451,
          -0.8380611399118977,
          0.15012427389306565,
          -0.6699640582887734,
          -0.7956055043928719,
          -0.049162235003456664,
          0.7615336899380856,
          0.4612575745415876,
          0.6350534238638107,
          0.20418876230882374,
          -0.03135271045951208,
          -1.6317632670428215,
          0.12824357341840992,
          -0.7754360680942636,
          0.592942313812262,
          -0.9810425893436158,
          -0.0552939096891739,
          -1.315533891912153,
          -2.6668417818822423,
          1.1112548065054297,
          -1.2239925033791574,
          -1.6701983878767488,
          -1.079857264546952,
          -1.755575016943559,
          0.23924537922112582,
          -1.1704140026544176,
          0.6016584057907969,
          -0.573849768968879,
          0.25647552760965664,
          1.579553752223997,
          1.3405315133765805,
          -0.1413395997516385,
          -0.39554037187911145,
          0.06823471847525044,
          -0.40089963995751504,
          0.9268459355904448,
          1.337994149408316,
          0.015134007930666256,
          0.5449210338723256,
          0.7239631740332934,
          0.2342370873421562,
          -0.8054791105937634,
          0.021720198485186568,
          -0.014231085668760987,
          1.1563184171040473,
          0.5366766020887849,
          -0.0973053665074751,
          1.268105194587903,
          -0.3475683830855135,
          -0.14844232446306793,
          -1.5293673671478056,
          0.018728084547423293,
          1.5098303205313615,
          0.28462750176330975,
          -0.1590669767758876,
          0.0426517799402289,
          -0.39120217870348256,
          1.0959531653469556
         ],
         "xaxis": "x11",
         "yaxis": "y11"
        },
        {
         "line": {
          "color": "rgba(128, 128, 128, 1.0)",
          "dash": "solid",
          "shape": "linear",
          "width": 1.3
         },
         "marker": {
          "size": 2,
          "symbol": "circle"
         },
         "mode": "markers",
         "name": "C",
         "text": "",
         "type": "scatter",
         "x": [
          -1.4824837499244081,
          -1.6378759904591504,
          -0.7326854957473273,
          -0.10550829105630619,
          -0.06991350159311006,
          0.46163763597263535,
          0.6004277107442788,
          0.39676296852325393,
          0.48288648043382,
          -1.6077837536067379,
          1.9386209836363804,
          0.7193966124404083,
          0.6311036516809552,
          -0.66021129157521,
          -0.8326032928453405,
          -0.45698882511325306,
          0.7368609508803521,
          0.6799541405694176,
          1.1105561940094641,
          1.0413711496143612,
          0.230439276257338,
          1.619399446733085,
          -0.2552239243728746,
          0.5718800408477457,
          -0.8106945893565702,
          -0.14545456549034066,
          -2.0392666801115684,
          -0.26806053833991905,
          -1.9210744740220125,
          1.4756213242041665,
          0.31139315447033383,
          -2.396823658888235,
          1.1974944254877904,
          0.9413978277969611,
          -2.577206952185167,
          1.1224890080897332,
          0.40618149122564207,
          1.2161981884750508,
          0.008953323559096064,
          0.07358259777689787,
          -0.3386919303123021,
          0.6630157763838277,
          0.5061288843568232,
          -0.6679659295985579,
          -1.0165535350553254,
          -0.2591339080864048,
          1.3430897920882647,
          -0.4486049234063091,
          3.139981087756818,
          0.30466861631842845,
          -0.5235439773795593,
          -0.3730989800904381,
          1.1920474220833062,
          0.11399599805152362,
          1.475375600003024,
          -0.4220684689790923,
          -1.1624893746214093,
          -1.8680872294454245,
          0.3838698413367046,
          1.7844036544735724,
          0.9383329993184499,
          0.3762429818126024,
          0.8629274833359641,
          0.11236342274731556,
          0.11182647169785713,
          0.05797682876587672,
          1.1898895052028797,
          1.5675532609104892,
          -1.3437750048468564,
          -0.3750533216879752,
          0.5800973230827036,
          -0.3228853202727669,
          0.5754027685683331,
          0.3988488178053489,
          -0.9021493253552805,
          -0.4727531209574199,
          2.073525090198343,
          -0.5956824782786153,
          -0.7175313463748774,
          -0.28584859429294823,
          1.4139676176621516,
          0.998735673189787,
          -0.13359127727415754,
          0.39837527281682855,
          -1.2772074278830792,
          -1.0207846187390759,
          -1.0621193282470969,
          0.519605188124482,
          -0.5371215088488999,
          -0.5474053178339106,
          1.0877773289297972,
          1.617424588262552,
          -3.0834156610107017,
          0.651466772014326,
          0.4128791893328902,
          0.5993012622530658,
          1.2372903649733404,
          -0.23562990778944215,
          0.10524843776164242,
          -0.13106830823608387
         ],
         "xaxis": "x12",
         "y": [
          0.8699199414489964,
          0.1919528666269509,
          0.3093969885172038,
          -2.1924299710634836,
          -0.09404555027642499,
          -0.44616700382215535,
          0.5911062942320391,
          -0.11222987530467411,
          0.8221513863038997,
          -1.3394609024912,
          -0.6540966378140828,
          -2.647366214634456,
          -0.8261593146823648,
          -0.5282738221407467,
          2.2560010208169174,
          -0.8944809840239775,
          1.4404312774926151,
          1.0038948673282415,
          -1.4255621578921092,
          -2.021776176144868,
          0.3101462275885388,
          1.3172858612439269,
          -0.40206335140303734,
          0.35274271079727726,
          -1.1796864336025494,
          -0.8233313364450072,
          -0.761867615189702,
          0.9240591598013932,
          0.7929419871257162,
          -1.545191462344122,
          0.8436223213091736,
          -0.35451091835456444,
          -0.2662014706847725,
          -1.6596023876590735,
          -1.5411043743645112,
          0.4202935608374834,
          -0.04436248674158989,
          0.6214332168767712,
          1.313981241271157,
          -0.6021879466734257,
          -0.5099547957947055,
          0.07948533295588678,
          -2.36300982364451,
          -0.8380611399118977,
          0.15012427389306565,
          -0.6699640582887734,
          -0.7956055043928719,
          -0.049162235003456664,
          0.7615336899380856,
          0.4612575745415876,
          0.6350534238638107,
          0.20418876230882374,
          -0.03135271045951208,
          -1.6317632670428215,
          0.12824357341840992,
          -0.7754360680942636,
          0.592942313812262,
          -0.9810425893436158,
          -0.0552939096891739,
          -1.315533891912153,
          -2.6668417818822423,
          1.1112548065054297,
          -1.2239925033791574,
          -1.6701983878767488,
          -1.079857264546952,
          -1.755575016943559,
          0.23924537922112582,
          -1.1704140026544176,
          0.6016584057907969,
          -0.573849768968879,
          0.25647552760965664,
          1.579553752223997,
          1.3405315133765805,
          -0.1413395997516385,
          -0.39554037187911145,
          0.06823471847525044,
          -0.40089963995751504,
          0.9268459355904448,
          1.337994149408316,
          0.015134007930666256,
          0.5449210338723256,
          0.7239631740332934,
          0.2342370873421562,
          -0.8054791105937634,
          0.021720198485186568,
          -0.014231085668760987,
          1.1563184171040473,
          0.5366766020887849,
          -0.0973053665074751,
          1.268105194587903,
          -0.3475683830855135,
          -0.14844232446306793,
          -1.5293673671478056,
          0.018728084547423293,
          1.5098303205313615,
          0.28462750176330975,
          -0.1590669767758876,
          0.0426517799402289,
          -0.39120217870348256,
          1.0959531653469556
         ],
         "yaxis": "y12"
        },
        {
         "line": {
          "color": "rgba(128, 128, 128, 1.0)",
          "dash": "solid",
          "shape": "linear",
          "width": 1.3
         },
         "marker": {
          "size": 2,
          "symbol": "circle"
         },
         "mode": "markers",
         "name": "D",
         "text": "",
         "type": "scatter",
         "x": [
          -0.761538621205789,
          -0.7095884634062892,
          -1.87542527271739,
          -0.5065020746548108,
          1.35496259011185,
          -0.026882085442824027,
          0.3970926315800366,
          0.07930693556886965,
          -0.41651464393472665,
          -2.1276514696138085,
          0.7820816143304232,
          -0.46474335159908536,
          -1.9107278629738271,
          -0.5851839091377247,
          -0.6977177817635527,
          -2.4805654165741604,
          0.30130380247970456,
          -1.2057408655541713,
          0.975851335324599,
          0.935008023807403,
          0.6521460449304588,
          -0.16948993321802375,
          -0.6290415454217887,
          1.8582365753048842,
          0.519562575788573,
          0.21804135002318595,
          -0.6493577537881481,
          -0.911446297830199,
          -0.21094657901329192,
          1.925812415310548,
          -0.8602460299440234,
          0.5127438996267528,
          0.8813742038543424,
          -0.13573916517822807,
          -0.9270599803167954,
          1.0650535344599334,
          -0.5460679312679347,
          1.0117070089099622,
          -0.9777694153477007,
          0.35845385850155465,
          -0.6132408377130129,
          0.10871499849728981,
          0.40127567610710363,
          -0.6487046715630305,
          -0.8973289755839094,
          -0.4771539232923262,
          1.4138765300447418,
          0.044259693659036675,
          1.2456282221444395,
          0.6788475597193058,
          -0.9965791035290003,
          0.1608038512426127,
          -1.7273251122882962,
          0.9478549448318161,
          0.1957383843350601,
          0.20494952842470757,
          0.8557551042032416,
          1.2239513555987374,
          -0.8418915016769701,
          -0.7584061431982285,
          1.038055563573445,
          -1.2160740963752874,
          -0.4973699854095074,
          -0.9284199605478466,
          -0.5289637024381451,
          0.6079527884027386,
          -1.281229580560239,
          -0.09569023796817881,
          0.4651359310332824,
          0.35533232231510486,
          0.7261215905295191,
          -1.0520852792461017,
          2.6876313437622183,
          -1.717725205859949,
          -0.9111405606483214,
          -0.29153549489613173,
          -0.5701590060528048,
          0.05584067025163339,
          -1.1098732423331124,
          -0.9036945129123467,
          0.4501068865111808,
          0.825544257138231,
          0.4653860586330535,
          -1.1603307220031898,
          2.2810419206827284,
          0.11951586146702434,
          -0.2861420901734789,
          -1.3116881377337695,
          -0.32994936800329144,
          0.6197776617277426,
          0.2583173154079452,
          -0.4729733090730053,
          -0.07433117747413986,
          0.6221367200900845,
          -0.6301195699345721,
          -1.05620362506392,
          -1.0813433380501374,
          -0.6526823581710206,
          -0.40308048066321017,
          -0.19307390859447687
         ],
         "xaxis": "x13",
         "y": [
          -1.4824837499244081,
          -1.6378759904591504,
          -0.7326854957473273,
          -0.10550829105630619,
          -0.06991350159311006,
          0.46163763597263535,
          0.6004277107442788,
          0.39676296852325393,
          0.48288648043382,
          -1.6077837536067379,
          1.9386209836363804,
          0.7193966124404083,
          0.6311036516809552,
          -0.66021129157521,
          -0.8326032928453405,
          -0.45698882511325306,
          0.7368609508803521,
          0.6799541405694176,
          1.1105561940094641,
          1.0413711496143612,
          0.230439276257338,
          1.619399446733085,
          -0.2552239243728746,
          0.5718800408477457,
          -0.8106945893565702,
          -0.14545456549034066,
          -2.0392666801115684,
          -0.26806053833991905,
          -1.9210744740220125,
          1.4756213242041665,
          0.31139315447033383,
          -2.396823658888235,
          1.1974944254877904,
          0.9413978277969611,
          -2.577206952185167,
          1.1224890080897332,
          0.40618149122564207,
          1.2161981884750508,
          0.008953323559096064,
          0.07358259777689787,
          -0.3386919303123021,
          0.6630157763838277,
          0.5061288843568232,
          -0.6679659295985579,
          -1.0165535350553254,
          -0.2591339080864048,
          1.3430897920882647,
          -0.4486049234063091,
          3.139981087756818,
          0.30466861631842845,
          -0.5235439773795593,
          -0.3730989800904381,
          1.1920474220833062,
          0.11399599805152362,
          1.475375600003024,
          -0.4220684689790923,
          -1.1624893746214093,
          -1.8680872294454245,
          0.3838698413367046,
          1.7844036544735724,
          0.9383329993184499,
          0.3762429818126024,
          0.8629274833359641,
          0.11236342274731556,
          0.11182647169785713,
          0.05797682876587672,
          1.1898895052028797,
          1.5675532609104892,
          -1.3437750048468564,
          -0.3750533216879752,
          0.5800973230827036,
          -0.3228853202727669,
          0.5754027685683331,
          0.3988488178053489,
          -0.9021493253552805,
          -0.4727531209574199,
          2.073525090198343,
          -0.5956824782786153,
          -0.7175313463748774,
          -0.28584859429294823,
          1.4139676176621516,
          0.998735673189787,
          -0.13359127727415754,
          0.39837527281682855,
          -1.2772074278830792,
          -1.0207846187390759,
          -1.0621193282470969,
          0.519605188124482,
          -0.5371215088488999,
          -0.5474053178339106,
          1.0877773289297972,
          1.617424588262552,
          -3.0834156610107017,
          0.651466772014326,
          0.4128791893328902,
          0.5993012622530658,
          1.2372903649733404,
          -0.23562990778944215,
          0.10524843776164242,
          -0.13106830823608387
         ],
         "yaxis": "y13"
        },
        {
         "line": {
          "color": "rgba(128, 128, 128, 1.0)",
          "dash": "solid",
          "shape": "linear",
          "width": 1.3
         },
         "marker": {
          "size": 2,
          "symbol": "circle"
         },
         "mode": "markers",
         "name": "D",
         "text": "",
         "type": "scatter",
         "x": [
          2.0212488155738875,
          0.7583096657857158,
          0.690456279047033,
          -0.5336253666583853,
          -0.3444448261782787,
          -1.5007167350721706,
          1.47417272332828,
          0.7224922054456843,
          -0.9523322732880294,
          -1.2007521411285247,
          0.17977885829835624,
          -0.3993877007738916,
          -0.03594024055892166,
          0.43672348288119245,
          -0.40696742781349027,
          0.2134293668056055,
          1.7803668779864803,
          -0.39022504742482833,
          -1.6383548443486666,
          -2.285357617815566,
          0.44741158825359245,
          -0.2927635506639341,
          0.4136368844636603,
          0.8078711083943342,
          0.2884092876798255,
          0.4949136350960853,
          0.7503925352077869,
          -0.8731681678867933,
          0.8061604124757041,
          0.27710798744893084,
          -0.1582208416581821,
          -0.9856087371450262,
          -0.11527233251929478,
          0.40375922576565254,
          0.06448225213737395,
          -1.335774942121669,
          -0.11807724370888023,
          -0.9794050934152908,
          -0.5149681326578647,
          0.8063573557471728,
          0.9979072896721226,
          0.7147261302748834,
          -0.5182821264572214,
          -3.1376785914728136,
          1.0311784055004873,
          -0.8132771291058926,
          0.18432068082792719,
          0.9237360904499204,
          0.30599407158319486,
          0.33507477440349753,
          0.07919280617985913,
          -0.4232933611080333,
          0.3558176377425486,
          -0.9263390939314984,
          -0.7665872434389798,
          0.725052038268612,
          1.1164035544920263,
          0.18244465783419295,
          -0.2816778377621261,
          -0.38687777851277577,
          0.7727005377999372,
          0.06711665722470082,
          0.6742548227152336,
          0.9763233892497046,
          0.8214369752267061,
          0.8494264109004337,
          -0.3878781331543912,
          -0.6514852554195295,
          -1.8920663607417647,
          -0.8653341210591329,
          1.3075581912669738,
          0.7810217429948401,
          -0.7057405243063345,
          0.9652829915392097,
          0.21573636864042325,
          -0.3421430578373146,
          1.8610130200091133,
          -1.8794998483938055,
          0.7943304837877205,
          -0.053051118459419344,
          0.22410566547086927,
          0.07216085006027313,
          -0.2754955239090127,
          1.2590849074647348,
          1.0139736758249545,
          0.05570390346374175,
          -0.7690113262533337,
          2.1803261836384222,
          -0.7940812816209243,
          -1.1111128259709735,
          -0.3106265064956946,
          -0.026017216185092323,
          0.08661658866512632,
          -0.4717446856472977,
          0.0449965557198526,
          0.6638303748533824,
          0.25766663740266194,
          -0.6957389173560475,
          1.5120781751025285,
          0.6983516103179237
         ],
         "xaxis": "x14",
         "y": [
          -1.4824837499244081,
          -1.6378759904591504,
          -0.7326854957473273,
          -0.10550829105630619,
          -0.06991350159311006,
          0.46163763597263535,
          0.6004277107442788,
          0.39676296852325393,
          0.48288648043382,
          -1.6077837536067379,
          1.9386209836363804,
          0.7193966124404083,
          0.6311036516809552,
          -0.66021129157521,
          -0.8326032928453405,
          -0.45698882511325306,
          0.7368609508803521,
          0.6799541405694176,
          1.1105561940094641,
          1.0413711496143612,
          0.230439276257338,
          1.619399446733085,
          -0.2552239243728746,
          0.5718800408477457,
          -0.8106945893565702,
          -0.14545456549034066,
          -2.0392666801115684,
          -0.26806053833991905,
          -1.9210744740220125,
          1.4756213242041665,
          0.31139315447033383,
          -2.396823658888235,
          1.1974944254877904,
          0.9413978277969611,
          -2.577206952185167,
          1.1224890080897332,
          0.40618149122564207,
          1.2161981884750508,
          0.008953323559096064,
          0.07358259777689787,
          -0.3386919303123021,
          0.6630157763838277,
          0.5061288843568232,
          -0.6679659295985579,
          -1.0165535350553254,
          -0.2591339080864048,
          1.3430897920882647,
          -0.4486049234063091,
          3.139981087756818,
          0.30466861631842845,
          -0.5235439773795593,
          -0.3730989800904381,
          1.1920474220833062,
          0.11399599805152362,
          1.475375600003024,
          -0.4220684689790923,
          -1.1624893746214093,
          -1.8680872294454245,
          0.3838698413367046,
          1.7844036544735724,
          0.9383329993184499,
          0.3762429818126024,
          0.8629274833359641,
          0.11236342274731556,
          0.11182647169785713,
          0.05797682876587672,
          1.1898895052028797,
          1.5675532609104892,
          -1.3437750048468564,
          -0.3750533216879752,
          0.5800973230827036,
          -0.3228853202727669,
          0.5754027685683331,
          0.3988488178053489,
          -0.9021493253552805,
          -0.4727531209574199,
          2.073525090198343,
          -0.5956824782786153,
          -0.7175313463748774,
          -0.28584859429294823,
          1.4139676176621516,
          0.998735673189787,
          -0.13359127727415754,
          0.39837527281682855,
          -1.2772074278830792,
          -1.0207846187390759,
          -1.0621193282470969,
          0.519605188124482,
          -0.5371215088488999,
          -0.5474053178339106,
          1.0877773289297972,
          1.617424588262552,
          -3.0834156610107017,
          0.651466772014326,
          0.4128791893328902,
          0.5993012622530658,
          1.2372903649733404,
          -0.23562990778944215,
          0.10524843776164242,
          -0.13106830823608387
         ],
         "yaxis": "y14"
        },
        {
         "line": {
          "color": "rgba(128, 128, 128, 1.0)",
          "dash": "solid",
          "shape": "linear",
          "width": 1.3
         },
         "marker": {
          "size": 2,
          "symbol": "circle"
         },
         "mode": "markers",
         "name": "D",
         "text": "",
         "type": "scatter",
         "x": [
          0.8699199414489964,
          0.1919528666269509,
          0.3093969885172038,
          -2.1924299710634836,
          -0.09404555027642499,
          -0.44616700382215535,
          0.5911062942320391,
          -0.11222987530467411,
          0.8221513863038997,
          -1.3394609024912,
          -0.6540966378140828,
          -2.647366214634456,
          -0.8261593146823648,
          -0.5282738221407467,
          2.2560010208169174,
          -0.8944809840239775,
          1.4404312774926151,
          1.0038948673282415,
          -1.4255621578921092,
          -2.021776176144868,
          0.3101462275885388,
          1.3172858612439269,
          -0.40206335140303734,
          0.35274271079727726,
          -1.1796864336025494,
          -0.8233313364450072,
          -0.761867615189702,
          0.9240591598013932,
          0.7929419871257162,
          -1.545191462344122,
          0.8436223213091736,
          -0.35451091835456444,
          -0.2662014706847725,
          -1.6596023876590735,
          -1.5411043743645112,
          0.4202935608374834,
          -0.04436248674158989,
          0.6214332168767712,
          1.313981241271157,
          -0.6021879466734257,
          -0.5099547957947055,
          0.07948533295588678,
          -2.36300982364451,
          -0.8380611399118977,
          0.15012427389306565,
          -0.6699640582887734,
          -0.7956055043928719,
          -0.049162235003456664,
          0.7615336899380856,
          0.4612575745415876,
          0.6350534238638107,
          0.20418876230882374,
          -0.03135271045951208,
          -1.6317632670428215,
          0.12824357341840992,
          -0.7754360680942636,
          0.592942313812262,
          -0.9810425893436158,
          -0.0552939096891739,
          -1.315533891912153,
          -2.6668417818822423,
          1.1112548065054297,
          -1.2239925033791574,
          -1.6701983878767488,
          -1.079857264546952,
          -1.755575016943559,
          0.23924537922112582,
          -1.1704140026544176,
          0.6016584057907969,
          -0.573849768968879,
          0.25647552760965664,
          1.579553752223997,
          1.3405315133765805,
          -0.1413395997516385,
          -0.39554037187911145,
          0.06823471847525044,
          -0.40089963995751504,
          0.9268459355904448,
          1.337994149408316,
          0.015134007930666256,
          0.5449210338723256,
          0.7239631740332934,
          0.2342370873421562,
          -0.8054791105937634,
          0.021720198485186568,
          -0.014231085668760987,
          1.1563184171040473,
          0.5366766020887849,
          -0.0973053665074751,
          1.268105194587903,
          -0.3475683830855135,
          -0.14844232446306793,
          -1.5293673671478056,
          0.018728084547423293,
          1.5098303205313615,
          0.28462750176330975,
          -0.1590669767758876,
          0.0426517799402289,
          -0.39120217870348256,
          1.0959531653469556
         ],
         "xaxis": "x15",
         "y": [
          -1.4824837499244081,
          -1.6378759904591504,
          -0.7326854957473273,
          -0.10550829105630619,
          -0.06991350159311006,
          0.46163763597263535,
          0.6004277107442788,
          0.39676296852325393,
          0.48288648043382,
          -1.6077837536067379,
          1.9386209836363804,
          0.7193966124404083,
          0.6311036516809552,
          -0.66021129157521,
          -0.8326032928453405,
          -0.45698882511325306,
          0.7368609508803521,
          0.6799541405694176,
          1.1105561940094641,
          1.0413711496143612,
          0.230439276257338,
          1.619399446733085,
          -0.2552239243728746,
          0.5718800408477457,
          -0.8106945893565702,
          -0.14545456549034066,
          -2.0392666801115684,
          -0.26806053833991905,
          -1.9210744740220125,
          1.4756213242041665,
          0.31139315447033383,
          -2.396823658888235,
          1.1974944254877904,
          0.9413978277969611,
          -2.577206952185167,
          1.1224890080897332,
          0.40618149122564207,
          1.2161981884750508,
          0.008953323559096064,
          0.07358259777689787,
          -0.3386919303123021,
          0.6630157763838277,
          0.5061288843568232,
          -0.6679659295985579,
          -1.0165535350553254,
          -0.2591339080864048,
          1.3430897920882647,
          -0.4486049234063091,
          3.139981087756818,
          0.30466861631842845,
          -0.5235439773795593,
          -0.3730989800904381,
          1.1920474220833062,
          0.11399599805152362,
          1.475375600003024,
          -0.4220684689790923,
          -1.1624893746214093,
          -1.8680872294454245,
          0.3838698413367046,
          1.7844036544735724,
          0.9383329993184499,
          0.3762429818126024,
          0.8629274833359641,
          0.11236342274731556,
          0.11182647169785713,
          0.05797682876587672,
          1.1898895052028797,
          1.5675532609104892,
          -1.3437750048468564,
          -0.3750533216879752,
          0.5800973230827036,
          -0.3228853202727669,
          0.5754027685683331,
          0.3988488178053489,
          -0.9021493253552805,
          -0.4727531209574199,
          2.073525090198343,
          -0.5956824782786153,
          -0.7175313463748774,
          -0.28584859429294823,
          1.4139676176621516,
          0.998735673189787,
          -0.13359127727415754,
          0.39837527281682855,
          -1.2772074278830792,
          -1.0207846187390759,
          -1.0621193282470969,
          0.519605188124482,
          -0.5371215088488999,
          -0.5474053178339106,
          1.0877773289297972,
          1.617424588262552,
          -3.0834156610107017,
          0.651466772014326,
          0.4128791893328902,
          0.5993012622530658,
          1.2372903649733404,
          -0.23562990778944215,
          0.10524843776164242,
          -0.13106830823608387
         ],
         "yaxis": "y15"
        },
        {
         "histfunc": "count",
         "histnorm": "",
         "marker": {
          "color": "rgba(128, 0, 128, 1.0)",
          "line": {
           "color": "#4D5663",
           "width": 1.3
          }
         },
         "name": "D",
         "nbinsx": 10,
         "opacity": 0.8,
         "orientation": "v",
         "type": "histogram",
         "x": [
          -1.4824837499244081,
          -1.6378759904591504,
          -0.7326854957473273,
          -0.10550829105630619,
          -0.06991350159311006,
          0.46163763597263535,
          0.6004277107442788,
          0.39676296852325393,
          0.48288648043382,
          -1.6077837536067379,
          1.9386209836363804,
          0.7193966124404083,
          0.6311036516809552,
          -0.66021129157521,
          -0.8326032928453405,
          -0.45698882511325306,
          0.7368609508803521,
          0.6799541405694176,
          1.1105561940094641,
          1.0413711496143612,
          0.230439276257338,
          1.619399446733085,
          -0.2552239243728746,
          0.5718800408477457,
          -0.8106945893565702,
          -0.14545456549034066,
          -2.0392666801115684,
          -0.26806053833991905,
          -1.9210744740220125,
          1.4756213242041665,
          0.31139315447033383,
          -2.396823658888235,
          1.1974944254877904,
          0.9413978277969611,
          -2.577206952185167,
          1.1224890080897332,
          0.40618149122564207,
          1.2161981884750508,
          0.008953323559096064,
          0.07358259777689787,
          -0.3386919303123021,
          0.6630157763838277,
          0.5061288843568232,
          -0.6679659295985579,
          -1.0165535350553254,
          -0.2591339080864048,
          1.3430897920882647,
          -0.4486049234063091,
          3.139981087756818,
          0.30466861631842845,
          -0.5235439773795593,
          -0.3730989800904381,
          1.1920474220833062,
          0.11399599805152362,
          1.475375600003024,
          -0.4220684689790923,
          -1.1624893746214093,
          -1.8680872294454245,
          0.3838698413367046,
          1.7844036544735724,
          0.9383329993184499,
          0.3762429818126024,
          0.8629274833359641,
          0.11236342274731556,
          0.11182647169785713,
          0.05797682876587672,
          1.1898895052028797,
          1.5675532609104892,
          -1.3437750048468564,
          -0.3750533216879752,
          0.5800973230827036,
          -0.3228853202727669,
          0.5754027685683331,
          0.3988488178053489,
          -0.9021493253552805,
          -0.4727531209574199,
          2.073525090198343,
          -0.5956824782786153,
          -0.7175313463748774,
          -0.28584859429294823,
          1.4139676176621516,
          0.998735673189787,
          -0.13359127727415754,
          0.39837527281682855,
          -1.2772074278830792,
          -1.0207846187390759,
          -1.0621193282470969,
          0.519605188124482,
          -0.5371215088488999,
          -0.5474053178339106,
          1.0877773289297972,
          1.617424588262552,
          -3.0834156610107017,
          0.651466772014326,
          0.4128791893328902,
          0.5993012622530658,
          1.2372903649733404,
          -0.23562990778944215,
          0.10524843776164242,
          -0.13106830823608387
         ],
         "xaxis": "x16",
         "yaxis": "y16"
        }
       ],
       "layout": {
        "bargap": 0.02,
        "legend": {
         "bgcolor": "#F5F6F9",
         "font": {
          "color": "#4D5663"
         }
        },
        "paper_bgcolor": "#F5F6F9",
        "plot_bgcolor": "#F5F6F9",
        "showlegend": false,
        "template": {
         "data": {
          "bar": [
           {
            "error_x": {
             "color": "#2a3f5f"
            },
            "error_y": {
             "color": "#2a3f5f"
            },
            "marker": {
             "line": {
              "color": "#E5ECF6",
              "width": 0.5
             },
             "pattern": {
              "fillmode": "overlay",
              "size": 10,
              "solidity": 0.2
             }
            },
            "type": "bar"
           }
          ],
          "barpolar": [
           {
            "marker": {
             "line": {
              "color": "#E5ECF6",
              "width": 0.5
             },
             "pattern": {
              "fillmode": "overlay",
              "size": 10,
              "solidity": 0.2
             }
            },
            "type": "barpolar"
           }
          ],
          "carpet": [
           {
            "aaxis": {
             "endlinecolor": "#2a3f5f",
             "gridcolor": "white",
             "linecolor": "white",
             "minorgridcolor": "white",
             "startlinecolor": "#2a3f5f"
            },
            "baxis": {
             "endlinecolor": "#2a3f5f",
             "gridcolor": "white",
             "linecolor": "white",
             "minorgridcolor": "white",
             "startlinecolor": "#2a3f5f"
            },
            "type": "carpet"
           }
          ],
          "choropleth": [
           {
            "colorbar": {
             "outlinewidth": 0,
             "ticks": ""
            },
            "type": "choropleth"
           }
          ],
          "contour": [
           {
            "colorbar": {
             "outlinewidth": 0,
             "ticks": ""
            },
            "colorscale": [
             [
              0,
              "#0d0887"
             ],
             [
              0.1111111111111111,
              "#46039f"
             ],
             [
              0.2222222222222222,
              "#7201a8"
             ],
             [
              0.3333333333333333,
              "#9c179e"
             ],
             [
              0.4444444444444444,
              "#bd3786"
             ],
             [
              0.5555555555555556,
              "#d8576b"
             ],
             [
              0.6666666666666666,
              "#ed7953"
             ],
             [
              0.7777777777777778,
              "#fb9f3a"
             ],
             [
              0.8888888888888888,
              "#fdca26"
             ],
             [
              1,
              "#f0f921"
             ]
            ],
            "type": "contour"
           }
          ],
          "contourcarpet": [
           {
            "colorbar": {
             "outlinewidth": 0,
             "ticks": ""
            },
            "type": "contourcarpet"
           }
          ],
          "heatmap": [
           {
            "colorbar": {
             "outlinewidth": 0,
             "ticks": ""
            },
            "colorscale": [
             [
              0,
              "#0d0887"
             ],
             [
              0.1111111111111111,
              "#46039f"
             ],
             [
              0.2222222222222222,
              "#7201a8"
             ],
             [
              0.3333333333333333,
              "#9c179e"
             ],
             [
              0.4444444444444444,
              "#bd3786"
             ],
             [
              0.5555555555555556,
              "#d8576b"
             ],
             [
              0.6666666666666666,
              "#ed7953"
             ],
             [
              0.7777777777777778,
              "#fb9f3a"
             ],
             [
              0.8888888888888888,
              "#fdca26"
             ],
             [
              1,
              "#f0f921"
             ]
            ],
            "type": "heatmap"
           }
          ],
          "heatmapgl": [
           {
            "colorbar": {
             "outlinewidth": 0,
             "ticks": ""
            },
            "colorscale": [
             [
              0,
              "#0d0887"
             ],
             [
              0.1111111111111111,
              "#46039f"
             ],
             [
              0.2222222222222222,
              "#7201a8"
             ],
             [
              0.3333333333333333,
              "#9c179e"
             ],
             [
              0.4444444444444444,
              "#bd3786"
             ],
             [
              0.5555555555555556,
              "#d8576b"
             ],
             [
              0.6666666666666666,
              "#ed7953"
             ],
             [
              0.7777777777777778,
              "#fb9f3a"
             ],
             [
              0.8888888888888888,
              "#fdca26"
             ],
             [
              1,
              "#f0f921"
             ]
            ],
            "type": "heatmapgl"
           }
          ],
          "histogram": [
           {
            "marker": {
             "pattern": {
              "fillmode": "overlay",
              "size": 10,
              "solidity": 0.2
             }
            },
            "type": "histogram"
           }
          ],
          "histogram2d": [
           {
            "colorbar": {
             "outlinewidth": 0,
             "ticks": ""
            },
            "colorscale": [
             [
              0,
              "#0d0887"
             ],
             [
              0.1111111111111111,
              "#46039f"
             ],
             [
              0.2222222222222222,
              "#7201a8"
             ],
             [
              0.3333333333333333,
              "#9c179e"
             ],
             [
              0.4444444444444444,
              "#bd3786"
             ],
             [
              0.5555555555555556,
              "#d8576b"
             ],
             [
              0.6666666666666666,
              "#ed7953"
             ],
             [
              0.7777777777777778,
              "#fb9f3a"
             ],
             [
              0.8888888888888888,
              "#fdca26"
             ],
             [
              1,
              "#f0f921"
             ]
            ],
            "type": "histogram2d"
           }
          ],
          "histogram2dcontour": [
           {
            "colorbar": {
             "outlinewidth": 0,
             "ticks": ""
            },
            "colorscale": [
             [
              0,
              "#0d0887"
             ],
             [
              0.1111111111111111,
              "#46039f"
             ],
             [
              0.2222222222222222,
              "#7201a8"
             ],
             [
              0.3333333333333333,
              "#9c179e"
             ],
             [
              0.4444444444444444,
              "#bd3786"
             ],
             [
              0.5555555555555556,
              "#d8576b"
             ],
             [
              0.6666666666666666,
              "#ed7953"
             ],
             [
              0.7777777777777778,
              "#fb9f3a"
             ],
             [
              0.8888888888888888,
              "#fdca26"
             ],
             [
              1,
              "#f0f921"
             ]
            ],
            "type": "histogram2dcontour"
           }
          ],
          "mesh3d": [
           {
            "colorbar": {
             "outlinewidth": 0,
             "ticks": ""
            },
            "type": "mesh3d"
           }
          ],
          "parcoords": [
           {
            "line": {
             "colorbar": {
              "outlinewidth": 0,
              "ticks": ""
             }
            },
            "type": "parcoords"
           }
          ],
          "pie": [
           {
            "automargin": true,
            "type": "pie"
           }
          ],
          "scatter": [
           {
            "fillpattern": {
             "fillmode": "overlay",
             "size": 10,
             "solidity": 0.2
            },
            "type": "scatter"
           }
          ],
          "scatter3d": [
           {
            "line": {
             "colorbar": {
              "outlinewidth": 0,
              "ticks": ""
             }
            },
            "marker": {
             "colorbar": {
              "outlinewidth": 0,
              "ticks": ""
             }
            },
            "type": "scatter3d"
           }
          ],
          "scattercarpet": [
           {
            "marker": {
             "colorbar": {
              "outlinewidth": 0,
              "ticks": ""
             }
            },
            "type": "scattercarpet"
           }
          ],
          "scattergeo": [
           {
            "marker": {
             "colorbar": {
              "outlinewidth": 0,
              "ticks": ""
             }
            },
            "type": "scattergeo"
           }
          ],
          "scattergl": [
           {
            "marker": {
             "colorbar": {
              "outlinewidth": 0,
              "ticks": ""
             }
            },
            "type": "scattergl"
           }
          ],
          "scattermapbox": [
           {
            "marker": {
             "colorbar": {
              "outlinewidth": 0,
              "ticks": ""
             }
            },
            "type": "scattermapbox"
           }
          ],
          "scatterpolar": [
           {
            "marker": {
             "colorbar": {
              "outlinewidth": 0,
              "ticks": ""
             }
            },
            "type": "scatterpolar"
           }
          ],
          "scatterpolargl": [
           {
            "marker": {
             "colorbar": {
              "outlinewidth": 0,
              "ticks": ""
             }
            },
            "type": "scatterpolargl"
           }
          ],
          "scatterternary": [
           {
            "marker": {
             "colorbar": {
              "outlinewidth": 0,
              "ticks": ""
             }
            },
            "type": "scatterternary"
           }
          ],
          "surface": [
           {
            "colorbar": {
             "outlinewidth": 0,
             "ticks": ""
            },
            "colorscale": [
             [
              0,
              "#0d0887"
             ],
             [
              0.1111111111111111,
              "#46039f"
             ],
             [
              0.2222222222222222,
              "#7201a8"
             ],
             [
              0.3333333333333333,
              "#9c179e"
             ],
             [
              0.4444444444444444,
              "#bd3786"
             ],
             [
              0.5555555555555556,
              "#d8576b"
             ],
             [
              0.6666666666666666,
              "#ed7953"
             ],
             [
              0.7777777777777778,
              "#fb9f3a"
             ],
             [
              0.8888888888888888,
              "#fdca26"
             ],
             [
              1,
              "#f0f921"
             ]
            ],
            "type": "surface"
           }
          ],
          "table": [
           {
            "cells": {
             "fill": {
              "color": "#EBF0F8"
             },
             "line": {
              "color": "white"
             }
            },
            "header": {
             "fill": {
              "color": "#C8D4E3"
             },
             "line": {
              "color": "white"
             }
            },
            "type": "table"
           }
          ]
         },
         "layout": {
          "annotationdefaults": {
           "arrowcolor": "#2a3f5f",
           "arrowhead": 0,
           "arrowwidth": 1
          },
          "autotypenumbers": "strict",
          "coloraxis": {
           "colorbar": {
            "outlinewidth": 0,
            "ticks": ""
           }
          },
          "colorscale": {
           "diverging": [
            [
             0,
             "#8e0152"
            ],
            [
             0.1,
             "#c51b7d"
            ],
            [
             0.2,
             "#de77ae"
            ],
            [
             0.3,
             "#f1b6da"
            ],
            [
             0.4,
             "#fde0ef"
            ],
            [
             0.5,
             "#f7f7f7"
            ],
            [
             0.6,
             "#e6f5d0"
            ],
            [
             0.7,
             "#b8e186"
            ],
            [
             0.8,
             "#7fbc41"
            ],
            [
             0.9,
             "#4d9221"
            ],
            [
             1,
             "#276419"
            ]
           ],
           "sequential": [
            [
             0,
             "#0d0887"
            ],
            [
             0.1111111111111111,
             "#46039f"
            ],
            [
             0.2222222222222222,
             "#7201a8"
            ],
            [
             0.3333333333333333,
             "#9c179e"
            ],
            [
             0.4444444444444444,
             "#bd3786"
            ],
            [
             0.5555555555555556,
             "#d8576b"
            ],
            [
             0.6666666666666666,
             "#ed7953"
            ],
            [
             0.7777777777777778,
             "#fb9f3a"
            ],
            [
             0.8888888888888888,
             "#fdca26"
            ],
            [
             1,
             "#f0f921"
            ]
           ],
           "sequentialminus": [
            [
             0,
             "#0d0887"
            ],
            [
             0.1111111111111111,
             "#46039f"
            ],
            [
             0.2222222222222222,
             "#7201a8"
            ],
            [
             0.3333333333333333,
             "#9c179e"
            ],
            [
             0.4444444444444444,
             "#bd3786"
            ],
            [
             0.5555555555555556,
             "#d8576b"
            ],
            [
             0.6666666666666666,
             "#ed7953"
            ],
            [
             0.7777777777777778,
             "#fb9f3a"
            ],
            [
             0.8888888888888888,
             "#fdca26"
            ],
            [
             1,
             "#f0f921"
            ]
           ]
          },
          "colorway": [
           "#636efa",
           "#EF553B",
           "#00cc96",
           "#ab63fa",
           "#FFA15A",
           "#19d3f3",
           "#FF6692",
           "#B6E880",
           "#FF97FF",
           "#FECB52"
          ],
          "font": {
           "color": "#2a3f5f"
          },
          "geo": {
           "bgcolor": "white",
           "lakecolor": "white",
           "landcolor": "#E5ECF6",
           "showlakes": true,
           "showland": true,
           "subunitcolor": "white"
          },
          "hoverlabel": {
           "align": "left"
          },
          "hovermode": "closest",
          "mapbox": {
           "style": "light"
          },
          "paper_bgcolor": "white",
          "plot_bgcolor": "#E5ECF6",
          "polar": {
           "angularaxis": {
            "gridcolor": "white",
            "linecolor": "white",
            "ticks": ""
           },
           "bgcolor": "#E5ECF6",
           "radialaxis": {
            "gridcolor": "white",
            "linecolor": "white",
            "ticks": ""
           }
          },
          "scene": {
           "xaxis": {
            "backgroundcolor": "#E5ECF6",
            "gridcolor": "white",
            "gridwidth": 2,
            "linecolor": "white",
            "showbackground": true,
            "ticks": "",
            "zerolinecolor": "white"
           },
           "yaxis": {
            "backgroundcolor": "#E5ECF6",
            "gridcolor": "white",
            "gridwidth": 2,
            "linecolor": "white",
            "showbackground": true,
            "ticks": "",
            "zerolinecolor": "white"
           },
           "zaxis": {
            "backgroundcolor": "#E5ECF6",
            "gridcolor": "white",
            "gridwidth": 2,
            "linecolor": "white",
            "showbackground": true,
            "ticks": "",
            "zerolinecolor": "white"
           }
          },
          "shapedefaults": {
           "line": {
            "color": "#2a3f5f"
           }
          },
          "ternary": {
           "aaxis": {
            "gridcolor": "white",
            "linecolor": "white",
            "ticks": ""
           },
           "baxis": {
            "gridcolor": "white",
            "linecolor": "white",
            "ticks": ""
           },
           "bgcolor": "#E5ECF6",
           "caxis": {
            "gridcolor": "white",
            "linecolor": "white",
            "ticks": ""
           }
          },
          "title": {
           "x": 0.05
          },
          "xaxis": {
           "automargin": true,
           "gridcolor": "white",
           "linecolor": "white",
           "ticks": "",
           "title": {
            "standoff": 15
           },
           "zerolinecolor": "white",
           "zerolinewidth": 2
          },
          "yaxis": {
           "automargin": true,
           "gridcolor": "white",
           "linecolor": "white",
           "ticks": "",
           "title": {
            "standoff": 15
           },
           "zerolinecolor": "white",
           "zerolinewidth": 2
          }
         }
        },
        "title": {
         "font": {
          "color": "#4D5663"
         }
        },
        "xaxis": {
         "anchor": "y",
         "domain": [
          0,
          0.2125
         ],
         "gridcolor": "#E1E5ED",
         "showgrid": false,
         "tickfont": {
          "color": "#4D5663"
         },
         "title": {
          "font": {
           "color": "#4D5663"
          },
          "text": ""
         },
         "zerolinecolor": "#E1E5ED"
        },
        "xaxis10": {
         "anchor": "y10",
         "domain": [
          0.2625,
          0.475
         ],
         "gridcolor": "#E1E5ED",
         "showgrid": false,
         "tickfont": {
          "color": "#4D5663"
         },
         "title": {
          "font": {
           "color": "#4D5663"
          },
          "text": ""
         },
         "zerolinecolor": "#E1E5ED"
        },
        "xaxis11": {
         "anchor": "y11",
         "domain": [
          0.525,
          0.7375
         ],
         "gridcolor": "#E1E5ED",
         "showgrid": false,
         "tickfont": {
          "color": "#4D5663"
         },
         "title": {
          "font": {
           "color": "#4D5663"
          },
          "text": ""
         },
         "zerolinecolor": "#E1E5ED"
        },
        "xaxis12": {
         "anchor": "y12",
         "domain": [
          0.7875,
          1
         ],
         "gridcolor": "#E1E5ED",
         "showgrid": false,
         "tickfont": {
          "color": "#4D5663"
         },
         "title": {
          "font": {
           "color": "#4D5663"
          },
          "text": ""
         },
         "zerolinecolor": "#E1E5ED"
        },
        "xaxis13": {
         "anchor": "y13",
         "domain": [
          0,
          0.2125
         ],
         "gridcolor": "#E1E5ED",
         "showgrid": false,
         "tickfont": {
          "color": "#4D5663"
         },
         "title": {
          "font": {
           "color": "#4D5663"
          },
          "text": ""
         },
         "zerolinecolor": "#E1E5ED"
        },
        "xaxis14": {
         "anchor": "y14",
         "domain": [
          0.2625,
          0.475
         ],
         "gridcolor": "#E1E5ED",
         "showgrid": false,
         "tickfont": {
          "color": "#4D5663"
         },
         "title": {
          "font": {
           "color": "#4D5663"
          },
          "text": ""
         },
         "zerolinecolor": "#E1E5ED"
        },
        "xaxis15": {
         "anchor": "y15",
         "domain": [
          0.525,
          0.7375
         ],
         "gridcolor": "#E1E5ED",
         "showgrid": false,
         "tickfont": {
          "color": "#4D5663"
         },
         "title": {
          "font": {
           "color": "#4D5663"
          },
          "text": ""
         },
         "zerolinecolor": "#E1E5ED"
        },
        "xaxis16": {
         "anchor": "y16",
         "domain": [
          0.7875,
          1
         ],
         "gridcolor": "#E1E5ED",
         "showgrid": false,
         "tickfont": {
          "color": "#4D5663"
         },
         "title": {
          "font": {
           "color": "#4D5663"
          },
          "text": ""
         },
         "zerolinecolor": "#E1E5ED"
        },
        "xaxis2": {
         "anchor": "y2",
         "domain": [
          0.2625,
          0.475
         ],
         "gridcolor": "#E1E5ED",
         "showgrid": false,
         "tickfont": {
          "color": "#4D5663"
         },
         "title": {
          "font": {
           "color": "#4D5663"
          },
          "text": ""
         },
         "zerolinecolor": "#E1E5ED"
        },
        "xaxis3": {
         "anchor": "y3",
         "domain": [
          0.525,
          0.7375
         ],
         "gridcolor": "#E1E5ED",
         "showgrid": false,
         "tickfont": {
          "color": "#4D5663"
         },
         "title": {
          "font": {
           "color": "#4D5663"
          },
          "text": ""
         },
         "zerolinecolor": "#E1E5ED"
        },
        "xaxis4": {
         "anchor": "y4",
         "domain": [
          0.7875,
          1
         ],
         "gridcolor": "#E1E5ED",
         "showgrid": false,
         "tickfont": {
          "color": "#4D5663"
         },
         "title": {
          "font": {
           "color": "#4D5663"
          },
          "text": ""
         },
         "zerolinecolor": "#E1E5ED"
        },
        "xaxis5": {
         "anchor": "y5",
         "domain": [
          0,
          0.2125
         ],
         "gridcolor": "#E1E5ED",
         "showgrid": false,
         "tickfont": {
          "color": "#4D5663"
         },
         "title": {
          "font": {
           "color": "#4D5663"
          },
          "text": ""
         },
         "zerolinecolor": "#E1E5ED"
        },
        "xaxis6": {
         "anchor": "y6",
         "domain": [
          0.2625,
          0.475
         ],
         "gridcolor": "#E1E5ED",
         "showgrid": false,
         "tickfont": {
          "color": "#4D5663"
         },
         "title": {
          "font": {
           "color": "#4D5663"
          },
          "text": ""
         },
         "zerolinecolor": "#E1E5ED"
        },
        "xaxis7": {
         "anchor": "y7",
         "domain": [
          0.525,
          0.7375
         ],
         "gridcolor": "#E1E5ED",
         "showgrid": false,
         "tickfont": {
          "color": "#4D5663"
         },
         "title": {
          "font": {
           "color": "#4D5663"
          },
          "text": ""
         },
         "zerolinecolor": "#E1E5ED"
        },
        "xaxis8": {
         "anchor": "y8",
         "domain": [
          0.7875,
          1
         ],
         "gridcolor": "#E1E5ED",
         "showgrid": false,
         "tickfont": {
          "color": "#4D5663"
         },
         "title": {
          "font": {
           "color": "#4D5663"
          },
          "text": ""
         },
         "zerolinecolor": "#E1E5ED"
        },
        "xaxis9": {
         "anchor": "y9",
         "domain": [
          0,
          0.2125
         ],
         "gridcolor": "#E1E5ED",
         "showgrid": false,
         "tickfont": {
          "color": "#4D5663"
         },
         "title": {
          "font": {
           "color": "#4D5663"
          },
          "text": ""
         },
         "zerolinecolor": "#E1E5ED"
        },
        "yaxis": {
         "anchor": "x",
         "domain": [
          0.8025,
          1
         ],
         "gridcolor": "#E1E5ED",
         "showgrid": false,
         "tickfont": {
          "color": "#4D5663"
         },
         "title": {
          "font": {
           "color": "#4D5663"
          },
          "text": ""
         },
         "zerolinecolor": "#E1E5ED"
        },
        "yaxis10": {
         "anchor": "x10",
         "domain": [
          0.2675,
          0.465
         ],
         "gridcolor": "#E1E5ED",
         "showgrid": false,
         "tickfont": {
          "color": "#4D5663"
         },
         "title": {
          "font": {
           "color": "#4D5663"
          },
          "text": ""
         },
         "zerolinecolor": "#E1E5ED"
        },
        "yaxis11": {
         "anchor": "x11",
         "domain": [
          0.2675,
          0.465
         ],
         "gridcolor": "#E1E5ED",
         "showgrid": false,
         "tickfont": {
          "color": "#4D5663"
         },
         "title": {
          "font": {
           "color": "#4D5663"
          },
          "text": ""
         },
         "zerolinecolor": "#E1E5ED"
        },
        "yaxis12": {
         "anchor": "x12",
         "domain": [
          0.2675,
          0.465
         ],
         "gridcolor": "#E1E5ED",
         "showgrid": false,
         "tickfont": {
          "color": "#4D5663"
         },
         "title": {
          "font": {
           "color": "#4D5663"
          },
          "text": ""
         },
         "zerolinecolor": "#E1E5ED"
        },
        "yaxis13": {
         "anchor": "x13",
         "domain": [
          0,
          0.1975
         ],
         "gridcolor": "#E1E5ED",
         "showgrid": false,
         "tickfont": {
          "color": "#4D5663"
         },
         "title": {
          "font": {
           "color": "#4D5663"
          },
          "text": ""
         },
         "zerolinecolor": "#E1E5ED"
        },
        "yaxis14": {
         "anchor": "x14",
         "domain": [
          0,
          0.1975
         ],
         "gridcolor": "#E1E5ED",
         "showgrid": false,
         "tickfont": {
          "color": "#4D5663"
         },
         "title": {
          "font": {
           "color": "#4D5663"
          },
          "text": ""
         },
         "zerolinecolor": "#E1E5ED"
        },
        "yaxis15": {
         "anchor": "x15",
         "domain": [
          0,
          0.1975
         ],
         "gridcolor": "#E1E5ED",
         "showgrid": false,
         "tickfont": {
          "color": "#4D5663"
         },
         "title": {
          "font": {
           "color": "#4D5663"
          },
          "text": ""
         },
         "zerolinecolor": "#E1E5ED"
        },
        "yaxis16": {
         "anchor": "x16",
         "domain": [
          0,
          0.1975
         ],
         "gridcolor": "#E1E5ED",
         "showgrid": false,
         "tickfont": {
          "color": "#4D5663"
         },
         "title": {
          "font": {
           "color": "#4D5663"
          },
          "text": ""
         },
         "zerolinecolor": "#E1E5ED"
        },
        "yaxis2": {
         "anchor": "x2",
         "domain": [
          0.8025,
          1
         ],
         "gridcolor": "#E1E5ED",
         "showgrid": false,
         "tickfont": {
          "color": "#4D5663"
         },
         "title": {
          "font": {
           "color": "#4D5663"
          },
          "text": ""
         },
         "zerolinecolor": "#E1E5ED"
        },
        "yaxis3": {
         "anchor": "x3",
         "domain": [
          0.8025,
          1
         ],
         "gridcolor": "#E1E5ED",
         "showgrid": false,
         "tickfont": {
          "color": "#4D5663"
         },
         "title": {
          "font": {
           "color": "#4D5663"
          },
          "text": ""
         },
         "zerolinecolor": "#E1E5ED"
        },
        "yaxis4": {
         "anchor": "x4",
         "domain": [
          0.8025,
          1
         ],
         "gridcolor": "#E1E5ED",
         "showgrid": false,
         "tickfont": {
          "color": "#4D5663"
         },
         "title": {
          "font": {
           "color": "#4D5663"
          },
          "text": ""
         },
         "zerolinecolor": "#E1E5ED"
        },
        "yaxis5": {
         "anchor": "x5",
         "domain": [
          0.535,
          0.7325
         ],
         "gridcolor": "#E1E5ED",
         "showgrid": false,
         "tickfont": {
          "color": "#4D5663"
         },
         "title": {
          "font": {
           "color": "#4D5663"
          },
          "text": ""
         },
         "zerolinecolor": "#E1E5ED"
        },
        "yaxis6": {
         "anchor": "x6",
         "domain": [
          0.535,
          0.7325
         ],
         "gridcolor": "#E1E5ED",
         "showgrid": false,
         "tickfont": {
          "color": "#4D5663"
         },
         "title": {
          "font": {
           "color": "#4D5663"
          },
          "text": ""
         },
         "zerolinecolor": "#E1E5ED"
        },
        "yaxis7": {
         "anchor": "x7",
         "domain": [
          0.535,
          0.7325
         ],
         "gridcolor": "#E1E5ED",
         "showgrid": false,
         "tickfont": {
          "color": "#4D5663"
         },
         "title": {
          "font": {
           "color": "#4D5663"
          },
          "text": ""
         },
         "zerolinecolor": "#E1E5ED"
        },
        "yaxis8": {
         "anchor": "x8",
         "domain": [
          0.535,
          0.7325
         ],
         "gridcolor": "#E1E5ED",
         "showgrid": false,
         "tickfont": {
          "color": "#4D5663"
         },
         "title": {
          "font": {
           "color": "#4D5663"
          },
          "text": ""
         },
         "zerolinecolor": "#E1E5ED"
        },
        "yaxis9": {
         "anchor": "x9",
         "domain": [
          0.2675,
          0.465
         ],
         "gridcolor": "#E1E5ED",
         "showgrid": false,
         "tickfont": {
          "color": "#4D5663"
         },
         "title": {
          "font": {
           "color": "#4D5663"
          },
          "text": ""
         },
         "zerolinecolor": "#E1E5ED"
        }
       }
      },
      "text/html": [
       "<div>                            <div id=\"14aab889-46d6-4ff0-a86c-da68e24b9960\" class=\"plotly-graph-div\" style=\"height:525px; width:100%;\"></div>            <script type=\"text/javascript\">                require([\"plotly\"], function(Plotly) {                    window.PLOTLYENV=window.PLOTLYENV || {};\n",
       "                    window.PLOTLYENV.BASE_URL='https://plot.ly';                                    if (document.getElementById(\"14aab889-46d6-4ff0-a86c-da68e24b9960\")) {                    Plotly.newPlot(                        \"14aab889-46d6-4ff0-a86c-da68e24b9960\",                        [{\"histfunc\":\"count\",\"histnorm\":\"\",\"marker\":{\"color\":\"rgba(255, 153, 51, 1.0)\",\"line\":{\"color\":\"#4D5663\",\"width\":1.3}},\"name\":\"A\",\"nbinsx\":10,\"opacity\":0.8,\"orientation\":\"v\",\"x\":[-0.761538621205789,-0.7095884634062892,-1.87542527271739,-0.5065020746548108,1.35496259011185,-0.026882085442824027,0.3970926315800366,0.07930693556886965,-0.41651464393472665,-2.1276514696138085,0.7820816143304232,-0.46474335159908536,-1.9107278629738271,-0.5851839091377247,-0.6977177817635527,-2.4805654165741604,0.30130380247970456,-1.2057408655541713,0.975851335324599,0.935008023807403,0.6521460449304588,-0.16948993321802375,-0.6290415454217887,1.8582365753048842,0.519562575788573,0.21804135002318595,-0.6493577537881481,-0.911446297830199,-0.21094657901329192,1.925812415310548,-0.8602460299440234,0.5127438996267528,0.8813742038543424,-0.13573916517822807,-0.9270599803167954,1.0650535344599334,-0.5460679312679347,1.0117070089099622,-0.9777694153477007,0.35845385850155465,-0.6132408377130129,0.10871499849728981,0.40127567610710363,-0.6487046715630305,-0.8973289755839094,-0.4771539232923262,1.4138765300447418,0.044259693659036675,1.2456282221444395,0.6788475597193058,-0.9965791035290003,0.1608038512426127,-1.7273251122882962,0.9478549448318161,0.1957383843350601,0.20494952842470757,0.8557551042032416,1.2239513555987374,-0.8418915016769701,-0.7584061431982285,1.038055563573445,-1.2160740963752874,-0.4973699854095074,-0.9284199605478466,-0.5289637024381451,0.6079527884027386,-1.281229580560239,-0.09569023796817881,0.4651359310332824,0.35533232231510486,0.7261215905295191,-1.0520852792461017,2.6876313437622183,-1.717725205859949,-0.9111405606483214,-0.29153549489613173,-0.5701590060528048,0.05584067025163339,-1.1098732423331124,-0.9036945129123467,0.4501068865111808,0.825544257138231,0.4653860586330535,-1.1603307220031898,2.2810419206827284,0.11951586146702434,-0.2861420901734789,-1.3116881377337695,-0.32994936800329144,0.6197776617277426,0.2583173154079452,-0.4729733090730053,-0.07433117747413986,0.6221367200900845,-0.6301195699345721,-1.05620362506392,-1.0813433380501374,-0.6526823581710206,-0.40308048066321017,-0.19307390859447687],\"xaxis\":\"x\",\"yaxis\":\"y\",\"type\":\"histogram\"},{\"line\":{\"color\":\"rgba(128, 128, 128, 1.0)\",\"dash\":\"solid\",\"shape\":\"linear\",\"width\":1.3},\"marker\":{\"size\":2,\"symbol\":\"circle\"},\"mode\":\"markers\",\"name\":\"A\",\"text\":\"\",\"x\":[2.0212488155738875,0.7583096657857158,0.690456279047033,-0.5336253666583853,-0.3444448261782787,-1.5007167350721706,1.47417272332828,0.7224922054456843,-0.9523322732880294,-1.2007521411285247,0.17977885829835624,-0.3993877007738916,-0.03594024055892166,0.43672348288119245,-0.40696742781349027,0.2134293668056055,1.7803668779864803,-0.39022504742482833,-1.6383548443486666,-2.285357617815566,0.44741158825359245,-0.2927635506639341,0.4136368844636603,0.8078711083943342,0.2884092876798255,0.4949136350960853,0.7503925352077869,-0.8731681678867933,0.8061604124757041,0.27710798744893084,-0.1582208416581821,-0.9856087371450262,-0.11527233251929478,0.40375922576565254,0.06448225213737395,-1.335774942121669,-0.11807724370888023,-0.9794050934152908,-0.5149681326578647,0.8063573557471728,0.9979072896721226,0.7147261302748834,-0.5182821264572214,-3.1376785914728136,1.0311784055004873,-0.8132771291058926,0.18432068082792719,0.9237360904499204,0.30599407158319486,0.33507477440349753,0.07919280617985913,-0.4232933611080333,0.3558176377425486,-0.9263390939314984,-0.7665872434389798,0.725052038268612,1.1164035544920263,0.18244465783419295,-0.2816778377621261,-0.38687777851277577,0.7727005377999372,0.06711665722470082,0.6742548227152336,0.9763233892497046,0.8214369752267061,0.8494264109004337,-0.3878781331543912,-0.6514852554195295,-1.8920663607417647,-0.8653341210591329,1.3075581912669738,0.7810217429948401,-0.7057405243063345,0.9652829915392097,0.21573636864042325,-0.3421430578373146,1.8610130200091133,-1.8794998483938055,0.7943304837877205,-0.053051118459419344,0.22410566547086927,0.07216085006027313,-0.2754955239090127,1.2590849074647348,1.0139736758249545,0.05570390346374175,-0.7690113262533337,2.1803261836384222,-0.7940812816209243,-1.1111128259709735,-0.3106265064956946,-0.026017216185092323,0.08661658866512632,-0.4717446856472977,0.0449965557198526,0.6638303748533824,0.25766663740266194,-0.6957389173560475,1.5120781751025285,0.6983516103179237],\"xaxis\":\"x2\",\"y\":[-0.761538621205789,-0.7095884634062892,-1.87542527271739,-0.5065020746548108,1.35496259011185,-0.026882085442824027,0.3970926315800366,0.07930693556886965,-0.41651464393472665,-2.1276514696138085,0.7820816143304232,-0.46474335159908536,-1.9107278629738271,-0.5851839091377247,-0.6977177817635527,-2.4805654165741604,0.30130380247970456,-1.2057408655541713,0.975851335324599,0.935008023807403,0.6521460449304588,-0.16948993321802375,-0.6290415454217887,1.8582365753048842,0.519562575788573,0.21804135002318595,-0.6493577537881481,-0.911446297830199,-0.21094657901329192,1.925812415310548,-0.8602460299440234,0.5127438996267528,0.8813742038543424,-0.13573916517822807,-0.9270599803167954,1.0650535344599334,-0.5460679312679347,1.0117070089099622,-0.9777694153477007,0.35845385850155465,-0.6132408377130129,0.10871499849728981,0.40127567610710363,-0.6487046715630305,-0.8973289755839094,-0.4771539232923262,1.4138765300447418,0.044259693659036675,1.2456282221444395,0.6788475597193058,-0.9965791035290003,0.1608038512426127,-1.7273251122882962,0.9478549448318161,0.1957383843350601,0.20494952842470757,0.8557551042032416,1.2239513555987374,-0.8418915016769701,-0.7584061431982285,1.038055563573445,-1.2160740963752874,-0.4973699854095074,-0.9284199605478466,-0.5289637024381451,0.6079527884027386,-1.281229580560239,-0.09569023796817881,0.4651359310332824,0.35533232231510486,0.7261215905295191,-1.0520852792461017,2.6876313437622183,-1.717725205859949,-0.9111405606483214,-0.29153549489613173,-0.5701590060528048,0.05584067025163339,-1.1098732423331124,-0.9036945129123467,0.4501068865111808,0.825544257138231,0.4653860586330535,-1.1603307220031898,2.2810419206827284,0.11951586146702434,-0.2861420901734789,-1.3116881377337695,-0.32994936800329144,0.6197776617277426,0.2583173154079452,-0.4729733090730053,-0.07433117747413986,0.6221367200900845,-0.6301195699345721,-1.05620362506392,-1.0813433380501374,-0.6526823581710206,-0.40308048066321017,-0.19307390859447687],\"yaxis\":\"y2\",\"type\":\"scatter\"},{\"line\":{\"color\":\"rgba(128, 128, 128, 1.0)\",\"dash\":\"solid\",\"shape\":\"linear\",\"width\":1.3},\"marker\":{\"size\":2,\"symbol\":\"circle\"},\"mode\":\"markers\",\"name\":\"A\",\"text\":\"\",\"x\":[0.8699199414489964,0.1919528666269509,0.3093969885172038,-2.1924299710634836,-0.09404555027642499,-0.44616700382215535,0.5911062942320391,-0.11222987530467411,0.8221513863038997,-1.3394609024912,-0.6540966378140828,-2.647366214634456,-0.8261593146823648,-0.5282738221407467,2.2560010208169174,-0.8944809840239775,1.4404312774926151,1.0038948673282415,-1.4255621578921092,-2.021776176144868,0.3101462275885388,1.3172858612439269,-0.40206335140303734,0.35274271079727726,-1.1796864336025494,-0.8233313364450072,-0.761867615189702,0.9240591598013932,0.7929419871257162,-1.545191462344122,0.8436223213091736,-0.35451091835456444,-0.2662014706847725,-1.6596023876590735,-1.5411043743645112,0.4202935608374834,-0.04436248674158989,0.6214332168767712,1.313981241271157,-0.6021879466734257,-0.5099547957947055,0.07948533295588678,-2.36300982364451,-0.8380611399118977,0.15012427389306565,-0.6699640582887734,-0.7956055043928719,-0.049162235003456664,0.7615336899380856,0.4612575745415876,0.6350534238638107,0.20418876230882374,-0.03135271045951208,-1.6317632670428215,0.12824357341840992,-0.7754360680942636,0.592942313812262,-0.9810425893436158,-0.0552939096891739,-1.315533891912153,-2.6668417818822423,1.1112548065054297,-1.2239925033791574,-1.6701983878767488,-1.079857264546952,-1.755575016943559,0.23924537922112582,-1.1704140026544176,0.6016584057907969,-0.573849768968879,0.25647552760965664,1.579553752223997,1.3405315133765805,-0.1413395997516385,-0.39554037187911145,0.06823471847525044,-0.40089963995751504,0.9268459355904448,1.337994149408316,0.015134007930666256,0.5449210338723256,0.7239631740332934,0.2342370873421562,-0.8054791105937634,0.021720198485186568,-0.014231085668760987,1.1563184171040473,0.5366766020887849,-0.0973053665074751,1.268105194587903,-0.3475683830855135,-0.14844232446306793,-1.5293673671478056,0.018728084547423293,1.5098303205313615,0.28462750176330975,-0.1590669767758876,0.0426517799402289,-0.39120217870348256,1.0959531653469556],\"xaxis\":\"x3\",\"y\":[-0.761538621205789,-0.7095884634062892,-1.87542527271739,-0.5065020746548108,1.35496259011185,-0.026882085442824027,0.3970926315800366,0.07930693556886965,-0.41651464393472665,-2.1276514696138085,0.7820816143304232,-0.46474335159908536,-1.9107278629738271,-0.5851839091377247,-0.6977177817635527,-2.4805654165741604,0.30130380247970456,-1.2057408655541713,0.975851335324599,0.935008023807403,0.6521460449304588,-0.16948993321802375,-0.6290415454217887,1.8582365753048842,0.519562575788573,0.21804135002318595,-0.6493577537881481,-0.911446297830199,-0.21094657901329192,1.925812415310548,-0.8602460299440234,0.5127438996267528,0.8813742038543424,-0.13573916517822807,-0.9270599803167954,1.0650535344599334,-0.5460679312679347,1.0117070089099622,-0.9777694153477007,0.35845385850155465,-0.6132408377130129,0.10871499849728981,0.40127567610710363,-0.6487046715630305,-0.8973289755839094,-0.4771539232923262,1.4138765300447418,0.044259693659036675,1.2456282221444395,0.6788475597193058,-0.9965791035290003,0.1608038512426127,-1.7273251122882962,0.9478549448318161,0.1957383843350601,0.20494952842470757,0.8557551042032416,1.2239513555987374,-0.8418915016769701,-0.7584061431982285,1.038055563573445,-1.2160740963752874,-0.4973699854095074,-0.9284199605478466,-0.5289637024381451,0.6079527884027386,-1.281229580560239,-0.09569023796817881,0.4651359310332824,0.35533232231510486,0.7261215905295191,-1.0520852792461017,2.6876313437622183,-1.717725205859949,-0.9111405606483214,-0.29153549489613173,-0.5701590060528048,0.05584067025163339,-1.1098732423331124,-0.9036945129123467,0.4501068865111808,0.825544257138231,0.4653860586330535,-1.1603307220031898,2.2810419206827284,0.11951586146702434,-0.2861420901734789,-1.3116881377337695,-0.32994936800329144,0.6197776617277426,0.2583173154079452,-0.4729733090730053,-0.07433117747413986,0.6221367200900845,-0.6301195699345721,-1.05620362506392,-1.0813433380501374,-0.6526823581710206,-0.40308048066321017,-0.19307390859447687],\"yaxis\":\"y3\",\"type\":\"scatter\"},{\"line\":{\"color\":\"rgba(128, 128, 128, 1.0)\",\"dash\":\"solid\",\"shape\":\"linear\",\"width\":1.3},\"marker\":{\"size\":2,\"symbol\":\"circle\"},\"mode\":\"markers\",\"name\":\"A\",\"text\":\"\",\"x\":[-1.4824837499244081,-1.6378759904591504,-0.7326854957473273,-0.10550829105630619,-0.06991350159311006,0.46163763597263535,0.6004277107442788,0.39676296852325393,0.48288648043382,-1.6077837536067379,1.9386209836363804,0.7193966124404083,0.6311036516809552,-0.66021129157521,-0.8326032928453405,-0.45698882511325306,0.7368609508803521,0.6799541405694176,1.1105561940094641,1.0413711496143612,0.230439276257338,1.619399446733085,-0.2552239243728746,0.5718800408477457,-0.8106945893565702,-0.14545456549034066,-2.0392666801115684,-0.26806053833991905,-1.9210744740220125,1.4756213242041665,0.31139315447033383,-2.396823658888235,1.1974944254877904,0.9413978277969611,-2.577206952185167,1.1224890080897332,0.40618149122564207,1.2161981884750508,0.008953323559096064,0.07358259777689787,-0.3386919303123021,0.6630157763838277,0.5061288843568232,-0.6679659295985579,-1.0165535350553254,-0.2591339080864048,1.3430897920882647,-0.4486049234063091,3.139981087756818,0.30466861631842845,-0.5235439773795593,-0.3730989800904381,1.1920474220833062,0.11399599805152362,1.475375600003024,-0.4220684689790923,-1.1624893746214093,-1.8680872294454245,0.3838698413367046,1.7844036544735724,0.9383329993184499,0.3762429818126024,0.8629274833359641,0.11236342274731556,0.11182647169785713,0.05797682876587672,1.1898895052028797,1.5675532609104892,-1.3437750048468564,-0.3750533216879752,0.5800973230827036,-0.3228853202727669,0.5754027685683331,0.3988488178053489,-0.9021493253552805,-0.4727531209574199,2.073525090198343,-0.5956824782786153,-0.7175313463748774,-0.28584859429294823,1.4139676176621516,0.998735673189787,-0.13359127727415754,0.39837527281682855,-1.2772074278830792,-1.0207846187390759,-1.0621193282470969,0.519605188124482,-0.5371215088488999,-0.5474053178339106,1.0877773289297972,1.617424588262552,-3.0834156610107017,0.651466772014326,0.4128791893328902,0.5993012622530658,1.2372903649733404,-0.23562990778944215,0.10524843776164242,-0.13106830823608387],\"xaxis\":\"x4\",\"y\":[-0.761538621205789,-0.7095884634062892,-1.87542527271739,-0.5065020746548108,1.35496259011185,-0.026882085442824027,0.3970926315800366,0.07930693556886965,-0.41651464393472665,-2.1276514696138085,0.7820816143304232,-0.46474335159908536,-1.9107278629738271,-0.5851839091377247,-0.6977177817635527,-2.4805654165741604,0.30130380247970456,-1.2057408655541713,0.975851335324599,0.935008023807403,0.6521460449304588,-0.16948993321802375,-0.6290415454217887,1.8582365753048842,0.519562575788573,0.21804135002318595,-0.6493577537881481,-0.911446297830199,-0.21094657901329192,1.925812415310548,-0.8602460299440234,0.5127438996267528,0.8813742038543424,-0.13573916517822807,-0.9270599803167954,1.0650535344599334,-0.5460679312679347,1.0117070089099622,-0.9777694153477007,0.35845385850155465,-0.6132408377130129,0.10871499849728981,0.40127567610710363,-0.6487046715630305,-0.8973289755839094,-0.4771539232923262,1.4138765300447418,0.044259693659036675,1.2456282221444395,0.6788475597193058,-0.9965791035290003,0.1608038512426127,-1.7273251122882962,0.9478549448318161,0.1957383843350601,0.20494952842470757,0.8557551042032416,1.2239513555987374,-0.8418915016769701,-0.7584061431982285,1.038055563573445,-1.2160740963752874,-0.4973699854095074,-0.9284199605478466,-0.5289637024381451,0.6079527884027386,-1.281229580560239,-0.09569023796817881,0.4651359310332824,0.35533232231510486,0.7261215905295191,-1.0520852792461017,2.6876313437622183,-1.717725205859949,-0.9111405606483214,-0.29153549489613173,-0.5701590060528048,0.05584067025163339,-1.1098732423331124,-0.9036945129123467,0.4501068865111808,0.825544257138231,0.4653860586330535,-1.1603307220031898,2.2810419206827284,0.11951586146702434,-0.2861420901734789,-1.3116881377337695,-0.32994936800329144,0.6197776617277426,0.2583173154079452,-0.4729733090730053,-0.07433117747413986,0.6221367200900845,-0.6301195699345721,-1.05620362506392,-1.0813433380501374,-0.6526823581710206,-0.40308048066321017,-0.19307390859447687],\"yaxis\":\"y4\",\"type\":\"scatter\"},{\"line\":{\"color\":\"rgba(128, 128, 128, 1.0)\",\"dash\":\"solid\",\"shape\":\"linear\",\"width\":1.3},\"marker\":{\"size\":2,\"symbol\":\"circle\"},\"mode\":\"markers\",\"name\":\"B\",\"text\":\"\",\"x\":[-0.761538621205789,-0.7095884634062892,-1.87542527271739,-0.5065020746548108,1.35496259011185,-0.026882085442824027,0.3970926315800366,0.07930693556886965,-0.41651464393472665,-2.1276514696138085,0.7820816143304232,-0.46474335159908536,-1.9107278629738271,-0.5851839091377247,-0.6977177817635527,-2.4805654165741604,0.30130380247970456,-1.2057408655541713,0.975851335324599,0.935008023807403,0.6521460449304588,-0.16948993321802375,-0.6290415454217887,1.8582365753048842,0.519562575788573,0.21804135002318595,-0.6493577537881481,-0.911446297830199,-0.21094657901329192,1.925812415310548,-0.8602460299440234,0.5127438996267528,0.8813742038543424,-0.13573916517822807,-0.9270599803167954,1.0650535344599334,-0.5460679312679347,1.0117070089099622,-0.9777694153477007,0.35845385850155465,-0.6132408377130129,0.10871499849728981,0.40127567610710363,-0.6487046715630305,-0.8973289755839094,-0.4771539232923262,1.4138765300447418,0.044259693659036675,1.2456282221444395,0.6788475597193058,-0.9965791035290003,0.1608038512426127,-1.7273251122882962,0.9478549448318161,0.1957383843350601,0.20494952842470757,0.8557551042032416,1.2239513555987374,-0.8418915016769701,-0.7584061431982285,1.038055563573445,-1.2160740963752874,-0.4973699854095074,-0.9284199605478466,-0.5289637024381451,0.6079527884027386,-1.281229580560239,-0.09569023796817881,0.4651359310332824,0.35533232231510486,0.7261215905295191,-1.0520852792461017,2.6876313437622183,-1.717725205859949,-0.9111405606483214,-0.29153549489613173,-0.5701590060528048,0.05584067025163339,-1.1098732423331124,-0.9036945129123467,0.4501068865111808,0.825544257138231,0.4653860586330535,-1.1603307220031898,2.2810419206827284,0.11951586146702434,-0.2861420901734789,-1.3116881377337695,-0.32994936800329144,0.6197776617277426,0.2583173154079452,-0.4729733090730053,-0.07433117747413986,0.6221367200900845,-0.6301195699345721,-1.05620362506392,-1.0813433380501374,-0.6526823581710206,-0.40308048066321017,-0.19307390859447687],\"xaxis\":\"x5\",\"y\":[2.0212488155738875,0.7583096657857158,0.690456279047033,-0.5336253666583853,-0.3444448261782787,-1.5007167350721706,1.47417272332828,0.7224922054456843,-0.9523322732880294,-1.2007521411285247,0.17977885829835624,-0.3993877007738916,-0.03594024055892166,0.43672348288119245,-0.40696742781349027,0.2134293668056055,1.7803668779864803,-0.39022504742482833,-1.6383548443486666,-2.285357617815566,0.44741158825359245,-0.2927635506639341,0.4136368844636603,0.8078711083943342,0.2884092876798255,0.4949136350960853,0.7503925352077869,-0.8731681678867933,0.8061604124757041,0.27710798744893084,-0.1582208416581821,-0.9856087371450262,-0.11527233251929478,0.40375922576565254,0.06448225213737395,-1.335774942121669,-0.11807724370888023,-0.9794050934152908,-0.5149681326578647,0.8063573557471728,0.9979072896721226,0.7147261302748834,-0.5182821264572214,-3.1376785914728136,1.0311784055004873,-0.8132771291058926,0.18432068082792719,0.9237360904499204,0.30599407158319486,0.33507477440349753,0.07919280617985913,-0.4232933611080333,0.3558176377425486,-0.9263390939314984,-0.7665872434389798,0.725052038268612,1.1164035544920263,0.18244465783419295,-0.2816778377621261,-0.38687777851277577,0.7727005377999372,0.06711665722470082,0.6742548227152336,0.9763233892497046,0.8214369752267061,0.8494264109004337,-0.3878781331543912,-0.6514852554195295,-1.8920663607417647,-0.8653341210591329,1.3075581912669738,0.7810217429948401,-0.7057405243063345,0.9652829915392097,0.21573636864042325,-0.3421430578373146,1.8610130200091133,-1.8794998483938055,0.7943304837877205,-0.053051118459419344,0.22410566547086927,0.07216085006027313,-0.2754955239090127,1.2590849074647348,1.0139736758249545,0.05570390346374175,-0.7690113262533337,2.1803261836384222,-0.7940812816209243,-1.1111128259709735,-0.3106265064956946,-0.026017216185092323,0.08661658866512632,-0.4717446856472977,0.0449965557198526,0.6638303748533824,0.25766663740266194,-0.6957389173560475,1.5120781751025285,0.6983516103179237],\"yaxis\":\"y5\",\"type\":\"scatter\"},{\"histfunc\":\"count\",\"histnorm\":\"\",\"marker\":{\"color\":\"rgba(55, 128, 191, 1.0)\",\"line\":{\"color\":\"#4D5663\",\"width\":1.3}},\"name\":\"B\",\"nbinsx\":10,\"opacity\":0.8,\"orientation\":\"v\",\"x\":[2.0212488155738875,0.7583096657857158,0.690456279047033,-0.5336253666583853,-0.3444448261782787,-1.5007167350721706,1.47417272332828,0.7224922054456843,-0.9523322732880294,-1.2007521411285247,0.17977885829835624,-0.3993877007738916,-0.03594024055892166,0.43672348288119245,-0.40696742781349027,0.2134293668056055,1.7803668779864803,-0.39022504742482833,-1.6383548443486666,-2.285357617815566,0.44741158825359245,-0.2927635506639341,0.4136368844636603,0.8078711083943342,0.2884092876798255,0.4949136350960853,0.7503925352077869,-0.8731681678867933,0.8061604124757041,0.27710798744893084,-0.1582208416581821,-0.9856087371450262,-0.11527233251929478,0.40375922576565254,0.06448225213737395,-1.335774942121669,-0.11807724370888023,-0.9794050934152908,-0.5149681326578647,0.8063573557471728,0.9979072896721226,0.7147261302748834,-0.5182821264572214,-3.1376785914728136,1.0311784055004873,-0.8132771291058926,0.18432068082792719,0.9237360904499204,0.30599407158319486,0.33507477440349753,0.07919280617985913,-0.4232933611080333,0.3558176377425486,-0.9263390939314984,-0.7665872434389798,0.725052038268612,1.1164035544920263,0.18244465783419295,-0.2816778377621261,-0.38687777851277577,0.7727005377999372,0.06711665722470082,0.6742548227152336,0.9763233892497046,0.8214369752267061,0.8494264109004337,-0.3878781331543912,-0.6514852554195295,-1.8920663607417647,-0.8653341210591329,1.3075581912669738,0.7810217429948401,-0.7057405243063345,0.9652829915392097,0.21573636864042325,-0.3421430578373146,1.8610130200091133,-1.8794998483938055,0.7943304837877205,-0.053051118459419344,0.22410566547086927,0.07216085006027313,-0.2754955239090127,1.2590849074647348,1.0139736758249545,0.05570390346374175,-0.7690113262533337,2.1803261836384222,-0.7940812816209243,-1.1111128259709735,-0.3106265064956946,-0.026017216185092323,0.08661658866512632,-0.4717446856472977,0.0449965557198526,0.6638303748533824,0.25766663740266194,-0.6957389173560475,1.5120781751025285,0.6983516103179237],\"xaxis\":\"x6\",\"yaxis\":\"y6\",\"type\":\"histogram\"},{\"line\":{\"color\":\"rgba(128, 128, 128, 1.0)\",\"dash\":\"solid\",\"shape\":\"linear\",\"width\":1.3},\"marker\":{\"size\":2,\"symbol\":\"circle\"},\"mode\":\"markers\",\"name\":\"B\",\"text\":\"\",\"x\":[0.8699199414489964,0.1919528666269509,0.3093969885172038,-2.1924299710634836,-0.09404555027642499,-0.44616700382215535,0.5911062942320391,-0.11222987530467411,0.8221513863038997,-1.3394609024912,-0.6540966378140828,-2.647366214634456,-0.8261593146823648,-0.5282738221407467,2.2560010208169174,-0.8944809840239775,1.4404312774926151,1.0038948673282415,-1.4255621578921092,-2.021776176144868,0.3101462275885388,1.3172858612439269,-0.40206335140303734,0.35274271079727726,-1.1796864336025494,-0.8233313364450072,-0.761867615189702,0.9240591598013932,0.7929419871257162,-1.545191462344122,0.8436223213091736,-0.35451091835456444,-0.2662014706847725,-1.6596023876590735,-1.5411043743645112,0.4202935608374834,-0.04436248674158989,0.6214332168767712,1.313981241271157,-0.6021879466734257,-0.5099547957947055,0.07948533295588678,-2.36300982364451,-0.8380611399118977,0.15012427389306565,-0.6699640582887734,-0.7956055043928719,-0.049162235003456664,0.7615336899380856,0.4612575745415876,0.6350534238638107,0.20418876230882374,-0.03135271045951208,-1.6317632670428215,0.12824357341840992,-0.7754360680942636,0.592942313812262,-0.9810425893436158,-0.0552939096891739,-1.315533891912153,-2.6668417818822423,1.1112548065054297,-1.2239925033791574,-1.6701983878767488,-1.079857264546952,-1.755575016943559,0.23924537922112582,-1.1704140026544176,0.6016584057907969,-0.573849768968879,0.25647552760965664,1.579553752223997,1.3405315133765805,-0.1413395997516385,-0.39554037187911145,0.06823471847525044,-0.40089963995751504,0.9268459355904448,1.337994149408316,0.015134007930666256,0.5449210338723256,0.7239631740332934,0.2342370873421562,-0.8054791105937634,0.021720198485186568,-0.014231085668760987,1.1563184171040473,0.5366766020887849,-0.0973053665074751,1.268105194587903,-0.3475683830855135,-0.14844232446306793,-1.5293673671478056,0.018728084547423293,1.5098303205313615,0.28462750176330975,-0.1590669767758876,0.0426517799402289,-0.39120217870348256,1.0959531653469556],\"xaxis\":\"x7\",\"y\":[2.0212488155738875,0.7583096657857158,0.690456279047033,-0.5336253666583853,-0.3444448261782787,-1.5007167350721706,1.47417272332828,0.7224922054456843,-0.9523322732880294,-1.2007521411285247,0.17977885829835624,-0.3993877007738916,-0.03594024055892166,0.43672348288119245,-0.40696742781349027,0.2134293668056055,1.7803668779864803,-0.39022504742482833,-1.6383548443486666,-2.285357617815566,0.44741158825359245,-0.2927635506639341,0.4136368844636603,0.8078711083943342,0.2884092876798255,0.4949136350960853,0.7503925352077869,-0.8731681678867933,0.8061604124757041,0.27710798744893084,-0.1582208416581821,-0.9856087371450262,-0.11527233251929478,0.40375922576565254,0.06448225213737395,-1.335774942121669,-0.11807724370888023,-0.9794050934152908,-0.5149681326578647,0.8063573557471728,0.9979072896721226,0.7147261302748834,-0.5182821264572214,-3.1376785914728136,1.0311784055004873,-0.8132771291058926,0.18432068082792719,0.9237360904499204,0.30599407158319486,0.33507477440349753,0.07919280617985913,-0.4232933611080333,0.3558176377425486,-0.9263390939314984,-0.7665872434389798,0.725052038268612,1.1164035544920263,0.18244465783419295,-0.2816778377621261,-0.38687777851277577,0.7727005377999372,0.06711665722470082,0.6742548227152336,0.9763233892497046,0.8214369752267061,0.8494264109004337,-0.3878781331543912,-0.6514852554195295,-1.8920663607417647,-0.8653341210591329,1.3075581912669738,0.7810217429948401,-0.7057405243063345,0.9652829915392097,0.21573636864042325,-0.3421430578373146,1.8610130200091133,-1.8794998483938055,0.7943304837877205,-0.053051118459419344,0.22410566547086927,0.07216085006027313,-0.2754955239090127,1.2590849074647348,1.0139736758249545,0.05570390346374175,-0.7690113262533337,2.1803261836384222,-0.7940812816209243,-1.1111128259709735,-0.3106265064956946,-0.026017216185092323,0.08661658866512632,-0.4717446856472977,0.0449965557198526,0.6638303748533824,0.25766663740266194,-0.6957389173560475,1.5120781751025285,0.6983516103179237],\"yaxis\":\"y7\",\"type\":\"scatter\"},{\"line\":{\"color\":\"rgba(128, 128, 128, 1.0)\",\"dash\":\"solid\",\"shape\":\"linear\",\"width\":1.3},\"marker\":{\"size\":2,\"symbol\":\"circle\"},\"mode\":\"markers\",\"name\":\"B\",\"text\":\"\",\"x\":[-1.4824837499244081,-1.6378759904591504,-0.7326854957473273,-0.10550829105630619,-0.06991350159311006,0.46163763597263535,0.6004277107442788,0.39676296852325393,0.48288648043382,-1.6077837536067379,1.9386209836363804,0.7193966124404083,0.6311036516809552,-0.66021129157521,-0.8326032928453405,-0.45698882511325306,0.7368609508803521,0.6799541405694176,1.1105561940094641,1.0413711496143612,0.230439276257338,1.619399446733085,-0.2552239243728746,0.5718800408477457,-0.8106945893565702,-0.14545456549034066,-2.0392666801115684,-0.26806053833991905,-1.9210744740220125,1.4756213242041665,0.31139315447033383,-2.396823658888235,1.1974944254877904,0.9413978277969611,-2.577206952185167,1.1224890080897332,0.40618149122564207,1.2161981884750508,0.008953323559096064,0.07358259777689787,-0.3386919303123021,0.6630157763838277,0.5061288843568232,-0.6679659295985579,-1.0165535350553254,-0.2591339080864048,1.3430897920882647,-0.4486049234063091,3.139981087756818,0.30466861631842845,-0.5235439773795593,-0.3730989800904381,1.1920474220833062,0.11399599805152362,1.475375600003024,-0.4220684689790923,-1.1624893746214093,-1.8680872294454245,0.3838698413367046,1.7844036544735724,0.9383329993184499,0.3762429818126024,0.8629274833359641,0.11236342274731556,0.11182647169785713,0.05797682876587672,1.1898895052028797,1.5675532609104892,-1.3437750048468564,-0.3750533216879752,0.5800973230827036,-0.3228853202727669,0.5754027685683331,0.3988488178053489,-0.9021493253552805,-0.4727531209574199,2.073525090198343,-0.5956824782786153,-0.7175313463748774,-0.28584859429294823,1.4139676176621516,0.998735673189787,-0.13359127727415754,0.39837527281682855,-1.2772074278830792,-1.0207846187390759,-1.0621193282470969,0.519605188124482,-0.5371215088488999,-0.5474053178339106,1.0877773289297972,1.617424588262552,-3.0834156610107017,0.651466772014326,0.4128791893328902,0.5993012622530658,1.2372903649733404,-0.23562990778944215,0.10524843776164242,-0.13106830823608387],\"xaxis\":\"x8\",\"y\":[2.0212488155738875,0.7583096657857158,0.690456279047033,-0.5336253666583853,-0.3444448261782787,-1.5007167350721706,1.47417272332828,0.7224922054456843,-0.9523322732880294,-1.2007521411285247,0.17977885829835624,-0.3993877007738916,-0.03594024055892166,0.43672348288119245,-0.40696742781349027,0.2134293668056055,1.7803668779864803,-0.39022504742482833,-1.6383548443486666,-2.285357617815566,0.44741158825359245,-0.2927635506639341,0.4136368844636603,0.8078711083943342,0.2884092876798255,0.4949136350960853,0.7503925352077869,-0.8731681678867933,0.8061604124757041,0.27710798744893084,-0.1582208416581821,-0.9856087371450262,-0.11527233251929478,0.40375922576565254,0.06448225213737395,-1.335774942121669,-0.11807724370888023,-0.9794050934152908,-0.5149681326578647,0.8063573557471728,0.9979072896721226,0.7147261302748834,-0.5182821264572214,-3.1376785914728136,1.0311784055004873,-0.8132771291058926,0.18432068082792719,0.9237360904499204,0.30599407158319486,0.33507477440349753,0.07919280617985913,-0.4232933611080333,0.3558176377425486,-0.9263390939314984,-0.7665872434389798,0.725052038268612,1.1164035544920263,0.18244465783419295,-0.2816778377621261,-0.38687777851277577,0.7727005377999372,0.06711665722470082,0.6742548227152336,0.9763233892497046,0.8214369752267061,0.8494264109004337,-0.3878781331543912,-0.6514852554195295,-1.8920663607417647,-0.8653341210591329,1.3075581912669738,0.7810217429948401,-0.7057405243063345,0.9652829915392097,0.21573636864042325,-0.3421430578373146,1.8610130200091133,-1.8794998483938055,0.7943304837877205,-0.053051118459419344,0.22410566547086927,0.07216085006027313,-0.2754955239090127,1.2590849074647348,1.0139736758249545,0.05570390346374175,-0.7690113262533337,2.1803261836384222,-0.7940812816209243,-1.1111128259709735,-0.3106265064956946,-0.026017216185092323,0.08661658866512632,-0.4717446856472977,0.0449965557198526,0.6638303748533824,0.25766663740266194,-0.6957389173560475,1.5120781751025285,0.6983516103179237],\"yaxis\":\"y8\",\"type\":\"scatter\"},{\"line\":{\"color\":\"rgba(128, 128, 128, 1.0)\",\"dash\":\"solid\",\"shape\":\"linear\",\"width\":1.3},\"marker\":{\"size\":2,\"symbol\":\"circle\"},\"mode\":\"markers\",\"name\":\"C\",\"text\":\"\",\"x\":[-0.761538621205789,-0.7095884634062892,-1.87542527271739,-0.5065020746548108,1.35496259011185,-0.026882085442824027,0.3970926315800366,0.07930693556886965,-0.41651464393472665,-2.1276514696138085,0.7820816143304232,-0.46474335159908536,-1.9107278629738271,-0.5851839091377247,-0.6977177817635527,-2.4805654165741604,0.30130380247970456,-1.2057408655541713,0.975851335324599,0.935008023807403,0.6521460449304588,-0.16948993321802375,-0.6290415454217887,1.8582365753048842,0.519562575788573,0.21804135002318595,-0.6493577537881481,-0.911446297830199,-0.21094657901329192,1.925812415310548,-0.8602460299440234,0.5127438996267528,0.8813742038543424,-0.13573916517822807,-0.9270599803167954,1.0650535344599334,-0.5460679312679347,1.0117070089099622,-0.9777694153477007,0.35845385850155465,-0.6132408377130129,0.10871499849728981,0.40127567610710363,-0.6487046715630305,-0.8973289755839094,-0.4771539232923262,1.4138765300447418,0.044259693659036675,1.2456282221444395,0.6788475597193058,-0.9965791035290003,0.1608038512426127,-1.7273251122882962,0.9478549448318161,0.1957383843350601,0.20494952842470757,0.8557551042032416,1.2239513555987374,-0.8418915016769701,-0.7584061431982285,1.038055563573445,-1.2160740963752874,-0.4973699854095074,-0.9284199605478466,-0.5289637024381451,0.6079527884027386,-1.281229580560239,-0.09569023796817881,0.4651359310332824,0.35533232231510486,0.7261215905295191,-1.0520852792461017,2.6876313437622183,-1.717725205859949,-0.9111405606483214,-0.29153549489613173,-0.5701590060528048,0.05584067025163339,-1.1098732423331124,-0.9036945129123467,0.4501068865111808,0.825544257138231,0.4653860586330535,-1.1603307220031898,2.2810419206827284,0.11951586146702434,-0.2861420901734789,-1.3116881377337695,-0.32994936800329144,0.6197776617277426,0.2583173154079452,-0.4729733090730053,-0.07433117747413986,0.6221367200900845,-0.6301195699345721,-1.05620362506392,-1.0813433380501374,-0.6526823581710206,-0.40308048066321017,-0.19307390859447687],\"xaxis\":\"x9\",\"y\":[0.8699199414489964,0.1919528666269509,0.3093969885172038,-2.1924299710634836,-0.09404555027642499,-0.44616700382215535,0.5911062942320391,-0.11222987530467411,0.8221513863038997,-1.3394609024912,-0.6540966378140828,-2.647366214634456,-0.8261593146823648,-0.5282738221407467,2.2560010208169174,-0.8944809840239775,1.4404312774926151,1.0038948673282415,-1.4255621578921092,-2.021776176144868,0.3101462275885388,1.3172858612439269,-0.40206335140303734,0.35274271079727726,-1.1796864336025494,-0.8233313364450072,-0.761867615189702,0.9240591598013932,0.7929419871257162,-1.545191462344122,0.8436223213091736,-0.35451091835456444,-0.2662014706847725,-1.6596023876590735,-1.5411043743645112,0.4202935608374834,-0.04436248674158989,0.6214332168767712,1.313981241271157,-0.6021879466734257,-0.5099547957947055,0.07948533295588678,-2.36300982364451,-0.8380611399118977,0.15012427389306565,-0.6699640582887734,-0.7956055043928719,-0.049162235003456664,0.7615336899380856,0.4612575745415876,0.6350534238638107,0.20418876230882374,-0.03135271045951208,-1.6317632670428215,0.12824357341840992,-0.7754360680942636,0.592942313812262,-0.9810425893436158,-0.0552939096891739,-1.315533891912153,-2.6668417818822423,1.1112548065054297,-1.2239925033791574,-1.6701983878767488,-1.079857264546952,-1.755575016943559,0.23924537922112582,-1.1704140026544176,0.6016584057907969,-0.573849768968879,0.25647552760965664,1.579553752223997,1.3405315133765805,-0.1413395997516385,-0.39554037187911145,0.06823471847525044,-0.40089963995751504,0.9268459355904448,1.337994149408316,0.015134007930666256,0.5449210338723256,0.7239631740332934,0.2342370873421562,-0.8054791105937634,0.021720198485186568,-0.014231085668760987,1.1563184171040473,0.5366766020887849,-0.0973053665074751,1.268105194587903,-0.3475683830855135,-0.14844232446306793,-1.5293673671478056,0.018728084547423293,1.5098303205313615,0.28462750176330975,-0.1590669767758876,0.0426517799402289,-0.39120217870348256,1.0959531653469556],\"yaxis\":\"y9\",\"type\":\"scatter\"},{\"line\":{\"color\":\"rgba(128, 128, 128, 1.0)\",\"dash\":\"solid\",\"shape\":\"linear\",\"width\":1.3},\"marker\":{\"size\":2,\"symbol\":\"circle\"},\"mode\":\"markers\",\"name\":\"C\",\"text\":\"\",\"x\":[2.0212488155738875,0.7583096657857158,0.690456279047033,-0.5336253666583853,-0.3444448261782787,-1.5007167350721706,1.47417272332828,0.7224922054456843,-0.9523322732880294,-1.2007521411285247,0.17977885829835624,-0.3993877007738916,-0.03594024055892166,0.43672348288119245,-0.40696742781349027,0.2134293668056055,1.7803668779864803,-0.39022504742482833,-1.6383548443486666,-2.285357617815566,0.44741158825359245,-0.2927635506639341,0.4136368844636603,0.8078711083943342,0.2884092876798255,0.4949136350960853,0.7503925352077869,-0.8731681678867933,0.8061604124757041,0.27710798744893084,-0.1582208416581821,-0.9856087371450262,-0.11527233251929478,0.40375922576565254,0.06448225213737395,-1.335774942121669,-0.11807724370888023,-0.9794050934152908,-0.5149681326578647,0.8063573557471728,0.9979072896721226,0.7147261302748834,-0.5182821264572214,-3.1376785914728136,1.0311784055004873,-0.8132771291058926,0.18432068082792719,0.9237360904499204,0.30599407158319486,0.33507477440349753,0.07919280617985913,-0.4232933611080333,0.3558176377425486,-0.9263390939314984,-0.7665872434389798,0.725052038268612,1.1164035544920263,0.18244465783419295,-0.2816778377621261,-0.38687777851277577,0.7727005377999372,0.06711665722470082,0.6742548227152336,0.9763233892497046,0.8214369752267061,0.8494264109004337,-0.3878781331543912,-0.6514852554195295,-1.8920663607417647,-0.8653341210591329,1.3075581912669738,0.7810217429948401,-0.7057405243063345,0.9652829915392097,0.21573636864042325,-0.3421430578373146,1.8610130200091133,-1.8794998483938055,0.7943304837877205,-0.053051118459419344,0.22410566547086927,0.07216085006027313,-0.2754955239090127,1.2590849074647348,1.0139736758249545,0.05570390346374175,-0.7690113262533337,2.1803261836384222,-0.7940812816209243,-1.1111128259709735,-0.3106265064956946,-0.026017216185092323,0.08661658866512632,-0.4717446856472977,0.0449965557198526,0.6638303748533824,0.25766663740266194,-0.6957389173560475,1.5120781751025285,0.6983516103179237],\"xaxis\":\"x10\",\"y\":[0.8699199414489964,0.1919528666269509,0.3093969885172038,-2.1924299710634836,-0.09404555027642499,-0.44616700382215535,0.5911062942320391,-0.11222987530467411,0.8221513863038997,-1.3394609024912,-0.6540966378140828,-2.647366214634456,-0.8261593146823648,-0.5282738221407467,2.2560010208169174,-0.8944809840239775,1.4404312774926151,1.0038948673282415,-1.4255621578921092,-2.021776176144868,0.3101462275885388,1.3172858612439269,-0.40206335140303734,0.35274271079727726,-1.1796864336025494,-0.8233313364450072,-0.761867615189702,0.9240591598013932,0.7929419871257162,-1.545191462344122,0.8436223213091736,-0.35451091835456444,-0.2662014706847725,-1.6596023876590735,-1.5411043743645112,0.4202935608374834,-0.04436248674158989,0.6214332168767712,1.313981241271157,-0.6021879466734257,-0.5099547957947055,0.07948533295588678,-2.36300982364451,-0.8380611399118977,0.15012427389306565,-0.6699640582887734,-0.7956055043928719,-0.049162235003456664,0.7615336899380856,0.4612575745415876,0.6350534238638107,0.20418876230882374,-0.03135271045951208,-1.6317632670428215,0.12824357341840992,-0.7754360680942636,0.592942313812262,-0.9810425893436158,-0.0552939096891739,-1.315533891912153,-2.6668417818822423,1.1112548065054297,-1.2239925033791574,-1.6701983878767488,-1.079857264546952,-1.755575016943559,0.23924537922112582,-1.1704140026544176,0.6016584057907969,-0.573849768968879,0.25647552760965664,1.579553752223997,1.3405315133765805,-0.1413395997516385,-0.39554037187911145,0.06823471847525044,-0.40089963995751504,0.9268459355904448,1.337994149408316,0.015134007930666256,0.5449210338723256,0.7239631740332934,0.2342370873421562,-0.8054791105937634,0.021720198485186568,-0.014231085668760987,1.1563184171040473,0.5366766020887849,-0.0973053665074751,1.268105194587903,-0.3475683830855135,-0.14844232446306793,-1.5293673671478056,0.018728084547423293,1.5098303205313615,0.28462750176330975,-0.1590669767758876,0.0426517799402289,-0.39120217870348256,1.0959531653469556],\"yaxis\":\"y10\",\"type\":\"scatter\"},{\"histfunc\":\"count\",\"histnorm\":\"\",\"marker\":{\"color\":\"rgba(50, 171, 96, 1.0)\",\"line\":{\"color\":\"#4D5663\",\"width\":1.3}},\"name\":\"C\",\"nbinsx\":10,\"opacity\":0.8,\"orientation\":\"v\",\"x\":[0.8699199414489964,0.1919528666269509,0.3093969885172038,-2.1924299710634836,-0.09404555027642499,-0.44616700382215535,0.5911062942320391,-0.11222987530467411,0.8221513863038997,-1.3394609024912,-0.6540966378140828,-2.647366214634456,-0.8261593146823648,-0.5282738221407467,2.2560010208169174,-0.8944809840239775,1.4404312774926151,1.0038948673282415,-1.4255621578921092,-2.021776176144868,0.3101462275885388,1.3172858612439269,-0.40206335140303734,0.35274271079727726,-1.1796864336025494,-0.8233313364450072,-0.761867615189702,0.9240591598013932,0.7929419871257162,-1.545191462344122,0.8436223213091736,-0.35451091835456444,-0.2662014706847725,-1.6596023876590735,-1.5411043743645112,0.4202935608374834,-0.04436248674158989,0.6214332168767712,1.313981241271157,-0.6021879466734257,-0.5099547957947055,0.07948533295588678,-2.36300982364451,-0.8380611399118977,0.15012427389306565,-0.6699640582887734,-0.7956055043928719,-0.049162235003456664,0.7615336899380856,0.4612575745415876,0.6350534238638107,0.20418876230882374,-0.03135271045951208,-1.6317632670428215,0.12824357341840992,-0.7754360680942636,0.592942313812262,-0.9810425893436158,-0.0552939096891739,-1.315533891912153,-2.6668417818822423,1.1112548065054297,-1.2239925033791574,-1.6701983878767488,-1.079857264546952,-1.755575016943559,0.23924537922112582,-1.1704140026544176,0.6016584057907969,-0.573849768968879,0.25647552760965664,1.579553752223997,1.3405315133765805,-0.1413395997516385,-0.39554037187911145,0.06823471847525044,-0.40089963995751504,0.9268459355904448,1.337994149408316,0.015134007930666256,0.5449210338723256,0.7239631740332934,0.2342370873421562,-0.8054791105937634,0.021720198485186568,-0.014231085668760987,1.1563184171040473,0.5366766020887849,-0.0973053665074751,1.268105194587903,-0.3475683830855135,-0.14844232446306793,-1.5293673671478056,0.018728084547423293,1.5098303205313615,0.28462750176330975,-0.1590669767758876,0.0426517799402289,-0.39120217870348256,1.0959531653469556],\"xaxis\":\"x11\",\"yaxis\":\"y11\",\"type\":\"histogram\"},{\"line\":{\"color\":\"rgba(128, 128, 128, 1.0)\",\"dash\":\"solid\",\"shape\":\"linear\",\"width\":1.3},\"marker\":{\"size\":2,\"symbol\":\"circle\"},\"mode\":\"markers\",\"name\":\"C\",\"text\":\"\",\"x\":[-1.4824837499244081,-1.6378759904591504,-0.7326854957473273,-0.10550829105630619,-0.06991350159311006,0.46163763597263535,0.6004277107442788,0.39676296852325393,0.48288648043382,-1.6077837536067379,1.9386209836363804,0.7193966124404083,0.6311036516809552,-0.66021129157521,-0.8326032928453405,-0.45698882511325306,0.7368609508803521,0.6799541405694176,1.1105561940094641,1.0413711496143612,0.230439276257338,1.619399446733085,-0.2552239243728746,0.5718800408477457,-0.8106945893565702,-0.14545456549034066,-2.0392666801115684,-0.26806053833991905,-1.9210744740220125,1.4756213242041665,0.31139315447033383,-2.396823658888235,1.1974944254877904,0.9413978277969611,-2.577206952185167,1.1224890080897332,0.40618149122564207,1.2161981884750508,0.008953323559096064,0.07358259777689787,-0.3386919303123021,0.6630157763838277,0.5061288843568232,-0.6679659295985579,-1.0165535350553254,-0.2591339080864048,1.3430897920882647,-0.4486049234063091,3.139981087756818,0.30466861631842845,-0.5235439773795593,-0.3730989800904381,1.1920474220833062,0.11399599805152362,1.475375600003024,-0.4220684689790923,-1.1624893746214093,-1.8680872294454245,0.3838698413367046,1.7844036544735724,0.9383329993184499,0.3762429818126024,0.8629274833359641,0.11236342274731556,0.11182647169785713,0.05797682876587672,1.1898895052028797,1.5675532609104892,-1.3437750048468564,-0.3750533216879752,0.5800973230827036,-0.3228853202727669,0.5754027685683331,0.3988488178053489,-0.9021493253552805,-0.4727531209574199,2.073525090198343,-0.5956824782786153,-0.7175313463748774,-0.28584859429294823,1.4139676176621516,0.998735673189787,-0.13359127727415754,0.39837527281682855,-1.2772074278830792,-1.0207846187390759,-1.0621193282470969,0.519605188124482,-0.5371215088488999,-0.5474053178339106,1.0877773289297972,1.617424588262552,-3.0834156610107017,0.651466772014326,0.4128791893328902,0.5993012622530658,1.2372903649733404,-0.23562990778944215,0.10524843776164242,-0.13106830823608387],\"xaxis\":\"x12\",\"y\":[0.8699199414489964,0.1919528666269509,0.3093969885172038,-2.1924299710634836,-0.09404555027642499,-0.44616700382215535,0.5911062942320391,-0.11222987530467411,0.8221513863038997,-1.3394609024912,-0.6540966378140828,-2.647366214634456,-0.8261593146823648,-0.5282738221407467,2.2560010208169174,-0.8944809840239775,1.4404312774926151,1.0038948673282415,-1.4255621578921092,-2.021776176144868,0.3101462275885388,1.3172858612439269,-0.40206335140303734,0.35274271079727726,-1.1796864336025494,-0.8233313364450072,-0.761867615189702,0.9240591598013932,0.7929419871257162,-1.545191462344122,0.8436223213091736,-0.35451091835456444,-0.2662014706847725,-1.6596023876590735,-1.5411043743645112,0.4202935608374834,-0.04436248674158989,0.6214332168767712,1.313981241271157,-0.6021879466734257,-0.5099547957947055,0.07948533295588678,-2.36300982364451,-0.8380611399118977,0.15012427389306565,-0.6699640582887734,-0.7956055043928719,-0.049162235003456664,0.7615336899380856,0.4612575745415876,0.6350534238638107,0.20418876230882374,-0.03135271045951208,-1.6317632670428215,0.12824357341840992,-0.7754360680942636,0.592942313812262,-0.9810425893436158,-0.0552939096891739,-1.315533891912153,-2.6668417818822423,1.1112548065054297,-1.2239925033791574,-1.6701983878767488,-1.079857264546952,-1.755575016943559,0.23924537922112582,-1.1704140026544176,0.6016584057907969,-0.573849768968879,0.25647552760965664,1.579553752223997,1.3405315133765805,-0.1413395997516385,-0.39554037187911145,0.06823471847525044,-0.40089963995751504,0.9268459355904448,1.337994149408316,0.015134007930666256,0.5449210338723256,0.7239631740332934,0.2342370873421562,-0.8054791105937634,0.021720198485186568,-0.014231085668760987,1.1563184171040473,0.5366766020887849,-0.0973053665074751,1.268105194587903,-0.3475683830855135,-0.14844232446306793,-1.5293673671478056,0.018728084547423293,1.5098303205313615,0.28462750176330975,-0.1590669767758876,0.0426517799402289,-0.39120217870348256,1.0959531653469556],\"yaxis\":\"y12\",\"type\":\"scatter\"},{\"line\":{\"color\":\"rgba(128, 128, 128, 1.0)\",\"dash\":\"solid\",\"shape\":\"linear\",\"width\":1.3},\"marker\":{\"size\":2,\"symbol\":\"circle\"},\"mode\":\"markers\",\"name\":\"D\",\"text\":\"\",\"x\":[-0.761538621205789,-0.7095884634062892,-1.87542527271739,-0.5065020746548108,1.35496259011185,-0.026882085442824027,0.3970926315800366,0.07930693556886965,-0.41651464393472665,-2.1276514696138085,0.7820816143304232,-0.46474335159908536,-1.9107278629738271,-0.5851839091377247,-0.6977177817635527,-2.4805654165741604,0.30130380247970456,-1.2057408655541713,0.975851335324599,0.935008023807403,0.6521460449304588,-0.16948993321802375,-0.6290415454217887,1.8582365753048842,0.519562575788573,0.21804135002318595,-0.6493577537881481,-0.911446297830199,-0.21094657901329192,1.925812415310548,-0.8602460299440234,0.5127438996267528,0.8813742038543424,-0.13573916517822807,-0.9270599803167954,1.0650535344599334,-0.5460679312679347,1.0117070089099622,-0.9777694153477007,0.35845385850155465,-0.6132408377130129,0.10871499849728981,0.40127567610710363,-0.6487046715630305,-0.8973289755839094,-0.4771539232923262,1.4138765300447418,0.044259693659036675,1.2456282221444395,0.6788475597193058,-0.9965791035290003,0.1608038512426127,-1.7273251122882962,0.9478549448318161,0.1957383843350601,0.20494952842470757,0.8557551042032416,1.2239513555987374,-0.8418915016769701,-0.7584061431982285,1.038055563573445,-1.2160740963752874,-0.4973699854095074,-0.9284199605478466,-0.5289637024381451,0.6079527884027386,-1.281229580560239,-0.09569023796817881,0.4651359310332824,0.35533232231510486,0.7261215905295191,-1.0520852792461017,2.6876313437622183,-1.717725205859949,-0.9111405606483214,-0.29153549489613173,-0.5701590060528048,0.05584067025163339,-1.1098732423331124,-0.9036945129123467,0.4501068865111808,0.825544257138231,0.4653860586330535,-1.1603307220031898,2.2810419206827284,0.11951586146702434,-0.2861420901734789,-1.3116881377337695,-0.32994936800329144,0.6197776617277426,0.2583173154079452,-0.4729733090730053,-0.07433117747413986,0.6221367200900845,-0.6301195699345721,-1.05620362506392,-1.0813433380501374,-0.6526823581710206,-0.40308048066321017,-0.19307390859447687],\"xaxis\":\"x13\",\"y\":[-1.4824837499244081,-1.6378759904591504,-0.7326854957473273,-0.10550829105630619,-0.06991350159311006,0.46163763597263535,0.6004277107442788,0.39676296852325393,0.48288648043382,-1.6077837536067379,1.9386209836363804,0.7193966124404083,0.6311036516809552,-0.66021129157521,-0.8326032928453405,-0.45698882511325306,0.7368609508803521,0.6799541405694176,1.1105561940094641,1.0413711496143612,0.230439276257338,1.619399446733085,-0.2552239243728746,0.5718800408477457,-0.8106945893565702,-0.14545456549034066,-2.0392666801115684,-0.26806053833991905,-1.9210744740220125,1.4756213242041665,0.31139315447033383,-2.396823658888235,1.1974944254877904,0.9413978277969611,-2.577206952185167,1.1224890080897332,0.40618149122564207,1.2161981884750508,0.008953323559096064,0.07358259777689787,-0.3386919303123021,0.6630157763838277,0.5061288843568232,-0.6679659295985579,-1.0165535350553254,-0.2591339080864048,1.3430897920882647,-0.4486049234063091,3.139981087756818,0.30466861631842845,-0.5235439773795593,-0.3730989800904381,1.1920474220833062,0.11399599805152362,1.475375600003024,-0.4220684689790923,-1.1624893746214093,-1.8680872294454245,0.3838698413367046,1.7844036544735724,0.9383329993184499,0.3762429818126024,0.8629274833359641,0.11236342274731556,0.11182647169785713,0.05797682876587672,1.1898895052028797,1.5675532609104892,-1.3437750048468564,-0.3750533216879752,0.5800973230827036,-0.3228853202727669,0.5754027685683331,0.3988488178053489,-0.9021493253552805,-0.4727531209574199,2.073525090198343,-0.5956824782786153,-0.7175313463748774,-0.28584859429294823,1.4139676176621516,0.998735673189787,-0.13359127727415754,0.39837527281682855,-1.2772074278830792,-1.0207846187390759,-1.0621193282470969,0.519605188124482,-0.5371215088488999,-0.5474053178339106,1.0877773289297972,1.617424588262552,-3.0834156610107017,0.651466772014326,0.4128791893328902,0.5993012622530658,1.2372903649733404,-0.23562990778944215,0.10524843776164242,-0.13106830823608387],\"yaxis\":\"y13\",\"type\":\"scatter\"},{\"line\":{\"color\":\"rgba(128, 128, 128, 1.0)\",\"dash\":\"solid\",\"shape\":\"linear\",\"width\":1.3},\"marker\":{\"size\":2,\"symbol\":\"circle\"},\"mode\":\"markers\",\"name\":\"D\",\"text\":\"\",\"x\":[2.0212488155738875,0.7583096657857158,0.690456279047033,-0.5336253666583853,-0.3444448261782787,-1.5007167350721706,1.47417272332828,0.7224922054456843,-0.9523322732880294,-1.2007521411285247,0.17977885829835624,-0.3993877007738916,-0.03594024055892166,0.43672348288119245,-0.40696742781349027,0.2134293668056055,1.7803668779864803,-0.39022504742482833,-1.6383548443486666,-2.285357617815566,0.44741158825359245,-0.2927635506639341,0.4136368844636603,0.8078711083943342,0.2884092876798255,0.4949136350960853,0.7503925352077869,-0.8731681678867933,0.8061604124757041,0.27710798744893084,-0.1582208416581821,-0.9856087371450262,-0.11527233251929478,0.40375922576565254,0.06448225213737395,-1.335774942121669,-0.11807724370888023,-0.9794050934152908,-0.5149681326578647,0.8063573557471728,0.9979072896721226,0.7147261302748834,-0.5182821264572214,-3.1376785914728136,1.0311784055004873,-0.8132771291058926,0.18432068082792719,0.9237360904499204,0.30599407158319486,0.33507477440349753,0.07919280617985913,-0.4232933611080333,0.3558176377425486,-0.9263390939314984,-0.7665872434389798,0.725052038268612,1.1164035544920263,0.18244465783419295,-0.2816778377621261,-0.38687777851277577,0.7727005377999372,0.06711665722470082,0.6742548227152336,0.9763233892497046,0.8214369752267061,0.8494264109004337,-0.3878781331543912,-0.6514852554195295,-1.8920663607417647,-0.8653341210591329,1.3075581912669738,0.7810217429948401,-0.7057405243063345,0.9652829915392097,0.21573636864042325,-0.3421430578373146,1.8610130200091133,-1.8794998483938055,0.7943304837877205,-0.053051118459419344,0.22410566547086927,0.07216085006027313,-0.2754955239090127,1.2590849074647348,1.0139736758249545,0.05570390346374175,-0.7690113262533337,2.1803261836384222,-0.7940812816209243,-1.1111128259709735,-0.3106265064956946,-0.026017216185092323,0.08661658866512632,-0.4717446856472977,0.0449965557198526,0.6638303748533824,0.25766663740266194,-0.6957389173560475,1.5120781751025285,0.6983516103179237],\"xaxis\":\"x14\",\"y\":[-1.4824837499244081,-1.6378759904591504,-0.7326854957473273,-0.10550829105630619,-0.06991350159311006,0.46163763597263535,0.6004277107442788,0.39676296852325393,0.48288648043382,-1.6077837536067379,1.9386209836363804,0.7193966124404083,0.6311036516809552,-0.66021129157521,-0.8326032928453405,-0.45698882511325306,0.7368609508803521,0.6799541405694176,1.1105561940094641,1.0413711496143612,0.230439276257338,1.619399446733085,-0.2552239243728746,0.5718800408477457,-0.8106945893565702,-0.14545456549034066,-2.0392666801115684,-0.26806053833991905,-1.9210744740220125,1.4756213242041665,0.31139315447033383,-2.396823658888235,1.1974944254877904,0.9413978277969611,-2.577206952185167,1.1224890080897332,0.40618149122564207,1.2161981884750508,0.008953323559096064,0.07358259777689787,-0.3386919303123021,0.6630157763838277,0.5061288843568232,-0.6679659295985579,-1.0165535350553254,-0.2591339080864048,1.3430897920882647,-0.4486049234063091,3.139981087756818,0.30466861631842845,-0.5235439773795593,-0.3730989800904381,1.1920474220833062,0.11399599805152362,1.475375600003024,-0.4220684689790923,-1.1624893746214093,-1.8680872294454245,0.3838698413367046,1.7844036544735724,0.9383329993184499,0.3762429818126024,0.8629274833359641,0.11236342274731556,0.11182647169785713,0.05797682876587672,1.1898895052028797,1.5675532609104892,-1.3437750048468564,-0.3750533216879752,0.5800973230827036,-0.3228853202727669,0.5754027685683331,0.3988488178053489,-0.9021493253552805,-0.4727531209574199,2.073525090198343,-0.5956824782786153,-0.7175313463748774,-0.28584859429294823,1.4139676176621516,0.998735673189787,-0.13359127727415754,0.39837527281682855,-1.2772074278830792,-1.0207846187390759,-1.0621193282470969,0.519605188124482,-0.5371215088488999,-0.5474053178339106,1.0877773289297972,1.617424588262552,-3.0834156610107017,0.651466772014326,0.4128791893328902,0.5993012622530658,1.2372903649733404,-0.23562990778944215,0.10524843776164242,-0.13106830823608387],\"yaxis\":\"y14\",\"type\":\"scatter\"},{\"line\":{\"color\":\"rgba(128, 128, 128, 1.0)\",\"dash\":\"solid\",\"shape\":\"linear\",\"width\":1.3},\"marker\":{\"size\":2,\"symbol\":\"circle\"},\"mode\":\"markers\",\"name\":\"D\",\"text\":\"\",\"x\":[0.8699199414489964,0.1919528666269509,0.3093969885172038,-2.1924299710634836,-0.09404555027642499,-0.44616700382215535,0.5911062942320391,-0.11222987530467411,0.8221513863038997,-1.3394609024912,-0.6540966378140828,-2.647366214634456,-0.8261593146823648,-0.5282738221407467,2.2560010208169174,-0.8944809840239775,1.4404312774926151,1.0038948673282415,-1.4255621578921092,-2.021776176144868,0.3101462275885388,1.3172858612439269,-0.40206335140303734,0.35274271079727726,-1.1796864336025494,-0.8233313364450072,-0.761867615189702,0.9240591598013932,0.7929419871257162,-1.545191462344122,0.8436223213091736,-0.35451091835456444,-0.2662014706847725,-1.6596023876590735,-1.5411043743645112,0.4202935608374834,-0.04436248674158989,0.6214332168767712,1.313981241271157,-0.6021879466734257,-0.5099547957947055,0.07948533295588678,-2.36300982364451,-0.8380611399118977,0.15012427389306565,-0.6699640582887734,-0.7956055043928719,-0.049162235003456664,0.7615336899380856,0.4612575745415876,0.6350534238638107,0.20418876230882374,-0.03135271045951208,-1.6317632670428215,0.12824357341840992,-0.7754360680942636,0.592942313812262,-0.9810425893436158,-0.0552939096891739,-1.315533891912153,-2.6668417818822423,1.1112548065054297,-1.2239925033791574,-1.6701983878767488,-1.079857264546952,-1.755575016943559,0.23924537922112582,-1.1704140026544176,0.6016584057907969,-0.573849768968879,0.25647552760965664,1.579553752223997,1.3405315133765805,-0.1413395997516385,-0.39554037187911145,0.06823471847525044,-0.40089963995751504,0.9268459355904448,1.337994149408316,0.015134007930666256,0.5449210338723256,0.7239631740332934,0.2342370873421562,-0.8054791105937634,0.021720198485186568,-0.014231085668760987,1.1563184171040473,0.5366766020887849,-0.0973053665074751,1.268105194587903,-0.3475683830855135,-0.14844232446306793,-1.5293673671478056,0.018728084547423293,1.5098303205313615,0.28462750176330975,-0.1590669767758876,0.0426517799402289,-0.39120217870348256,1.0959531653469556],\"xaxis\":\"x15\",\"y\":[-1.4824837499244081,-1.6378759904591504,-0.7326854957473273,-0.10550829105630619,-0.06991350159311006,0.46163763597263535,0.6004277107442788,0.39676296852325393,0.48288648043382,-1.6077837536067379,1.9386209836363804,0.7193966124404083,0.6311036516809552,-0.66021129157521,-0.8326032928453405,-0.45698882511325306,0.7368609508803521,0.6799541405694176,1.1105561940094641,1.0413711496143612,0.230439276257338,1.619399446733085,-0.2552239243728746,0.5718800408477457,-0.8106945893565702,-0.14545456549034066,-2.0392666801115684,-0.26806053833991905,-1.9210744740220125,1.4756213242041665,0.31139315447033383,-2.396823658888235,1.1974944254877904,0.9413978277969611,-2.577206952185167,1.1224890080897332,0.40618149122564207,1.2161981884750508,0.008953323559096064,0.07358259777689787,-0.3386919303123021,0.6630157763838277,0.5061288843568232,-0.6679659295985579,-1.0165535350553254,-0.2591339080864048,1.3430897920882647,-0.4486049234063091,3.139981087756818,0.30466861631842845,-0.5235439773795593,-0.3730989800904381,1.1920474220833062,0.11399599805152362,1.475375600003024,-0.4220684689790923,-1.1624893746214093,-1.8680872294454245,0.3838698413367046,1.7844036544735724,0.9383329993184499,0.3762429818126024,0.8629274833359641,0.11236342274731556,0.11182647169785713,0.05797682876587672,1.1898895052028797,1.5675532609104892,-1.3437750048468564,-0.3750533216879752,0.5800973230827036,-0.3228853202727669,0.5754027685683331,0.3988488178053489,-0.9021493253552805,-0.4727531209574199,2.073525090198343,-0.5956824782786153,-0.7175313463748774,-0.28584859429294823,1.4139676176621516,0.998735673189787,-0.13359127727415754,0.39837527281682855,-1.2772074278830792,-1.0207846187390759,-1.0621193282470969,0.519605188124482,-0.5371215088488999,-0.5474053178339106,1.0877773289297972,1.617424588262552,-3.0834156610107017,0.651466772014326,0.4128791893328902,0.5993012622530658,1.2372903649733404,-0.23562990778944215,0.10524843776164242,-0.13106830823608387],\"yaxis\":\"y15\",\"type\":\"scatter\"},{\"histfunc\":\"count\",\"histnorm\":\"\",\"marker\":{\"color\":\"rgba(128, 0, 128, 1.0)\",\"line\":{\"color\":\"#4D5663\",\"width\":1.3}},\"name\":\"D\",\"nbinsx\":10,\"opacity\":0.8,\"orientation\":\"v\",\"x\":[-1.4824837499244081,-1.6378759904591504,-0.7326854957473273,-0.10550829105630619,-0.06991350159311006,0.46163763597263535,0.6004277107442788,0.39676296852325393,0.48288648043382,-1.6077837536067379,1.9386209836363804,0.7193966124404083,0.6311036516809552,-0.66021129157521,-0.8326032928453405,-0.45698882511325306,0.7368609508803521,0.6799541405694176,1.1105561940094641,1.0413711496143612,0.230439276257338,1.619399446733085,-0.2552239243728746,0.5718800408477457,-0.8106945893565702,-0.14545456549034066,-2.0392666801115684,-0.26806053833991905,-1.9210744740220125,1.4756213242041665,0.31139315447033383,-2.396823658888235,1.1974944254877904,0.9413978277969611,-2.577206952185167,1.1224890080897332,0.40618149122564207,1.2161981884750508,0.008953323559096064,0.07358259777689787,-0.3386919303123021,0.6630157763838277,0.5061288843568232,-0.6679659295985579,-1.0165535350553254,-0.2591339080864048,1.3430897920882647,-0.4486049234063091,3.139981087756818,0.30466861631842845,-0.5235439773795593,-0.3730989800904381,1.1920474220833062,0.11399599805152362,1.475375600003024,-0.4220684689790923,-1.1624893746214093,-1.8680872294454245,0.3838698413367046,1.7844036544735724,0.9383329993184499,0.3762429818126024,0.8629274833359641,0.11236342274731556,0.11182647169785713,0.05797682876587672,1.1898895052028797,1.5675532609104892,-1.3437750048468564,-0.3750533216879752,0.5800973230827036,-0.3228853202727669,0.5754027685683331,0.3988488178053489,-0.9021493253552805,-0.4727531209574199,2.073525090198343,-0.5956824782786153,-0.7175313463748774,-0.28584859429294823,1.4139676176621516,0.998735673189787,-0.13359127727415754,0.39837527281682855,-1.2772074278830792,-1.0207846187390759,-1.0621193282470969,0.519605188124482,-0.5371215088488999,-0.5474053178339106,1.0877773289297972,1.617424588262552,-3.0834156610107017,0.651466772014326,0.4128791893328902,0.5993012622530658,1.2372903649733404,-0.23562990778944215,0.10524843776164242,-0.13106830823608387],\"xaxis\":\"x16\",\"yaxis\":\"y16\",\"type\":\"histogram\"}],                        {\"bargap\":0.02,\"legend\":{\"bgcolor\":\"#F5F6F9\",\"font\":{\"color\":\"#4D5663\"}},\"paper_bgcolor\":\"#F5F6F9\",\"plot_bgcolor\":\"#F5F6F9\",\"showlegend\":false,\"template\":{\"data\":{\"barpolar\":[{\"marker\":{\"line\":{\"color\":\"#E5ECF6\",\"width\":0.5},\"pattern\":{\"fillmode\":\"overlay\",\"size\":10,\"solidity\":0.2}},\"type\":\"barpolar\"}],\"bar\":[{\"error_x\":{\"color\":\"#2a3f5f\"},\"error_y\":{\"color\":\"#2a3f5f\"},\"marker\":{\"line\":{\"color\":\"#E5ECF6\",\"width\":0.5},\"pattern\":{\"fillmode\":\"overlay\",\"size\":10,\"solidity\":0.2}},\"type\":\"bar\"}],\"carpet\":[{\"aaxis\":{\"endlinecolor\":\"#2a3f5f\",\"gridcolor\":\"white\",\"linecolor\":\"white\",\"minorgridcolor\":\"white\",\"startlinecolor\":\"#2a3f5f\"},\"baxis\":{\"endlinecolor\":\"#2a3f5f\",\"gridcolor\":\"white\",\"linecolor\":\"white\",\"minorgridcolor\":\"white\",\"startlinecolor\":\"#2a3f5f\"},\"type\":\"carpet\"}],\"choropleth\":[{\"colorbar\":{\"outlinewidth\":0,\"ticks\":\"\"},\"type\":\"choropleth\"}],\"contourcarpet\":[{\"colorbar\":{\"outlinewidth\":0,\"ticks\":\"\"},\"type\":\"contourcarpet\"}],\"contour\":[{\"colorbar\":{\"outlinewidth\":0,\"ticks\":\"\"},\"colorscale\":[[0.0,\"#0d0887\"],[0.1111111111111111,\"#46039f\"],[0.2222222222222222,\"#7201a8\"],[0.3333333333333333,\"#9c179e\"],[0.4444444444444444,\"#bd3786\"],[0.5555555555555556,\"#d8576b\"],[0.6666666666666666,\"#ed7953\"],[0.7777777777777778,\"#fb9f3a\"],[0.8888888888888888,\"#fdca26\"],[1.0,\"#f0f921\"]],\"type\":\"contour\"}],\"heatmapgl\":[{\"colorbar\":{\"outlinewidth\":0,\"ticks\":\"\"},\"colorscale\":[[0.0,\"#0d0887\"],[0.1111111111111111,\"#46039f\"],[0.2222222222222222,\"#7201a8\"],[0.3333333333333333,\"#9c179e\"],[0.4444444444444444,\"#bd3786\"],[0.5555555555555556,\"#d8576b\"],[0.6666666666666666,\"#ed7953\"],[0.7777777777777778,\"#fb9f3a\"],[0.8888888888888888,\"#fdca26\"],[1.0,\"#f0f921\"]],\"type\":\"heatmapgl\"}],\"heatmap\":[{\"colorbar\":{\"outlinewidth\":0,\"ticks\":\"\"},\"colorscale\":[[0.0,\"#0d0887\"],[0.1111111111111111,\"#46039f\"],[0.2222222222222222,\"#7201a8\"],[0.3333333333333333,\"#9c179e\"],[0.4444444444444444,\"#bd3786\"],[0.5555555555555556,\"#d8576b\"],[0.6666666666666666,\"#ed7953\"],[0.7777777777777778,\"#fb9f3a\"],[0.8888888888888888,\"#fdca26\"],[1.0,\"#f0f921\"]],\"type\":\"heatmap\"}],\"histogram2dcontour\":[{\"colorbar\":{\"outlinewidth\":0,\"ticks\":\"\"},\"colorscale\":[[0.0,\"#0d0887\"],[0.1111111111111111,\"#46039f\"],[0.2222222222222222,\"#7201a8\"],[0.3333333333333333,\"#9c179e\"],[0.4444444444444444,\"#bd3786\"],[0.5555555555555556,\"#d8576b\"],[0.6666666666666666,\"#ed7953\"],[0.7777777777777778,\"#fb9f3a\"],[0.8888888888888888,\"#fdca26\"],[1.0,\"#f0f921\"]],\"type\":\"histogram2dcontour\"}],\"histogram2d\":[{\"colorbar\":{\"outlinewidth\":0,\"ticks\":\"\"},\"colorscale\":[[0.0,\"#0d0887\"],[0.1111111111111111,\"#46039f\"],[0.2222222222222222,\"#7201a8\"],[0.3333333333333333,\"#9c179e\"],[0.4444444444444444,\"#bd3786\"],[0.5555555555555556,\"#d8576b\"],[0.6666666666666666,\"#ed7953\"],[0.7777777777777778,\"#fb9f3a\"],[0.8888888888888888,\"#fdca26\"],[1.0,\"#f0f921\"]],\"type\":\"histogram2d\"}],\"histogram\":[{\"marker\":{\"pattern\":{\"fillmode\":\"overlay\",\"size\":10,\"solidity\":0.2}},\"type\":\"histogram\"}],\"mesh3d\":[{\"colorbar\":{\"outlinewidth\":0,\"ticks\":\"\"},\"type\":\"mesh3d\"}],\"parcoords\":[{\"line\":{\"colorbar\":{\"outlinewidth\":0,\"ticks\":\"\"}},\"type\":\"parcoords\"}],\"pie\":[{\"automargin\":true,\"type\":\"pie\"}],\"scatter3d\":[{\"line\":{\"colorbar\":{\"outlinewidth\":0,\"ticks\":\"\"}},\"marker\":{\"colorbar\":{\"outlinewidth\":0,\"ticks\":\"\"}},\"type\":\"scatter3d\"}],\"scattercarpet\":[{\"marker\":{\"colorbar\":{\"outlinewidth\":0,\"ticks\":\"\"}},\"type\":\"scattercarpet\"}],\"scattergeo\":[{\"marker\":{\"colorbar\":{\"outlinewidth\":0,\"ticks\":\"\"}},\"type\":\"scattergeo\"}],\"scattergl\":[{\"marker\":{\"colorbar\":{\"outlinewidth\":0,\"ticks\":\"\"}},\"type\":\"scattergl\"}],\"scattermapbox\":[{\"marker\":{\"colorbar\":{\"outlinewidth\":0,\"ticks\":\"\"}},\"type\":\"scattermapbox\"}],\"scatterpolargl\":[{\"marker\":{\"colorbar\":{\"outlinewidth\":0,\"ticks\":\"\"}},\"type\":\"scatterpolargl\"}],\"scatterpolar\":[{\"marker\":{\"colorbar\":{\"outlinewidth\":0,\"ticks\":\"\"}},\"type\":\"scatterpolar\"}],\"scatter\":[{\"fillpattern\":{\"fillmode\":\"overlay\",\"size\":10,\"solidity\":0.2},\"type\":\"scatter\"}],\"scatterternary\":[{\"marker\":{\"colorbar\":{\"outlinewidth\":0,\"ticks\":\"\"}},\"type\":\"scatterternary\"}],\"surface\":[{\"colorbar\":{\"outlinewidth\":0,\"ticks\":\"\"},\"colorscale\":[[0.0,\"#0d0887\"],[0.1111111111111111,\"#46039f\"],[0.2222222222222222,\"#7201a8\"],[0.3333333333333333,\"#9c179e\"],[0.4444444444444444,\"#bd3786\"],[0.5555555555555556,\"#d8576b\"],[0.6666666666666666,\"#ed7953\"],[0.7777777777777778,\"#fb9f3a\"],[0.8888888888888888,\"#fdca26\"],[1.0,\"#f0f921\"]],\"type\":\"surface\"}],\"table\":[{\"cells\":{\"fill\":{\"color\":\"#EBF0F8\"},\"line\":{\"color\":\"white\"}},\"header\":{\"fill\":{\"color\":\"#C8D4E3\"},\"line\":{\"color\":\"white\"}},\"type\":\"table\"}]},\"layout\":{\"annotationdefaults\":{\"arrowcolor\":\"#2a3f5f\",\"arrowhead\":0,\"arrowwidth\":1},\"autotypenumbers\":\"strict\",\"coloraxis\":{\"colorbar\":{\"outlinewidth\":0,\"ticks\":\"\"}},\"colorscale\":{\"diverging\":[[0,\"#8e0152\"],[0.1,\"#c51b7d\"],[0.2,\"#de77ae\"],[0.3,\"#f1b6da\"],[0.4,\"#fde0ef\"],[0.5,\"#f7f7f7\"],[0.6,\"#e6f5d0\"],[0.7,\"#b8e186\"],[0.8,\"#7fbc41\"],[0.9,\"#4d9221\"],[1,\"#276419\"]],\"sequential\":[[0.0,\"#0d0887\"],[0.1111111111111111,\"#46039f\"],[0.2222222222222222,\"#7201a8\"],[0.3333333333333333,\"#9c179e\"],[0.4444444444444444,\"#bd3786\"],[0.5555555555555556,\"#d8576b\"],[0.6666666666666666,\"#ed7953\"],[0.7777777777777778,\"#fb9f3a\"],[0.8888888888888888,\"#fdca26\"],[1.0,\"#f0f921\"]],\"sequentialminus\":[[0.0,\"#0d0887\"],[0.1111111111111111,\"#46039f\"],[0.2222222222222222,\"#7201a8\"],[0.3333333333333333,\"#9c179e\"],[0.4444444444444444,\"#bd3786\"],[0.5555555555555556,\"#d8576b\"],[0.6666666666666666,\"#ed7953\"],[0.7777777777777778,\"#fb9f3a\"],[0.8888888888888888,\"#fdca26\"],[1.0,\"#f0f921\"]]},\"colorway\":[\"#636efa\",\"#EF553B\",\"#00cc96\",\"#ab63fa\",\"#FFA15A\",\"#19d3f3\",\"#FF6692\",\"#B6E880\",\"#FF97FF\",\"#FECB52\"],\"font\":{\"color\":\"#2a3f5f\"},\"geo\":{\"bgcolor\":\"white\",\"lakecolor\":\"white\",\"landcolor\":\"#E5ECF6\",\"showlakes\":true,\"showland\":true,\"subunitcolor\":\"white\"},\"hoverlabel\":{\"align\":\"left\"},\"hovermode\":\"closest\",\"mapbox\":{\"style\":\"light\"},\"paper_bgcolor\":\"white\",\"plot_bgcolor\":\"#E5ECF6\",\"polar\":{\"angularaxis\":{\"gridcolor\":\"white\",\"linecolor\":\"white\",\"ticks\":\"\"},\"bgcolor\":\"#E5ECF6\",\"radialaxis\":{\"gridcolor\":\"white\",\"linecolor\":\"white\",\"ticks\":\"\"}},\"scene\":{\"xaxis\":{\"backgroundcolor\":\"#E5ECF6\",\"gridcolor\":\"white\",\"gridwidth\":2,\"linecolor\":\"white\",\"showbackground\":true,\"ticks\":\"\",\"zerolinecolor\":\"white\"},\"yaxis\":{\"backgroundcolor\":\"#E5ECF6\",\"gridcolor\":\"white\",\"gridwidth\":2,\"linecolor\":\"white\",\"showbackground\":true,\"ticks\":\"\",\"zerolinecolor\":\"white\"},\"zaxis\":{\"backgroundcolor\":\"#E5ECF6\",\"gridcolor\":\"white\",\"gridwidth\":2,\"linecolor\":\"white\",\"showbackground\":true,\"ticks\":\"\",\"zerolinecolor\":\"white\"}},\"shapedefaults\":{\"line\":{\"color\":\"#2a3f5f\"}},\"ternary\":{\"aaxis\":{\"gridcolor\":\"white\",\"linecolor\":\"white\",\"ticks\":\"\"},\"baxis\":{\"gridcolor\":\"white\",\"linecolor\":\"white\",\"ticks\":\"\"},\"bgcolor\":\"#E5ECF6\",\"caxis\":{\"gridcolor\":\"white\",\"linecolor\":\"white\",\"ticks\":\"\"}},\"title\":{\"x\":0.05},\"xaxis\":{\"automargin\":true,\"gridcolor\":\"white\",\"linecolor\":\"white\",\"ticks\":\"\",\"title\":{\"standoff\":15},\"zerolinecolor\":\"white\",\"zerolinewidth\":2},\"yaxis\":{\"automargin\":true,\"gridcolor\":\"white\",\"linecolor\":\"white\",\"ticks\":\"\",\"title\":{\"standoff\":15},\"zerolinecolor\":\"white\",\"zerolinewidth\":2}}},\"title\":{\"font\":{\"color\":\"#4D5663\"}},\"xaxis\":{\"anchor\":\"y\",\"domain\":[0.0,0.2125],\"gridcolor\":\"#E1E5ED\",\"showgrid\":false,\"tickfont\":{\"color\":\"#4D5663\"},\"title\":{\"font\":{\"color\":\"#4D5663\"},\"text\":\"\"},\"zerolinecolor\":\"#E1E5ED\"},\"yaxis\":{\"anchor\":\"x\",\"domain\":[0.8025,1.0],\"gridcolor\":\"#E1E5ED\",\"showgrid\":false,\"tickfont\":{\"color\":\"#4D5663\"},\"title\":{\"font\":{\"color\":\"#4D5663\"},\"text\":\"\"},\"zerolinecolor\":\"#E1E5ED\"},\"xaxis2\":{\"anchor\":\"y2\",\"domain\":[0.2625,0.475],\"gridcolor\":\"#E1E5ED\",\"showgrid\":false,\"tickfont\":{\"color\":\"#4D5663\"},\"title\":{\"font\":{\"color\":\"#4D5663\"},\"text\":\"\"},\"zerolinecolor\":\"#E1E5ED\"},\"yaxis2\":{\"anchor\":\"x2\",\"domain\":[0.8025,1.0],\"gridcolor\":\"#E1E5ED\",\"showgrid\":false,\"tickfont\":{\"color\":\"#4D5663\"},\"title\":{\"font\":{\"color\":\"#4D5663\"},\"text\":\"\"},\"zerolinecolor\":\"#E1E5ED\"},\"xaxis3\":{\"anchor\":\"y3\",\"domain\":[0.525,0.7375],\"gridcolor\":\"#E1E5ED\",\"showgrid\":false,\"tickfont\":{\"color\":\"#4D5663\"},\"title\":{\"font\":{\"color\":\"#4D5663\"},\"text\":\"\"},\"zerolinecolor\":\"#E1E5ED\"},\"yaxis3\":{\"anchor\":\"x3\",\"domain\":[0.8025,1.0],\"gridcolor\":\"#E1E5ED\",\"showgrid\":false,\"tickfont\":{\"color\":\"#4D5663\"},\"title\":{\"font\":{\"color\":\"#4D5663\"},\"text\":\"\"},\"zerolinecolor\":\"#E1E5ED\"},\"xaxis4\":{\"anchor\":\"y4\",\"domain\":[0.7875,1.0],\"gridcolor\":\"#E1E5ED\",\"showgrid\":false,\"tickfont\":{\"color\":\"#4D5663\"},\"title\":{\"font\":{\"color\":\"#4D5663\"},\"text\":\"\"},\"zerolinecolor\":\"#E1E5ED\"},\"yaxis4\":{\"anchor\":\"x4\",\"domain\":[0.8025,1.0],\"gridcolor\":\"#E1E5ED\",\"showgrid\":false,\"tickfont\":{\"color\":\"#4D5663\"},\"title\":{\"font\":{\"color\":\"#4D5663\"},\"text\":\"\"},\"zerolinecolor\":\"#E1E5ED\"},\"xaxis5\":{\"anchor\":\"y5\",\"domain\":[0.0,0.2125],\"gridcolor\":\"#E1E5ED\",\"showgrid\":false,\"tickfont\":{\"color\":\"#4D5663\"},\"title\":{\"font\":{\"color\":\"#4D5663\"},\"text\":\"\"},\"zerolinecolor\":\"#E1E5ED\"},\"yaxis5\":{\"anchor\":\"x5\",\"domain\":[0.535,0.7325],\"gridcolor\":\"#E1E5ED\",\"showgrid\":false,\"tickfont\":{\"color\":\"#4D5663\"},\"title\":{\"font\":{\"color\":\"#4D5663\"},\"text\":\"\"},\"zerolinecolor\":\"#E1E5ED\"},\"xaxis6\":{\"anchor\":\"y6\",\"domain\":[0.2625,0.475],\"gridcolor\":\"#E1E5ED\",\"showgrid\":false,\"tickfont\":{\"color\":\"#4D5663\"},\"title\":{\"font\":{\"color\":\"#4D5663\"},\"text\":\"\"},\"zerolinecolor\":\"#E1E5ED\"},\"yaxis6\":{\"anchor\":\"x6\",\"domain\":[0.535,0.7325],\"gridcolor\":\"#E1E5ED\",\"showgrid\":false,\"tickfont\":{\"color\":\"#4D5663\"},\"title\":{\"font\":{\"color\":\"#4D5663\"},\"text\":\"\"},\"zerolinecolor\":\"#E1E5ED\"},\"xaxis7\":{\"anchor\":\"y7\",\"domain\":[0.525,0.7375],\"gridcolor\":\"#E1E5ED\",\"showgrid\":false,\"tickfont\":{\"color\":\"#4D5663\"},\"title\":{\"font\":{\"color\":\"#4D5663\"},\"text\":\"\"},\"zerolinecolor\":\"#E1E5ED\"},\"yaxis7\":{\"anchor\":\"x7\",\"domain\":[0.535,0.7325],\"gridcolor\":\"#E1E5ED\",\"showgrid\":false,\"tickfont\":{\"color\":\"#4D5663\"},\"title\":{\"font\":{\"color\":\"#4D5663\"},\"text\":\"\"},\"zerolinecolor\":\"#E1E5ED\"},\"xaxis8\":{\"anchor\":\"y8\",\"domain\":[0.7875,1.0],\"gridcolor\":\"#E1E5ED\",\"showgrid\":false,\"tickfont\":{\"color\":\"#4D5663\"},\"title\":{\"font\":{\"color\":\"#4D5663\"},\"text\":\"\"},\"zerolinecolor\":\"#E1E5ED\"},\"yaxis8\":{\"anchor\":\"x8\",\"domain\":[0.535,0.7325],\"gridcolor\":\"#E1E5ED\",\"showgrid\":false,\"tickfont\":{\"color\":\"#4D5663\"},\"title\":{\"font\":{\"color\":\"#4D5663\"},\"text\":\"\"},\"zerolinecolor\":\"#E1E5ED\"},\"xaxis9\":{\"anchor\":\"y9\",\"domain\":[0.0,0.2125],\"gridcolor\":\"#E1E5ED\",\"showgrid\":false,\"tickfont\":{\"color\":\"#4D5663\"},\"title\":{\"font\":{\"color\":\"#4D5663\"},\"text\":\"\"},\"zerolinecolor\":\"#E1E5ED\"},\"yaxis9\":{\"anchor\":\"x9\",\"domain\":[0.2675,0.465],\"gridcolor\":\"#E1E5ED\",\"showgrid\":false,\"tickfont\":{\"color\":\"#4D5663\"},\"title\":{\"font\":{\"color\":\"#4D5663\"},\"text\":\"\"},\"zerolinecolor\":\"#E1E5ED\"},\"xaxis10\":{\"anchor\":\"y10\",\"domain\":[0.2625,0.475],\"gridcolor\":\"#E1E5ED\",\"showgrid\":false,\"tickfont\":{\"color\":\"#4D5663\"},\"title\":{\"font\":{\"color\":\"#4D5663\"},\"text\":\"\"},\"zerolinecolor\":\"#E1E5ED\"},\"yaxis10\":{\"anchor\":\"x10\",\"domain\":[0.2675,0.465],\"gridcolor\":\"#E1E5ED\",\"showgrid\":false,\"tickfont\":{\"color\":\"#4D5663\"},\"title\":{\"font\":{\"color\":\"#4D5663\"},\"text\":\"\"},\"zerolinecolor\":\"#E1E5ED\"},\"xaxis11\":{\"anchor\":\"y11\",\"domain\":[0.525,0.7375],\"gridcolor\":\"#E1E5ED\",\"showgrid\":false,\"tickfont\":{\"color\":\"#4D5663\"},\"title\":{\"font\":{\"color\":\"#4D5663\"},\"text\":\"\"},\"zerolinecolor\":\"#E1E5ED\"},\"yaxis11\":{\"anchor\":\"x11\",\"domain\":[0.2675,0.465],\"gridcolor\":\"#E1E5ED\",\"showgrid\":false,\"tickfont\":{\"color\":\"#4D5663\"},\"title\":{\"font\":{\"color\":\"#4D5663\"},\"text\":\"\"},\"zerolinecolor\":\"#E1E5ED\"},\"xaxis12\":{\"anchor\":\"y12\",\"domain\":[0.7875,1.0],\"gridcolor\":\"#E1E5ED\",\"showgrid\":false,\"tickfont\":{\"color\":\"#4D5663\"},\"title\":{\"font\":{\"color\":\"#4D5663\"},\"text\":\"\"},\"zerolinecolor\":\"#E1E5ED\"},\"yaxis12\":{\"anchor\":\"x12\",\"domain\":[0.2675,0.465],\"gridcolor\":\"#E1E5ED\",\"showgrid\":false,\"tickfont\":{\"color\":\"#4D5663\"},\"title\":{\"font\":{\"color\":\"#4D5663\"},\"text\":\"\"},\"zerolinecolor\":\"#E1E5ED\"},\"xaxis13\":{\"anchor\":\"y13\",\"domain\":[0.0,0.2125],\"gridcolor\":\"#E1E5ED\",\"showgrid\":false,\"tickfont\":{\"color\":\"#4D5663\"},\"title\":{\"font\":{\"color\":\"#4D5663\"},\"text\":\"\"},\"zerolinecolor\":\"#E1E5ED\"},\"yaxis13\":{\"anchor\":\"x13\",\"domain\":[0.0,0.1975],\"gridcolor\":\"#E1E5ED\",\"showgrid\":false,\"tickfont\":{\"color\":\"#4D5663\"},\"title\":{\"font\":{\"color\":\"#4D5663\"},\"text\":\"\"},\"zerolinecolor\":\"#E1E5ED\"},\"xaxis14\":{\"anchor\":\"y14\",\"domain\":[0.2625,0.475],\"gridcolor\":\"#E1E5ED\",\"showgrid\":false,\"tickfont\":{\"color\":\"#4D5663\"},\"title\":{\"font\":{\"color\":\"#4D5663\"},\"text\":\"\"},\"zerolinecolor\":\"#E1E5ED\"},\"yaxis14\":{\"anchor\":\"x14\",\"domain\":[0.0,0.1975],\"gridcolor\":\"#E1E5ED\",\"showgrid\":false,\"tickfont\":{\"color\":\"#4D5663\"},\"title\":{\"font\":{\"color\":\"#4D5663\"},\"text\":\"\"},\"zerolinecolor\":\"#E1E5ED\"},\"xaxis15\":{\"anchor\":\"y15\",\"domain\":[0.525,0.7375],\"gridcolor\":\"#E1E5ED\",\"showgrid\":false,\"tickfont\":{\"color\":\"#4D5663\"},\"title\":{\"font\":{\"color\":\"#4D5663\"},\"text\":\"\"},\"zerolinecolor\":\"#E1E5ED\"},\"yaxis15\":{\"anchor\":\"x15\",\"domain\":[0.0,0.1975],\"gridcolor\":\"#E1E5ED\",\"showgrid\":false,\"tickfont\":{\"color\":\"#4D5663\"},\"title\":{\"font\":{\"color\":\"#4D5663\"},\"text\":\"\"},\"zerolinecolor\":\"#E1E5ED\"},\"xaxis16\":{\"anchor\":\"y16\",\"domain\":[0.7875,1.0],\"gridcolor\":\"#E1E5ED\",\"showgrid\":false,\"tickfont\":{\"color\":\"#4D5663\"},\"title\":{\"font\":{\"color\":\"#4D5663\"},\"text\":\"\"},\"zerolinecolor\":\"#E1E5ED\"},\"yaxis16\":{\"anchor\":\"x16\",\"domain\":[0.0,0.1975],\"gridcolor\":\"#E1E5ED\",\"showgrid\":false,\"tickfont\":{\"color\":\"#4D5663\"},\"title\":{\"font\":{\"color\":\"#4D5663\"},\"text\":\"\"},\"zerolinecolor\":\"#E1E5ED\"}},                        {\"showLink\": true, \"linkText\": \"Export to plot.ly\", \"plotlyServerURL\": \"https://plot.ly\", \"responsive\": true}                    ).then(function(){\n",
       "                            \n",
       "var gd = document.getElementById('14aab889-46d6-4ff0-a86c-da68e24b9960');\n",
       "var x = new MutationObserver(function (mutations, observer) {{\n",
       "        var display = window.getComputedStyle(gd).display;\n",
       "        if (!display || display === 'none') {{\n",
       "            console.log([gd, 'removed!']);\n",
       "            Plotly.purge(gd);\n",
       "            observer.disconnect();\n",
       "        }}\n",
       "}});\n",
       "\n",
       "// Listen for the removal of the full notebook cells\n",
       "var notebookContainer = gd.closest('#notebook-container');\n",
       "if (notebookContainer) {{\n",
       "    x.observe(notebookContainer, {childList: true});\n",
       "}}\n",
       "\n",
       "// Listen for the clearing of the current output cell\n",
       "var outputEl = gd.closest('.output');\n",
       "if (outputEl) {{\n",
       "    x.observe(outputEl, {childList: true});\n",
       "}}\n",
       "\n",
       "                        })                };                });            </script>        </div>"
      ]
     },
     "metadata": {},
     "output_type": "display_data"
    }
   ],
   "source": [
    "df.scatter_matrix()"
   ]
  },
  {
   "cell_type": "markdown",
   "metadata": {
    "collapsed": true
   },
   "source": [
    "# Great Job!"
   ]
  }
 ],
 "metadata": {
  "kernelspec": {
   "display_name": "myenv",
   "language": "python",
   "name": "python3"
  },
  "language_info": {
   "codemirror_mode": {
    "name": "ipython",
    "version": 3
   },
   "file_extension": ".py",
   "mimetype": "text/x-python",
   "name": "python",
   "nbconvert_exporter": "python",
   "pygments_lexer": "ipython3",
   "version": "3.9.16"
  },
  "vscode": {
   "interpreter": {
    "hash": "17ab9a9a25dfd04c680172c172b8b50f89b7e6e710536371c20ea57aba0b8867"
   }
  }
 },
 "nbformat": 4,
 "nbformat_minor": 1
}
